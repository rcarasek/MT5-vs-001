{
 "cells": [
  {
   "cell_type": "code",
   "execution_count": 5,
   "metadata": {},
   "outputs": [
    {
     "name": "stdout",
     "output_type": "stream",
     "text": [
      "inicio\n",
      "olá!\n",
      "final\n"
     ]
    }
   ],
   "source": [
    "def funcao_com_Wrapper(funcao_meio):\r\n",
    "    def wrapper():\r\n",
    "        print('inicio')\r\n",
    "        funcao_meio()\r\n",
    "        print('final')\r\n",
    "    return wrapper\r\n",
    "def funcao_ola():\r\n",
    "    print('olá!')\r\n",
    "\r\n",
    "funcao_com_Wrapper(funcao_ola)()"
   ]
  },
  {
   "cell_type": "code",
   "execution_count": 6,
   "metadata": {},
   "outputs": [
    {
     "name": "stdout",
     "output_type": "stream",
     "text": [
      "inicio\n",
      "olá!\n",
      "final\n"
     ]
    }
   ],
   "source": [
    "def funcao_com_Wrapper(funcao_meio):\r\n",
    "    def wrapper():\r\n",
    "        print('inicio')\r\n",
    "        funcao_meio()\r\n",
    "        print('final')\r\n",
    "    return wrapper\r\n",
    "\r\n",
    "@funcao_com_Wrapper   # decorator / wrapper\r\n",
    "def funcao_ola():\r\n",
    "    print('olá!')\r\n",
    "funcao_ola()"
   ]
  },
  {
   "cell_type": "code",
   "execution_count": 11,
   "metadata": {},
   "outputs": [
    {
     "name": "stdout",
     "output_type": "stream",
     "text": [
      "inicio\n",
      "olá! Ricardo\n",
      "final\n"
     ]
    }
   ],
   "source": [
    "def funcao_com_Wrapper(funcao_meio):\r\n",
    "    def wrapper(*args, **kwargs):\r\n",
    "        print('inicio')\r\n",
    "        funcao_meio(*args, **kwargs)\r\n",
    "        print('final')\r\n",
    "    return wrapper\r\n",
    "\r\n",
    "@funcao_com_Wrapper   # decorator / wrapper\r\n",
    "def funcao_ola(nome):\r\n",
    "    print('olá! ' + nome)\r\n",
    "\r\n",
    "n = 'Ricardo'\r\n",
    "funcao_ola(n)"
   ]
  },
  {
   "cell_type": "code",
   "execution_count": 15,
   "metadata": {},
   "outputs": [
    {
     "name": "stdout",
     "output_type": "stream",
     "text": [
      "inicio\n",
      "olá! Sr. Ricardo da Silva\n",
      "final\n"
     ]
    }
   ],
   "source": [
    "def funcao_com_Wrapper(funcao_meio):\r\n",
    "    def wrapper(*args, **kwargs):\r\n",
    "        print('inicio')\r\n",
    "        funcao_meio(*args, **kwargs)\r\n",
    "        print('final')\r\n",
    "    return wrapper\r\n",
    "\r\n",
    "@funcao_com_Wrapper   # decorator / wrapper\r\n",
    "def funcao_ola(tratamento, nome, sobrenome):\r\n",
    "    print('olá! '+ tratamento + ' ' +  nome + ' ' + sobrenome)\r\n",
    "\r\n",
    "t = 'Sr.'\r\n",
    "n = 'Ricardo'\r\n",
    "s = 'da Silva'\r\n",
    "funcao_ola(t, n, s)"
   ]
  },
  {
   "cell_type": "code",
   "execution_count": 21,
   "metadata": {},
   "outputs": [],
   "source": [
    "import time"
   ]
  },
  {
   "cell_type": "code",
   "execution_count": 24,
   "metadata": {},
   "outputs": [
    {
     "name": "stdout",
     "output_type": "stream",
     "text": [
      "[funcao_loop] tempo: 0.26483726501464844\n"
     ]
    }
   ],
   "source": [
    "def calculaDuracao(fff):\r\n",
    "    def wrapper():\r\n",
    "        tempo_ini = time.time()\r\n",
    "        fff()\r\n",
    "        tempo_fim = time.time()\r\n",
    "        print(\"[{fff}] tempo: {tempo_total}\".format(fff = fff.__name__, tempo_total = str(tempo_fim - tempo_ini)))\r\n",
    "    return wrapper\r\n",
    "\r\n",
    "@calculaDuracao\r\n",
    "def funcao_loop():\r\n",
    "    for n in range(0,7000000):\r\n",
    "        pass\r\n",
    "\r\n",
    "funcao_loop()"
   ]
  },
  {
   "cell_type": "code",
   "execution_count": null,
   "metadata": {},
   "outputs": [],
   "source": []
  }
 ],
 "metadata": {
  "interpreter": {
   "hash": "8fac594bfae6525c0c41b4041d2d72effa188cc8ead05f81b1fab2bb098927fb"
  },
  "kernelspec": {
   "display_name": "Python 3.8.8 64-bit ('base': conda)",
   "name": "python3"
  },
  "language_info": {
   "codemirror_mode": {
    "name": "ipython",
    "version": 3
   },
   "file_extension": ".py",
   "mimetype": "text/x-python",
   "name": "python",
   "nbconvert_exporter": "python",
   "pygments_lexer": "ipython3",
   "version": "3.9.5"
  },
  "orig_nbformat": 4
 },
 "nbformat": 4,
 "nbformat_minor": 2
}