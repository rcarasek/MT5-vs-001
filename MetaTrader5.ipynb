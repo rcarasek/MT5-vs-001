{
  "nbformat": 4,
  "nbformat_minor": 0,
  "metadata": {
    "colab": {
      "name": "MetaTrader5.ipynb",
      "provenance": [],
      "authorship_tag": "ABX9TyOZML9UhpuVPbXXC8SnZdoT",
      "include_colab_link": true
    },
    "kernelspec": {
      "name": "python395jvsc74a57bd063fd5069d213b44bf678585dea6b12cceca9941eaf7f819626cde1f2670de90d",
      "display_name": "Python 3.9.5 64-bit"
    },
    "language_info": {
      "name": "python",
      "version": "3.9.5"
    },
    "metadata": {
      "interpreter": {
        "hash": "63fd5069d213b44bf678585dea6b12cceca9941eaf7f819626cde1f2670de90d"
      }
    }
  },
  "cells": [
    {
      "cell_type": "markdown",
      "metadata": {
        "id": "view-in-github",
        "colab_type": "text"
      },
      "source": [
        "<a href=\"https://colab.research.google.com/github/rcarasek/Python-for-Investment/blob/main/MetaTrader5.ipynb\" target=\"_parent\"><img src=\"https://colab.research.google.com/assets/colab-badge.svg\" alt=\"Open In Colab\"/></a>"
      ]
    },
    {
      "cell_type": "markdown",
      "metadata": {
        "id": "sg3I04L_2htS"
      },
      "source": [
        "https://www.mql5.com/pt/docs/integration/python_metatrader5\n"
      ]
    },
    {
      "cell_type": "code",
      "metadata": {
        "id": "nkFYVS7M18dN"
      },
      "source": [
        "import pandas as pd\n",
        "from datetime import datetime\n",
        "import time"
      ],
      "execution_count": 1,
      "outputs": []
    },
    {
      "cell_type": "markdown",
      "metadata": {
        "id": "RYKaxkKI2ycl"
      },
      "source": [
        "Instalar suporte Python do MetaTrader 5"
      ]
    },
    {
      "cell_type": "code",
      "metadata": {
        "colab": {
          "base_uri": "https://localhost:8080/"
        },
        "id": "DlaPEcsP2xRc",
        "outputId": "c2c1adc9-532b-44c0-a06b-9f7c4772e590"
      },
      "source": [
        "!pip install MetaTrader5"
      ],
      "execution_count": 2,
      "outputs": [
        {
          "output_type": "stream",
          "name": "stdout",
          "text": [
            "Requirement already satisfied: MetaTrader5 in c:\\python39\\lib\\site-packages (5.0.34)\n",
            "Requirement already satisfied: numpy>=1.7 in c:\\python39\\lib\\site-packages (from MetaTrader5) (1.20.3)\n",
            "WARNING: You are using pip version 21.1.1; however, version 21.1.2 is available.\n",
            "You should consider upgrading via the 'c:\\python39\\python.exe -m pip install --upgrade pip' command.\n"
          ]
        }
      ]
    },
    {
      "cell_type": "code",
      "metadata": {
        "id": "8DbcdqeJ2-5O"
      },
      "source": [
        "import MetaTrader5 as mt5"
      ],
      "execution_count": 3,
      "outputs": []
    },
    {
      "cell_type": "code",
      "metadata": {
        "id": "nKnfSaHx54Nr"
      },
      "source": [],
      "execution_count": 4,
      "outputs": [
        {
          "output_type": "execute_result",
          "data": {
            "text/plain": [
              "<function MetaTrader5._core.copy_rates_from_pos>"
            ]
          },
          "metadata": {},
          "execution_count": 4
        }
      ]
    },
    {
      "cell_type": "code",
      "execution_count": null,
      "metadata": {},
      "outputs": [],
      "source": []
    }
  ]
}