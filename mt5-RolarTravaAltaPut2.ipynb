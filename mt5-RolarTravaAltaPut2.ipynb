{
 "cells": [
  {
   "cell_type": "code",
   "execution_count": 92,
   "metadata": {},
   "outputs": [
    {
     "data": {
      "text/plain": [
       "True"
      ]
     },
     "execution_count": 92,
     "metadata": {},
     "output_type": "execute_result"
    }
   ],
   "source": [
    "import MetaTrader5 as mt5\r\n",
    "import pandas as pd \r\n",
    "mt5.initialize()"
   ]
  },
  {
   "cell_type": "code",
   "execution_count": 93,
   "metadata": {},
   "outputs": [],
   "source": [
    "def RolarTravaAltaPut(ativosLista, comprei, vendi ):\r\n",
    "    # [travaFeitaC (comprada) , travaFeitaV (vendida), travaNovaC, travaNovaV]\r\n",
    "    travaFeitaC = mt5.symbol_info(ativosLista[0])\r\n",
    "    travaFeitaV = mt5.symbol_info(ativosLista[1])\r\n",
    "    travaNovaC  = mt5.symbol_info(ativosLista[2])\r\n",
    "    travaNovaV  = mt5.symbol_info(ativosLista[3])\r\n",
    "    # ativoBase = travaFeitaC.basis\r\n",
    "    ativoBaseInfo = mt5.symbol_info(travaFeitaC.basis)\r\n",
    "\r\n",
    "    # gerar matriz\r\n",
    "    lin,col = (5,9)\r\n",
    "    matriz = [[0 for i in range(col)] for j in range(lin)]\r\n",
    "    ###########################################\r\n",
    "    # coluna 0 - ativos\r\n",
    "    matriz[0][0] = ativoBaseInfo.name\r\n",
    "    matriz[1][0] = travaFeitaC.name \r\n",
    "    matriz[2][0] = travaFeitaV.name\r\n",
    "    matriz[3][0] = 'dif'\r\n",
    "    matriz[4][0] = '%'\r\n",
    "\r\n",
    "    # coluna 1 - strike feitos\r\n",
    "    matriz[0][1] = ativoBaseInfo.last\r\n",
    "    matriz[1][1] = travaFeitaC.option_strike\r\n",
    "    matriz[2][1] = travaFeitaV.option_strike\r\n",
    "    matriz[3][1] = travaFeitaV.option_strike - travaFeitaC.option_strike\r\n",
    "    matriz[4][1] = (travaFeitaV.option_strike - travaFeitaC.option_strike -1) \r\n",
    "\r\n",
    "    # coluna 2 - valores da trava feita\r\n",
    "    matriz[0][2] = '*'\r\n",
    "    matriz[1][2] = round(comprei,2)\r\n",
    "    matriz[2][2] = round(vendi,2)\r\n",
    "    matriz[3][2] = round(matriz[1][2] + matriz[2][2], 2)\r\n",
    "\r\n",
    "    # coluna 3 - valores para desmontar a trava feita\r\n",
    "    matriz[0][3] = '**'\r\n",
    "    matriz[1][3] = round(travaFeitaC.bid,2)\r\n",
    "    matriz[2][3] = round(-travaFeitaV.ask,2)\r\n",
    "    matriz[3][3] = round(matriz[1][3] + matriz[2][3], 2)\r\n",
    "\r\n",
    "    # coluna 4 - ativos novos\r\n",
    "    matriz[0][4] = '***'\r\n",
    "    matriz[1][4] = travaNovaC.name\r\n",
    "    matriz[2][4] = travaNovaV.name\r\n",
    "    matriz[3][4] = 'dif'\r\n",
    "    matriz[4][4] = '%'\r\n",
    "\r\n",
    "    \r\n",
    "    # coluna 5 - strikes novos\r\n",
    "    matriz[0][5] = '****'\r\n",
    "    matriz[1][5] = round(travaNovaC.option_strike,2)\r\n",
    "    matriz[2][5] = round(travaNovaV.option_strike,2)\r\n",
    "    matriz[3][5] = matriz[2][5] - matriz[1][5]\r\n",
    "\r\n",
    "    # coluna 6 - valores para montar nova trava\r\n",
    "    matriz[0][6] = '****'\r\n",
    "    matriz[1][6] = -travaNovaC.ask\r\n",
    "    matriz[2][6] = travaNovaV.bid\r\n",
    "    if matriz[2][6] == 0:\r\n",
    "        fff = input('Entre o valor do Bid ' + travaNovaV.name + ': ')\r\n",
    "        matriz[2][6] = float(fff)\r\n",
    "    matriz[3][6] = matriz[1][6] + matriz[2][6]\r\n",
    "\r\n",
    "    # COLUNA 7 - LAST\r\n",
    "    matriz[0][7] ='.'\r\n",
    "    matriz[1][7] = -travaFeitaC.last\r\n",
    "    matriz[2][7] = travaFeitaV.last\r\n",
    "    matriz[3][7] = matriz[1][7] + matriz[2][7]\r\n",
    "    matriz[4][7] = '' \r\n",
    "\r\n",
    "    # COLUNA 8 - Black and Sholder\r\n",
    "    matriz[0][8] ='..'\r\n",
    "    matriz[1][8] = 22\r\n",
    "    matriz[2][8] = 33\r\n",
    "    matriz[3][8] = matriz[1][8] + matriz[2][8]\r\n",
    "    matriz[4][8] = '' \r\n",
    "   \r\n",
    "\r\n",
    "    df = pd.DataFrame(matriz, columns = ['Ativo', '$$$', '$ Montei', '$ Desmontar' , 'ativo', 'Strike Novo', 'Montar Novo',  '$ last' , 'BS'])\r\n",
    "    print(df)\r\n",
    "    #nome_arq = 'RolarTravaAltaPut_' + ativoBase  + '.xlsx'\r\n",
    "    #df.to_excel(nome_arq)\r\n"
   ]
  },
  {
   "cell_type": "code",
   "execution_count": 94,
   "metadata": {},
   "outputs": [
    {
     "name": "stdout",
     "output_type": "stream",
     "text": [
      "      Ativo    $$$ $ Montei $ Desmontar     ativo Strike Novo Montar Novo  \\\n",
      "0     BBSE3  22.67        *          **       ***        ****        ****   \n",
      "1  BBSES220  22.00    -0.15        0.08  BBSET220        22.0        -0.4   \n",
      "2  BBSES235  23.50      0.4        -0.0  BBSET235        23.5        0.95   \n",
      "3       dif   1.50     0.25        0.08       dif         1.5        0.55   \n",
      "4         %   0.50        0           0         %           0           0   \n",
      "\n",
      "  $ last  BS  \n",
      "0      .  ..  \n",
      "1  -0.11  22  \n",
      "2   0.91  33  \n",
      "3    0.8  55  \n",
      "4             \n"
     ]
    }
   ],
   "source": [
    "RolarTravaAltaPut(['BBSES220', 'BBSES235', 'BBSET220', 'BBSET235'], -0.15, 0.4)"
   ]
  },
  {
   "cell_type": "code",
   "execution_count": null,
   "metadata": {},
   "outputs": [],
   "source": []
  }
 ],
 "metadata": {
  "interpreter": {
   "hash": "8fac594bfae6525c0c41b4041d2d72effa188cc8ead05f81b1fab2bb098927fb"
  },
  "kernelspec": {
   "display_name": "Python 3.8.8 64-bit ('base': conda)",
   "name": "python3"
  },
  "language_info": {
   "codemirror_mode": {
    "name": "ipython",
    "version": 3
   },
   "file_extension": ".py",
   "mimetype": "text/x-python",
   "name": "python",
   "nbconvert_exporter": "python",
   "pygments_lexer": "ipython3",
   "version": "3.9.5"
  },
  "orig_nbformat": 4
 },
 "nbformat": 4,
 "nbformat_minor": 2
}