{
 "cells": [
  {
   "cell_type": "code",
   "execution_count": 90,
   "source": [
    "import MetaTrader5 as mt5\r\n",
    "import pandas as pd \r\n",
    "import numpy as np \r\n",
    "from scipy.stats import norm \r\n",
    "mt5.initialize()"
   ],
   "outputs": [
    {
     "output_type": "execute_result",
     "data": {
      "text/plain": [
       "True"
      ]
     },
     "metadata": {},
     "execution_count": 90
    }
   ],
   "metadata": {}
  },
  {
   "cell_type": "code",
   "execution_count": 91,
   "source": [
    "def BlackScholes(r,S,K,T,sigma, tipoOpcao):\r\n",
    "    # calcular o preco teórico pelo BS\r\n",
    "    d1 = (np.log(S/K) + (r + sigma**2/2)*T) / (sigma * np.sqrt(T))\r\n",
    "    d2 = d1 - sigma * np.sqrt(T)\r\n",
    "\r\n",
    "    # vou calcular apenas para o P (Put)\r\n",
    "    tipoOpcao = 'P'\r\n",
    "    if tipoOpcao.upper() == \"C\":\r\n",
    "        precoTeoricoOpcao = S * norm.cdf(d1,0,1) - K * np.exp(-r*T) * norm.cdf(d2,0,1)\r\n",
    "    else:\r\n",
    "        precoTeoricoOpcao = K * np.exp(-r*T) * norm.cdf(-d2,0,1) - S * norm.cdf(-d1,0,1) \r\n",
    "    precoTeoricoOpcao = round(precoTeoricoOpcao,2)\r\n",
    "    return precoTeoricoOpcao\r\n"
   ],
   "outputs": [],
   "metadata": {}
  },
  {
   "cell_type": "code",
   "execution_count": 92,
   "source": [
    "def RolarTravaAltaPut(ativosLista, comprei, vendi, diasUteisParaVencer ):\r\n",
    "    # [travaFeitaC (comprada) , travaFeitaV (vendida), travaNovaC, travaNovaV]\r\n",
    "    # comprei: valor que comprei para montar TA    vendi: valor que vendi\r\n",
    "    # vendi - comprei = spread\r\n",
    "    travaFeitaC = mt5.symbol_info(ativosLista[0])\r\n",
    "    travaFeitaV = mt5.symbol_info(ativosLista[1])\r\n",
    "    travaNovaC  = mt5.symbol_info(ativosLista[2])\r\n",
    "    travaNovaV  = mt5.symbol_info(ativosLista[3])\r\n",
    "    # ativoBase = travaFeitaC.basis\r\n",
    "    ativoBaseInfo = mt5.symbol_info(travaFeitaC.basis)\r\n",
    "\r\n",
    "    # gerar matriz\r\n",
    "    lin,col = (6,11)\r\n",
    "    matriz = [[0 for i in range(col)] for j in range(lin)]\r\n",
    "    ###########################################\r\n",
    "    # coluna 0 - ativos\r\n",
    "    cc = 0 \r\n",
    "    matriz[0][cc] = ativoBaseInfo.name\r\n",
    "    matriz[1][cc] = travaFeitaC.name \r\n",
    "    matriz[2][cc] = travaFeitaV.name\r\n",
    "    matriz[3][cc] = 'dif'\r\n",
    "    matriz[4][cc] = '%'\r\n",
    "    matriz[5][cc] = 'Ʃ'\r\n",
    "\r\n",
    "    # coluna 1 - strike feitos\r\n",
    "    cc +=1 \r\n",
    "    matriz[0][cc] = ativoBaseInfo.last\r\n",
    "    matriz[1][cc] = travaFeitaC.option_strike\r\n",
    "    matriz[2][cc] = travaFeitaV.option_strike\r\n",
    "    matriz[3][cc] = travaFeitaV.option_strike - travaFeitaC.option_strike\r\n",
    "    matriz[4][cc] = round((travaFeitaV.option_strike / ativoBaseInfo.last -1)*100, 2) \r\n",
    "\r\n",
    "    # coluna 2 - valores da trava feita\r\n",
    "    cc +=1 \r\n",
    "    matriz[0][cc] = '*'\r\n",
    "    matriz[1][cc] = round(comprei,2)\r\n",
    "    matriz[2][cc] = round(vendi,2)\r\n",
    "    matriz[3][cc] = round(matriz[1][2] + matriz[2][2], 2)   # spread da TA\r\n",
    "    v1 = matriz[3][cc]\r\n",
    "\r\n",
    "    # coluna - valores para desmontar a trava feita\r\n",
    "    cc +=1 \r\n",
    "    matriz[0][cc] = '*'\r\n",
    "    matriz[1][cc] = round(travaFeitaC.bid,2)\r\n",
    "    matriz[2][cc] = round(-travaFeitaV.ask,2)\r\n",
    "    matriz[3][cc] = round(matriz[1][3] + matriz[2][3], 2)\r\n",
    "    v2 = matriz[3][cc]\r\n",
    "\r\n",
    "   # coluna - B&S para desmontar\r\n",
    "    cc +=1 \r\n",
    "        \r\n",
    "    r = 0.02                        # r = taxa de juros    \r\n",
    "    S = ativoBaseInfo.last          # S = preço da ação \r\n",
    "    T = diasUteisParaVencer[0]/365               # T = tempo para vencer a opção\r\n",
    "    sigma = 0.30                    # sigama = volatilidade\r\n",
    "    K =  travaFeitaC.option_strike  # K = strike\r\n",
    "    matriz[0][cc] = '*'\r\n",
    "    matriz[1][cc] = BlackScholes(r,S,K,T,sigma, 'P')\r\n",
    "    K =  travaFeitaV.option_strike  # K = strike\r\n",
    "    matriz[2][cc] = -BlackScholes(r,S,K,T,sigma, 'P')\r\n",
    "    matriz[3][cc] = round(matriz[1][cc] + matriz[2][cc], 2)\r\n",
    "\r\n",
    "    # COLUNA - LAST - ultimos preços negociados nas opções da trava feita\r\n",
    "    cc +=1 \r\n",
    "    matriz[0][cc] ='*'\r\n",
    "    matriz[1][cc] = travaFeitaC.last\r\n",
    "    matriz[2][cc] = -travaFeitaV.last\r\n",
    "    matriz[3][cc] = matriz[1][cc] + matriz[2][cc]\r\n",
    "    matriz[4][cc] = '' \r\n",
    "\r\n",
    "\r\n",
    "    # coluna 4 - ativos novos\r\n",
    "    cc +=1 \r\n",
    "    matriz[0][cc] = '*'\r\n",
    "    matriz[1][cc] = travaNovaC.name\r\n",
    "    matriz[2][cc] = travaNovaV.name\r\n",
    "    matriz[3][cc] = 'dif'\r\n",
    "    matriz[4][cc] = '%'\r\n",
    "\r\n",
    "    \r\n",
    "    # coluna 5 - strikes novos\r\n",
    "    cc +=1 \r\n",
    "    matriz[0][cc] = '*'\r\n",
    "    matriz[1][cc] = round(travaNovaC.option_strike,2)\r\n",
    "    matriz[2][cc] = round(travaNovaV.option_strike,2)\r\n",
    "    matriz[3][cc] = matriz[2][cc] - matriz[1][cc]\r\n",
    "    matriz[4][cc] = round((travaFeitaV.option_strike / ativoBaseInfo.last -1)*100, 2) \r\n",
    "\r\n",
    "    # coluna 6 - valores para montar nova trava\r\n",
    "    cc +=1 \r\n",
    "    matriz[0][cc] = '*'\r\n",
    "    matriz[1][cc] = -travaNovaC.ask\r\n",
    "    matriz[2][cc] = travaNovaV.bid\r\n",
    "    if matriz[2][cc] == 0:\r\n",
    "        fff = input('Entre o valor do Bid ' + travaNovaV.name + ': ')\r\n",
    "        matriz[2][cc] = float(fff)\r\n",
    "    matriz[3][cc] = matriz[1][cc] + matriz[2][cc]\r\n",
    "    v3 = matriz[3][cc]\r\n",
    "\r\n",
    "    # COLUNA - Black & Scholes\r\n",
    "    cc +=1 \r\n",
    "\r\n",
    "    r = 0.02                        # r = taxa de juros    \r\n",
    "    S = ativoBaseInfo.last          # S = preço da ação \r\n",
    "    T = diasUteisParaVencer[1]/365               # T = tempo para vencer a opção\r\n",
    "    sigma = 0.30                    # sigama = volatilidade\r\n",
    "    K = travaNovaC.option_strike  # K = strike\r\n",
    "    matriz[0][cc] ='.'\r\n",
    "    matriz[1][cc] = -BlackScholes(r,S,K,T,sigma, 'P')\r\n",
    "    K = travaFeitaV.option_strike  # K = strike\r\n",
    "    matriz[2][cc] = BlackScholes(r,S,K,T,sigma, 'P')\r\n",
    "    matriz[3][cc] = matriz[1][cc] + matriz[2][cc]\r\n",
    "    matriz[4][cc] = '' \r\n",
    "\r\n",
    "    # COLUNA - LAST - ultimos preços negociados nas opções da trava a fazer\r\n",
    "    cc +=1 \r\n",
    "    matriz[0][cc] ='*'\r\n",
    "    matriz[1][cc] = -travaNovaC.last\r\n",
    "    matriz[2][cc] = travaNovaV.last\r\n",
    "    matriz[3][cc] = matriz[1][cc] + matriz[2][cc]\r\n",
    "    matriz[4][cc] = 'Ʃ' \r\n",
    "\r\n",
    "    # somatorio\r\n",
    "    matriz[5][1] = v1 + v2 + v3 \r\n",
    "\r\n",
    "\r\n",
    "    columns = ['Ativo', '$$$', '$ Montei', '$ Desmontar' , 'B&S' , '$ last TA feita', 'ativo', 'Strike Novo', 'Montar Novo'  , 'B&S', '$ last TA Nova']\r\n",
    "    df = pd.DataFrame(matriz, columns=columns)\r\n",
    "    print(df)\r\n",
    "\r\n",
    "    nome_arq = 'RolarTravaAltaPut_' + ativoBaseInfo.name  + '.xlsx'\r\n",
    "    df.to_excel(nome_arq)\r\n"
   ],
   "outputs": [],
   "metadata": {}
  },
  {
   "cell_type": "code",
   "execution_count": 93,
   "source": [
    "diasUteisParaVencer = [3,28]   # quantos dias faltam para vencer as opções montadas e a montar, respectivamente\r\n",
    "RolarTravaAltaPut(['BBSES220', 'BBSES235', 'BBSET220', 'BBSET235'], -0.15, 0.4, diasUteisParaVencer)"
   ],
   "outputs": [
    {
     "output_type": "stream",
     "name": "stdout",
     "text": [
      "      Ativo    $$$ $ Montei $ Desmontar   B&S $ last TA feita     ativo  \\\n",
      "0     BBSE3  22.90        *           *     *               *         *   \n",
      "1  BBSES220  22.00    -0.15        0.02  0.02            0.02  BBSET220   \n",
      "2  BBSES235  23.50      0.4        -0.0 -0.65           -0.61  BBSET235   \n",
      "3       dif   1.50     0.25        0.02 -0.63           -0.59       dif   \n",
      "4         %   2.62        0           0     0                         %   \n",
      "5         Ʃ   0.66        0           0     0               0         0   \n",
      "\n",
      "  Strike Novo Montar Novo   B&S $ last TA Nova  \n",
      "0           *           *     .              *  \n",
      "1        22.0       -0.28 -0.37          -0.26  \n",
      "2        23.5        0.67  1.08           0.67  \n",
      "3         1.5        0.39  0.71           0.41  \n",
      "4        2.62           0                    Ʃ  \n",
      "5           0           0     0              0  \n"
     ]
    }
   ],
   "metadata": {}
  },
  {
   "cell_type": "code",
   "execution_count": 94,
   "source": [
    "diasUteisParaVencer = [3,28]   # quantos dias faltam para vencer as opções montadas e a montar, respectivamente\r\n",
    "RolarTravaAltaPut(['B3SAS805', 'B3SAS17', 'B3SAT148', 'B3SAT170'], -0.14, 0.7, diasUteisParaVencer)"
   ],
   "outputs": [
    {
     "output_type": "stream",
     "name": "stdout",
     "text": [
      "      Ativo    $$$ $ Montei $ Desmontar   B&S $ last TA feita     ativo  \\\n",
      "0     B3SA3  16.95        *           *     *               *         *   \n",
      "1  B3SAS805  14.66    -0.14         0.0   0.0            0.01  B3SAT148   \n",
      "2   B3SAS17  16.66      0.7        -0.1 -0.07           -0.09  B3SAT170   \n",
      "3       dif   2.00     0.56        -0.1 -0.07           -0.08       dif   \n",
      "4         %  -1.71        0           0     0                         %   \n",
      "5         Ʃ   0.64        0           0     0               0         0   \n",
      "\n",
      "  Strike Novo Montar Novo   B&S $ last TA Nova  \n",
      "0           *           *     .              *  \n",
      "1       14.59        -0.2 -0.02          -0.08  \n",
      "2       16.51        0.38  0.41           0.42  \n",
      "3        1.92        0.18  0.39           0.34  \n",
      "4       -1.71           0                    Ʃ  \n",
      "5           0           0     0              0  \n"
     ]
    }
   ],
   "metadata": {}
  },
  {
   "cell_type": "code",
   "execution_count": 110,
   "source": [
    "# COLUNA - Black & Scholes\r\n",
    "opcao = 'BBSET235'\r\n",
    "\r\n",
    "opcaoInfo = mt5.symbol_info(opcao)\r\n",
    "ativoBaseInfo = mt5.symbol_info(opcaoInfo.basis)\r\n",
    "r = 0.03\r\n",
    "sigma = 0.30\r\n",
    "K = opcaoInfo.option_strike\r\n",
    "\r\n",
    "S0 = ativoBaseInfo.last\r\n",
    "S1 = 23.00\r\n",
    "S2 = 23.50\r\n",
    "dias = 28\r\n",
    "valores0 = []\r\n",
    "valores1 = []\r\n",
    "valores2 = []\r\n",
    "for d in range(dias, 0, -1):\r\n",
    "    T = d/365\r\n",
    "    valores0.append(BlackScholes(r,S0,K,T,sigma, 'P'))\r\n",
    "    valores1.append(BlackScholes(r,S1,K,T,sigma, 'P'))\r\n",
    "    valores2.append(BlackScholes(r,S2,K,T,sigma, 'P'))\r\n",
    "df0 = pd.DataFrame(valores0)\r\n",
    "df0.plot().set_title(opcao + ' ' + str(S0))\r\n",
    "df1 = pd.DataFrame(valores1)\r\n",
    "df1.plot().set_title(opcao + ' ' + str(S1))\r\n",
    "df2 = pd.DataFrame(valores2)\r\n",
    "df2.plot().set_title(opcao + ' ' + str(S2))"
   ],
   "outputs": [
    {
     "output_type": "execute_result",
     "data": {
      "text/plain": [
       "Text(0.5, 1.0, 'BBSET235 23.5')"
      ]
     },
     "metadata": {},
     "execution_count": 110
    },
    {
     "output_type": "display_data",
     "data": {
      "text/plain": [
       "<Figure size 432x288 with 1 Axes>"
      ],
      "image/png": "[encoded data removed]"
     },
     "metadata": {
      "needs_background": "light"
     }
    },
    {
     "output_type": "display_data",
     "data": {
      "text/plain": [
       "<Figure size 432x288 with 1 Axes>"
      ],
      "image/png": "[encoded data removed]"
     },
     "metadata": {
      "needs_background": "light"
     }
    }
   ],
   "metadata": {}
  },
  {
   "cell_type": "code",
   "execution_count": null,
   "source": [],
   "outputs": [],
   "metadata": {}
  }
 ],
 "metadata": {
  "interpreter": {
   "hash": "8fac594bfae6525c0c41b4041d2d72effa188cc8ead05f81b1fab2bb098927fb"
  },
  "kernelspec": {
   "display_name": "Python 3.8.8 64-bit ('base': conda)",
   "name": "python3"
  },
  "language_info": {
   "name": "python",
   "version": ""
  },
  "orig_nbformat": 4
 },
 "nbformat": 4,
 "nbformat_minor": 2
}