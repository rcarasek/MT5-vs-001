{
 "metadata": {
  "language_info": {
   "codemirror_mode": {
    "name": "ipython",
    "version": 3
   },
   "file_extension": ".py",
   "mimetype": "text/x-python",
   "name": "python",
   "nbconvert_exporter": "python",
   "pygments_lexer": "ipython3",
   "version": "3.9.5"
  },
  "orig_nbformat": 2,
  "kernelspec": {
   "name": "python395jvsc74a57bd063fd5069d213b44bf678585dea6b12cceca9941eaf7f819626cde1f2670de90d",
   "display_name": "Python 3.9.5 64-bit"
  },
  "metadata": {
   "interpreter": {
    "hash": "63fd5069d213b44bf678585dea6b12cceca9941eaf7f819626cde1f2670de90d"
   }
  }
 },
 "nbformat": 4,
 "nbformat_minor": 2,
 "cells": [
  {
   "cell_type": "code",
   "execution_count": 82,
   "metadata": {},
   "outputs": [
    {
     "output_type": "execute_result",
     "data": {
      "text/plain": [
       "True"
      ]
     },
     "metadata": {},
     "execution_count": 82
    }
   ],
   "source": [
    "import MetaTrader5 as mt5\n",
    "import pandas as pd \n",
    "\n",
    "mt5.initialize()"
   ]
  },
  {
   "cell_type": "code",
   "execution_count": 83,
   "metadata": {},
   "outputs": [],
   "source": [
    "meu_formato_numerico = \"{0:.2f}\""
   ]
  },
  {
   "cell_type": "code",
   "execution_count": 84,
   "metadata": {},
   "outputs": [],
   "source": [
    "def PegaInfoAtivoPrincipal(ativo):\n",
    "    global ativoPrincipalLast \n",
    "    ativoPrincipalLast = mt5.symbol_info_tick(ativo).last\n",
    "    print('Ativo:', ativo, '    Last Price' , meu_formato_numerico.format(ativoPrincipalLast))\n",
    "\n",
    "def PegaInfoAtivoOpcoesMatrix(ativo):\n",
    "    n = len(ativo)\n",
    "    global opcaoStrike, opcaoBid, opcaoAsk, opcaoLast\n",
    "    opcaoStrike = list(())\n",
    "    opcaoBid = list(())\n",
    "    opcaoAsk= list(())\n",
    "    opcaoLast= list(())\n",
    "\n",
    "    for i in range(n):\n",
    "        infoAtivo = mt5.symbol_info(ativo[i])\n",
    "        opcaoStrike.append(infoAtivo.option_strike)\n",
    "        opcaoBid.append(mt5.symbol_info_tick(ativo[i]).bid)\n",
    "        opcaoAsk.append(mt5.symbol_info_tick(ativo[i]).ask)\n",
    "        opcaoLast.append(mt5.symbol_info_tick(ativo[i]).last)\n",
    "    \n",
    "def GanhareiPerderei(ativo):\n",
    "    for i in range(len(ativoOpcoes)):\n",
    "        # print(ativoOpcoes[i], opcaoStrike[i], (ativoPrincipalLast/opcaoStrike[i]-1)*100)\n",
    "        print()\n",
    "        print(\"Ganha/Perde\")\n",
    "        print(ativo[i], \n",
    "        ' PrLast:', meu_formato_numerico.format(ativoPrincipalLast),\n",
    "        ' Strike:', meu_formato_numerico.format(opcaoStrike[i]),  \n",
    "        ' Bid:',    meu_formato_numerico.format(opcaoBid[i]), \n",
    "        ' Ask:',    meu_formato_numerico.format(opcaoAsk[i]), \n",
    "        ' Last:',   meu_formato_numerico.format(opcaoLast[i]))\n",
    "  \n",
    "        gastarei = opcaoAsk[i]\n",
    "        ganharei = ativoPrincipalLast - opcaoStrike[i]\n",
    "        print('Perderei:', meu_formato_numerico.format(gastarei), \n",
    "        '    Ganharei:', meu_formato_numerico.format(ganharei))\n",
    "        if ganharei > gastarei:\n",
    "            print('Ganharei: ', meu_formato_numerico.format(ganharei-gastarei))\n",
    "        else:\n",
    "            print('Perderei: ', meu_formato_numerico.format(gastarei-ganharei))\n",
    "        \n"
   ]
  },
  {
   "cell_type": "code",
   "execution_count": 85,
   "metadata": {},
   "outputs": [
    {
     "output_type": "stream",
     "name": "stdout",
     "text": [
      "Ativo: VALE3     Last Price 113.00\n\nGanha/Perde\nVALEF877  PrLast: 113.00  Strike: 111.10  Bid: 4.00  Ask: 4.00  Last: 4.00\nPerderei: 4.00     Ganharei: 1.90\nPerderei:  2.10\n\nGanha/Perde\nVALEF114  PrLast: 113.00  Strike: 114.10  Bid: 2.52  Ask: 2.53  Last: 2.53\nPerderei: 2.53     Ganharei: -1.10\nPerderei:  3.63\n\nGanha/Perde\nVALEF121  PrLast: 113.00  Strike: 117.10  Bid: 1.48  Ask: 1.49  Last: 1.48\nPerderei: 1.49     Ganharei: -4.10\nPerderei:  5.59\n\nGanha/Perde\nVALEG108  PrLast: 113.00  Strike: 115.10  Bid: 4.00  Ask: 4.11  Last: 4.03\nPerderei: 4.11     Ganharei: -2.10\nPerderei:  6.21\n"
     ]
    }
   ],
   "source": [
    "ativoPrincipal = 'VALE3'\n",
    "ativoOpcoes = ['VALEF877', 'VALEF114', 'VALEF121', 'VALEG108']\n",
    "PegaInfoAtivoOpcoesMatrix(ativoOpcoes)\n",
    "PegaInfoAtivoPrincipal(ativoPrincipal)\n",
    "GanhareiPerderei(ativoOpcoes)"
   ]
  },
  {
   "cell_type": "code",
   "execution_count": 86,
   "metadata": {},
   "outputs": [
    {
     "output_type": "stream",
     "name": "stdout",
     "text": [
      "Ativo: ITSA4     Last Price 11.89\n\nGanha/Perde\nITSAF109  PrLast: 11.89  Strike: 10.76  Bid: 1.07  Ask: 1.25  Last: 1.07\nPerderei: 1.25     Ganharei: 1.13\nPerderei:  0.12\n\nGanha/Perde\nITSAF110  PrLast: 11.89  Strike: 11.01  Bid: 0.83  Ask: 0.92  Last: 0.92\nPerderei: 0.92     Ganharei: 0.88\nPerderei:  0.04\n\nGanha/Perde\nITSAG113  PrLast: 11.89  Strike: 11.26  Bid: 0.51  Ask: 0.90  Last: 0.79\nPerderei: 0.90     Ganharei: 0.63\nPerderei:  0.27\n"
     ]
    }
   ],
   "source": [
    "ativoPrincipal = 'ITSA4'\n",
    "ativoOpcoes = ['ITSAF109', 'ITSAF110', 'ITSAG113']\n",
    "PegaInfoAtivoOpcoesMatrix(ativoOpcoes)\n",
    "PegaInfoAtivoPrincipal(ativoPrincipal)\n",
    "GanhareiPerderei(ativoOpcoes)"
   ]
  },
  {
   "cell_type": "code",
   "execution_count": 87,
   "metadata": {},
   "outputs": [
    {
     "output_type": "stream",
     "name": "stdout",
     "text": [
      "Ativo: BBAS3     Last Price 35.74\n\nGanha/Perde\nBBASF339  PrLast: 35.74  Strike: 33.59  Bid: 2.26  Ask: 2.35  Last: 2.29\nPerderei: 2.35     Ganharei: 2.15\nPerderei:  0.20\n\nGanha/Perde\nBBASG357  PrLast: 35.74  Strike: 34.89  Bid: 1.67  Ask: 2.12  Last: 1.83\nPerderei: 2.12     Ganharei: 0.85\nPerderei:  1.27\n"
     ]
    }
   ],
   "source": [
    "ativoPrincipal = 'BBAS3'\n",
    "ativoOpcoes = ['BBASF339', 'BBASG357']\n",
    "PegaInfoAtivoOpcoesMatrix(ativoOpcoes)\n",
    "PegaInfoAtivoPrincipal(ativoPrincipal)\n",
    "GanhareiPerderei(ativoOpcoes)"
   ]
  },
  {
   "cell_type": "code",
   "execution_count": null,
   "metadata": {},
   "outputs": [],
   "source": []
  },
  {
   "cell_type": "code",
   "execution_count": 88,
   "metadata": {},
   "outputs": [],
   "source": [
    "# mt5.shutdown()"
   ]
  }
 ]
}