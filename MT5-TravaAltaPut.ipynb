{
 "cells": [
  {
   "cell_type": "code",
   "execution_count": 1,
   "source": [
    "import MetaTrader5 as mt5\r\n",
    "import pandas as pd \r\n",
    "mt5.initialize()"
   ],
   "outputs": [],
   "metadata": {}
  },
  {
   "cell_type": "code",
   "execution_count": null,
   "source": [
    "formato_numerico = \"{0:10.2f}\"\r\n",
    "ativo = list(())\r\n",
    "AtivoSymbolInfo = list(())\r\n",
    "matriz = list(())\r\n",
    "global matriz"
   ],
   "outputs": [],
   "metadata": {}
  },
  {
   "cell_type": "code",
   "execution_count": null,
   "source": [
    "def imprimirInfoAtivo(t, y, n):\r\n",
    "    print(t, y, formato_numerico.format(n))"
   ],
   "outputs": [],
   "metadata": {}
  },
  {
   "cell_type": "code",
   "execution_count": null,
   "source": [
    "# trava de alta com put\r\n",
    "# ****************************************************\r\n",
    "def travaAltaComPut(ativo):\r\n",
    "    #ativo = list(())\r\n",
    "    AtivoSymbolInfo = list(())\r\n",
    "    #matriz = list(())\r\n",
    "    n = len(ativo)\r\n",
    "    AtivoSymbolInfo.clear()\r\n",
    "    rows,cols = (n+5,5)\r\n",
    "    matriz = [[0 for i in range(cols)] for j in range(rows)]\r\n",
    "    for i in range(n):\r\n",
    "        AtivoSymbolInfo.append(mt5.symbol_info(ativo[i]))\r\n",
    "        xx = AtivoSymbolInfo[i]\r\n",
    "        matriz[i][0] = xx.name\r\n",
    "        matriz[i][1] = xx.option_strike\r\n",
    "\r\n",
    "        if i == 1:\r\n",
    "            matriz[i][3] = xx.ask\r\n",
    "            if matriz[i][3] == 0:\r\n",
    "                fff = input('Entre o valor do Ask ' + xx.name + ': ')\r\n",
    "                matriz[i][3] = float(fff)\r\n",
    "        if i > 1:\r\n",
    "            matriz[i][2] = xx.bid\r\n",
    "            if matriz[i][2] == 0:\r\n",
    "                fff = input('Entre o valor do Bid ' + xx.name + ': ')\r\n",
    "                matriz[i][2] = float(fff)\r\n",
    "\r\n",
    "        matriz[i][4] = xx.last\r\n",
    "\r\n",
    "    matriz[3][0] = 'Dif.Strike'\r\n",
    "    matriz[3][1] = matriz[2][1] - matriz[1][1]\r\n",
    "    matriz[4][0] = 'Spread Mercado'\r\n",
    "    matriz[4][1] = matriz[2][2] - matriz[1][3]\r\n",
    "    matriz[5][0] = 'Prej. Max'\r\n",
    "    matriz[5][1] = (matriz[2][1] - matriz[1][1]) - (matriz[2][2] - matriz[1][3])\r\n",
    "    matriz[6][0] = '> 25% ?'\r\n",
    "    matriz[6][1] = int(matriz[4][1] / matriz[5][1] * 100)\r\n",
    "    \r\n",
    "    df = pd.DataFrame(matriz, columns = ['Ativo','Strike','bid','ask','Last'])\r\n",
    "    \r\n",
    "    print(df)\r\n",
    "    nome_arq = 'TravaAltaPut_' + ativo[0] + '_' + ativo[1] + '_' + ativo[2]+ '.xlsx'\r\n",
    "    df.to_excel(nome_arq)"
   ],
   "outputs": [],
   "metadata": {}
  },
  {
   "cell_type": "code",
   "execution_count": null,
   "source": [
    "lista = ['IRBR3','IRBRU560','IRBRU580']\r\n",
    "travaAltaComPut(lista)"
   ],
   "outputs": [
    {
     "output_type": "stream",
     "name": "stdout",
     "text": [
      "            Ativo  Strike   bid   ask  Last\n",
      "0           IRBR3    0.00  0.00  0.00  5.81\n",
      "1        IRBRU560    5.60  0.00  0.25  0.24\n",
      "2        IRBRU580    5.80  0.33  0.00  0.32\n",
      "3      Dif.Strike    0.20  0.00  0.00  0.00\n",
      "4  Spread Mercado    0.08  0.00  0.00  0.00\n",
      "5       Prej. Max    0.12  0.00  0.00  0.00\n",
      "6         > 25% ?   66.00  0.00  0.00  0.00\n",
      "7               0    0.00  0.00  0.00  0.00\n"
     ]
    }
   ],
   "metadata": {}
  },
  {
   "cell_type": "code",
   "execution_count": null,
   "source": [
    "lista = ['IRBR3','IRBRT500','IRBRT600']\r\n",
    "travaAltaComPut(lista)"
   ],
   "outputs": [
    {
     "output_type": "stream",
     "name": "stdout",
     "text": [
      "            Ativo  Strike   bid   ask  Last\n",
      "0           IRBR3    0.00  0.00  0.00  5.81\n",
      "1        IRBRT500    5.00  0.00  0.04  0.04\n",
      "2        IRBRT600    6.00  0.33  0.00  0.35\n",
      "3      Dif.Strike    1.00  0.00  0.00  0.00\n",
      "4  Spread Mercado    0.29  0.00  0.00  0.00\n",
      "5       Prej. Max    0.71  0.00  0.00  0.00\n",
      "6         > 25% ?   40.00  0.00  0.00  0.00\n",
      "7               0    0.00  0.00  0.00  0.00\n"
     ]
    }
   ],
   "metadata": {}
  },
  {
   "cell_type": "code",
   "execution_count": null,
   "source": [
    "lista = ['BBSE3','BBSEU210','BBSEU220']\r\n",
    "travaAltaComPut(lista)"
   ],
   "outputs": [
    {
     "output_type": "stream",
     "name": "stdout",
     "text": [
      "            Ativo  Strike   bid   ask   Last\n",
      "0           BBSE3    0.00  0.00  0.00  22.08\n",
      "1        BBSET210   21.00  0.00  0.15   0.13\n",
      "2        BBSET220   22.00  0.39  0.00   0.42\n",
      "3      Dif.Strike    1.00  0.00  0.00   0.00\n",
      "4  Spread Mercado    0.24  0.00  0.00   0.00\n",
      "5       Prej. Max    0.76  0.00  0.00   0.00\n",
      "6         > 25% ?   31.00  0.00  0.00   0.00\n",
      "7               0    0.00  0.00  0.00   0.00\n"
     ]
    }
   ],
   "metadata": {}
  },
  {
   "cell_type": "code",
   "execution_count": null,
   "source": [
    "lista = ['BBSE3','BBSET220','BBSET230']\r\n",
    "travaAltaComPut(lista)"
   ],
   "outputs": [
    {
     "output_type": "stream",
     "name": "stdout",
     "text": [
      "            Ativo  Strike  bid   ask   Last\n",
      "0           BBSE3    0.00  0.0  0.00  22.08\n",
      "1        BBSET220   22.00  0.0  0.43   0.42\n",
      "2        BBSET230   23.00  1.0  0.00   1.01\n",
      "3      Dif.Strike    1.00  0.0  0.00   0.00\n",
      "4  Spread Mercado    0.57  0.0  0.00   0.00\n",
      "5       Prej. Max    0.43  0.0  0.00   0.00\n",
      "6         > 25% ?  132.00  0.0  0.00   0.00\n",
      "7               0    0.00  0.0  0.00   0.00\n"
     ]
    }
   ],
   "metadata": {}
  },
  {
   "cell_type": "code",
   "execution_count": null,
   "source": [],
   "outputs": [],
   "metadata": {}
  }
 ],
 "metadata": {
  "interpreter": {
   "hash": "63fd5069d213b44bf678585dea6b12cceca9941eaf7f819626cde1f2670de90d"
  },
  "kernelspec": {
   "name": "python3",
   "display_name": "Python 3.9.5 64-bit"
  },
  "language_info": {
   "codemirror_mode": {
    "name": "ipython",
    "version": 3
   },
   "file_extension": ".py",
   "mimetype": "text/x-python",
   "name": "python",
   "nbconvert_exporter": "python",
   "pygments_lexer": "ipython3",
   "version": "3.9.5"
  },
  "metadata": {
   "interpreter": {
    "hash": "63fd5069d213b44bf678585dea6b12cceca9941eaf7f819626cde1f2670de90d"
   }
  },
  "orig_nbformat": 2
 },
 "nbformat": 4,
 "nbformat_minor": 2
}