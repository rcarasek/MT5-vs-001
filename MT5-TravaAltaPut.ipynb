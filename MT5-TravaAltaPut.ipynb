{
 "cells": [
  {
   "cell_type": "code",
   "execution_count": 141,
   "metadata": {},
   "outputs": [
    {
     "data": {
      "text/plain": [
       "True"
      ]
     },
     "execution_count": 141,
     "metadata": {},
     "output_type": "execute_result"
    }
   ],
   "source": [
    "import MetaTrader5 as mt5\n",
    "import pandas as pd \n",
    "mt5.initialize()"
   ]
  },
  {
   "cell_type": "code",
   "execution_count": 142,
   "metadata": {},
   "outputs": [],
   "source": [
    "formato_numerico = \"{0:10.2f}\"\n",
    "ativo = list(())\n",
    "AtivoSymbolInfo = list(())\n",
    "matriz = list(())\n",
    "global matriz"
   ]
  },
  {
   "cell_type": "code",
   "execution_count": 143,
   "metadata": {},
   "outputs": [],
   "source": [
    "def imprimirInfoAtivo(t, y, n):\n",
    "    print(t, y, formato_numerico.format(n))"
   ]
  },
  {
   "cell_type": "code",
   "execution_count": 144,
   "metadata": {},
   "outputs": [],
   "source": [
    "# trava de alta com put\r\n",
    "# ****************************************************\r\n",
    "def travaAltaComPut(ativo):\r\n",
    "    #ativo = list(())\r\n",
    "    AtivoSymbolInfo = list(())\r\n",
    "    #matriz = list(())\r\n",
    "    n = len(ativo)\r\n",
    "    AtivoSymbolInfo.clear()\r\n",
    "    rows,cols = (n+5,5)\r\n",
    "    matriz = [[0 for i in range(cols)] for j in range(rows)]\r\n",
    "    for i in range(n):\r\n",
    "        AtivoSymbolInfo.append(mt5.symbol_info(ativo[i]))\r\n",
    "        xx = AtivoSymbolInfo[i]\r\n",
    "        matriz[i][0] = xx.name\r\n",
    "        matriz[i][1] = xx.option_strike\r\n",
    "\r\n",
    "        if i == 1:\r\n",
    "            matriz[i][3] = xx.ask\r\n",
    "            if matriz[i][3] == 0:\r\n",
    "                fff = input('Entre o valor do Ask ' + xx.name + ': ')\r\n",
    "                matriz[i][3] = float(fff)\r\n",
    "        if i > 1:\r\n",
    "            matriz[i][2] = xx.bid\r\n",
    "            if matriz[i][2] == 0:\r\n",
    "                fff = input('Entre o valor do Bid ' + xx.name + ': ')\r\n",
    "                matriz[i][2] = float(fff)\r\n",
    "\r\n",
    "        matriz[i][4] = xx.last\r\n",
    "\r\n",
    "    matriz[3][0] = 'Dif.Strike'\r\n",
    "    matriz[3][1] = matriz[2][1] - matriz[1][1]\r\n",
    "    matriz[4][0] = 'Spread Mercado'\r\n",
    "    matriz[4][1] = matriz[2][2] - matriz[1][3]\r\n",
    "    matriz[5][0] = 'Prej. Max'\r\n",
    "    matriz[5][1] = (matriz[2][1] - matriz[1][1]) - (matriz[2][2] - matriz[1][3])\r\n",
    "    matriz[6][0] = '> 25% ?'\r\n",
    "    matriz[6][1] = int(matriz[4][1] / matriz[5][1] * 100)\r\n",
    "    \r\n",
    "    df = pd.DataFrame(matriz, columns = ['Ativo','Strike','bid','ask','Last'])\r\n",
    "    \r\n",
    "    print(df)\r\n",
    "    nome_arq = 'TravaAltaPut_' + ativo[0] + '_' + ativo[1] + '_' + ativo[2]+ '.xlsx'\r\n",
    "    df.to_excel(nome_arq)"
   ]
  },
  {
   "cell_type": "code",
   "execution_count": 145,
   "metadata": {},
   "outputs": [
    {
     "name": "stdout",
     "output_type": "stream",
     "text": [
      "            Ativo  Strike   bid   ask   Last\n",
      "0           PETR4    0.00  0.00  0.00  29.46\n",
      "1        PETRS266   26.96  0.00  0.15   0.15\n",
      "2        PETRS297   28.96  0.54  0.00   0.54\n",
      "3      Dif.Strike    2.00  0.00  0.00   0.00\n",
      "4  Spread Mercado    0.39  0.00  0.00   0.00\n",
      "5       Prej. Max    1.61  0.00  0.00   0.00\n",
      "6         > 25% ?   24.00  0.00  0.00   0.00\n",
      "7               0    0.00  0.00  0.00   0.00\n"
     ]
    }
   ],
   "source": [
    "lista = ['PETR4','PETRS266','PETRS297']\n",
    "travaAltaComPut(lista)"
   ]
  },
  {
   "cell_type": "code",
   "execution_count": 146,
   "metadata": {},
   "outputs": [
    {
     "name": "stdout",
     "output_type": "stream",
     "text": [
      "            Ativo  Strike   bid   ask  Last\n",
      "0           IRBR3    0.00  0.00  0.00  5.76\n",
      "1        IRBRS560    5.60  0.00  0.09  0.08\n",
      "2        IRBRS600    6.00  0.28  0.00  0.30\n",
      "3      Dif.Strike    0.40  0.00  0.00  0.00\n",
      "4  Spread Mercado    0.19  0.00  0.00  0.00\n",
      "5       Prej. Max    0.21  0.00  0.00  0.00\n",
      "6         > 25% ?   90.00  0.00  0.00  0.00\n",
      "7               0    0.00  0.00  0.00  0.00\n"
     ]
    }
   ],
   "source": [
    "lista = ['IRBR3','IRBRS560','IRBRS600']\n",
    "travaAltaComPut(lista)"
   ]
  },
  {
   "cell_type": "code",
   "execution_count": 147,
   "metadata": {},
   "outputs": [
    {
     "name": "stdout",
     "output_type": "stream",
     "text": [
      "            Ativo  Strike   bid   ask  Last\n",
      "0           IRBR3    0.00  0.00  0.00  5.76\n",
      "1        IRBRT500    5.00  0.00  0.06  0.06\n",
      "2        IRBRT560    5.60  0.17  0.00  0.18\n",
      "3      Dif.Strike    0.60  0.00  0.00  0.00\n",
      "4  Spread Mercado    0.11  0.00  0.00  0.00\n",
      "5       Prej. Max    0.49  0.00  0.00  0.00\n",
      "6         > 25% ?   22.00  0.00  0.00  0.00\n",
      "7               0    0.00  0.00  0.00  0.00\n"
     ]
    }
   ],
   "source": [
    "lista = ['IRBR3','IRBRT500','IRBRT560']\n",
    "travaAltaComPut(lista)"
   ]
  },
  {
   "cell_type": "code",
   "execution_count": 148,
   "metadata": {},
   "outputs": [
    {
     "name": "stdout",
     "output_type": "stream",
     "text": [
      "            Ativo  Strike   bid   ask  Last\n",
      "0           IRBR3    0.00  0.00  0.00  5.76\n",
      "1        IRBRS580    5.80  0.00  0.16  0.16\n",
      "2        IRBRS600    6.00  0.28  0.00  0.30\n",
      "3      Dif.Strike    0.20  0.00  0.00  0.00\n",
      "4  Spread Mercado    0.12  0.00  0.00  0.00\n",
      "5       Prej. Max    0.08  0.00  0.00  0.00\n",
      "6         > 25% ?  149.00  0.00  0.00  0.00\n",
      "7               0    0.00  0.00  0.00  0.00\n"
     ]
    }
   ],
   "source": [
    "lista = ['IRBR3','IRBRS580','IRBRS600']\n",
    "travaAltaComPut(lista)"
   ]
  },
  {
   "cell_type": "code",
   "execution_count": 149,
   "metadata": {},
   "outputs": [
    {
     "name": "stdout",
     "output_type": "stream",
     "text": [
      "            Ativo  Strike   bid   ask  Last\n",
      "0           IRBR3    0.00  0.00  0.00  5.77\n",
      "1        IRBRS540    5.40  0.00  0.05  0.03\n",
      "2        IRBRS600    6.00  0.28  0.00  0.30\n",
      "3      Dif.Strike    0.60  0.00  0.00  0.00\n",
      "4  Spread Mercado    0.23  0.00  0.00  0.00\n",
      "5       Prej. Max    0.37  0.00  0.00  0.00\n",
      "6         > 25% ?   62.00  0.00  0.00  0.00\n",
      "7               0    0.00  0.00  0.00  0.00\n"
     ]
    }
   ],
   "source": [
    "lista = ['IRBR3','IRBRS540','IRBRS600']\n",
    "travaAltaComPut(lista)"
   ]
  },
  {
   "cell_type": "code",
   "execution_count": 150,
   "metadata": {},
   "outputs": [
    {
     "name": "stdout",
     "output_type": "stream",
     "text": [
      "            Ativo  Strike   bid   ask   Last\n",
      "0           B3SA3    0.00  0.00  0.00  16.79\n",
      "1        B3SAS805   14.66  0.00  0.04   0.03\n",
      "2         B3SAS17   16.66  0.32  0.00   0.33\n",
      "3      Dif.Strike    2.00  0.00  0.00   0.00\n",
      "4  Spread Mercado    0.28  0.00  0.00   0.00\n",
      "5       Prej. Max    1.72  0.00  0.00   0.00\n",
      "6         > 25% ?   16.00  0.00  0.00   0.00\n",
      "7               0    0.00  0.00  0.00   0.00\n"
     ]
    }
   ],
   "source": [
    "lista = ['B3SA3','B3SAS805','B3SAS17']\n",
    "travaAltaComPut(lista)"
   ]
  },
  {
   "cell_type": "code",
   "execution_count": 151,
   "metadata": {},
   "outputs": [
    {
     "name": "stdout",
     "output_type": "stream",
     "text": [
      "            Ativo  Strike   bid  ask   Last\n",
      "0           BBSE3    0.00  0.00  0.0  23.33\n",
      "1        BBSES220   22.00  0.00  0.1   0.08\n",
      "2        BBSES235   23.50  0.48  0.0   0.52\n",
      "3      Dif.Strike    1.50  0.00  0.0   0.00\n",
      "4  Spread Mercado    0.38  0.00  0.0   0.00\n",
      "5       Prej. Max    1.12  0.00  0.0   0.00\n",
      "6         > 25% ?   33.00  0.00  0.0   0.00\n",
      "7               0    0.00  0.00  0.0   0.00\n"
     ]
    }
   ],
   "source": [
    "lista = ['BBSE3','BBSES220','BBSES235']\r\n",
    "travaAltaComPut(lista)"
   ]
  },
  {
   "cell_type": "code",
   "execution_count": 152,
   "metadata": {},
   "outputs": [
    {
     "name": "stdout",
     "output_type": "stream",
     "text": [
      "            Ativo  Strike   bid   ask   Last\n",
      "0           BBSE3    0.00  0.00  0.00  23.33\n",
      "1        BBSET220   22.00  0.00  0.31   0.30\n",
      "2        BBSET230   23.00  0.56  0.00   0.58\n",
      "3      Dif.Strike    1.00  0.00  0.00   0.00\n",
      "4  Spread Mercado    0.25  0.00  0.00   0.00\n",
      "5       Prej. Max    0.75  0.00  0.00   0.00\n",
      "6         > 25% ?   33.00  0.00  0.00   0.00\n",
      "7               0    0.00  0.00  0.00   0.00\n"
     ]
    }
   ],
   "source": [
    "lista = ['BBSE3','BBSET220','BBSET230']\r\n",
    "travaAltaComPut(lista)"
   ]
  },
  {
   "cell_type": "code",
   "execution_count": null,
   "metadata": {},
   "outputs": [],
   "source": []
  }
 ],
 "metadata": {
  "interpreter": {
   "hash": "63fd5069d213b44bf678585dea6b12cceca9941eaf7f819626cde1f2670de90d"
  },
  "kernelspec": {
   "display_name": "Python 3.9.5 64-bit",
   "name": "python3"
  },
  "language_info": {
   "codemirror_mode": {
    "name": "ipython",
    "version": 3
   },
   "file_extension": ".py",
   "mimetype": "text/x-python",
   "name": "python",
   "nbconvert_exporter": "python",
   "pygments_lexer": "ipython3",
   "version": "3.9.5"
  },
  "metadata": {
   "interpreter": {
    "hash": "63fd5069d213b44bf678585dea6b12cceca9941eaf7f819626cde1f2670de90d"
   }
  },
  "orig_nbformat": 2
 },
 "nbformat": 4,
 "nbformat_minor": 2
}