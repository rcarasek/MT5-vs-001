{
 "metadata": {
  "language_info": {
   "codemirror_mode": {
    "name": "ipython",
    "version": 3
   },
   "file_extension": ".py",
   "mimetype": "text/x-python",
   "name": "python",
   "nbconvert_exporter": "python",
   "pygments_lexer": "ipython3",
   "version": "3.9.5"
  },
  "orig_nbformat": 2,
  "kernelspec": {
   "name": "python3",
   "display_name": "Python 3.9.5 64-bit"
  },
  "metadata": {
   "interpreter": {
    "hash": "63fd5069d213b44bf678585dea6b12cceca9941eaf7f819626cde1f2670de90d"
   }
  },
  "interpreter": {
   "hash": "63fd5069d213b44bf678585dea6b12cceca9941eaf7f819626cde1f2670de90d"
  }
 },
 "nbformat": 4,
 "nbformat_minor": 2,
 "cells": [
  {
   "cell_type": "code",
   "execution_count": 2,
   "metadata": {},
   "outputs": [
    {
     "output_type": "execute_result",
     "data": {
      "text/plain": [
       "True"
      ]
     },
     "metadata": {},
     "execution_count": 2
    }
   ],
   "source": [
    "import MetaTrader5 as mt5\n",
    "import pandas as pd \n",
    "mt5.initialize()"
   ]
  },
  {
   "cell_type": "code",
   "execution_count": 3,
   "metadata": {},
   "outputs": [],
   "source": [
    "formato_numerico = \"{0:10.2f}\"\n",
    "ativo = list(())\n",
    "AtivoSymbolInfo = list(())\n",
    "matriz = list(())\n",
    "global matriz"
   ]
  },
  {
   "cell_type": "code",
   "execution_count": 4,
   "metadata": {},
   "outputs": [],
   "source": [
    "def imprimirInfoAtivo(t, y, n):\n",
    "    print(t, y, formato_numerico.format(n))"
   ]
  },
  {
   "cell_type": "code",
   "execution_count": 5,
   "metadata": {},
   "outputs": [],
   "source": [
    "# trava de alta com put\n",
    "# ****************************************************\n",
    "def travaAltaComPut(ativo):\n",
    "    #ativo = list(())\n",
    "    AtivoSymbolInfo = list(())\n",
    "    #matriz = list(())\n",
    "    n = len(ativo)\n",
    "    AtivoSymbolInfo.clear()\n",
    "    rows,cols = (n+5,9)\n",
    "    matriz = [[0 for i in range(cols)] for j in range(rows)]\n",
    "    for i in range(n):\n",
    "        AtivoSymbolInfo.append(mt5.symbol_info(ativo[i]))\n",
    "        xx = AtivoSymbolInfo[i]\n",
    "        matriz[i][0] = xx.name\n",
    "        matriz[i][1] = xx.option_strike\n",
    "\n",
    "        if i == 1:\n",
    "            matriz[i][3] = xx.ask\n",
    "            if matriz[i][3] == 0:\n",
    "                fff = input('Entre o valor do Ask ' + xx.name + ': ')\n",
    "                matriz[i][3] = float(fff)\n",
    "        if i > 1:\n",
    "            matriz[i][2] = xx.bid\n",
    "            if matriz[i][2] == 0:\n",
    "                fff = input('Entre o valor do Bid ' + xx.name + ': ')\n",
    "                matriz[i][2] = float(fff)\n",
    "\n",
    "        matriz[i][4] = xx.last\n",
    "\n",
    "    matriz[3][0] = 'Dif.Strike'\n",
    "    matriz[3][1] = matriz[2][1] - matriz[1][1]\n",
    "    matriz[4][0] = 'Val.Recebido/Lucro'\n",
    "    matriz[4][1] = matriz[2][2] - matriz[1][3]\n",
    "    matriz[5][0] = 'Prej. Max'\n",
    "    matriz[5][1] = (matriz[2][1] - matriz[1][1]) - (matriz[2][2] - matriz[1][3])\n",
    "    \n",
    "    df = pd.DataFrame(matriz, columns = ['Ativo','Strike','bid','ask','Last','','','',''])\n",
    "    \n",
    "    print(df)\n",
    "    nome_arq = 'TravaAltaPut_' + ativo[0] + '_' + ativo[1] + '_' + ativo[2]+ '.xlsx'\n",
    "    df.to_excel(nome_arq)"
   ]
  },
  {
   "cell_type": "code",
   "execution_count": 6,
   "metadata": {},
   "outputs": [
    {
     "output_type": "stream",
     "name": "stdout",
     "text": [
      "                Ativo  Strike   bid   ask   Last            \n0               PETR4    0.00  0.00  0.00  28.92  0  0  0  0\n1            PETRS266   26.96  0.00  0.28   0.28  0  0  0  0\n2            PETRS297   28.96  0.89  0.00   0.90  0  0  0  0\n3          Dif.Strike    2.00  0.00  0.00   0.00  0  0  0  0\n4  Val.Recebido/Lucro    0.61  0.00  0.00   0.00  0  0  0  0\n5           Prej. Max    1.39  0.00  0.00   0.00  0  0  0  0\n6                   0    0.00  0.00  0.00   0.00  0  0  0  0\n7                   0    0.00  0.00  0.00   0.00  0  0  0  0\n"
     ]
    }
   ],
   "source": [
    "lista = ['PETR4','PETRS266','PETRS297']\n",
    "travaAltaComPut(lista)"
   ]
  },
  {
   "cell_type": "code",
   "execution_count": 7,
   "metadata": {},
   "outputs": [
    {
     "output_type": "stream",
     "name": "stdout",
     "text": [
      "                Ativo  Strike   bid   ask  Last            \n0               IRBR3     0.0  0.00  0.00  6.01  0  0  0  0\n1            IRBRS560     5.6  0.00  0.06  0.06  0  0  0  0\n2            IRBRS600     6.0  0.16  0.00  0.16  0  0  0  0\n3          Dif.Strike     0.4  0.00  0.00  0.00  0  0  0  0\n4  Val.Recebido/Lucro     0.1  0.00  0.00  0.00  0  0  0  0\n5           Prej. Max     0.3  0.00  0.00  0.00  0  0  0  0\n6                   0     0.0  0.00  0.00  0.00  0  0  0  0\n7                   0     0.0  0.00  0.00  0.00  0  0  0  0\n"
     ]
    }
   ],
   "source": [
    "lista = ['IRBR3','IRBRS560','IRBRS600']\n",
    "travaAltaComPut(lista)"
   ]
  },
  {
   "cell_type": "code",
   "execution_count": 8,
   "metadata": {},
   "outputs": [
    {
     "output_type": "stream",
     "name": "stdout",
     "text": [
      "                Ativo  Strike  bid   ask  Last            \n0               IRBR3    0.00  0.0  0.00  6.01  0  0  0  0\n1            IRBRT500    5.00  0.0  0.06  0.06  0  0  0  0\n2            IRBRT560    5.60  1.0  0.00  0.00  0  0  0  0\n3          Dif.Strike    0.60  0.0  0.00  0.00  0  0  0  0\n4  Val.Recebido/Lucro    0.94  0.0  0.00  0.00  0  0  0  0\n5           Prej. Max   -0.34  0.0  0.00  0.00  0  0  0  0\n6                   0    0.00  0.0  0.00  0.00  0  0  0  0\n7                   0    0.00  0.0  0.00  0.00  0  0  0  0\n"
     ]
    }
   ],
   "source": [
    "lista = ['IRBR3','IRBRT500','IRBRT560']\n",
    "travaAltaComPut(lista)"
   ]
  },
  {
   "cell_type": "code",
   "execution_count": 9,
   "metadata": {},
   "outputs": [
    {
     "output_type": "stream",
     "name": "stdout",
     "text": [
      "                Ativo  Strike   bid  ask  Last            \n0               IRBR3    0.00  0.00  0.0  6.01  0  0  0  0\n1            IRBRS580    5.80  0.00  0.1  0.09  0  0  0  0\n2            IRBRS600    6.00  0.16  0.0  0.16  0  0  0  0\n3          Dif.Strike    0.20  0.00  0.0  0.00  0  0  0  0\n4  Val.Recebido/Lucro    0.06  0.00  0.0  0.00  0  0  0  0\n5           Prej. Max    0.14  0.00  0.0  0.00  0  0  0  0\n6                   0    0.00  0.00  0.0  0.00  0  0  0  0\n7                   0    0.00  0.00  0.0  0.00  0  0  0  0\n"
     ]
    }
   ],
   "source": [
    "lista = ['IRBR3','IRBRS580','IRBRS600']\n",
    "travaAltaComPut(lista)"
   ]
  },
  {
   "cell_type": "code",
   "execution_count": 10,
   "metadata": {},
   "outputs": [
    {
     "output_type": "stream",
     "name": "stdout",
     "text": [
      "                Ativo  Strike   bid   ask  Last            \n0               IRBR3     0.0  0.00  0.00  6.01  0  0  0  0\n1            IRBRT500     5.0  0.00  0.06  0.06  0  0  0  0\n2            IRBRT600     6.0  0.26  0.00  0.27  0  0  0  0\n3          Dif.Strike     1.0  0.00  0.00  0.00  0  0  0  0\n4  Val.Recebido/Lucro     0.2  0.00  0.00  0.00  0  0  0  0\n5           Prej. Max     0.8  0.00  0.00  0.00  0  0  0  0\n6                   0     0.0  0.00  0.00  0.00  0  0  0  0\n7                   0     0.0  0.00  0.00  0.00  0  0  0  0\n"
     ]
    }
   ],
   "source": [
    "lista = ['IRBR3','IRBRT500','IRBRT600']\n",
    "travaAltaComPut(lista)"
   ]
  },
  {
   "cell_type": "code",
   "execution_count": 11,
   "metadata": {},
   "outputs": [
    {
     "output_type": "stream",
     "name": "stdout",
     "text": [
      "                Ativo  Strike   bid   ask   Last            \n0               B3SA3    0.00  0.00  0.00  16.88  0  0  0  0\n1            B3SAS805   14.87  0.00  0.09   0.07  0  0  0  0\n2             B3SAS17   16.87  0.52  0.00   0.52  0  0  0  0\n3          Dif.Strike    2.00  0.00  0.00   0.00  0  0  0  0\n4  Val.Recebido/Lucro    0.43  0.00  0.00   0.00  0  0  0  0\n5           Prej. Max    1.57  0.00  0.00   0.00  0  0  0  0\n6                   0    0.00  0.00  0.00   0.00  0  0  0  0\n7                   0    0.00  0.00  0.00   0.00  0  0  0  0\n"
     ]
    }
   ],
   "source": [
    "lista = ['B3SA3','B3SAS805','B3SAS17']\n",
    "travaAltaComPut(lista)"
   ]
  },
  {
   "cell_type": "code",
   "execution_count": 14,
   "metadata": {},
   "outputs": [
    {
     "output_type": "stream",
     "name": "stdout",
     "text": [
      "                Ativo  Strike  bid   ask   Last            \n0               BBSE3    0.00  0.0  0.00  25.35  0  0  0  0\n1            BBSES225   22.50  0.0  0.05   0.00  0  0  0  0\n2            BBSET230   23.00  0.2  0.00   0.00  0  0  0  0\n3          Dif.Strike    0.50  0.0  0.00   0.00  0  0  0  0\n4  Val.Recebido/Lucro    0.15  0.0  0.00   0.00  0  0  0  0\n5           Prej. Max    0.35  0.0  0.00   0.00  0  0  0  0\n6                   0    0.00  0.0  0.00   0.00  0  0  0  0\n7                   0    0.00  0.0  0.00   0.00  0  0  0  0\n"
     ]
    }
   ],
   "source": [
    "lista = ['BBSE3','BBSES225','BBSET230']\n",
    "travaAltaComPut(lista)"
   ]
  },
  {
   "cell_type": "code",
   "execution_count": null,
   "metadata": {},
   "outputs": [],
   "source": []
  }
 ]
}