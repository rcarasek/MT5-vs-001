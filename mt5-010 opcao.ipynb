{
 "metadata": {
  "language_info": {
   "codemirror_mode": {
    "name": "ipython",
    "version": 3
   },
   "file_extension": ".py",
   "mimetype": "text/x-python",
   "name": "python",
   "nbconvert_exporter": "python",
   "pygments_lexer": "ipython3",
   "version": "3.9.5"
  },
  "orig_nbformat": 2,
  "kernelspec": {
   "name": "python3",
   "display_name": "Python 3.9.5 64-bit"
  },
  "metadata": {
   "interpreter": {
    "hash": "63fd5069d213b44bf678585dea6b12cceca9941eaf7f819626cde1f2670de90d"
   }
  },
  "interpreter": {
   "hash": "63fd5069d213b44bf678585dea6b12cceca9941eaf7f819626cde1f2670de90d"
  }
 },
 "nbformat": 4,
 "nbformat_minor": 2,
 "cells": [
  {
   "cell_type": "code",
   "execution_count": 1,
   "metadata": {},
   "outputs": [
    {
     "output_type": "execute_result",
     "data": {
      "text/plain": [
       "True"
      ]
     },
     "metadata": {},
     "execution_count": 1
    }
   ],
   "source": [
    "import MetaTrader5 as mt5\n",
    "# import pandas as pd \n",
    "\n",
    "mt5.initialize()"
   ]
  },
  {
   "cell_type": "code",
   "execution_count": 2,
   "metadata": {},
   "outputs": [],
   "source": [
    "global meu_formato_numerico \n",
    "meu_formato_numerico = \"{0:10.2f}\""
   ]
  },
  {
   "cell_type": "code",
   "execution_count": 3,
   "metadata": {},
   "outputs": [],
   "source": [
    "def PegaInfoAtivoOpcoesMatrix(ativo):\n",
    "    n = len(ativo)\n",
    "    global opcaoStrike, opcaoBid, opcaoAsk, opcaoLast\n",
    "    opcaoStrike = list(())\n",
    "    opcaoBid = list(())\n",
    "    opcaoAsk= list(())\n",
    "    opcaoLast= list(())\n",
    "\n",
    "    for i in range(n):\n",
    "        infoAtivo = mt5.symbol_info(ativo[i])\n",
    "        opcaoStrike.append(infoAtivo.option_strike)\n",
    "        opcaoBid.append(mt5.symbol_info_tick(ativo[i]).bid)\n",
    "        opcaoAsk.append(mt5.symbol_info_tick(ativo[i]).ask)\n",
    "        opcaoLast.append(mt5.symbol_info_tick(ativo[i]).last)\n",
    "    \n",
    "def GanhareiPerderei(ativo, ListaOpcoes):\n",
    "    global ativoPrincipalLast \n",
    "    global opcaoStrike, opcaoBid, opcaoAsk, opcaoLast\n",
    "    opcaoStrike = list(())\n",
    "    opcaoBid = list(())\n",
    "    opcaoAsk= list(())\n",
    "    opcaoLast= list(())\n",
    "\n",
    "    infoAtivo = mt5.symbol_info(ativo)\n",
    "    ativoPrincipalLast = mt5.symbol_info_tick(ativo).last\n",
    "\n",
    "    print('Ativo:', ativo, '    Last Price' , meu_formato_numerico.format(ativoPrincipalLast))\n",
    "\n",
    "    n = len(ListaOpcoes)\n",
    "    for i in range(n):\n",
    "        opcaoStrike.append(mt5.symbol_info(ListaOpcoes[i]).option_strike)\n",
    "        opcaoBid.append(mt5.symbol_info_tick(ListaOpcoes[i]).bid)\n",
    "        opcaoAsk.append(mt5.symbol_info_tick(ListaOpcoes[i]).ask)\n",
    "        opcaoLast.append(mt5.symbol_info_tick(ListaOpcoes[i]).last)\n",
    "\n",
    "    for i in range(len(ListaOpcoes)):\n",
    "        # print(ativoOpcoes[i], opcaoStrike[i], (ativoPrincipalLast/opcaoStrike[i]-1)*100)\n",
    "        print(\"Ganha/Perde\")\n",
    "        print(ListaOpcoes[i], \n",
    "        ' PrLast:', meu_formato_numerico.format(ativoPrincipalLast),\n",
    "        ' Strike:', meu_formato_numerico.format(opcaoStrike[i]),  \n",
    "        ' Bid:',    meu_formato_numerico.format(opcaoBid[i]), \n",
    "        ' Ask:',    meu_formato_numerico.format(opcaoAsk[i]), \n",
    "        ' Last:',   meu_formato_numerico.format(opcaoLast[i]))\n",
    "  \n",
    "        gastarei = opcaoAsk[i]\n",
    "        ganharei = ativoPrincipalLast - opcaoStrike[i]\n",
    "        print('Perderei:', meu_formato_numerico.format(gastarei), \n",
    "        '    Ganharei:', meu_formato_numerico.format(ganharei))\n",
    "        if ganharei > gastarei:\n",
    "            print('Ganharei: ', meu_formato_numerico.format(ganharei-gastarei))\n",
    "        else:\n",
    "            print('Perderei: ', meu_formato_numerico.format(gastarei-ganharei))\n",
    "        \n",
    "\n"
   ]
  },
  {
   "cell_type": "code",
   "execution_count": 4,
   "metadata": {},
   "outputs": [],
   "source": [
    "def imprimirInfoAtivo(t, y, n):\n",
    "    print(t, y, meu_formato_numerico.format(n))"
   ]
  },
  {
   "cell_type": "code",
   "execution_count": 5,
   "metadata": {},
   "outputs": [],
   "source": [
    "def RolagemOpcoes(ativo, opcoes, qtd):\n",
    "    # pegar informações do ativo\n",
    "    global infoAtivo\n",
    "    infoAtivo = mt5.symbol_info_tick(ativo)\n",
    "    imprimirInfoAtivo(ativo, 'last', infoAtivo.last)\n",
    "    print(meu_formato_numerico.format(mt5.symbol_info(ativo).price_change))\n",
    "\n",
    "    # pegar informações das opções\n",
    "    global infoOpcoes\n",
    "    infoOpcoes = list(())\n",
    "    infoOpcoes.append(mt5.symbol_info(opcoes[0]))\n",
    "    infoOpcoes.append(mt5.symbol_info(opcoes[1]))\n",
    "    print()\n",
    "    difStr = round(infoOpcoes[1].option_strike - infoOpcoes[0].option_strike,2)\n",
    "    difOpc = round(infoOpcoes[1].bid-infoOpcoes[0].ask,2)\n",
    "    print(opcoes[0], infoOpcoes[0].option_strike, infoOpcoes[0].bid, infoOpcoes[0].ask)\n",
    "    print(opcoes[1], infoOpcoes[1].option_strike, infoOpcoes[1].bid, infoOpcoes[1].ask)\n",
    "    print('Diferença Strike: ', difStr, ' Diferença Opções: ', difOpc)\n",
    "    print(round(difStr+difOpc,2))\n"
   ]
  },
  {
   "cell_type": "code",
   "execution_count": 6,
   "metadata": {},
   "outputs": [
    {
     "output_type": "stream",
     "name": "stdout",
     "text": [
      "ITSA4 last      11.71\n     -1.76\n\nITSAF110 11.01 0.71 0.77\nITSAG118 11.76 0.0 0.0\nDiferença Strike:  0.75  Diferença Opções:  -0.77\n-0.02\n"
     ]
    }
   ],
   "source": [
    "ativo = 'ITSA4' \n",
    "opcoes = ['ITSAF110', 'ITSAG118'] \n",
    "qtd = 1\n",
    "RolagemOpcoes(ativo, opcoes, qtd)"
   ]
  },
  {
   "cell_type": "code",
   "execution_count": 7,
   "metadata": {},
   "outputs": [
    {
     "output_type": "stream",
     "name": "stdout",
     "text": [
      "CMIG4 last      13.48\n     -1.75\n\nCMIGF134 11.56 1.8 0.0\nCMIGG154 13.35 0.65 0.69\nDiferença Strike:  1.79  Diferença Opções:  0.65\n2.44\n"
     ]
    }
   ],
   "source": [
    "ativo = 'CMIG4' \n",
    "opcoes = ['CMIGF134', 'CMIGG154'] \n",
    "qtd = 1\n",
    "RolagemOpcoes(ativo, opcoes, qtd)"
   ]
  },
  {
   "cell_type": "code",
   "execution_count": 8,
   "metadata": {},
   "outputs": [
    {
     "output_type": "stream",
     "name": "stdout",
     "text": [
      "CMIG4 last      13.48\n     -1.75\n\nCMIGF139 12.01 0.0 0.0\nCMIGG159 13.8 0.43 0.46\nDiferença Strike:  1.79  Diferença Opções:  0.43\n2.22\n"
     ]
    }
   ],
   "source": [
    "ativo = 'CMIG4' \n",
    "opcoes = ['CMIGF139', 'CMIGG159'] \n",
    "qtd = 1\n",
    "RolagemOpcoes(ativo, opcoes, qtd)"
   ]
  },
  {
   "cell_type": "code",
   "execution_count": 9,
   "metadata": {},
   "outputs": [
    {
     "output_type": "stream",
     "name": "stdout",
     "text": [
      "CMIG4 last      13.48\n     -1.75\n\nCMIGF134 11.56 1.8 0.0\nCMIGG154 13.35 0.65 0.69\nDiferença Strike:  1.79  Diferença Opções:  0.65\n2.44\n"
     ]
    }
   ],
   "source": [
    "ativo = 'CMIG4' \n",
    "opcoes = ['CMIGF134', 'CMIGG154'] \n",
    "qtd = 1\n",
    "RolagemOpcoes(ativo, opcoes, qtd)"
   ]
  },
  {
   "cell_type": "code",
   "execution_count": 10,
   "metadata": {},
   "outputs": [
    {
     "output_type": "stream",
     "name": "stdout",
     "text": [
      "VALE3 last     114.29\n      2.20\n\nVALEF121 117.1 0.0 0.0\nVALEG108 115.1 3.96 4.0\nDiferença Strike:  -2.0  Diferença Opções:  3.96\n1.96\n"
     ]
    }
   ],
   "source": [
    "ativo = 'VALE3' \n",
    "opcoes = ['VALEF121', 'VALEG108'] \n",
    "qtd = 1\n",
    "RolagemOpcoes(ativo, opcoes, qtd)"
   ]
  },
  {
   "cell_type": "code",
   "execution_count": 11,
   "metadata": {},
   "outputs": [
    {
     "output_type": "stream",
     "name": "stdout",
     "text": [
      "Tick(time=1623430050, bid=35.34, ask=35.35, last=35.34, volume=300, time_msc=1623430050438, flags=0, volume_real=300.0)\nTick(time=1623430045, bid=24.56, ask=24.57, last=24.57, volume=100, time_msc=1623430045273, flags=0, volume_real=100.0)\n"
     ]
    }
   ],
   "source": [
    "lista = ['BBAS3', 'BBSE3']\n",
    "for i in lista:\n",
    "    print(mt5.symbol_info_tick(i))"
   ]
  },
  {
   "cell_type": "code",
   "execution_count": 12,
   "metadata": {},
   "outputs": [
    {
     "output_type": "stream",
     "name": "stdout",
     "text": [
      "BBAS3      35.34      -0.45\n",
      "BBSE3      24.57      -0.53\n",
      "CMIG4      13.48      -1.75\n",
      "COCE5      57.05      -1.14\n",
      "COGN3       4.33      -2.91\n",
      "CSAN3      25.67       0.63\n",
      "DIRR3      14.25      -1.72\n",
      "ELET3      44.98      -0.75\n",
      "GGBR4      32.97       2.58\n",
      "IRBR3       6.07      -0.49\n",
      "ITSA4      11.71      -1.76\n",
      "MTRE3      12.27      -2.15\n",
      "OIBR3       1.59      -1.24\n",
      "RRRP3      39.57      -0.83\n",
      "SAPR4       4.13       0.00\n",
      "VALE3     114.29       2.20\n",
      "B3SA3      16.08       0.50\n"
     ]
    }
   ],
   "source": [
    "lista = ['BBAS3', 'BBSE3', 'CMIG4', 'COCE5', 'COGN3', 'CSAN3', 'DIRR3', 'ELET3', 'GGBR4', 'IRBR3', 'ITSA4', 'MTRE3', 'OIBR3', 'RRRP3', 'SAPR4', 'VALE3', 'B3SA3']\n",
    "for i in lista:\n",
    "    print(  mt5.symbol_info(i).name,meu_formato_numerico.format(mt5.symbol_info(i).last), \n",
    "            meu_formato_numerico.format(mt5.symbol_info(i).price_change)  )"
   ]
  },
  {
   "cell_type": "code",
   "execution_count": 13,
   "metadata": {},
   "outputs": [],
   "source": [
    "# mt5.shutdown()"
   ]
  },
  {
   "cell_type": "code",
   "execution_count": 14,
   "metadata": {},
   "outputs": [],
   "source": [
    "op = ['ITSAF110', 'ITSAG118'] \n",
    "opinfo = list(())\n",
    "for i in range(2):\n",
    "    opinfo.append(mt5.symbol_info(op[i]))\n"
   ]
  },
  {
   "cell_type": "code",
   "execution_count": 15,
   "metadata": {},
   "outputs": [
    {
     "output_type": "stream",
     "name": "stdout",
     "text": [
      "ITSAF110 ITSAG118\n"
     ]
    }
   ],
   "source": [
    "print(opinfo[0].name, opinfo[1].name)"
   ]
  },
  {
   "cell_type": "code",
   "execution_count": 81,
   "metadata": {},
   "outputs": [
    {
     "output_type": "execute_result",
     "data": {
      "text/plain": [
       "'ITSAG118'"
      ]
     },
     "metadata": {},
     "execution_count": 81
    }
   ],
   "source": []
  },
  {
   "cell_type": "code",
   "execution_count": null,
   "metadata": {},
   "outputs": [],
   "source": []
  }
 ]
}