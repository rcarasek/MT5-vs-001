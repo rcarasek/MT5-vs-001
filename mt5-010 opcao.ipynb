{
 "metadata": {
  "language_info": {
   "codemirror_mode": {
    "name": "ipython",
    "version": 3
   },
   "file_extension": ".py",
   "mimetype": "text/x-python",
   "name": "python",
   "nbconvert_exporter": "python",
   "pygments_lexer": "ipython3",
   "version": "3.9.5"
  },
  "orig_nbformat": 2,
  "kernelspec": {
   "name": "python395jvsc74a57bd063fd5069d213b44bf678585dea6b12cceca9941eaf7f819626cde1f2670de90d",
   "display_name": "Python 3.9.5 64-bit"
  },
  "metadata": {
   "interpreter": {
    "hash": "63fd5069d213b44bf678585dea6b12cceca9941eaf7f819626cde1f2670de90d"
   }
  }
 },
 "nbformat": 4,
 "nbformat_minor": 2,
 "cells": [
  {
   "cell_type": "code",
   "execution_count": 29,
   "metadata": {},
   "outputs": [
    {
     "output_type": "execute_result",
     "data": {
      "text/plain": [
       "True"
      ]
     },
     "metadata": {},
     "execution_count": 29
    }
   ],
   "source": [
    "import MetaTrader5 as mt5\n",
    "# import pandas as pd \n",
    "\n",
    "mt5.initialize()"
   ]
  },
  {
   "cell_type": "code",
   "execution_count": 30,
   "metadata": {},
   "outputs": [],
   "source": [
    "global meu_formato_numerico \n",
    "meu_formato_numerico = \"{0:10.2f}\""
   ]
  },
  {
   "cell_type": "code",
   "execution_count": 31,
   "metadata": {},
   "outputs": [],
   "source": [
    "def PegaInfoAtivoOpcoesMatrix(ativo):\n",
    "    n = len(ativo)\n",
    "    global opcaoStrike, opcaoBid, opcaoAsk, opcaoLast\n",
    "    opcaoStrike = list(())\n",
    "    opcaoBid = list(())\n",
    "    opcaoAsk= list(())\n",
    "    opcaoLast= list(())\n",
    "\n",
    "    for i in range(n):\n",
    "        infoAtivo = mt5.symbol_info(ativo[i])\n",
    "        opcaoStrike.append(infoAtivo.option_strike)\n",
    "        opcaoBid.append(mt5.symbol_info_tick(ativo[i]).bid)\n",
    "        opcaoAsk.append(mt5.symbol_info_tick(ativo[i]).ask)\n",
    "        opcaoLast.append(mt5.symbol_info_tick(ativo[i]).last)\n",
    "    \n",
    "def GanhareiPerderei(ativo, ListaOpcoes):\n",
    "    global ativoPrincipalLast \n",
    "    global opcaoStrike, opcaoBid, opcaoAsk, opcaoLast\n",
    "    opcaoStrike = list(())\n",
    "    opcaoBid = list(())\n",
    "    opcaoAsk= list(())\n",
    "    opcaoLast= list(())\n",
    "\n",
    "    infoAtivo = mt5.symbol_info(ativo)\n",
    "    ativoPrincipalLast = mt5.symbol_info_tick(ativo).last\n",
    "\n",
    "    print('Ativo:', ativo, '    Last Price' , meu_formato_numerico.format(ativoPrincipalLast))\n",
    "\n",
    "    n = len(ListaOpcoes)\n",
    "    for i in range(n):\n",
    "        opcaoStrike.append(mt5.symbol_info(ListaOpcoes[i]).option_strike)\n",
    "        opcaoBid.append(mt5.symbol_info_tick(ListaOpcoes[i]).bid)\n",
    "        opcaoAsk.append(mt5.symbol_info_tick(ListaOpcoes[i]).ask)\n",
    "        opcaoLast.append(mt5.symbol_info_tick(ListaOpcoes[i]).last)\n",
    "\n",
    "    for i in range(len(ListaOpcoes)):\n",
    "        # print(ativoOpcoes[i], opcaoStrike[i], (ativoPrincipalLast/opcaoStrike[i]-1)*100)\n",
    "        print(\"Ganha/Perde\")\n",
    "        print(ListaOpcoes[i], \n",
    "        ' PrLast:', meu_formato_numerico.format(ativoPrincipalLast),\n",
    "        ' Strike:', meu_formato_numerico.format(opcaoStrike[i]),  \n",
    "        ' Bid:',    meu_formato_numerico.format(opcaoBid[i]), \n",
    "        ' Ask:',    meu_formato_numerico.format(opcaoAsk[i]), \n",
    "        ' Last:',   meu_formato_numerico.format(opcaoLast[i]))\n",
    "  \n",
    "        gastarei = opcaoAsk[i]\n",
    "        ganharei = ativoPrincipalLast - opcaoStrike[i]\n",
    "        print('Perderei:', meu_formato_numerico.format(gastarei), \n",
    "        '    Ganharei:', meu_formato_numerico.format(ganharei))\n",
    "        if ganharei > gastarei:\n",
    "            print('Ganharei: ', meu_formato_numerico.format(ganharei-gastarei))\n",
    "        else:\n",
    "            print('Perderei: ', meu_formato_numerico.format(gastarei-ganharei))\n",
    "        \n",
    "\n"
   ]
  },
  {
   "cell_type": "code",
   "execution_count": 32,
   "metadata": {},
   "outputs": [],
   "source": [
    "def imprimirInfoAtivo(t, y, n):\n",
    "    print(t, y, meu_formato_numerico.format(n))"
   ]
  },
  {
   "cell_type": "code",
   "execution_count": 52,
   "metadata": {},
   "outputs": [],
   "source": [
    "def RolagemOpcoes(ativo, opcoes, qtd):\n",
    "    # pegar informações do ativo\n",
    "    global infoAtivo\n",
    "    infoAtivo = mt5.symbol_info_tick(ativo)\n",
    "    imprimirInfoAtivo(ativo, 'last', infoAtivo.last)\n",
    "    print(meu_formato_numerico.format(mt5.symbol_info(ativo).price_change))\n",
    "\n",
    "    # pegar informações das opções\n",
    "    global infoOpcoes\n",
    "    infoOpcoes = list(())\n",
    "    infoOpcoes.append(mt5.symbol_info(opcoes[0]))\n",
    "    infoOpcoes.append(mt5.symbol_info(opcoes[1]))\n",
    "    print()\n",
    "    difStr = round(infoOpcoes[1].option_strike - infoOpcoes[0].option_strike,2)\n",
    "    difOpc = round(infoOpcoes[1].bid-infoOpcoes[0].ask,2)\n",
    "    print(opcoes[0], infoOpcoes[0].option_strike, infoOpcoes[0].bid, infoOpcoes[0].ask)\n",
    "    print(opcoes[1], infoOpcoes[1].option_strike, infoOpcoes[1].bid, infoOpcoes[1].ask)\n",
    "    print('Diferença Strike: ', difStr, ' Diferença Opções: ', difOpc)\n",
    "    print(round(difStr+difOpc,2))\n"
   ]
  },
  {
   "cell_type": "code",
   "execution_count": 53,
   "metadata": {},
   "outputs": [
    {
     "output_type": "stream",
     "name": "stdout",
     "text": [
      "ITSA4 last      12.14\n      1.68\n\nITSAF110 11.01 1.01 1.29\nITSAG118 11.76 0.0 0.0\nDiferença Strike:  0.75  Diferença Opções:  -1.29\n-0.54\n"
     ]
    }
   ],
   "source": [
    "ativo = 'ITSA4' \n",
    "opcoes = ['ITSAF110', 'ITSAG118'] \n",
    "qtd = 1\n",
    "RolagemOpcoes(ativo, opcoes, qtd)"
   ]
  },
  {
   "cell_type": "code",
   "execution_count": 35,
   "metadata": {},
   "outputs": [
    {
     "output_type": "stream",
     "name": "stdout",
     "text": [
      "CMIG4 last      13.80\n     -0.86\n\nCMIGF134 11.56 0.0\nCMIGG154 13.35 0.88\n1.79 0.88\n2.67\n"
     ]
    }
   ],
   "source": [
    "ativo = 'CMIG4' \n",
    "opcoes = ['CMIGF134', 'CMIGG154'] \n",
    "qtd = 1\n",
    "RolagemOpcoes(ativo, opcoes, qtd)"
   ]
  },
  {
   "cell_type": "code",
   "execution_count": 36,
   "metadata": {},
   "outputs": [
    {
     "output_type": "stream",
     "name": "stdout",
     "text": [
      "CMIG4 last      13.80\n     -0.86\n\nCMIGF139 12.01 2.0\nCMIGG159 13.8 0.62\n1.79 -1.38\n0.41\n"
     ]
    }
   ],
   "source": [
    "ativo = 'CMIG4' \n",
    "opcoes = ['CMIGF139', 'CMIGG159'] \n",
    "qtd = 1\n",
    "RolagemOpcoes(ativo, opcoes, qtd)"
   ]
  },
  {
   "cell_type": "code",
   "execution_count": 44,
   "metadata": {},
   "outputs": [
    {
     "output_type": "stream",
     "name": "stdout",
     "text": [
      "CMIG4 last      13.80\n     -0.86\n\nCMIGF134 11.56 0.0\nCMIGG154 13.35 0.88\n1.79 0.88\n2.67\n"
     ]
    }
   ],
   "source": [
    "ativo = 'CMIG4' \n",
    "opcoes = ['CMIGF134', 'CMIGG154'] \n",
    "qtd = 1\n",
    "RolagemOpcoes(ativo, opcoes, qtd)"
   ]
  },
  {
   "cell_type": "code",
   "execution_count": 90,
   "metadata": {},
   "outputs": [
    {
     "output_type": "stream",
     "name": "stdout",
     "text": [
      "VALE3 last     112.20\n      2.07\n\nVALEF121 117.1 0.88 0.7\nVALEG108 115.1 3.45 3.87\nDiferença Strike:  -2.0  Diferença Opções:  2.75\n0.75\n"
     ]
    }
   ],
   "source": [
    "ativo = 'VALE3' \n",
    "opcoes = ['VALEF121', 'VALEG108'] \n",
    "qtd = 1\n",
    "RolagemOpcoes(ativo, opcoes, qtd)"
   ]
  },
  {
   "cell_type": "code",
   "execution_count": 40,
   "metadata": {},
   "outputs": [
    {
     "output_type": "stream",
     "name": "stdout",
     "text": [
      "Tick(time=1623249765, bid=35.97, ask=35.98, last=35.98, volume=400, time_msc=1623249765289, flags=0, volume_real=400.0)\nTick(time=1623249765, bid=24.3, ask=24.31, last=24.3, volume=300, time_msc=1623249765168, flags=0, volume_real=300.0)\n"
     ]
    }
   ],
   "source": [
    "lista = ['BBAS3', 'BBSE3']\n",
    "for i in lista:\n",
    "    print(mt5.symbol_info_tick(i))"
   ]
  },
  {
   "cell_type": "code",
   "execution_count": 85,
   "metadata": {},
   "outputs": [
    {
     "output_type": "stream",
     "name": "stdout",
     "text": [
      "BBAS3      35.60      -1.93\nBBSE3      24.28      -0.12\nCMIG4      13.76      -1.15\nCOCE5      57.37      -1.95\nCOGN3       4.50      -1.32\nCSAN3      24.82      -0.48\nDIRR3      14.39      -1.44\nELET3      45.22      -0.02\nGGBR4      32.14       2.55\nIRBR3       6.10       0.16\nITSA4      12.00       0.50\nMTRE3      12.48      -2.12\nOIBR3       1.58       1.28\nRRRP3      39.55      -1.15\nSAPR4       4.10      -0.24\nVALE3     112.20       2.07\nB3SA3      16.40       0.43\n"
     ]
    }
   ],
   "source": [
    "lista = ['BBAS3', 'BBSE3', 'CMIG4', 'COCE5', 'COGN3', 'CSAN3', 'DIRR3', 'ELET3', 'GGBR4', 'IRBR3', 'ITSA4', 'MTRE3', 'OIBR3', 'RRRP3', 'SAPR4', 'VALE3', 'B3SA3']\n",
    "for i in lista:\n",
    "    print(  mt5.symbol_info(i).name,meu_formato_numerico.format(mt5.symbol_info(i).last), \n",
    "            meu_formato_numerico.format(mt5.symbol_info(i).price_change)  )"
   ]
  },
  {
   "cell_type": "code",
   "execution_count": 42,
   "metadata": {},
   "outputs": [],
   "source": [
    "# mt5.shutdown()"
   ]
  },
  {
   "cell_type": "code",
   "execution_count": 76,
   "metadata": {},
   "outputs": [],
   "source": [
    "op = ['ITSAF110', 'ITSAG118'] \n",
    "opinfo = list(())\n",
    "for i in range(2):\n",
    "    opinfo.append(mt5.symbol_info(op[i]))\n"
   ]
  },
  {
   "cell_type": "code",
   "execution_count": 82,
   "metadata": {},
   "outputs": [
    {
     "output_type": "stream",
     "name": "stdout",
     "text": [
      "ITSAF110 ITSAG118\n"
     ]
    }
   ],
   "source": [
    "print(opinfo[0].name, opinfo[1].name)"
   ]
  },
  {
   "cell_type": "code",
   "execution_count": 81,
   "metadata": {},
   "outputs": [
    {
     "output_type": "execute_result",
     "data": {
      "text/plain": [
       "'ITSAG118'"
      ]
     },
     "metadata": {},
     "execution_count": 81
    }
   ],
   "source": []
  },
  {
   "cell_type": "code",
   "execution_count": null,
   "metadata": {},
   "outputs": [],
   "source": []
  }
 ]
}