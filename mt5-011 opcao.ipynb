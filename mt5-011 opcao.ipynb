{
 "metadata": {
  "language_info": {
   "codemirror_mode": {
    "name": "ipython",
    "version": 3
   },
   "file_extension": ".py",
   "mimetype": "text/x-python",
   "name": "python",
   "nbconvert_exporter": "python",
   "pygments_lexer": "ipython3",
   "version": "3.9.5"
  },
  "orig_nbformat": 2,
  "kernelspec": {
   "name": "python3",
   "display_name": "Python 3.9.5 64-bit"
  },
  "metadata": {
   "interpreter": {
    "hash": "63fd5069d213b44bf678585dea6b12cceca9941eaf7f819626cde1f2670de90d"
   }
  },
  "interpreter": {
   "hash": "63fd5069d213b44bf678585dea6b12cceca9941eaf7f819626cde1f2670de90d"
  }
 },
 "nbformat": 4,
 "nbformat_minor": 2,
 "cells": [
  {
   "cell_type": "code",
   "execution_count": 88,
   "metadata": {},
   "outputs": [
    {
     "output_type": "execute_result",
     "data": {
      "text/plain": [
       "True"
      ]
     },
     "metadata": {},
     "execution_count": 88
    }
   ],
   "source": [
    "import MetaTrader5 as mt5\n",
    "import pandas as pd \n",
    "mt5.initialize()"
   ]
  },
  {
   "cell_type": "code",
   "execution_count": 89,
   "metadata": {},
   "outputs": [],
   "source": [
    "formato_numerico = \"{0:10.2f}\"\n",
    "ativo = list(())\n",
    "AtivoSymbolInfo = list(())\n",
    "matriz = list(())\n",
    "global matriz"
   ]
  },
  {
   "cell_type": "code",
   "execution_count": 90,
   "metadata": {},
   "outputs": [],
   "source": [
    "def imprimirInfoAtivo(t, y, n):\n",
    "    print(t, y, formato_numerico.format(n))"
   ]
  },
  {
   "cell_type": "code",
   "execution_count": 91,
   "metadata": {},
   "outputs": [],
   "source": [
    "# ****************************************************\n",
    "def RolarOpcoes(ativo):\n",
    "    n = len(ativo)\n",
    "    AtivoSymbolInfo.clear()\n",
    "    rows,cols = (n,9)\n",
    "    matriz = [[0 for i in range(cols)] for j in range(rows)]\n",
    "    \n",
    "    for i in range(n):\n",
    "        AtivoSymbolInfo.append(mt5.symbol_info(ativo[i]))\n",
    "        xx = AtivoSymbolInfo[i]\n",
    "        matriz[i][0] = xx.name\n",
    "        matriz[i][1] = xx.option_strike\n",
    "        matriz[i][4] = xx.last\n",
    " \n",
    "        # somente para linha 1, que é da opção vendida, que preciso rolar\n",
    "        # pega o ASK... mas se não tiver ninguém oferecendo, pega o LAST\n",
    "        if i == 1:\n",
    "            matriz[1][3] = xx.ask\n",
    "            if matriz[1][3] == 0:\n",
    "                matriz[i][3] = input('Entre o valor do Ask ' + xx.name + ': ')\n",
    "            gasto = matriz[1][3] * -1\n",
    "#            if matriz[1][3] == 0:       gasto = matriz[1][4]\n",
    " \n",
    "        # para as linhas 2,3,... ou seja, para as opções dos meses seguintes que poderei vender\n",
    "        if i>1:\n",
    "            matriz[i][2] = xx.bid\n",
    "            if matriz[i][2] == 0:\n",
    "                matriz[i][2] = input('Entre o valor do Bid ' + xx.name + ': ')\n",
    "            matriz[i][5] = matriz[i][1] - matriz[1][1] # aumento em R$ strike nova - strike vendida\n",
    "            matriz[i][6] = (matriz[i][1]/matriz[1][1] - 1) * 100  # % strike nova - strike vendido\n",
    "            matriz[i][7] = matriz[i][5] + gasto + matriz[i][2] # dif.strike - gasto\n",
    "            matriz[i][8] = matriz[i][7] / matriz[1][1] * 100\n",
    "\n",
    "    '''for l in range(n):\n",
    "        for c in range(9):\n",
    "            print(f'|{matriz[l][c]:^10}|',end='')\n",
    "        print()\n",
    "    '''\n",
    "    df = pd.DataFrame(matriz, columns=['Ativo','Strike','bid','ask','Last','▲ R$','▲ % Strike','Somatório','% sobre '+matriz[1][0]])\n",
    "    print(df)\n",
    "    df.to_excel('ativo.xlsx')"
   ]
  },
  {
   "cell_type": "code",
   "execution_count": 92,
   "metadata": {},
   "outputs": [
    {
     "output_type": "stream",
     "name": "stdout",
     "text": [
      "      Ativo  Strike   bid   ask   Last  ▲ R$  ▲ % Strike  Somatório  \\\n0     CMIG4    0.00  0.00  0.00  13.10  0.00    0.000000       0.00   \n1  CMIGG154   13.35  0.00  0.46   0.43  0.00    0.000000       0.00   \n2  CMIGH139   14.00  0.47  0.00   0.62  0.65    4.868914       0.66   \n\n   % sobre CMIGG154  \n0           0.00000  \n1           0.00000  \n2           4.94382  \n"
     ]
    }
   ],
   "source": [
    "ativo = ['CMIG4', 'CMIGG154', 'CMIGH139'] \n",
    "RolarOpcoes(ativo)"
   ]
  },
  {
   "cell_type": "code",
   "execution_count": 93,
   "metadata": {},
   "outputs": [
    {
     "output_type": "stream",
     "name": "stdout",
     "text": [
      "      Ativo  Strike   bid   ask   Last  ▲ R$  ▲ % Strike  Somatório  \\\n0     ITSA4    0.00  0.00  0.00  11.65  0.00    0.000000        0.0   \n1  ITSAG113   11.26  0.00  0.69   0.63  0.00    0.000000        0.0   \n2  ITSAH115   11.54  0.11  0.00   0.68  0.28    2.486679       -0.3   \n\n   % sobre ITSAG113  \n0          0.000000  \n1          0.000000  \n2         -2.664298  \n"
     ]
    }
   ],
   "source": [
    "ativo = ['ITSA4', 'ITSAG113', 'ITSAH115'] \n",
    "RolarOpcoes(ativo)"
   ]
  },
  {
   "cell_type": "code",
   "execution_count": 94,
   "metadata": {},
   "outputs": [
    {
     "output_type": "error",
     "ename": "TypeError",
     "evalue": "unsupported operand type(s) for +: 'float' and 'str'",
     "traceback": [
      "\u001b[1;31m---------------------------------------------------------------------------\u001b[0m",
      "\u001b[1;31mTypeError\u001b[0m                                 Traceback (most recent call last)",
      "\u001b[1;32m<ipython-input-94-820d0efcd028>\u001b[0m in \u001b[0;36m<module>\u001b[1;34m\u001b[0m\n\u001b[0;32m      1\u001b[0m \u001b[0mativo\u001b[0m \u001b[1;33m=\u001b[0m \u001b[1;33m[\u001b[0m\u001b[1;34m'CSAN3'\u001b[0m\u001b[1;33m,\u001b[0m \u001b[1;34m'CSANG100'\u001b[0m\u001b[1;33m,\u001b[0m \u001b[1;34m'CSANH250'\u001b[0m\u001b[1;33m]\u001b[0m\u001b[1;33m\u001b[0m\u001b[1;33m\u001b[0m\u001b[0m\n\u001b[1;32m----> 2\u001b[1;33m \u001b[0mRolarOpcoes\u001b[0m\u001b[1;33m(\u001b[0m\u001b[0mativo\u001b[0m\u001b[1;33m)\u001b[0m\u001b[1;33m\u001b[0m\u001b[1;33m\u001b[0m\u001b[0m\n\u001b[0m",
      "\u001b[1;32m<ipython-input-91-cd318796073b>\u001b[0m in \u001b[0;36mRolarOpcoes\u001b[1;34m(ativo)\u001b[0m\n\u001b[0;32m     29\u001b[0m             \u001b[0mmatriz\u001b[0m\u001b[1;33m[\u001b[0m\u001b[0mi\u001b[0m\u001b[1;33m]\u001b[0m\u001b[1;33m[\u001b[0m\u001b[1;36m5\u001b[0m\u001b[1;33m]\u001b[0m \u001b[1;33m=\u001b[0m \u001b[0mmatriz\u001b[0m\u001b[1;33m[\u001b[0m\u001b[0mi\u001b[0m\u001b[1;33m]\u001b[0m\u001b[1;33m[\u001b[0m\u001b[1;36m1\u001b[0m\u001b[1;33m]\u001b[0m \u001b[1;33m-\u001b[0m \u001b[0mmatriz\u001b[0m\u001b[1;33m[\u001b[0m\u001b[1;36m1\u001b[0m\u001b[1;33m]\u001b[0m\u001b[1;33m[\u001b[0m\u001b[1;36m1\u001b[0m\u001b[1;33m]\u001b[0m \u001b[1;31m# aumento em R$ strike nova - strike vendida\u001b[0m\u001b[1;33m\u001b[0m\u001b[1;33m\u001b[0m\u001b[0m\n\u001b[0;32m     30\u001b[0m             \u001b[0mmatriz\u001b[0m\u001b[1;33m[\u001b[0m\u001b[0mi\u001b[0m\u001b[1;33m]\u001b[0m\u001b[1;33m[\u001b[0m\u001b[1;36m6\u001b[0m\u001b[1;33m]\u001b[0m \u001b[1;33m=\u001b[0m \u001b[1;33m(\u001b[0m\u001b[0mmatriz\u001b[0m\u001b[1;33m[\u001b[0m\u001b[0mi\u001b[0m\u001b[1;33m]\u001b[0m\u001b[1;33m[\u001b[0m\u001b[1;36m1\u001b[0m\u001b[1;33m]\u001b[0m\u001b[1;33m/\u001b[0m\u001b[0mmatriz\u001b[0m\u001b[1;33m[\u001b[0m\u001b[1;36m1\u001b[0m\u001b[1;33m]\u001b[0m\u001b[1;33m[\u001b[0m\u001b[1;36m1\u001b[0m\u001b[1;33m]\u001b[0m \u001b[1;33m-\u001b[0m \u001b[1;36m1\u001b[0m\u001b[1;33m)\u001b[0m \u001b[1;33m*\u001b[0m \u001b[1;36m100\u001b[0m  \u001b[1;31m# % strike nova - strike vendido\u001b[0m\u001b[1;33m\u001b[0m\u001b[1;33m\u001b[0m\u001b[0m\n\u001b[1;32m---> 31\u001b[1;33m             \u001b[0mmatriz\u001b[0m\u001b[1;33m[\u001b[0m\u001b[0mi\u001b[0m\u001b[1;33m]\u001b[0m\u001b[1;33m[\u001b[0m\u001b[1;36m7\u001b[0m\u001b[1;33m]\u001b[0m \u001b[1;33m=\u001b[0m \u001b[0mmatriz\u001b[0m\u001b[1;33m[\u001b[0m\u001b[0mi\u001b[0m\u001b[1;33m]\u001b[0m\u001b[1;33m[\u001b[0m\u001b[1;36m5\u001b[0m\u001b[1;33m]\u001b[0m \u001b[1;33m+\u001b[0m \u001b[0mgasto\u001b[0m \u001b[1;33m+\u001b[0m \u001b[0mmatriz\u001b[0m\u001b[1;33m[\u001b[0m\u001b[0mi\u001b[0m\u001b[1;33m]\u001b[0m\u001b[1;33m[\u001b[0m\u001b[1;36m2\u001b[0m\u001b[1;33m]\u001b[0m \u001b[1;31m# dif.strike - gasto\u001b[0m\u001b[1;33m\u001b[0m\u001b[1;33m\u001b[0m\u001b[0m\n\u001b[0m\u001b[0;32m     32\u001b[0m             \u001b[0mmatriz\u001b[0m\u001b[1;33m[\u001b[0m\u001b[0mi\u001b[0m\u001b[1;33m]\u001b[0m\u001b[1;33m[\u001b[0m\u001b[1;36m8\u001b[0m\u001b[1;33m]\u001b[0m \u001b[1;33m=\u001b[0m \u001b[0mmatriz\u001b[0m\u001b[1;33m[\u001b[0m\u001b[0mi\u001b[0m\u001b[1;33m]\u001b[0m\u001b[1;33m[\u001b[0m\u001b[1;36m7\u001b[0m\u001b[1;33m]\u001b[0m \u001b[1;33m/\u001b[0m \u001b[0mmatriz\u001b[0m\u001b[1;33m[\u001b[0m\u001b[1;36m1\u001b[0m\u001b[1;33m]\u001b[0m\u001b[1;33m[\u001b[0m\u001b[1;36m1\u001b[0m\u001b[1;33m]\u001b[0m \u001b[1;33m*\u001b[0m \u001b[1;36m100\u001b[0m\u001b[1;33m\u001b[0m\u001b[1;33m\u001b[0m\u001b[0m\n\u001b[0;32m     33\u001b[0m \u001b[1;33m\u001b[0m\u001b[0m\n",
      "\u001b[1;31mTypeError\u001b[0m: unsupported operand type(s) for +: 'float' and 'str'"
     ]
    }
   ],
   "source": [
    "ativo = ['CSAN3', 'CSANG100', 'CSANH250'] \n",
    "RolarOpcoes(ativo)"
   ]
  },
  {
   "cell_type": "code",
   "execution_count": 87,
   "metadata": {},
   "outputs": [
    {
     "output_type": "stream",
     "name": "stdout",
     "text": [
      "         0       1       2  3  4  5  6  7  8\n0    BBAS3   34.57 -0.9456  0  0  0  0  0  0\n1    BBSE3   25.23  0.3580  0  0  0  0  0  0\n2    CMIG4   13.08 -1.5801  0  0  0  0  0  0\n3    COCE5   59.15  1.9828  0  0  0  0  0  0\n4    COGN3    4.57 -1.9313  0  0  0  0  0  0\n5    CSAN3   24.69 -1.1213  0  0  0  0  0  0\n6    DIRR3   14.68  2.5140  0  0  0  0  0  0\n7    ELET3   46.07  5.6409  0  0  0  0  0  0\n8    GGBR4   29.43  1.4828  0  0  0  0  0  0\n9    IRBR3    6.10 -1.1345  0  0  0  0  0  0\n10   ITSA4   11.64 -1.5228  0  0  0  0  0  0\n11   MTRE3   12.09  0.6661  0  0  0  0  0  0\n12   OIBR3    1.56  0.6452  0  0  0  0  0  0\n13   RRRP3   45.57  3.0995  0  0  0  0  0  0\n14  SAPR11   20.91  0.6740  0  0  0  0  0  0\n15   SAPR4    4.24  0.9524  0  0  0  0  0  0\n16   VALE3  108.60  2.5496  0  0  0  0  0  0\n17   B3SA3   17.33  0.9319  0  0  0  0  0  0\n"
     ]
    }
   ],
   "source": [
    "lista = ['BBAS3', 'BBSE3', 'CMIG4', 'COCE5', 'COGN3', 'CSAN3', 'DIRR3', 'ELET3', 'GGBR4', 'IRBR3', 'ITSA4', 'MTRE3', 'OIBR3','RRRP3', 'SAPR11', 'SAPR4', 'VALE3', 'B3SA3']\n",
    "n = len(lista)\n",
    "rows,cols = (n,9)\n",
    "MatrizAtivos = [[0 for i in range(cols)] for j in range(rows)]\n",
    "cols = 0\n",
    "for i in range(n):\n",
    "    info = mt5.symbol_info(lista[i])\n",
    "    MatrizAtivos[i][cols]  = info.name \n",
    "    cols += 1\n",
    "    MatrizAtivos[i][cols]  = info.last\n",
    "    cols += 1\n",
    "    MatrizAtivos[i][cols]  = info.price_change\n",
    "    cols = 0\n",
    "df = pd.DataFrame(MatrizAtivos)\n",
    "print(df)\n",
    "df.to_excel('ativo.xlsx', sheet_name='acoes')"
   ]
  },
  {
   "cell_type": "code",
   "execution_count": 74,
   "metadata": {},
   "outputs": [],
   "source": [
    "# trava de alta com put\n",
    "# ****************************************************\n",
    "def travaAltaComPut(ativo):\n",
    "    #ativo = list(())\n",
    "    AtivoSymbolInfo = list(())\n",
    "    #matriz = list(())\n",
    "    n = len(ativo)\n",
    "    AtivoSymbolInfo.clear()\n",
    "    rows,cols = (n+5,9)\n",
    "    matriz = [[0 for i in range(cols)] for j in range(rows)]\n",
    "    for i in range(n):\n",
    "        AtivoSymbolInfo.append(mt5.symbol_info(ativo[i]))\n",
    "        xx = AtivoSymbolInfo[i]\n",
    "        matriz[i][0] = xx.name\n",
    "        matriz[i][1] = xx.option_strike\n",
    "\n",
    "        if i == 1:\n",
    "            matriz[i][3] = xx.ask\n",
    "            if matriz[i][3] == 0:\n",
    "                matriz[i][3] = input('Entre o valor do Ask ' + xx.name + ': ')\n",
    "        if i > 1:\n",
    "            matriz[i][2] = xx.bid\n",
    "            if matriz[i][2] == 0:\n",
    "                matriz[i][2] = input('Entre o valor do Bid ' + xx.name + ': ')\n",
    "\n",
    "        matriz[i][4] = xx.last\n",
    "\n",
    "    matriz[3][0] = 'Dif.Strike'\n",
    "    matriz[3][1] = matriz[2][1] - matriz[1][1]\n",
    "    matriz[4][0] = 'Val.Recebido/Lucro'\n",
    "    matriz[4][1] = matriz[2][2] - matriz[1][3]\n",
    "    matriz[5][0] = 'Prej. Max'\n",
    "    matriz[5][1] = (matriz[2][1] - matriz[1][1]) - (matriz[2][2] - matriz[1][3])\n",
    "    \n",
    "    df = pd.DataFrame(matriz, columns = ['Ativo','Strike','bid','ask','Last','','','',''])\n",
    "    \n",
    "    print(df)\n",
    "    df.to_excel('TravaAltaPut.xlsx')"
   ]
  },
  {
   "cell_type": "code",
   "execution_count": 47,
   "metadata": {},
   "outputs": [],
   "source": [
    "#lista = ['PETR4','PETRS266','PETRS290']\n",
    "#travaAltaComPut(lista)"
   ]
  },
  {
   "cell_type": "code",
   "execution_count": 48,
   "metadata": {},
   "outputs": [],
   "source": [
    "#lista = ['B3SA3','B3SAS805','B3SAS17']\n",
    "#travaAltaComPut(lista)"
   ]
  },
  {
   "cell_type": "code",
   "execution_count": null,
   "metadata": {},
   "outputs": [],
   "source": []
  }
 ]
}