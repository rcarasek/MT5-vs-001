{
 "metadata": {
  "language_info": {
   "codemirror_mode": {
    "name": "ipython",
    "version": 3
   },
   "file_extension": ".py",
   "mimetype": "text/x-python",
   "name": "python",
   "nbconvert_exporter": "python",
   "pygments_lexer": "ipython3",
   "version": "3.9.5"
  },
  "orig_nbformat": 2,
  "kernelspec": {
   "name": "python3",
   "display_name": "Python 3.9.5 64-bit"
  },
  "metadata": {
   "interpreter": {
    "hash": "63fd5069d213b44bf678585dea6b12cceca9941eaf7f819626cde1f2670de90d"
   }
  },
  "interpreter": {
   "hash": "63fd5069d213b44bf678585dea6b12cceca9941eaf7f819626cde1f2670de90d"
  }
 },
 "nbformat": 4,
 "nbformat_minor": 2,
 "cells": [
  {
   "cell_type": "code",
   "execution_count": 332,
   "metadata": {},
   "outputs": [
    {
     "output_type": "execute_result",
     "data": {
      "text/plain": [
       "True"
      ]
     },
     "metadata": {},
     "execution_count": 332
    }
   ],
   "source": [
    "import MetaTrader5 as mt5\n",
    "mt5.initialize()"
   ]
  },
  {
   "cell_type": "code",
   "execution_count": 333,
   "metadata": {},
   "outputs": [],
   "source": [
    "formato_numerico = \"{0:10.2f}\"\n",
    "ativo = list(())\n",
    "AtivoSymbolInfo = list(())\n",
    "matriz = list(())\n",
    "global matriz"
   ]
  },
  {
   "cell_type": "code",
   "execution_count": 334,
   "metadata": {},
   "outputs": [],
   "source": [
    "def imprimirInfoAtivo(t, y, n):\n",
    "    print(t, y, formato_numerico.format(n))"
   ]
  },
  {
   "cell_type": "code",
   "execution_count": 335,
   "metadata": {},
   "outputs": [],
   "source": [
    "# ****************************************************\n",
    "def RolarOpcoes(ativo):\n",
    "    n = len(ativo)\n",
    "    AtivoSymbolInfo.clear()\n",
    "    rows,cols = (n,9)\n",
    "    # matriz = [[0]*c]*l  não funciona\n",
    "    matriz = [['.' for i in range(cols)] for j in range(rows)]\n",
    "\n",
    "    for i in range(n):\n",
    "        AtivoSymbolInfo.append(mt5.symbol_info(ativo[i]))\n",
    "        xx = AtivoSymbolInfo[i]\n",
    "        matriz[i][0] = xx.name\n",
    "        matriz[i][1] = xx.option_strike\n",
    "        matriz[i][2] = xx.bid\n",
    "        matriz[i][3] = xx.ask\n",
    "        matriz[i][4] = xx.last\n",
    "        if i == 1:\n",
    "            if matriz[1][2] > matriz[1][4]:\n",
    "                gasto = matriz[1][2] * -1\n",
    "            else:\n",
    "                gasto = matriz[1][4] * -1\n",
    "            matriz[1][5] = gasto\n",
    "        if i>1:\n",
    "            matriz[i][5] = formato_numerico.format((xx.option_strike/matriz[0][2] - 1) * 100)\n",
    "            matriz[i][6] = formato_numerico.format(matriz[i][1] - matriz[1][1])\n",
    "            matriz[i][7] = formato_numerico.format(gasto + matriz[i][4] + float(matriz[i][6]))\n",
    "            matriz[i][8] = formato_numerico.format(float(matriz[i][7]) / matriz[1][1] * 100)\n",
    "\n",
    "    for l in range(n):\n",
    "        for c in range(9):\n",
    "            print(f'|{matriz[l][c]:^10}|',end='')\n",
    "        print()"
   ]
  },
  {
   "cell_type": "code",
   "execution_count": 336,
   "metadata": {},
   "outputs": [
    {
     "output_type": "stream",
     "name": "stdout",
     "text": [
      "|  CMIG4   ||   0.0    ||  13.44   ||  13.47   ||   13.5   ||    .     ||    .     ||    .     ||    .     |\n| CMIGF134 ||  11.56   ||   0.0    ||   0.0    ||   2.17   ||  -2.17   ||    .     ||    .     ||    .     |\n| CMIGG154 ||  13.35   ||   0.0    ||   0.0    ||   0.64   ||     -0.67||      1.79||      0.26||      2.25|\n| CMIGG159 ||   13.8   ||   0.0    ||   0.0    ||   0.42   ||      2.68||      2.24||      0.49||      4.24|\n"
     ]
    }
   ],
   "source": [
    "ativo = ['CMIG4', 'CMIGF134', 'CMIGG154', 'CMIGG159'] \n",
    "RolarOpcoes(ativo)"
   ]
  },
  {
   "cell_type": "code",
   "execution_count": 337,
   "metadata": {},
   "outputs": [
    {
     "output_type": "stream",
     "name": "stdout",
     "text": [
      "|  VALE3   ||   0.0    ||  114.34  ||  114.35  ||  114.37  ||    .     ||    .     ||    .     ||    .     |\n| VALEF121 ||  117.1   ||   0.0    ||   0.0    ||   0.0    ||   -0.0   ||    .     ||    .     ||    .     |\n| VALEG112 ||  117.1   ||   0.0    ||   0.0    ||   0.0    ||      2.41||      0.00||      0.00||      0.00|\n"
     ]
    }
   ],
   "source": [
    "ativo = ['VALE3', 'VALEF121', 'VALEG112'] \n",
    "RolarOpcoes(ativo)"
   ]
  },
  {
   "cell_type": "code",
   "execution_count": 338,
   "metadata": {},
   "outputs": [
    {
     "output_type": "stream",
     "name": "stdout",
     "text": [
      "B3SA3      16.10       0.62\nBBAS3      35.36      -0.39\nBBSE3      24.64      -0.24\nCMIG4      13.50      -1.60\nCOCE5      57.30      -0.71\nCOGN3       4.32      -3.14\nCSAN3      25.68       0.67\nDIRR3      14.29      -1.45\nELET3      45.25      -0.15\nGGBR4      33.00       2.68\nIRBR3       6.09      -0.16\nITSA4      11.76      -1.34\nMTRE3      12.22      -2.55\nOIBR3       1.60      -0.62\nRRRP3      39.46      -1.10\nSAPR4       4.13       0.00\nVALE3     114.37       2.27\n"
     ]
    }
   ],
   "source": [
    "lista = ['B3SA3','BBAS3', 'BBSE3', 'CMIG4', 'COCE5', 'COGN3', 'CSAN3', 'DIRR3', 'ELET3', 'GGBR4', 'IRBR3', 'ITSA4', 'MTRE3', 'OIBR3','RRRP3', 'SAPR4', 'VALE3']\n",
    "for i in lista:\n",
    "    print(mt5.symbol_info(i).name,formato_numerico.format(mt5.symbol_info(i).last), \n",
    "          formato_numerico.format(mt5.symbol_info(i).price_change)  )"
   ]
  },
  {
   "cell_type": "code",
   "execution_count": 339,
   "metadata": {},
   "outputs": [],
   "source": [
    "# mt5.shutdown()"
   ]
  },
  {
   "cell_type": "code",
   "execution_count": 340,
   "metadata": {},
   "outputs": [
    {
     "output_type": "stream",
     "name": "stdout",
     "text": [
      "CMIG4       0.00      13.47      13.44\nCMIGF134      11.56       0.00       0.00\nCMIGG154      13.35       0.00       0.00\nCMIGG159      13.80       0.00       0.00\n"
     ]
    }
   ],
   "source": [
    "lista = ['CMIG4','CMIGF134','CMIGG154','CMIGG159']\n",
    "\n",
    "for i in lista:\n",
    "    xxx = mt5.symbol_info(i)\n",
    "    print(xxx.name,\n",
    "    formato_numerico.format(xxx.option_strike),\n",
    "    formato_numerico.format(xxx.ask),\n",
    "    formato_numerico.format(xxx.bid)  )"
   ]
  },
  {
   "cell_type": "code",
   "execution_count": 341,
   "metadata": {},
   "outputs": [
    {
     "output_type": "execute_result",
     "data": {
      "text/plain": [
       "SymbolInfo(custom=False, chart_mode=1, select=True, visible=True, session_deals=7, session_buy_orders=0, session_sell_orders=0, volume=3000, volumehigh=115532559262, volumelow=1, time=1623445259, digits=2, spread=0, spread_float=True, ticks_bookdepth=32, trade_calc_mode=35, trade_mode=4, start_time=0, expiration_time=1624049999, trade_stops_level=0, trade_freeze_level=0, trade_exemode=3, swap_mode=0, swap_rollover3days=3, margin_hedged_use_leg=False, expiration_mode=11, filling_mode=3, order_mode=127, order_gtc_mode=0, option_mode=1, option_right=0, bid=0.0, bidhigh=1.8, bidlow=1.2, ask=0.0, askhigh=2.45, asklow=2.19, last=2.17, lasthigh=2.45, lastlow=2.1, volume_real=3000.0, volumehigh_real=115532559262.90448, volumelow_real=1.0, option_strike=11.56, point=0.01, trade_tick_value=0.01, trade_tick_value_profit=0.01, trade_tick_value_loss=0.01, trade_tick_size=0.01, trade_contract_size=1.0, trade_accrued_interest=0.0, trade_face_value=0.0, trade_liquidity_rate=0.0, volume_min=1.0, volume_max=11273254.0, volume_step=1.0, volume_limit=0.0, swap_long=0.0, swap_short=0.0, margin_initial=0.0, margin_maintenance=0.0, session_volume=6507.0, session_turnover=0.0, session_interest=0.0, session_buy_orders_volume=0.0, session_sell_orders_volume=0.0, session_open=0.0, session_close=0.0, session_aw=2.2, session_price_settlement=0.0, session_price_limit_min=0.0, session_price_limit_max=0.0, margin_hedged=0.0, price_change=0.0, price_volatility=0.0, price_theoretical=0.0, price_greeks_delta=0.0, price_greeks_theta=0.0, price_greeks_gamma=0.0, price_greeks_vega=0.0, price_greeks_rho=0.0, price_greeks_omega=0.0, price_sensitivity=0.0, basis='CMIG4', category='', currency_base='BRL', currency_profit='BRL', currency_margin='BRL', bank='', description='CMIG        PN   11,56', exchange='', formula='', isin='BRCMIG4F0CD4', name='CMIGF134', page='', path='BOVESPA\\\\OPCOES\\\\CMIGF134')"
      ]
     },
     "metadata": {},
     "execution_count": 341
    }
   ],
   "source": [
    "mt5.symbol_info('CMIGF134')"
   ]
  },
  {
   "cell_type": "code",
   "execution_count": 342,
   "metadata": {},
   "outputs": [
    {
     "output_type": "execute_result",
     "data": {
      "text/plain": [
       "0.0"
      ]
     },
     "metadata": {},
     "execution_count": 342
    }
   ],
   "source": [
    "mt5.symbol_info('VALEG112').last"
   ]
  },
  {
   "cell_type": "code",
   "execution_count": null,
   "metadata": {},
   "outputs": [],
   "source": []
  }
 ]
}