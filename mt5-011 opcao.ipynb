{
 "metadata": {
  "language_info": {
   "codemirror_mode": {
    "name": "ipython",
    "version": 3
   },
   "file_extension": ".py",
   "mimetype": "text/x-python",
   "name": "python",
   "nbconvert_exporter": "python",
   "pygments_lexer": "ipython3",
   "version": "3.9.5"
  },
  "orig_nbformat": 2,
  "kernelspec": {
   "name": "python395jvsc74a57bd063fd5069d213b44bf678585dea6b12cceca9941eaf7f819626cde1f2670de90d",
   "display_name": "Python 3.9.5 64-bit"
  },
  "metadata": {
   "interpreter": {
    "hash": "63fd5069d213b44bf678585dea6b12cceca9941eaf7f819626cde1f2670de90d"
   }
  }
 },
 "nbformat": 4,
 "nbformat_minor": 2,
 "cells": [
  {
   "cell_type": "code",
   "execution_count": 358,
   "metadata": {},
   "outputs": [
    {
     "output_type": "execute_result",
     "data": {
      "text/plain": [
       "True"
      ]
     },
     "metadata": {},
     "execution_count": 358
    }
   ],
   "source": [
    "import MetaTrader5 as mt5\n",
    "mt5.initialize()"
   ]
  },
  {
   "cell_type": "code",
   "execution_count": 359,
   "metadata": {},
   "outputs": [],
   "source": [
    "formato_numerico = \"{0:10.2f}\"\n",
    "ativo = list(())\n",
    "AtivoSymbolInfo = list(())\n",
    "matriz = list(())\n",
    "global matriz\n",
    "\n"
   ]
  },
  {
   "cell_type": "code",
   "execution_count": 360,
   "metadata": {},
   "outputs": [],
   "source": [
    "def imprimirInfoAtivo(t, y, n):\n",
    "    print(t, y, formato_numerico.format(n))"
   ]
  },
  {
   "cell_type": "code",
   "execution_count": 394,
   "metadata": {},
   "outputs": [],
   "source": [
    "# ****************************************************\n",
    "def RolarOpcoes(ativo):\n",
    "    n = len(ativo)\n",
    "    AtivoSymbolInfo.clear()\n",
    "\n",
    "    l,c = (n,8)\n",
    "    matriz = [[0]*c]*l\n",
    "\n",
    "    for i in range(n):\n",
    "        AtivoSymbolInfo.append(mt5.symbol_info(ativo[i]))\n",
    "    for i in range(n):\n",
    "        matriz[i][1] = AtivoSymbolInfo[i].bid\n",
    "        print(i, matriz[i])\n",
    "    print(matriz)\n",
    "\n",
    "\n",
    "    '''\n",
    "    for l in range(n):\n",
    "        matriz[l][0] = AtivoSymbolInfo[l].name\n",
    "        matriz[l][1] = AtivoSymbolInfo[l].bid\n",
    "        matriz[l][2] = AtivoSymbolInfo[l].ask\n",
    "        matriz[l][3] = AtivoSymbolInfo[l].last\n",
    "\n",
    "    for l in range(n):\n",
    "        for c in range(8):\n",
    "            print(f'[{matriz[l][c]:^8}]',end='')\n",
    "        print()\n",
    "    '''\n",
    "# **************************************************** \n"
   ]
  },
  {
   "cell_type": "code",
   "execution_count": 395,
   "metadata": {},
   "outputs": [
    {
     "output_type": "stream",
     "name": "stdout",
     "text": [
      "0 [0, 11.9, 0, 0, 0, 0, 0, 0]\n1 [0, 0.9, 0, 0, 0, 0, 0, 0]\n2 [0, 0.0, 0, 0, 0, 0, 0, 0]\n[[0, 0.0, 0, 0, 0, 0, 0, 0], [0, 0.0, 0, 0, 0, 0, 0, 0], [0, 0.0, 0, 0, 0, 0, 0, 0]]\n"
     ]
    }
   ],
   "source": [
    "ativo = ['ITSA4', 'ITSAF110', 'ITSAG118'] \n",
    "RolarOpcoes(ativo)"
   ]
  },
  {
   "cell_type": "code",
   "execution_count": 265,
   "metadata": {},
   "outputs": [
    {
     "output_type": "stream",
     "name": "stdout",
     "text": [
      "[CMIGG154][  0.0   ][  1.05  ][  0.8   ][   x    ][   x    ][   x    ][   x    ]\n[CMIGG154][  0.0   ][  1.05  ][  0.8   ][   x    ][   x    ][   x    ][   x    ]\n[CMIGG154][  0.0   ][  1.05  ][  0.8   ][   x    ][   x    ][   x    ][   x    ]\n"
     ]
    }
   ],
   "source": [
    "\n",
    "ativo = ['CMIG4', 'CMIGF134', 'CMIGG154'] \n",
    "RolarOpcoes(ativo)"
   ]
  },
  {
   "cell_type": "code",
   "execution_count": 266,
   "metadata": {},
   "outputs": [
    {
     "output_type": "stream",
     "name": "stdout",
     "text": [
      "[CMIGG159][  0.55  ][  0.64  ][  0.56  ][   x    ][   x    ][   x    ][   x    ]\n[CMIGG159][  0.55  ][  0.64  ][  0.56  ][   x    ][   x    ][   x    ][   x    ]\n[CMIGG159][  0.55  ][  0.64  ][  0.56  ][   x    ][   x    ][   x    ][   x    ]\n[CMIGG159][  0.55  ][  0.64  ][  0.56  ][   x    ][   x    ][   x    ][   x    ]\n[CMIGG159][  0.55  ][  0.64  ][  0.56  ][   x    ][   x    ][   x    ][   x    ]\n"
     ]
    }
   ],
   "source": [
    "ativo = ['CMIG4', 'CMIGF134', 'CMIGF139', 'CMIGG154', 'CMIGG159'] \n",
    "RolarOpcoes(ativo)"
   ]
  },
  {
   "cell_type": "code",
   "execution_count": 260,
   "metadata": {},
   "outputs": [
    {
     "output_type": "stream",
     "name": "stdout",
     "text": [
      "[   x    ][   x    ][   x    ][   x    ][   x    ][   x    ][   x    ][   x    ]\n[   x    ][   x    ][   x    ][   x    ][   x    ][   x    ][   x    ][   x    ]\n[   x    ][   x    ][   x    ][   x    ][   x    ][   x    ][   x    ][   x    ]\n"
     ]
    }
   ],
   "source": [
    "ativo = ['VALE3', 'VALEF121', 'VALEG112'] \n",
    "RolarOpcoes(ativo)"
   ]
  },
  {
   "cell_type": "code",
   "execution_count": 261,
   "metadata": {},
   "outputs": [
    {
     "output_type": "stream",
     "name": "stdout",
     "text": [
      "B3SA3      16.00      -2.44\nBBAS3      35.57      -0.08\nBBSE3      24.65       1.52\nCMIG4      13.77       0.07\nCOCE5      57.71       0.59\nCOGN3       4.46      -0.89\nCSAN3      25.45       2.54\nDIRR3      14.50       0.76\nELET3      45.35       0.29\nGGBR4      32.24       0.53\nIRBR3       6.08      -0.33\nITSA4      11.92      -0.50\nMTRE3      12.49       0.08\nOIBR3       1.61       0.62\nRRRP3      39.65       0.25\nSAPR4       4.14       0.98\nVALE3     112.79       0.53\n"
     ]
    }
   ],
   "source": [
    "lista = ['B3SA3', 'BBAS3', 'BBSE3', 'CMIG4', 'COCE5', 'COGN3', 'CSAN3', 'DIRR3', 'ELET3', 'GGBR4', 'IRBR3', 'ITSA4', 'MTRE3', 'OIBR3', 'RRRP3', 'SAPR4', 'VALE3']\n",
    "for i in lista:\n",
    "    print(mt5.symbol_info(i).name,formato_numerico.format(mt5.symbol_info(i).last), \n",
    "          formato_numerico.format(mt5.symbol_info(i).price_change)  )"
   ]
  },
  {
   "cell_type": "code",
   "execution_count": 60,
   "metadata": {},
   "outputs": [],
   "source": [
    "# mt5.shutdown()"
   ]
  },
  {
   "cell_type": "code",
   "execution_count": 243,
   "metadata": {},
   "outputs": [
    {
     "output_type": "stream",
     "name": "stdout",
     "text": [
      "CMIG4       0.00      13.72      13.71\nCMIGF134      11.56       0.00       0.00\nCMIGG154      13.35       0.83       0.81\nCMIGG159      13.80       0.58       0.55\n"
     ]
    }
   ],
   "source": [
    "lista = ['CMIG4','CMIGF134','CMIGG154','CMIGG159']\n",
    "for i in lista:\n",
    "    print(mt5.symbol_info(i).name,\n",
    "    formato_numerico.format(mt5.symbol_info(i).option_strike),\n",
    "    formato_numerico.format(mt5.symbol_info(i).ask),\n",
    "    formato_numerico.format(mt5.symbol_info(i).bid)  )"
   ]
  },
  {
   "cell_type": "code",
   "execution_count": 179,
   "metadata": {},
   "outputs": [
    {
     "output_type": "execute_result",
     "data": {
      "text/plain": [
       "5"
      ]
     },
     "metadata": {},
     "execution_count": 179
    }
   ],
   "source": [
    "mt5.symbol_info('CMIGF139').volume"
   ]
  },
  {
   "cell_type": "code",
   "execution_count": null,
   "metadata": {},
   "outputs": [],
   "source": []
  }
 ]
}