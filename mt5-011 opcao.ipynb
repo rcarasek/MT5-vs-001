{
 "metadata": {
  "language_info": {
   "codemirror_mode": {
    "name": "ipython",
    "version": 3
   },
   "file_extension": ".py",
   "mimetype": "text/x-python",
   "name": "python",
   "nbconvert_exporter": "python",
   "pygments_lexer": "ipython3",
   "version": "3.9.5"
  },
  "orig_nbformat": 2,
  "kernelspec": {
   "name": "python3",
   "display_name": "Python 3.9.5 64-bit"
  },
  "metadata": {
   "interpreter": {
    "hash": "63fd5069d213b44bf678585dea6b12cceca9941eaf7f819626cde1f2670de90d"
   }
  },
  "interpreter": {
   "hash": "63fd5069d213b44bf678585dea6b12cceca9941eaf7f819626cde1f2670de90d"
  }
 },
 "nbformat": 4,
 "nbformat_minor": 2,
 "cells": [
  {
   "cell_type": "code",
   "execution_count": 1,
   "metadata": {},
   "outputs": [
    {
     "output_type": "execute_result",
     "data": {
      "text/plain": [
       "True"
      ]
     },
     "metadata": {},
     "execution_count": 1
    }
   ],
   "source": [
    "import MetaTrader5 as mt5\n",
    "mt5.initialize()"
   ]
  },
  {
   "cell_type": "code",
   "execution_count": 2,
   "metadata": {},
   "outputs": [],
   "source": [
    "formato_numerico = \"{0:10.2f}\"\n",
    "ativo = list(())\n",
    "AtivoSymbolInfo = list(())\n",
    "matriz = list(())\n",
    "global matriz\n",
    "\n"
   ]
  },
  {
   "cell_type": "code",
   "execution_count": 3,
   "metadata": {},
   "outputs": [],
   "source": [
    "def imprimirInfoAtivo(t, y, n):\n",
    "    print(t, y, formato_numerico.format(n))"
   ]
  },
  {
   "cell_type": "code",
   "execution_count": 4,
   "metadata": {},
   "outputs": [],
   "source": [
    "# ****************************************************\n",
    "def RolarOpcoes(ativo):\n",
    "    n = len(ativo)\n",
    "    AtivoSymbolInfo.clear()\n",
    "\n",
    "    l,c = (n,8)\n",
    "    matriz = [[0]*c]*l\n",
    "\n",
    "    for i in range(n):\n",
    "        AtivoSymbolInfo.append(mt5.symbol_info(ativo[i]))\n",
    "    for i in range(n):\n",
    "        matriz[i][1] = AtivoSymbolInfo[i].bid\n",
    "        print(i, matriz[i])\n",
    "    print(matriz)\n",
    "\n",
    "\n",
    "    '''\n",
    "    for l in range(n):\n",
    "        matriz[l][0] = AtivoSymbolInfo[l].name\n",
    "        matriz[l][1] = AtivoSymbolInfo[l].bid\n",
    "        matriz[l][2] = AtivoSymbolInfo[l].ask\n",
    "        matriz[l][3] = AtivoSymbolInfo[l].last\n",
    "\n",
    "    for l in range(n):\n",
    "        for c in range(8):\n",
    "            print(f'[{matriz[l][c]:^8}]',end='')\n",
    "        print()\n",
    "    '''\n",
    "# **************************************************** \n"
   ]
  },
  {
   "cell_type": "code",
   "execution_count": 5,
   "metadata": {},
   "outputs": [
    {
     "output_type": "stream",
     "name": "stdout",
     "text": [
      "0 [0, 11.82, 0, 0, 0, 0, 0, 0]\n1 [0, 0.81, 0, 0, 0, 0, 0, 0]\n2 [0, 0.0, 0, 0, 0, 0, 0, 0]\n[[0, 0.0, 0, 0, 0, 0, 0, 0], [0, 0.0, 0, 0, 0, 0, 0, 0], [0, 0.0, 0, 0, 0, 0, 0, 0]]\n"
     ]
    }
   ],
   "source": [
    "ativo = ['ITSA4', 'ITSAF110', 'ITSAG118'] \n",
    "RolarOpcoes(ativo)"
   ]
  },
  {
   "cell_type": "code",
   "execution_count": 6,
   "metadata": {},
   "outputs": [
    {
     "output_type": "stream",
     "name": "stdout",
     "text": [
      "0 [0, 13.7, 0, 0, 0, 0, 0, 0]\n1 [0, 0.0, 0, 0, 0, 0, 0, 0]\n2 [0, 0.79, 0, 0, 0, 0, 0, 0]\n[[0, 0.79, 0, 0, 0, 0, 0, 0], [0, 0.79, 0, 0, 0, 0, 0, 0], [0, 0.79, 0, 0, 0, 0, 0, 0]]\n"
     ]
    }
   ],
   "source": [
    "\n",
    "ativo = ['CMIG4', 'CMIGF134', 'CMIGG154'] \n",
    "RolarOpcoes(ativo)"
   ]
  },
  {
   "cell_type": "code",
   "execution_count": 7,
   "metadata": {},
   "outputs": [
    {
     "output_type": "stream",
     "name": "stdout",
     "text": [
      "0 [0, 13.7, 0, 0, 0, 0, 0, 0]\n1 [0, 0.0, 0, 0, 0, 0, 0, 0]\n2 [0, 1.31, 0, 0, 0, 0, 0, 0]\n3 [0, 0.79, 0, 0, 0, 0, 0, 0]\n4 [0, 0.54, 0, 0, 0, 0, 0, 0]\n[[0, 0.54, 0, 0, 0, 0, 0, 0], [0, 0.54, 0, 0, 0, 0, 0, 0], [0, 0.54, 0, 0, 0, 0, 0, 0], [0, 0.54, 0, 0, 0, 0, 0, 0], [0, 0.54, 0, 0, 0, 0, 0, 0]]\n"
     ]
    }
   ],
   "source": [
    "ativo = ['CMIG4', 'CMIGF134', 'CMIGF139', 'CMIGG154', 'CMIGG159'] \n",
    "RolarOpcoes(ativo)"
   ]
  },
  {
   "cell_type": "code",
   "execution_count": 8,
   "metadata": {},
   "outputs": [
    {
     "output_type": "stream",
     "name": "stdout",
     "text": [
      "0 [0, 113.51, 0, 0, 0, 0, 0, 0]\n1 [0, 0.0, 0, 0, 0, 0, 0, 0]\n2 [0, 0.0, 0, 0, 0, 0, 0, 0]\n[[0, 0.0, 0, 0, 0, 0, 0, 0], [0, 0.0, 0, 0, 0, 0, 0, 0], [0, 0.0, 0, 0, 0, 0, 0, 0]]\n"
     ]
    }
   ],
   "source": [
    "ativo = ['VALE3', 'VALEF121', 'VALEG112'] \n",
    "RolarOpcoes(ativo)"
   ]
  },
  {
   "cell_type": "code",
   "execution_count": 9,
   "metadata": {},
   "outputs": [
    {
     "output_type": "stream",
     "name": "stdout",
     "text": [
      "B3SA3      16.04       0.25\nBBAS3      35.35      -0.42\nBBSE3      24.54      -0.65\nCMIG4      13.71      -0.07\nCOCE5      57.71       0.00\nCOGN3       4.45      -0.22\nCSAN3      25.49      -0.08\nDIRR3      14.37      -0.90\nELET3      44.67      -1.43\nGGBR4      32.60       1.43\nIRBR3       6.09      -0.16\nITSA4      11.82      -0.84\nMTRE3      12.30      -1.91\nOIBR3       1.61       0.00\nRRRP3      39.54      -0.90\nSAPR4       4.15       0.48\nVALE3     113.53       1.52\n"
     ]
    }
   ],
   "source": [
    "lista = ['B3SA3', 'BBAS3', 'BBSE3', 'CMIG4', 'COCE5', 'COGN3', 'CSAN3', 'DIRR3', 'ELET3', 'GGBR4', 'IRBR3', 'ITSA4', 'MTRE3', 'OIBR3', 'RRRP3', 'SAPR4', 'VALE3']\n",
    "for i in lista:\n",
    "    print(mt5.symbol_info(i).name,formato_numerico.format(mt5.symbol_info(i).last), \n",
    "          formato_numerico.format(mt5.symbol_info(i).price_change)  )"
   ]
  },
  {
   "cell_type": "code",
   "execution_count": 10,
   "metadata": {},
   "outputs": [],
   "source": [
    "# mt5.shutdown()"
   ]
  },
  {
   "cell_type": "code",
   "execution_count": 11,
   "metadata": {},
   "outputs": [
    {
     "output_type": "stream",
     "name": "stdout",
     "text": [
      "CMIG4       0.00      13.71      13.70\n",
      "CMIGF134      11.56       0.00       0.00\n",
      "CMIGG154      13.35       0.82       0.79\n",
      "CMIGG159      13.80       0.57       0.54\n"
     ]
    }
   ],
   "source": [
    "lista = ['CMIG4','CMIGF134','CMIGG154','CMIGG159']\n",
    "for i in lista:\n",
    "    print(mt5.symbol_info(i).name,\n",
    "    formato_numerico.format(mt5.symbol_info(i).option_strike),\n",
    "    formato_numerico.format(mt5.symbol_info(i).ask),\n",
    "    formato_numerico.format(mt5.symbol_info(i).bid)  )"
   ]
  },
  {
   "cell_type": "code",
   "execution_count": 12,
   "metadata": {},
   "outputs": [
    {
     "output_type": "execute_result",
     "data": {
      "text/plain": [
       "200"
      ]
     },
     "metadata": {},
     "execution_count": 12
    }
   ],
   "source": [
    "mt5.symbol_info('CMIGF139').volume"
   ]
  },
  {
   "cell_type": "code",
   "execution_count": null,
   "metadata": {},
   "outputs": [],
   "source": []
  }
 ]
}