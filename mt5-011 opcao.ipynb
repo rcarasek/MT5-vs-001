{
 "metadata": {
  "language_info": {
   "codemirror_mode": {
    "name": "ipython",
    "version": 3
   },
   "file_extension": ".py",
   "mimetype": "text/x-python",
   "name": "python",
   "nbconvert_exporter": "python",
   "pygments_lexer": "ipython3",
   "version": "3.9.5"
  },
  "orig_nbformat": 2,
  "kernelspec": {
   "name": "python3",
   "display_name": "Python 3.9.5 64-bit"
  },
  "metadata": {
   "interpreter": {
    "hash": "63fd5069d213b44bf678585dea6b12cceca9941eaf7f819626cde1f2670de90d"
   }
  },
  "interpreter": {
   "hash": "63fd5069d213b44bf678585dea6b12cceca9941eaf7f819626cde1f2670de90d"
  }
 },
 "nbformat": 4,
 "nbformat_minor": 2,
 "cells": [
  {
   "cell_type": "code",
   "execution_count": 56,
   "metadata": {},
   "outputs": [
    {
     "output_type": "execute_result",
     "data": {
      "text/plain": [
       "True"
      ]
     },
     "metadata": {},
     "execution_count": 56
    }
   ],
   "source": [
    "import MetaTrader5 as mt5\n",
    "import pandas as pd \n",
    "mt5.initialize()"
   ]
  },
  {
   "cell_type": "code",
   "execution_count": 57,
   "metadata": {},
   "outputs": [],
   "source": [
    "formato_numerico = \"{0:10.2f}\"\n",
    "ativo = list(())\n",
    "AtivoSymbolInfo = list(())\n",
    "matriz = list(())\n",
    "global matriz"
   ]
  },
  {
   "cell_type": "code",
   "execution_count": 58,
   "metadata": {},
   "outputs": [],
   "source": [
    "def imprimirInfoAtivo(t, y, n):\n",
    "    print(t, y, formato_numerico.format(n))"
   ]
  },
  {
   "cell_type": "code",
   "execution_count": 59,
   "metadata": {},
   "outputs": [],
   "source": [
    "# ****************************************************\n",
    "def RolarOpcoes(ativo):\n",
    "    n = len(ativo)\n",
    "    AtivoSymbolInfo.clear()\n",
    "    rows,cols = (n,9)\n",
    "    matriz = [[0 for i in range(cols)] for j in range(rows)]\n",
    "    \n",
    "    for i in range(n):\n",
    "        AtivoSymbolInfo.append(mt5.symbol_info(ativo[i]))\n",
    "        xx = AtivoSymbolInfo[i]\n",
    "        matriz[i][0] = xx.name\n",
    "        matriz[i][1] = xx.option_strike\n",
    "        matriz[i][2] = xx.bid\n",
    "        matriz[i][3] = xx.ask\n",
    "        matriz[i][4] = xx.last\n",
    " \n",
    "        # somente para linha 1, que é da opção vendida, que preciso rolar\n",
    "        # pega o ASK... mas se não tiver ninguém oferecendo, pega o LAST\n",
    "        if i == 1:\n",
    "            gasto = matriz[1][3] * -1\n",
    "            if matriz[1][3] == 0:\n",
    "                gasto = matriz[1][4]\n",
    "            '''\n",
    "            if matriz[1][3] > matriz[1][4]:\n",
    "                gasto = matriz[1][3] * -1\n",
    "            matriz[1][5] = gasto'''\n",
    "\n",
    "        # para as linhas 2,3,... ou seja, para as opções dos meses seguintes que poderei vender\n",
    "        if i>1:\n",
    "            matriz[i][5] = matriz[i][1] - matriz[1][1] # aumento em R$ strike nova - strike vendida\n",
    "            matriz[i][6] = (matriz[i][1]/matriz[1][1] - 1) * 100  # % strike nova - strike vendido\n",
    "            matriz[i][7] = gasto + matriz[i][4] + matriz[i][5]\n",
    "            matriz[i][8] = matriz[i][7] / matriz[1][1] * 100\n",
    "\n",
    "    '''for l in range(n):\n",
    "        for c in range(9):\n",
    "            print(f'|{matriz[l][c]:^10}|',end='')\n",
    "        print()\n",
    "    '''\n",
    "    df = pd.DataFrame(matriz, columns=['Ativo','Strike','bid','ask','Last','▲ R$','▲ % Strike','Somatório','% sobre '+matriz[1][0]])\n",
    "    print(df)\n",
    "    df.to_excel('ativo.xlsx')"
   ]
  },
  {
   "cell_type": "code",
   "execution_count": 60,
   "metadata": {},
   "outputs": [
    {
     "output_type": "stream",
     "name": "stdout",
     "text": [
      "      Ativo  Strike    bid    ask   Last  ▲ R$  ▲ % Strike  Somatório  \\\n0     CMIG4    0.00  13.64  13.65  13.64  0.00    0.000000       0.00   \n1  CMIGF134   11.56   2.08   0.00   2.17  0.00    0.000000       0.00   \n2  CMIGG154   13.35   0.74   0.76   0.77  1.79   15.484429       4.73   \n3  CMIGG159   13.80   0.49   0.52   0.50  2.24   19.377163       4.91   \n\n   % sobre CMIGF134  \n0          0.000000  \n1          0.000000  \n2         40.916955  \n3         42.474048  \n"
     ]
    }
   ],
   "source": [
    "ativo = ['CMIG4', 'CMIGF134', 'CMIGG154', 'CMIGG159'] \n",
    "RolarOpcoes(ativo)"
   ]
  },
  {
   "cell_type": "code",
   "execution_count": 61,
   "metadata": {},
   "outputs": [
    {
     "output_type": "stream",
     "name": "stdout",
     "text": [
      "      Ativo  Strike    bid    ask   Last  ▲ R$  ▲ % Strike  Somatório  \\\n0     ITSA4    0.00  11.71  11.72  11.72  0.00    0.000000        0.0   \n1  ITSAF110   11.01   0.72   0.93   0.73  0.00    0.000000        0.0   \n2  ITSAG113   11.26   0.67   0.68   0.68  0.25    2.270663        0.0   \n\n   % sobre ITSAF110  \n0               0.0  \n1               0.0  \n2               0.0  \n"
     ]
    }
   ],
   "source": [
    "ativo = ['ITSA4', 'ITSAF110', 'ITSAG113'] \n",
    "RolarOpcoes(ativo)"
   ]
  },
  {
   "cell_type": "code",
   "execution_count": 62,
   "metadata": {},
   "outputs": [
    {
     "output_type": "stream",
     "name": "stdout",
     "text": [
      "      Ativo  Strike     bid     ask    Last  ▲ R$  ▲ % Strike  Somatório  \\\n0     VALE3     0.0  113.93  113.94  113.94   0.0         0.0        0.0   \n1  VALEF121   117.1    0.00    0.00    0.00   0.0         0.0        0.0   \n2  VALEG112   117.1    0.00    0.00    0.00   0.0         0.0        0.0   \n\n   % sobre VALEF121  \n0               0.0  \n1               0.0  \n2               0.0  \n"
     ]
    }
   ],
   "source": [
    "ativo = ['VALE3', 'VALEF121', 'VALEG112'] \n",
    "RolarOpcoes(ativo)"
   ]
  },
  {
   "cell_type": "code",
   "execution_count": 125,
   "metadata": {},
   "outputs": [
    {
     "output_type": "stream",
     "name": "stdout",
     "text": [
      "BBAS3      35.56       0.85\nBBSE3      24.87       1.22\nCMIG4      13.64       1.49\nCOCE5      58.72       2.82\nCOGN3       4.73       8.99\nCSAN3      25.30      -1.56\nDIRR3      14.57       1.96\nELET3      45.19      -0.46\nGGBR4      32.19      -2.45\nIRBR3       6.08       0.00\nITSA4      11.72      -0.09\nMTRE3      12.40       1.14\nOIBR3       1.56      -1.89\nRRRP3      41.57       4.87\nSAPR4       4.28       3.63\nVALE3     113.82      -0.45\nB3SA3      16.34       1.30\n"
     ]
    }
   ],
   "source": [
    "lista = ['BBAS3', 'BBSE3', 'CMIG4', 'COCE5', 'COGN3', 'CSAN3', 'DIRR3', 'ELET3', 'GGBR4', 'IRBR3', 'ITSA4', 'MTRE3', 'OIBR3','RRRP3', 'SAPR4', 'VALE3', 'B3SA3']\n",
    "for i in lista:\n",
    "    print(mt5.symbol_info(i).name,formato_numerico.format(mt5.symbol_info(i).last), \n",
    "          formato_numerico.format(mt5.symbol_info(i).price_change)  )"
   ]
  },
  {
   "cell_type": "code",
   "execution_count": 64,
   "metadata": {},
   "outputs": [],
   "source": [
    "# mt5.shutdown()"
   ]
  },
  {
   "cell_type": "code",
   "execution_count": 65,
   "metadata": {},
   "outputs": [
    {
     "output_type": "stream",
     "name": "stdout",
     "text": [
      "CMIG4       0.00      13.65      13.64\nCMIGF134      11.56       0.00       2.08\nCMIGG154      13.35       0.76       0.74\nCMIGG159      13.80       0.52       0.49\n"
     ]
    }
   ],
   "source": [
    "lista = ['CMIG4','CMIGF134','CMIGG154','CMIGG159']\n",
    "\n",
    "for i in lista:\n",
    "    xxx = mt5.symbol_info(i)\n",
    "    print(xxx.name,\n",
    "    formato_numerico.format(xxx.option_strike),\n",
    "    formato_numerico.format(xxx.ask),\n",
    "    formato_numerico.format(xxx.bid)  )"
   ]
  },
  {
   "cell_type": "code",
   "execution_count": 122,
   "metadata": {},
   "outputs": [],
   "source": [
    "ativo = list(())\n",
    "AtivoSymbolInfo = list(())\n",
    "matriz = list(())\n",
    "# ****************************************************\n",
    "def travaAltaComPut(ativo):\n",
    "    n = len(ativo)\n",
    "    #AtivoSymbolInfo.clear()\n",
    "    rows,cols = (n+5,9)\n",
    "    matriz = [[0 for i in range(cols)] for j in range(rows)]\n",
    "    for i in range(n):\n",
    "        AtivoSymbolInfo.append(mt5.symbol_info(ativo[i]))\n",
    "        xx = AtivoSymbolInfo[i]\n",
    "        matriz[i][0] = xx.name\n",
    "        matriz[i][1] = xx.option_strike\n",
    "        matriz[i][2] = xx.bid\n",
    "        matriz[i][3] = xx.ask\n",
    "        matriz[i][4] = xx.last\n",
    "\n",
    "    matriz[3][0] = 'Dif.Strike'\n",
    "    matriz[3][1] = matriz[2][1] - matriz[1][1]\n",
    "    matriz[4][0] = 'Lucro Max'\n",
    "    matriz[4][1] = matriz[2][2] - matriz[1][3]\n",
    "    matriz[5][0] = 'Prej. Max'\n",
    "    matriz[5][1] = (matriz[2][1] - matriz[1][1]) - (matriz[2][2] - matriz[1][3])\n",
    "    \n",
    "    df = pd.DataFrame(matriz)\n",
    "    print(df)\n",
    "    df.to_excel('TravaAltaPut.xlsx')"
   ]
  },
  {
   "cell_type": "code",
   "execution_count": 123,
   "metadata": {},
   "outputs": [
    {
     "output_type": "stream",
     "name": "stdout",
     "text": [
      "            0      1      2      3      4  5  6  7  8\n0       PETR4   0.00  28.75  28.76  28.75  0  0  0  0\n1    PETRS290  28.21   0.76   0.78   0.77  0  0  0  0\n2    PETRS297  28.96   1.11   1.12   1.12  0  0  0  0\n3  Dif.Strike   0.75   0.00   0.00   0.00  0  0  0  0\n4   Lucro Max   0.33   0.00   0.00   0.00  0  0  0  0\n5   Prej. Max   0.42   0.00   0.00   0.00  0  0  0  0\n6           0   0.00   0.00   0.00   0.00  0  0  0  0\n7           0   0.00   0.00   0.00   0.00  0  0  0  0\n"
     ]
    }
   ],
   "source": [
    "lista = ['PETR4','PETRS290','PETRS297']\n",
    "travaAltaComPut(lista)"
   ]
  },
  {
   "cell_type": "code",
   "execution_count": null,
   "metadata": {},
   "outputs": [],
   "source": []
  }
 ]
}