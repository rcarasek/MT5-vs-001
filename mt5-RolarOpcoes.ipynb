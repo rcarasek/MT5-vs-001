{
 "cells": [
  {
   "cell_type": "code",
   "execution_count": 1,
   "source": [
    "import MetaTrader5 as mt5\r\n",
    "import pandas as pd \r\n",
    "mt5.initialize()\r\n",
    "\r\n",
    "from datetime import date\r\n",
    "data_atual = date.today()"
   ],
   "outputs": [],
   "metadata": {}
  },
  {
   "cell_type": "code",
   "execution_count": 2,
   "source": [
    "formato_numerico = \"{0:10.2f}\"\r\n",
    "ativo = list(())\r\n",
    "AtivoSymbolInfo = list(())\r\n",
    "matriz = list(())\r\n",
    "global matriz"
   ],
   "outputs": [],
   "metadata": {}
  },
  {
   "cell_type": "code",
   "execution_count": 3,
   "source": [
    "def imprimirInfoAtivo(t, y, n):\r\n",
    "    print(t, y, formato_numerico.format(n))"
   ],
   "outputs": [],
   "metadata": {}
  },
  {
   "cell_type": "code",
   "execution_count": 4,
   "source": [
    "# ****************************************************\r\n",
    "def RolarOpcoes(ativo):\r\n",
    "    n = len(ativo)\r\n",
    "    AtivoSymbolInfo.clear()\r\n",
    "    rows,cols = (n,10)\r\n",
    "    matriz = [[0 for i in range(cols)] for j in range(rows)]\r\n",
    "    \r\n",
    "    for i in range(n):\r\n",
    "        AtivoSymbolInfo.append(mt5.symbol_info(ativo[i]))\r\n",
    "        xx = AtivoSymbolInfo[i]\r\n",
    "        matriz[i][0] = xx.name\r\n",
    "        matriz[i][1] = xx.option_strike\r\n",
    "        matriz[i][4] = xx.last\r\n",
    " \r\n",
    "        # somente para linha 1, que é da opção vendida, que preciso rolar\r\n",
    "        # pega o ASK... mas se não tiver ninguém oferecendo, pega o LAST\r\n",
    "        if i == 1:\r\n",
    "            matriz[1][3] = xx.ask\r\n",
    "            if matriz[1][3] == 0:\r\n",
    "                fff = input('Entre o valor do Ask ' + xx.name + ': ')\r\n",
    "                matriz[i][3] = float(fff)\r\n",
    "            gasto = matriz[1][3] * -1\r\n",
    "#            if matriz[1][3] == 0:       gasto = matriz[1][4]\r\n",
    " \r\n",
    "        # para as linhas 2,3,... ou seja, para as opções dos meses seguintes que poderei vender\r\n",
    "        if i>1:\r\n",
    "            matriz[i][2] = xx.bid\r\n",
    "            if matriz[i][2] == 0:\r\n",
    "                fff = input('Entre o valor do Bid ' + xx.name + ': ')\r\n",
    "                matriz[i][2] = float(fff)\r\n",
    "            matriz[i][5] = matriz[i][1] - matriz[1][1] # aumento em R$ strike nova - strike vendida\r\n",
    "            matriz[i][6] = round((matriz[i][1]/matriz[1][1] - 1) * 100, 2)  # % strike nova - strike vendido\r\n",
    "            matriz[i][7] = matriz[i][5] + gasto + matriz[i][2] # dif.strike - gasto\r\n",
    "            matriz[i][8] = round(matriz[i][7] / matriz[1][1] * 100, 2)\r\n",
    "            matriz[i][9] = matriz[i][2] - matriz[1][3] \r\n",
    "\r\n",
    "    df = pd.DataFrame(matriz, columns=['Ativo','Strike','bid','ask','Last','▲ R$','▲ % Strike','Somatório','% sobre '+matriz[1][0], 'Cash'])\r\n",
    "    print(df)\r\n",
    "    nome_arq = 'rolar_opcoes_' + ativo[0] + '_' + ativo[1] + '_' + ativo[2]+ '.xlsx'\r\n",
    "    df.to_excel(nome_arq, sheet_name=str(data_atual))\r\n",
    "    "
   ],
   "outputs": [],
   "metadata": {}
  },
  {
   "cell_type": "code",
   "execution_count": 5,
   "source": [
    "print(type(data_atual))"
   ],
   "outputs": [
    {
     "output_type": "stream",
     "name": "stdout",
     "text": [
      "<class 'datetime.date'>\n"
     ]
    }
   ],
   "metadata": {}
  },
  {
   "cell_type": "code",
   "execution_count": 6,
   "source": [
    "### https://www.alura.com.br/artigos/lidando-com-datas-e-horarios-no-python?gclid=CjwKCAjwieuGBhAsEiwA1Ly_nWDbtS13ZSnMrNsQGuuQCRKckt2Jbyv8byErnftNStX5-SAf5fxwSxoCpF8QAvD_BwE"
   ],
   "outputs": [],
   "metadata": {}
  },
  {
   "cell_type": "code",
   "execution_count": 7,
   "source": [
    "data_em_texto = '{}/{}/{}'.format(data_atual.day, data_atual.month,\r\n",
    "data_atual.year)\r\n",
    "data_em_texto"
   ],
   "outputs": [
    {
     "output_type": "execute_result",
     "data": {
      "text/plain": [
       "'30/7/2021'"
      ]
     },
     "metadata": {},
     "execution_count": 7
    }
   ],
   "metadata": {}
  },
  {
   "cell_type": "code",
   "execution_count": 8,
   "source": [
    "ativo = ['IRBR3', 'IRBRT580', 'IRBRU580'] \r\n",
    "RolarOpcoes(ativo)"
   ],
   "outputs": [
    {
     "output_type": "stream",
     "name": "stdout",
     "text": [
      "      Ativo  Strike   bid   ask  Last  ▲ R$  ▲ % Strike  Somatório  \\\n",
      "0     IRBR3     0.0  0.00  0.00  5.64   0.0         0.0       0.00   \n",
      "1  IRBRT580     5.8  0.00  0.28  0.29   0.0         0.0       0.00   \n",
      "2  IRBRU580     5.8  0.36  0.00  0.36   0.0         0.0       0.08   \n",
      "\n",
      "   % sobre IRBRT580  Cash  \n",
      "0              0.00  0.00  \n",
      "1              0.00  0.00  \n",
      "2              1.38  0.08  \n"
     ]
    }
   ],
   "metadata": {}
  },
  {
   "cell_type": "code",
   "execution_count": null,
   "source": [
    "RolarOpcoes(['BBSE3', 'BBSET230', 'BBSEU230'])"
   ],
   "outputs": [
    {
     "output_type": "stream",
     "name": "stdout",
     "text": [
      "      Ativo  Strike   bid   ask   Last  ▲ R$  ▲ % Strike  Somatório  \\\n",
      "0     BBSE3     0.0  0.00  0.00  21.64   0.0        0.00       0.00   \n",
      "1  BBSET230    23.0  0.00  1.35   1.34   0.0        0.00       0.00   \n",
      "2  BBSEU220    22.0  0.69  0.00   0.69  -1.0       -4.35      -1.66   \n",
      "\n",
      "   % sobre BBSET230  Cash  \n",
      "0              0.00  0.00  \n",
      "1              0.00  0.00  \n",
      "2             -7.22 -0.66  \n"
     ]
    }
   ],
   "metadata": {}
  }
 ],
 "metadata": {
  "interpreter": {
   "hash": "63fd5069d213b44bf678585dea6b12cceca9941eaf7f819626cde1f2670de90d"
  },
  "kernelspec": {
   "name": "python3",
   "display_name": "Python 3.9.5 64-bit"
  },
  "language_info": {
   "codemirror_mode": {
    "name": "ipython",
    "version": 3
   },
   "file_extension": ".py",
   "mimetype": "text/x-python",
   "name": "python",
   "nbconvert_exporter": "python",
   "pygments_lexer": "ipython3",
   "version": "3.9.5"
  },
  "metadata": {
   "interpreter": {
    "hash": "63fd5069d213b44bf678585dea6b12cceca9941eaf7f819626cde1f2670de90d"
   }
  },
  "orig_nbformat": 2
 },
 "nbformat": 4,
 "nbformat_minor": 2
}