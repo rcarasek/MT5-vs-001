{
 "metadata": {
  "language_info": {
   "codemirror_mode": {
    "name": "ipython",
    "version": 3
   },
   "file_extension": ".py",
   "mimetype": "text/x-python",
   "name": "python",
   "nbconvert_exporter": "python",
   "pygments_lexer": "ipython3",
   "version": "3.9.5"
  },
  "orig_nbformat": 2,
  "kernelspec": {
   "name": "python3",
   "display_name": "Python 3.9.5 64-bit"
  },
  "metadata": {
   "interpreter": {
    "hash": "63fd5069d213b44bf678585dea6b12cceca9941eaf7f819626cde1f2670de90d"
   }
  },
  "interpreter": {
   "hash": "63fd5069d213b44bf678585dea6b12cceca9941eaf7f819626cde1f2670de90d"
  }
 },
 "nbformat": 4,
 "nbformat_minor": 2,
 "cells": [
  {
   "cell_type": "code",
   "execution_count": 1,
   "metadata": {},
   "outputs": [
    {
     "output_type": "execute_result",
     "data": {
      "text/plain": [
       "True"
      ]
     },
     "metadata": {},
     "execution_count": 1
    }
   ],
   "source": [
    "import MetaTrader5 as mt5\n",
    "import pandas as pd \n",
    "mt5.initialize()"
   ]
  },
  {
   "cell_type": "code",
   "execution_count": 2,
   "metadata": {},
   "outputs": [],
   "source": [
    "formato_numerico = \"{0:10.2f}\"\n",
    "ativo = list(())\n",
    "AtivoSymbolInfo = list(())\n",
    "matriz = list(())\n",
    "global matriz"
   ]
  },
  {
   "cell_type": "code",
   "execution_count": 3,
   "metadata": {},
   "outputs": [],
   "source": [
    "def imprimirInfoAtivo(t, y, n):\n",
    "    print(t, y, formato_numerico.format(n))"
   ]
  },
  {
   "cell_type": "code",
   "execution_count": 4,
   "metadata": {},
   "outputs": [],
   "source": [
    "# ****************************************************\n",
    "def RolarOpcoes(ativo):\n",
    "    n = len(ativo)\n",
    "    AtivoSymbolInfo.clear()\n",
    "    rows,cols = (n,10)\n",
    "    matriz = [[0 for i in range(cols)] for j in range(rows)]\n",
    "    \n",
    "    for i in range(n):\n",
    "        AtivoSymbolInfo.append(mt5.symbol_info(ativo[i]))\n",
    "        xx = AtivoSymbolInfo[i]\n",
    "        matriz[i][0] = xx.name\n",
    "        matriz[i][1] = xx.option_strike\n",
    "        matriz[i][4] = xx.last\n",
    " \n",
    "        # somente para linha 1, que é da opção vendida, que preciso rolar\n",
    "        # pega o ASK... mas se não tiver ninguém oferecendo, pega o LAST\n",
    "        if i == 1:\n",
    "            matriz[1][3] = xx.ask\n",
    "            if matriz[1][3] == 0:\n",
    "                fff = input('Entre o valor do Ask ' + xx.name + ': ')\n",
    "                matriz[i][3] = float(fff)\n",
    "            gasto = matriz[1][3] * -1\n",
    "#            if matriz[1][3] == 0:       gasto = matriz[1][4]\n",
    " \n",
    "        # para as linhas 2,3,... ou seja, para as opções dos meses seguintes que poderei vender\n",
    "        if i>1:\n",
    "            matriz[i][2] = xx.bid\n",
    "            if matriz[i][2] == 0:\n",
    "                fff = input('Entre o valor do Bid ' + xx.name + ': ')\n",
    "                matriz[i][2] = float(fff)\n",
    "            matriz[i][5] = matriz[i][1] - matriz[1][1] # aumento em R$ strike nova - strike vendida\n",
    "            matriz[i][6] = (matriz[i][1]/matriz[1][1] - 1) * 100  # % strike nova - strike vendido\n",
    "            matriz[i][7] = matriz[i][5] + gasto + matriz[i][2] # dif.strike - gasto\n",
    "            matriz[i][8] = matriz[i][7] / matriz[1][1] * 100\n",
    "            matriz[i][9] = matriz[i][2] - matriz[1][3] \n",
    "\n",
    "    df = pd.DataFrame(matriz, columns=['Ativo','Strike','bid','ask','Last','▲ R$','▲ % Strike','Somatório','% sobre '+matriz[1][0], 'Cash'])\n",
    "    print(df)\n",
    "    nome_arq = 'rolar_opcoes_' + ativo[0] + '_' + ativo[1] + '_' + ativo[2]+ '.xlsx'\n",
    "    df.to_excel(nome_arq)"
   ]
  },
  {
   "cell_type": "code",
   "execution_count": 5,
   "metadata": {},
   "outputs": [
    {
     "output_type": "stream",
     "name": "stdout",
     "text": [
      "      Ativo  Strike   bid  ask   Last  ▲ R$  ▲ % Strike  Somatório  \\\n0     CMIG4    0.00  0.00  0.0  12.66  0.00    0.000000       0.00   \n1  CMIGG154   13.35  0.00  0.2   0.19  0.00    0.000000       0.00   \n2  CMIGH139   14.00  0.28  0.0   0.28  0.65    4.868914       0.73   \n\n   % sobre CMIGG154  Cash  \n0          0.000000  0.00  \n1          0.000000  0.00  \n2          5.468165  0.08  \n"
     ]
    }
   ],
   "source": [
    "ativo = ['CMIG4', 'CMIGG154', 'CMIGH139'] \n",
    "RolarOpcoes(ativo)"
   ]
  },
  {
   "cell_type": "code",
   "execution_count": 6,
   "metadata": {},
   "outputs": [
    {
     "output_type": "stream",
     "name": "stdout",
     "text": [
      "      Ativo  Strike  bid  ask   Last  ▲ R$  ▲ % Strike  Somatório  \\\n0     CMIG4    0.00  0.0  0.0  12.65  0.00    0.000000       0.00   \n1  CMIGG154   13.35  0.0  0.2   0.19  0.00    0.000000       0.00   \n2  CMIGH134   13.50  0.4  0.0   0.50  0.15    1.123596       0.35   \n\n   % sobre CMIGG154  Cash  \n0          0.000000   0.0  \n1          0.000000   0.0  \n2          2.621723   0.2  \n"
     ]
    }
   ],
   "source": [
    "ativo = ['CMIG4', 'CMIGG154', 'CMIGH134'] \n",
    "RolarOpcoes(ativo)"
   ]
  },
  {
   "cell_type": "code",
   "execution_count": 7,
   "metadata": {},
   "outputs": [
    {
     "output_type": "stream",
     "name": "stdout",
     "text": [
      "      Ativo  Strike   bid  ask   Last  ▲ R$  ▲ % Strike  Somatório  \\\n0     CMIG4    0.00  0.00  0.0  12.65  0.00    0.000000       0.00   \n1  CMIGG154   13.35  0.00  0.2   0.19  0.00    0.000000       0.00   \n2  CMIGH131   13.25  0.48  0.0   0.55 -0.10   -0.749064       0.18   \n3  CMIGH134   13.50  0.40  0.0   0.50  0.15    1.123596       0.35   \n4  CMIGH139   14.00  0.28  0.0   0.28  0.65    4.868914       0.73   \n\n   % sobre CMIGG154  Cash  \n0          0.000000  0.00  \n1          0.000000  0.00  \n2          1.348315  0.28  \n3          2.621723  0.20  \n4          5.468165  0.08  \n"
     ]
    }
   ],
   "source": [
    "ativo = ['CMIG4', 'CMIGG154', 'CMIGH131', 'CMIGH134', 'CMIGH139'] \n",
    "RolarOpcoes(ativo)"
   ]
  },
  {
   "cell_type": "code",
   "execution_count": 8,
   "metadata": {},
   "outputs": [
    {
     "output_type": "stream",
     "name": "stdout",
     "text": [
      "      Ativo  Strike   bid   ask  Last  ▲ R$  ▲ % Strike  Somatório  \\\n0     ELET3    0.00  0.00  0.00  44.8  0.00    0.000000       0.00   \n1  ELETG454   45.61  0.00  1.18   0.0  0.00    0.000000       0.00   \n2  ELETH460   46.00  4.11  0.00   0.0  0.39    0.855076       3.32   \n3  ELETH467   46.75  1.79  0.00   0.0  1.14    2.499452       1.75   \n4  ELETH470   47.00  1.76  0.00   0.0  1.39    3.047577       1.97   \n5  ELETH477   47.75  1.45  0.00   0.0  2.14    4.691954       2.41   \n6  ELETH480   48.00  1.42  0.00   0.0  2.39    5.240079       2.63   \n\n   % sobre ELETG454  Cash  \n0          0.000000  0.00  \n1          0.000000  0.00  \n2          7.279105  2.93  \n3          3.836878  0.61  \n4          4.319228  0.58  \n5          5.283929  0.27  \n6          5.766279  0.24  \n"
     ]
    }
   ],
   "source": [
    "ativo = ['ELET3', 'ELETG454', 'ELETH460', 'ELETH467', 'ELETH470', 'ELETH477', 'ELETH480'] \n",
    "RolarOpcoes(ativo)"
   ]
  },
  {
   "cell_type": "code",
   "execution_count": 16,
   "metadata": {},
   "outputs": [
    {
     "output_type": "stream",
     "name": "stdout",
     "text": [
      "      Ativo  Strike   bid   ask   Last  ▲ R$  ▲ % Strike  Somatório  \\\n0     ITSA4    0.00  0.00  0.00  11.54  0.00    0.000000       0.00   \n1  ITSAG113   11.26  0.00  0.51   0.51  0.00    0.000000       0.00   \n2  ITSAH118   11.79  0.43  0.00   0.43  0.53    4.706927       0.45   \n\n   % sobre ITSAG113  Cash  \n0          0.000000  0.00  \n1          0.000000  0.00  \n2          3.996448 -0.08  \n"
     ]
    }
   ],
   "source": [
    "ativo = ['ITSA4', 'ITSAG113', 'ITSAH118'] \n",
    "RolarOpcoes(ativo)"
   ]
  },
  {
   "cell_type": "code",
   "execution_count": 10,
   "metadata": {},
   "outputs": [
    {
     "output_type": "stream",
     "name": "stdout",
     "text": [
      "      Ativo  Strike   bid   ask   Last  ▲ R$  ▲ % Strike  Somatório  \\\n0     CSAN3    0.00  0.00  0.00  24.94  0.00     0.00000       0.00   \n1  CSANG100   24.74  0.00  1.03   0.89  0.00     0.00000       0.00   \n2  CSANH250   25.00  1.42  0.00   1.50  0.26     1.05093       0.65   \n\n   % sobre CSANG100  Cash  \n0          0.000000  0.00  \n1          0.000000  0.00  \n2          2.627324  0.39  \n"
     ]
    }
   ],
   "source": [
    "ativo = ['CSAN3', 'CSANG100', 'CSANH250'] \n",
    "RolarOpcoes(ativo)"
   ]
  },
  {
   "cell_type": "code",
   "execution_count": 11,
   "metadata": {},
   "outputs": [
    {
     "output_type": "stream",
     "name": "stdout",
     "text": [
      "      Ativo  Strike   bid  ask   Last  ▲ R$  ▲ % Strike  Somatório  \\\n0     BBSE3     0.0  0.00  0.0  24.08   0.0    0.000000       0.00   \n1  BBSET220    22.0  0.00  0.2   0.18   0.0    0.000000       0.00   \n2  BBSET230    23.0  0.37  0.0   0.39   1.0    4.545455       1.17   \n\n   % sobre BBSET220  Cash  \n0          0.000000  0.00  \n1          0.000000  0.00  \n2          5.318182  0.17  \n"
     ]
    }
   ],
   "source": [
    "ativo = ['BBSE3', 'BBSET220', 'BBSET230'] \n",
    "RolarOpcoes(ativo)"
   ]
  },
  {
   "cell_type": "code",
   "execution_count": null,
   "metadata": {},
   "outputs": [],
   "source": []
  }
 ]
}