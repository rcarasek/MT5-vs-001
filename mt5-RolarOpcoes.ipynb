{
 "metadata": {
  "language_info": {
   "codemirror_mode": {
    "name": "ipython",
    "version": 3
   },
   "file_extension": ".py",
   "mimetype": "text/x-python",
   "name": "python",
   "nbconvert_exporter": "python",
   "pygments_lexer": "ipython3",
   "version": "3.9.5"
  },
  "orig_nbformat": 2,
  "kernelspec": {
   "name": "python3",
   "display_name": "Python 3.9.5 64-bit"
  },
  "metadata": {
   "interpreter": {
    "hash": "63fd5069d213b44bf678585dea6b12cceca9941eaf7f819626cde1f2670de90d"
   }
  },
  "interpreter": {
   "hash": "63fd5069d213b44bf678585dea6b12cceca9941eaf7f819626cde1f2670de90d"
  }
 },
 "nbformat": 4,
 "nbformat_minor": 2,
 "cells": [
  {
   "cell_type": "code",
   "execution_count": 1,
   "metadata": {},
   "outputs": [
    {
     "output_type": "execute_result",
     "data": {
      "text/plain": [
       "True"
      ]
     },
     "metadata": {},
     "execution_count": 1
    }
   ],
   "source": [
    "import MetaTrader5 as mt5\n",
    "import pandas as pd \n",
    "mt5.initialize()"
   ]
  },
  {
   "cell_type": "code",
   "execution_count": 2,
   "metadata": {},
   "outputs": [],
   "source": [
    "formato_numerico = \"{0:10.2f}\"\n",
    "ativo = list(())\n",
    "AtivoSymbolInfo = list(())\n",
    "matriz = list(())\n",
    "global matriz"
   ]
  },
  {
   "cell_type": "code",
   "execution_count": 3,
   "metadata": {},
   "outputs": [],
   "source": [
    "def imprimirInfoAtivo(t, y, n):\n",
    "    print(t, y, formato_numerico.format(n))"
   ]
  },
  {
   "cell_type": "code",
   "execution_count": 4,
   "metadata": {},
   "outputs": [],
   "source": [
    "# ****************************************************\n",
    "def RolarOpcoes(ativo):\n",
    "    n = len(ativo)\n",
    "    AtivoSymbolInfo.clear()\n",
    "    rows,cols = (n,9)\n",
    "    matriz = [[0 for i in range(cols)] for j in range(rows)]\n",
    "    \n",
    "    for i in range(n):\n",
    "        AtivoSymbolInfo.append(mt5.symbol_info(ativo[i]))\n",
    "        xx = AtivoSymbolInfo[i]\n",
    "        matriz[i][0] = xx.name\n",
    "        matriz[i][1] = xx.option_strike\n",
    "        matriz[i][4] = xx.last\n",
    " \n",
    "        # somente para linha 1, que é da opção vendida, que preciso rolar\n",
    "        # pega o ASK... mas se não tiver ninguém oferecendo, pega o LAST\n",
    "        if i == 1:\n",
    "            matriz[1][3] = xx.ask\n",
    "            if matriz[1][3] == 0:\n",
    "                fff = input('Entre o valor do Ask ' + xx.name + ': ')\n",
    "                matriz[i][3] = float(fff)\n",
    "            gasto = matriz[1][3] * -1\n",
    "#            if matriz[1][3] == 0:       gasto = matriz[1][4]\n",
    " \n",
    "        # para as linhas 2,3,... ou seja, para as opções dos meses seguintes que poderei vender\n",
    "        if i>1:\n",
    "            matriz[i][2] = xx.bid\n",
    "            if matriz[i][2] == 0:\n",
    "                fff = input('Entre o valor do Bid ' + xx.name + ': ')\n",
    "                matriz[i][2] = float(fff)\n",
    "            matriz[i][5] = matriz[i][1] - matriz[1][1] # aumento em R$ strike nova - strike vendida\n",
    "            matriz[i][6] = (matriz[i][1]/matriz[1][1] - 1) * 100  # % strike nova - strike vendido\n",
    "            matriz[i][7] = matriz[i][5] + gasto + matriz[i][2] # dif.strike - gasto\n",
    "            matriz[i][8] = matriz[i][7] / matriz[1][1] * 100\n",
    "\n",
    "    '''for l in range(n):\n",
    "        for c in range(9):\n",
    "            print(f'|{matriz[l][c]:^10}|',end='')\n",
    "        print()\n",
    "    '''\n",
    "    df = pd.DataFrame(matriz, columns=['Ativo','Strike','bid','ask','Last','▲ R$','▲ % Strike','Somatório','% sobre '+matriz[1][0]])\n",
    "    print(df)\n",
    "    nome_arq = 'rolar_opcoes_' + ativo[0] + '_' + ativo[1] + '_' + ativo[2]+ '.xlsx'\n",
    "    df.to_excel(nome_arq)"
   ]
  },
  {
   "cell_type": "code",
   "execution_count": 5,
   "metadata": {},
   "outputs": [
    {
     "output_type": "stream",
     "name": "stdout",
     "text": [
      "      Ativo  Strike   bid   ask   Last  ▲ R$  ▲ % Strike  Somatório  \\\n0     CMIG4    0.00  0.00  0.00  12.76  0.00    0.000000       0.00   \n1  CMIGG154   13.35  0.00  0.26   0.28  0.00    0.000000       0.00   \n2  CMIGH139   14.00  0.09  0.00   0.32  0.65    4.868914       0.48   \n\n   % sobre CMIGG154  \n0          0.000000  \n1          0.000000  \n2          3.595506  \n"
     ]
    }
   ],
   "source": [
    "ativo = ['CMIG4', 'CMIGG154', 'CMIGH139'] \n",
    "RolarOpcoes(ativo)"
   ]
  },
  {
   "cell_type": "code",
   "execution_count": 6,
   "metadata": {},
   "outputs": [
    {
     "output_type": "stream",
     "name": "stdout",
     "text": [
      "      Ativo  Strike   bid   ask   Last  ▲ R$  ▲ % Strike  Somatório  \\\n0     CMIG4    0.00  0.00  0.00  12.76  0.00    0.000000       0.00   \n1  CMIGG154   13.35  0.00  0.26   0.28  0.00    0.000000       0.00   \n2  CMIGH134   13.50  0.45  0.00   0.50  0.15    1.123596       0.34   \n\n   % sobre CMIGG154  \n0          0.000000  \n1          0.000000  \n2          2.546816  \n"
     ]
    }
   ],
   "source": [
    "ativo = ['CMIG4', 'CMIGG154', 'CMIGH134'] \n",
    "RolarOpcoes(ativo)"
   ]
  },
  {
   "cell_type": "code",
   "execution_count": 7,
   "metadata": {},
   "outputs": [
    {
     "output_type": "stream",
     "name": "stdout",
     "text": [
      "      Ativo  Strike   bid   ask   Last  ▲ R$  ▲ % Strike  Somatório  \\\n0     CMIG4    0.00  0.00  0.00  12.76   0.0    0.000000       0.00   \n1  CMIGG154   13.35  0.00  0.26   0.28   0.0    0.000000       0.00   \n2  CMIGH131   13.25  0.54  0.00   0.57  -0.1   -0.749064       0.18   \n\n   % sobre CMIGG154  \n0          0.000000  \n1          0.000000  \n2          1.348315  \n"
     ]
    }
   ],
   "source": [
    "ativo = ['CMIG4', 'CMIGG154', 'CMIGH131'] \n",
    "RolarOpcoes(ativo)"
   ]
  },
  {
   "cell_type": "code",
   "execution_count": 8,
   "metadata": {},
   "outputs": [
    {
     "output_type": "stream",
     "name": "stdout",
     "text": [
      "      Ativo  Strike  bid   ask   Last  ▲ R$  ▲ % Strike  Somatório  \\\n0     ITSA4    0.00  0.0  0.00  11.82  0.00    0.000000       0.00   \n1  ITSAG113   11.26  0.0  0.79   0.65  0.00    0.000000       0.00   \n2  ITSAH115   11.54  0.7  0.00   0.65  0.28    2.486679       0.19   \n\n   % sobre ITSAG113  \n0          0.000000  \n1          0.000000  \n2          1.687389  \n"
     ]
    }
   ],
   "source": [
    "ativo = ['ITSA4', 'ITSAG113', 'ITSAH115'] \n",
    "RolarOpcoes(ativo)"
   ]
  },
  {
   "cell_type": "code",
   "execution_count": 9,
   "metadata": {},
   "outputs": [
    {
     "output_type": "stream",
     "name": "stdout",
     "text": [
      "      Ativo  Strike   bid  ask   Last  ▲ R$  ▲ % Strike  Somatório  \\\n0     CSAN3    0.00  0.00  0.0  24.99  0.00     0.00000       0.00   \n1  CSANG100   24.74  0.00  2.0   1.28  0.00     0.00000       0.00   \n2  CSANH250   25.00  1.36  0.0   1.76  0.26     1.05093      -0.38   \n\n   % sobre CSANG100  \n0          0.000000  \n1          0.000000  \n2         -1.535974  \n"
     ]
    }
   ],
   "source": [
    "ativo = ['CSAN3', 'CSANG100', 'CSANH250'] \n",
    "RolarOpcoes(ativo)"
   ]
  },
  {
   "cell_type": "code",
   "execution_count": 10,
   "metadata": {},
   "outputs": [
    {
     "output_type": "stream",
     "name": "stdout",
     "text": [
      "      Ativo  Strike   bid   ask   Last  ▲ R$  ▲ % Strike  Somatório  \\\n0     BBSE3     0.0  0.00  0.00  25.41   0.0    0.000000       0.00   \n1  BBSET220    22.0  0.00  0.25   0.00   0.0    0.000000       0.00   \n2  BBSET230    23.0  0.16  0.00   0.00   1.0    4.545455       0.91   \n\n   % sobre BBSET220  \n0          0.000000  \n1          0.000000  \n2          4.136364  \n"
     ]
    }
   ],
   "source": [
    "ativo = ['BBSE3', 'BBSET220', 'BBSET230'] \n",
    "RolarOpcoes(ativo)"
   ]
  },
  {
   "cell_type": "code",
   "execution_count": 11,
   "metadata": {},
   "outputs": [
    {
     "output_type": "execute_result",
     "data": {
      "text/plain": [
       "tuple"
      ]
     },
     "metadata": {},
     "execution_count": 11
    }
   ],
   "source": [
    "at = mt5.symbols_get()\n",
    "type(at)"
   ]
  },
  {
   "cell_type": "code",
   "execution_count": 12,
   "metadata": {},
   "outputs": [
    {
     "output_type": "stream",
     "name": "stdout",
     "text": [
      "75428\nABEV3 ABEVA207\nABEV3 ABEVA212\nABEV3 ABEVA216\nABEV3 ABEVA219\nABEV3 ABEVA221\n"
     ]
    }
   ],
   "source": [
    "print(len(at))\n",
    "for i in range(5):   #    (len(at)):\n",
    "    print(at[i].basis, at[i].name)"
   ]
  },
  {
   "cell_type": "code",
   "execution_count": null,
   "metadata": {},
   "outputs": [],
   "source": []
  }
 ]
}