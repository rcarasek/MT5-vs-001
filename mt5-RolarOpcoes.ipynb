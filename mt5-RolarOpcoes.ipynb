{
 "cells": [
  {
   "cell_type": "code",
   "execution_count": 39,
   "metadata": {},
   "outputs": [],
   "source": [
    "import MetaTrader5 as mt5\n",
    "import pandas as pd \n",
    "mt5.initialize()\n",
    "\n",
    "from datetime import date\n",
    "data_atual = date.today()"
   ]
  },
  {
   "cell_type": "code",
   "execution_count": 40,
   "metadata": {},
   "outputs": [],
   "source": [
    "formato_numerico = \"{0:10.2f}\"\n",
    "ativo = list(())\n",
    "AtivoSymbolInfo = list(())\n",
    "matriz = list(())\n",
    "global matriz"
   ]
  },
  {
   "cell_type": "code",
   "execution_count": 41,
   "metadata": {},
   "outputs": [],
   "source": [
    "def imprimirInfoAtivo(t, y, n):\n",
    "    print(t, y, formato_numerico.format(n))"
   ]
  },
  {
   "cell_type": "code",
   "execution_count": 42,
   "metadata": {},
   "outputs": [],
   "source": [
    "# ****************************************************\r\n",
    "def RolarOpcoes(ativo):\r\n",
    "    n = len(ativo)\r\n",
    "    AtivoSymbolInfo.clear()\r\n",
    "    rows,cols = (n,10)\r\n",
    "    matriz = [[0 for i in range(cols)] for j in range(rows)]\r\n",
    "    \r\n",
    "    for i in range(n):\r\n",
    "        AtivoSymbolInfo.append(mt5.symbol_info(ativo[i]))\r\n",
    "        xx = AtivoSymbolInfo[i]\r\n",
    "        matriz[i][0] = xx.name\r\n",
    "        matriz[i][1] = xx.option_strike\r\n",
    "        matriz[i][4] = xx.last\r\n",
    " \r\n",
    "        # somente para linha 1, que é da opção vendida, que preciso rolar\r\n",
    "        # pega o ASK... mas se não tiver ninguém oferecendo, pega o LAST\r\n",
    "        if i == 1:\r\n",
    "            matriz[1][3] = xx.ask\r\n",
    "            if matriz[1][3] == 0:\r\n",
    "                fff = input('Entre o valor do Ask ' + xx.name + ': ')\r\n",
    "                matriz[i][3] = float(fff)\r\n",
    "            gasto = matriz[1][3] * -1\r\n",
    "#            if matriz[1][3] == 0:       gasto = matriz[1][4]\r\n",
    " \r\n",
    "        # para as linhas 2,3,... ou seja, para as opções dos meses seguintes que poderei vender\r\n",
    "        if i>1:\r\n",
    "            matriz[i][2] = xx.bid\r\n",
    "            if matriz[i][2] == 0:\r\n",
    "                fff = input('Entre o valor do Bid ' + xx.name + ': ')\r\n",
    "                matriz[i][2] = float(fff)\r\n",
    "            matriz[i][5] = matriz[i][1] - matriz[1][1] # aumento em R$ strike nova - strike vendida\r\n",
    "            matriz[i][6] = round((matriz[i][1]/matriz[1][1] - 1) * 100, 2)  # % strike nova - strike vendido\r\n",
    "            matriz[i][7] = matriz[i][5] + gasto + matriz[i][2] # dif.strike - gasto\r\n",
    "            matriz[i][8] = round(matriz[i][7] / matriz[1][1] * 100, 2)\r\n",
    "            matriz[i][9] = matriz[i][2] - matriz[1][3] \r\n",
    "\r\n",
    "    df = pd.DataFrame(matriz, columns=['Ativo','Strike','bid','ask','Last','▲ R$','▲ % Strike','Somatório','% sobre '+matriz[1][0], 'Cash'])\r\n",
    "    print(df)\r\n",
    "    nome_arq = 'rolar_opcoes_' + ativo[0] + '_' + ativo[1] + '_' + ativo[2]+ '.xlsx'\r\n",
    "    df.to_excel(nome_arq, sheet_name=str(data_atual))\r\n",
    "    "
   ]
  },
  {
   "cell_type": "code",
   "execution_count": 43,
   "metadata": {},
   "outputs": [
    {
     "name": "stdout",
     "output_type": "stream",
     "text": [
      "<class 'datetime.date'>\n"
     ]
    }
   ],
   "source": [
    "print(type(data_atual))"
   ]
  },
  {
   "cell_type": "code",
   "execution_count": 44,
   "metadata": {},
   "outputs": [],
   "source": [
    "### https://www.alura.com.br/artigos/lidando-com-datas-e-horarios-no-python?gclid=CjwKCAjwieuGBhAsEiwA1Ly_nWDbtS13ZSnMrNsQGuuQCRKckt2Jbyv8byErnftNStX5-SAf5fxwSxoCpF8QAvD_BwE"
   ]
  },
  {
   "cell_type": "code",
   "execution_count": 45,
   "metadata": {},
   "outputs": [
    {
     "data": {
      "text/plain": [
       "'8/7/2021'"
      ]
     },
     "execution_count": 45,
     "metadata": {},
     "output_type": "execute_result"
    }
   ],
   "source": [
    "data_em_texto = '{}/{}/{}'.format(data_atual.day, data_atual.month,\n",
    "data_atual.year)\n",
    "data_em_texto"
   ]
  },
  {
   "cell_type": "code",
   "execution_count": 46,
   "metadata": {},
   "outputs": [
    {
     "name": "stdout",
     "output_type": "stream",
     "text": [
      "      Ativo  Strike   bid   ask   Last  ▲ R$  ▲ % Strike  Somatório  \\\n",
      "0     CMIG4    0.00  0.00  0.00  11.87  0.00        0.00       0.00   \n",
      "1  CMIGG154   13.35  0.00  0.02   0.02  0.00        0.00       0.00   \n",
      "2  CMIGH139   14.00  0.06  0.00   0.09  0.65        4.87       0.69   \n",
      "\n",
      "   % sobre CMIGG154  Cash  \n",
      "0              0.00  0.00  \n",
      "1              0.00  0.00  \n",
      "2              5.17  0.04  \n"
     ]
    }
   ],
   "source": [
    "ativo = ['CMIG4', 'CMIGG154', 'CMIGH139'] \n",
    "RolarOpcoes(ativo)"
   ]
  },
  {
   "cell_type": "code",
   "execution_count": 47,
   "metadata": {},
   "outputs": [
    {
     "name": "stdout",
     "output_type": "stream",
     "text": [
      "      Ativo  Strike  bid   ask   Last  ▲ R$  ▲ % Strike  Somatório  \\\n",
      "0     CMIG4    0.00  0.0  0.00  11.87  0.00        0.00       0.00   \n",
      "1  CMIGG154   13.35  0.0  0.02   0.02  0.00        0.00       0.00   \n",
      "2  CMIGH134   13.50  0.1  0.00   0.13  0.15        1.12       0.23   \n",
      "\n",
      "   % sobre CMIGG154  Cash  \n",
      "0              0.00  0.00  \n",
      "1              0.00  0.00  \n",
      "2              1.72  0.08  \n"
     ]
    }
   ],
   "source": [
    "ativo = ['CMIG4', 'CMIGG154', 'CMIGH134'] \n",
    "RolarOpcoes(ativo)"
   ]
  },
  {
   "cell_type": "code",
   "execution_count": 48,
   "metadata": {},
   "outputs": [
    {
     "name": "stdout",
     "output_type": "stream",
     "text": [
      "      Ativo  Strike   bid   ask   Last  ▲ R$  ▲ % Strike  Somatório  \\\n",
      "0     CMIG4    0.00  0.00  0.00  11.87  0.00        0.00       0.00   \n",
      "1  CMIGG154   13.35  0.00  0.02   0.02  0.00        0.00       0.00   \n",
      "2  CMIGH131   13.25  0.13  0.00   0.20 -0.10       -0.75       0.01   \n",
      "3  CMIGH134   13.50  0.10  0.00   0.13  0.15        1.12       0.23   \n",
      "4  CMIGH139   14.00  0.06  0.00   0.09  0.65        4.87       0.69   \n",
      "\n",
      "   % sobre CMIGG154  Cash  \n",
      "0              0.00  0.00  \n",
      "1              0.00  0.00  \n",
      "2              0.07  0.11  \n",
      "3              1.72  0.08  \n",
      "4              5.17  0.04  \n"
     ]
    }
   ],
   "source": [
    "ativo = ['CMIG4', 'CMIGG154', 'CMIGH131', 'CMIGH134', 'CMIGH139'] \n",
    "RolarOpcoes(ativo)"
   ]
  },
  {
   "cell_type": "code",
   "execution_count": 49,
   "metadata": {},
   "outputs": [
    {
     "name": "stdout",
     "output_type": "stream",
     "text": [
      "      Ativo  Strike   bid   ask   Last  ▲ R$  ▲ % Strike  Somatório  \\\n",
      "0     ELET3    0.00  0.00  0.00  42.70  0.00        0.00       0.00   \n",
      "1  ELETG454   45.61  0.00  0.09   0.09  0.00        0.00       0.00   \n",
      "2  ELETH460   46.00  1.04  0.00   1.11  0.39        0.86       1.34   \n",
      "3  ELETH467   46.75  0.80  0.00   0.87  1.14        2.50       1.85   \n",
      "4  ELETH470   47.00  0.65  0.00   0.90  1.39        3.05       1.95   \n",
      "5  ELETH477   47.75  1.00  0.00   1.50  2.14        4.69       3.05   \n",
      "6  ELETH480   48.00  0.63  0.00   0.70  2.39        5.24       2.93   \n",
      "\n",
      "   % sobre ELETG454  Cash  \n",
      "0              0.00  0.00  \n",
      "1              0.00  0.00  \n",
      "2              2.94  0.95  \n",
      "3              4.06  0.71  \n",
      "4              4.28  0.56  \n",
      "5              6.69  0.91  \n",
      "6              6.42  0.54  \n"
     ]
    }
   ],
   "source": [
    "ativo = ['ELET3', 'ELETG454', 'ELETH460', 'ELETH467', 'ELETH470', 'ELETH477', 'ELETH480'] \n",
    "RolarOpcoes(ativo)"
   ]
  },
  {
   "cell_type": "code",
   "execution_count": 50,
   "metadata": {},
   "outputs": [
    {
     "name": "stdout",
     "output_type": "stream",
     "text": [
      "      Ativo  Strike  bid  ask   Last  ▲ R$  ▲ % Strike  Somatório  \\\n",
      "0     ITSA4    0.00  0.0  0.0  11.16  0.00        0.00       0.00   \n",
      "1  ITSAG118   11.76  0.0  1.0   0.00  0.00        0.00       0.00   \n",
      "2  ITSAH118   11.79  0.2  0.0   0.23  0.03        0.26      -0.77   \n",
      "\n",
      "   % sobre ITSAG118  Cash  \n",
      "0              0.00   0.0  \n",
      "1              0.00   0.0  \n",
      "2             -6.55  -0.8  \n"
     ]
    }
   ],
   "source": [
    "ativo = ['ITSA4', 'ITSAG118', 'ITSAH118'] \n",
    "RolarOpcoes(ativo)"
   ]
  },
  {
   "cell_type": "code",
   "execution_count": 51,
   "metadata": {},
   "outputs": [
    {
     "name": "stdout",
     "output_type": "stream",
     "text": [
      "      Ativo  Strike   bid   ask   Last  ▲ R$  ▲ % Strike  Somatório  \\\n",
      "0     CSAN3    0.00  0.00  0.00  24.60  0.00        0.00       0.00   \n",
      "1  CSANG100   24.74  0.00  0.46   0.38  0.00        0.00       0.00   \n",
      "2  CSANH250   25.00  0.92  0.00   1.00  0.26        1.05       0.72   \n",
      "\n",
      "   % sobre CSANG100  Cash  \n",
      "0              0.00  0.00  \n",
      "1              0.00  0.00  \n",
      "2              2.91  0.46  \n"
     ]
    }
   ],
   "source": [
    "ativo = ['CSAN3', 'CSANG100', 'CSANH250'] \n",
    "RolarOpcoes(ativo)"
   ]
  },
  {
   "cell_type": "code",
   "execution_count": 52,
   "metadata": {},
   "outputs": [
    {
     "name": "stdout",
     "output_type": "stream",
     "text": [
      "      Ativo  Strike  bid  ask   Last  ▲ R$  ▲ % Strike  Somatório  \\\n",
      "0     BBSE3     0.0  0.0  0.0  22.68   0.0        0.00        0.0   \n",
      "1  BBSET220    22.0  0.0  0.4   0.38   0.0        0.00        0.0   \n",
      "2  BBSEU230    23.0  0.9  0.0   0.93   1.0        4.55        1.5   \n",
      "\n",
      "   % sobre BBSET220  Cash  \n",
      "0              0.00   0.0  \n",
      "1              0.00   0.0  \n",
      "2              6.82   0.5  \n"
     ]
    }
   ],
   "source": [
    "ativo = ['BBSE3', 'BBSET220', 'BBSEU230'] \r\n",
    "RolarOpcoes(ativo)"
   ]
  },
  {
   "cell_type": "code",
   "execution_count": 61,
   "metadata": {},
   "outputs": [
    {
     "name": "stdout",
     "output_type": "stream",
     "text": [
      "      Ativo  Strike   bid   ask  Last  ▲ R$  ▲ % Strike  Somatório  \\\n",
      "0     IRBR3     0.0  0.00  0.00  5.57   0.0         0.0       0.00   \n",
      "1  IRBRS600     6.0  0.00  0.47  0.45   0.0         0.0       0.00   \n",
      "2  IRBRT600     6.0  0.49  0.00  0.50   0.0         0.0       0.02   \n",
      "\n",
      "   % sobre IRBRS600  Cash  \n",
      "0              0.00  0.00  \n",
      "1              0.00  0.00  \n",
      "2              0.33  0.02  \n"
     ]
    }
   ],
   "source": [
    "ativo = ['IRBR3', 'IRBRS600', 'IRBRT600'] \r\n",
    "RolarOpcoes(ativo)"
   ]
  },
  {
   "cell_type": "code",
   "execution_count": 54,
   "metadata": {},
   "outputs": [
    {
     "name": "stdout",
     "output_type": "stream",
     "text": [
      "      Ativo  Strike   bid   ask    Last  ▲ R$  ▲ % Strike  Somatório  \\\n",
      "0     VALE3    0.00  0.00  0.00  113.95  0.00        0.00        0.0   \n",
      "1  VALEG116  116.91  0.00  0.81    0.79  0.00        0.00        0.0   \n",
      "2   VALEH61  117.67  3.25  0.00    3.25  0.76        0.65        3.2   \n",
      "\n",
      "   % sobre VALEG116  Cash  \n",
      "0              0.00  0.00  \n",
      "1              0.00  0.00  \n",
      "2              2.74  2.44  \n"
     ]
    }
   ],
   "source": [
    "RolarOpcoes(['VALE3', 'VALEG116', 'VALEH61'] )"
   ]
  },
  {
   "cell_type": "code",
   "execution_count": 55,
   "metadata": {},
   "outputs": [
    {
     "name": "stdout",
     "output_type": "stream",
     "text": [
      "      Ativo  Strike  bid   ask   Last  ▲ R$  ▲ % Strike  Somatório  \\\n",
      "0     BBSE3     0.0  0.0  0.00  22.68   0.0         0.0       0.00   \n",
      "1  BBSET230    23.0  0.0  0.81   0.80   0.0         0.0       0.00   \n",
      "2  BBSEU230    23.0  0.9  0.00   0.93   0.0         0.0       0.09   \n",
      "\n",
      "   % sobre BBSET230  Cash  \n",
      "0              0.00  0.00  \n",
      "1              0.00  0.00  \n",
      "2              0.39  0.09  \n"
     ]
    }
   ],
   "source": [
    "RolarOpcoes(['BBSE3', 'BBSET230', 'BBSEU230'] )"
   ]
  }
 ],
 "metadata": {
  "interpreter": {
   "hash": "63fd5069d213b44bf678585dea6b12cceca9941eaf7f819626cde1f2670de90d"
  },
  "kernelspec": {
   "display_name": "Python 3.9.5 64-bit",
   "name": "python3"
  },
  "language_info": {
   "codemirror_mode": {
    "name": "ipython",
    "version": 3
   },
   "file_extension": ".py",
   "mimetype": "text/x-python",
   "name": "python",
   "nbconvert_exporter": "python",
   "pygments_lexer": "ipython3",
   "version": "3.9.5"
  },
  "metadata": {
   "interpreter": {
    "hash": "63fd5069d213b44bf678585dea6b12cceca9941eaf7f819626cde1f2670de90d"
   }
  },
  "orig_nbformat": 2
 },
 "nbformat": 4,
 "nbformat_minor": 2
}