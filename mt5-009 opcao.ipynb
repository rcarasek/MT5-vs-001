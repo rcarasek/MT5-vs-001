{
 "metadata": {
  "language_info": {
   "codemirror_mode": {
    "name": "ipython",
    "version": 3
   },
   "file_extension": ".py",
   "mimetype": "text/x-python",
   "name": "python",
   "nbconvert_exporter": "python",
   "pygments_lexer": "ipython3",
   "version": "3.9.5"
  },
  "orig_nbformat": 2,
  "kernelspec": {
   "name": "python395jvsc74a57bd063fd5069d213b44bf678585dea6b12cceca9941eaf7f819626cde1f2670de90d",
   "display_name": "Python 3.9.5 64-bit"
  },
  "metadata": {
   "interpreter": {
    "hash": "63fd5069d213b44bf678585dea6b12cceca9941eaf7f819626cde1f2670de90d"
   }
  }
 },
 "nbformat": 4,
 "nbformat_minor": 2,
 "cells": [
  {
   "cell_type": "code",
   "execution_count": 1,
   "metadata": {},
   "outputs": [
    {
     "output_type": "execute_result",
     "data": {
      "text/plain": [
       "True"
      ]
     },
     "metadata": {},
     "execution_count": 1
    }
   ],
   "source": [
    "import MetaTrader5 as mt5\n",
    "import pandas as pd \n",
    "\n",
    "mt5.initialize()"
   ]
  },
  {
   "cell_type": "code",
   "execution_count": 8,
   "metadata": {},
   "outputs": [],
   "source": [
    "meu_formato_numerico = \"{0:.2f}\""
   ]
  },
  {
   "cell_type": "code",
   "execution_count": 3,
   "metadata": {},
   "outputs": [],
   "source": [
    "def PegaInfoAtivoPrincipal(ativo):\n",
    "    global ativoPrincipalLast \n",
    "    ativoPrincipalLast = mt5.symbol_info_tick(ativo).last\n",
    "    print('Ativo:', ativo, '    Last Price' , meu_formato_numerico.format(ativoPrincipalLast))\n",
    "\n",
    "def PegaInfoAtivoOpcoesMatrix(ativo):\n",
    "    n = len(ativo)\n",
    "    global opcaoStrike, opcaoBid, opcaoAsk, opcaoLast\n",
    "    opcaoStrike = list(())\n",
    "    opcaoBid = list(())\n",
    "    opcaoAsk= list(())\n",
    "    opcaoLast= list(())\n",
    "\n",
    "    for i in range(n):\n",
    "        infoAtivo = mt5.symbol_info(ativo[i])\n",
    "        opcaoStrike.append(infoAtivo.option_strike)\n",
    "        opcaoBid.append(mt5.symbol_info_tick(ativo[i]).bid)\n",
    "        opcaoAsk.append(mt5.symbol_info_tick(ativo[i]).ask)\n",
    "        opcaoLast.append(mt5.symbol_info_tick(ativo[i]).last)\n",
    "    \n",
    "def GanhareiPerderei(ativo, ListaOpcoes):\n",
    "    global ativoPrincipalLast \n",
    "    global opcaoStrike, opcaoBid, opcaoAsk, opcaoLast\n",
    "    opcaoStrike = list(())\n",
    "    opcaoBid = list(())\n",
    "    opcaoAsk= list(())\n",
    "    opcaoLast= list(())\n",
    "\n",
    "    infoAtivo = mt5.symbol_info(ativo)\n",
    "    ativoPrincipalLast = mt5.symbol_info_tick(ativo).last\n",
    "\n",
    "    print('Ativo:', ativo, '    Last Price' , meu_formato_numerico.format(ativoPrincipalLast))\n",
    "\n",
    "    n = len(ListaOpcoes)\n",
    "    for i in range(n):\n",
    "        opcaoStrike.append(mt5.symbol_info(ListaOpcoes[i]).option_strike)\n",
    "        opcaoBid.append(mt5.symbol_info_tick(ListaOpcoes[i]).bid)\n",
    "        opcaoAsk.append(mt5.symbol_info_tick(ListaOpcoes[i]).ask)\n",
    "        opcaoLast.append(mt5.symbol_info_tick(ListaOpcoes[i]).last)\n",
    "\n",
    "    for i in range(len(ListaOpcoes)):\n",
    "        # print(ativoOpcoes[i], opcaoStrike[i], (ativoPrincipalLast/opcaoStrike[i]-1)*100)\n",
    "        print(\"Ganha/Perde\")\n",
    "        print(ListaOpcoes[i], \n",
    "        ' PrLast:', meu_formato_numerico.format(ativoPrincipalLast),\n",
    "        ' Strike:', meu_formato_numerico.format(opcaoStrike[i]),  \n",
    "        ' Bid:',    meu_formato_numerico.format(opcaoBid[i]), \n",
    "        ' Ask:',    meu_formato_numerico.format(opcaoAsk[i]), \n",
    "        ' Last:',   meu_formato_numerico.format(opcaoLast[i]))\n",
    "  \n",
    "        gastarei = opcaoAsk[i]\n",
    "        ganharei = ativoPrincipalLast - opcaoStrike[i]\n",
    "        print('Perderei:', meu_formato_numerico.format(gastarei), \n",
    "        '    Ganharei:', meu_formato_numerico.format(ganharei))\n",
    "        if ganharei > gastarei:\n",
    "            print('Ganharei: ', meu_formato_numerico.format(ganharei-gastarei))\n",
    "        else:\n",
    "            print('Perderei: ', meu_formato_numerico.format(gastarei-ganharei))\n",
    "        \n"
   ]
  },
  {
   "cell_type": "code",
   "execution_count": 4,
   "metadata": {},
   "outputs": [
    {
     "output_type": "stream",
     "name": "stdout",
     "text": [
      "Ativo: VALE3     Last Price 112.90\nGanha/Perde\nVALEF877  PrLast: 112.90  Strike: 111.10  Bid: 4.00  Ask: 4.00  Last: 4.00\nPerderei: 4.00     Ganharei: 1.80\nPerderei:  2.20\nGanha/Perde\nVALEF114  PrLast: 112.90  Strike: 114.10  Bid: 0.00  Ask: 0.00  Last: 2.53\nPerderei: 0.00     Ganharei: -1.20\nPerderei:  1.20\nGanha/Perde\nVALEF121  PrLast: 112.90  Strike: 117.10  Bid: 0.00  Ask: 0.00  Last: 1.48\nPerderei: 0.00     Ganharei: -4.20\nPerderei:  4.20\nGanha/Perde\nVALEG108  PrLast: 112.90  Strike: 115.10  Bid: 0.00  Ask: 0.00  Last: 4.03\nPerderei: 0.00     Ganharei: -2.20\nPerderei:  2.20\n"
     ]
    }
   ],
   "source": [
    "ativoPrincipal = 'VALE3'\n",
    "ativoOpcoes = ['VALEF877', 'VALEF114', 'VALEF121', 'VALEG108']\n",
    "GanhareiPerderei(ativoPrincipal, ativoOpcoes)"
   ]
  },
  {
   "cell_type": "code",
   "execution_count": 5,
   "metadata": {},
   "outputs": [
    {
     "output_type": "stream",
     "name": "stdout",
     "text": [
      "Ativo: ITSA4     Last Price 11.90\nGanha/Perde\nITSAF109  PrLast: 11.90  Strike: 10.76  Bid: 0.00  Ask: 0.00  Last: 1.07\nPerderei: 0.00     Ganharei: 1.14\nGanharei:  1.14\nGanha/Perde\nITSAF110  PrLast: 11.90  Strike: 11.01  Bid: 0.83  Ask: 0.92  Last: 0.92\nPerderei: 0.92     Ganharei: 0.89\nPerderei:  0.03\nGanha/Perde\nITSAG113  PrLast: 11.90  Strike: 11.26  Bid: 0.00  Ask: 0.00  Last: 0.79\nPerderei: 0.00     Ganharei: 0.64\nGanharei:  0.64\n"
     ]
    }
   ],
   "source": [
    "ativoPrincipal = 'ITSA4'\n",
    "ativoOpcoes = ['ITSAF109', 'ITSAF110', 'ITSAG113']\n",
    "GanhareiPerderei(ativoPrincipal, ativoOpcoes)"
   ]
  },
  {
   "cell_type": "code",
   "execution_count": 6,
   "metadata": {},
   "outputs": [
    {
     "output_type": "stream",
     "name": "stdout",
     "text": [
      "Ativo: BBAS3     Last Price 35.75\nGanha/Perde\nBBASF339  PrLast: 35.75  Strike: 33.59  Bid: 0.00  Ask: 0.00  Last: 2.29\nPerderei: 0.00     Ganharei: 2.16\nGanharei:  2.16\nGanha/Perde\nBBASG357  PrLast: 35.75  Strike: 34.89  Bid: 0.00  Ask: 0.00  Last: 1.83\nPerderei: 0.00     Ganharei: 0.86\nGanharei:  0.86\n"
     ]
    }
   ],
   "source": [
    "ativoPrincipal = 'BBAS3'\n",
    "ativoOpcoes = ['BBASF339', 'BBASG357']\n",
    "GanhareiPerderei(ativoPrincipal, ativoOpcoes)"
   ]
  },
  {
   "cell_type": "code",
   "execution_count": null,
   "metadata": {},
   "outputs": [],
   "source": []
  },
  {
   "cell_type": "code",
   "execution_count": 7,
   "metadata": {},
   "outputs": [],
   "source": [
    "# mt5.shutdown()"
   ]
  }
 ]
}