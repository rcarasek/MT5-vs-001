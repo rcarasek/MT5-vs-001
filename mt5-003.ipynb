{
 "metadata": {
  "language_info": {
   "codemirror_mode": {
    "name": "ipython",
    "version": 3
   },
   "file_extension": ".py",
   "mimetype": "text/x-python",
   "name": "python",
   "nbconvert_exporter": "python",
   "pygments_lexer": "ipython3",
   "version": "3.9.5"
  },
  "orig_nbformat": 2,
  "kernelspec": {
   "name": "python395jvsc74a57bd063fd5069d213b44bf678585dea6b12cceca9941eaf7f819626cde1f2670de90d",
   "display_name": "Python 3.9.5 64-bit"
  },
  "metadata": {
   "interpreter": {
    "hash": "63fd5069d213b44bf678585dea6b12cceca9941eaf7f819626cde1f2670de90d"
   }
  }
 },
 "nbformat": 4,
 "nbformat_minor": 2,
 "cells": [
  {
   "cell_type": "code",
   "execution_count": 1,
   "metadata": {},
   "outputs": [
    {
     "output_type": "execute_result",
     "data": {
      "text/plain": [
       "True"
      ]
     },
     "metadata": {},
     "execution_count": 1
    }
   ],
   "source": [
    "import MetaTrader5 as mt5\n",
    "import pandas as pd \n",
    "\n",
    "mt5.initialize()"
   ]
  },
  {
   "cell_type": "code",
   "execution_count": 47,
   "metadata": {},
   "outputs": [
    {
     "output_type": "stream",
     "name": "stdout",
     "text": [
      "17\n"
     ]
    }
   ],
   "source": [
    "# ativos = ['BBAS3', 'BBSE3', 'VALE3']\n",
    "ativos = ['BBAS3', 'BBSE3', 'CMIG4', 'COCE5', 'COGN3' ,'CSAN3', 'DIRR3', 'ELET3', 'GGBR4', 'IRBR3', 'ITSA4', 'MTRE3', 'OIBR3', 'RRRP3', 'SAPR11', 'SAPR4', 'VALE3' ]\n",
    "print(len(ativos))"
   ]
  },
  {
   "cell_type": "code",
   "execution_count": null,
   "metadata": {},
   "outputs": [],
   "source": []
  },
  {
   "cell_type": "code",
   "execution_count": 37,
   "metadata": {},
   "outputs": [],
   "source": [
    "def PegaInfoAtivo(ativo):\n",
    "    mt5.symbol_select(ativo, True)\n",
    "    # priceAsk = mt5.symbol_info_tick(ativo).ask\n",
    "    #priceBid = mt5.symbol_info_tick(ativo).bid\n",
    "    priceLast = mt5.symbol_info_tick(ativo).last\n",
    "    # print(priceBid, priceAsk, priceLast)\n",
    "    print(priceLast)"
   ]
  },
  {
   "cell_type": "code",
   "execution_count": 46,
   "metadata": {},
   "outputs": [
    {
     "output_type": "stream",
     "name": "stdout",
     "text": [
      "35.2\n24.1\n13.9\n57.87\n0.0\n24.25\n0.0\n45.0\n33.39\n0.0\n11.64\n0.0\n0.0\n0.0\n0.0\n0.0\n114.8\n"
     ]
    }
   ],
   "source": [
    "for i in range(len(ativos)):\n",
    "    PegaInfoAtivo(ativos[i])\n"
   ]
  },
  {
   "cell_type": "code",
   "execution_count": null,
   "metadata": {},
   "outputs": [],
   "source": [
    "mt5.shutdown()"
   ]
  },
  {
   "cell_type": "code",
   "execution_count": 34,
   "metadata": {},
   "outputs": [],
   "source": [
    "Endereco_arquivo_excel = 'Ativos_Orders_Py.xlsx'\n",
    "ativosDoExcel = pd.read_excel(Endereco_arquivo_excel, sheet_name='Ativo')"
   ]
  },
  {
   "cell_type": "code",
   "execution_count": 43,
   "metadata": {},
   "outputs": [
    {
     "output_type": "execute_result",
     "data": {
      "text/plain": [
       "     Ativo\n",
       "0    BBAS3\n",
       "1    BBSE3\n",
       "2    BBSE3\n",
       "3    CMIG4\n",
       "4    COCE5\n",
       "5    COGN3\n",
       "6    CSAN3\n",
       "7    DIRR3\n",
       "8    ELET3\n",
       "9    GGBR4\n",
       "10   GGBR4\n",
       "11   IRBR3\n",
       "12   ITSA4\n",
       "13   ITSA4\n",
       "14   JPSA3\n",
       "15   MTRE3\n",
       "16   OIBR3\n",
       "17   RRRP3\n",
       "18  SAPR11\n",
       "19   SAPR4\n",
       "20   VALE3"
      ],
      "text/html": "<div>\n<style scoped>\n    .dataframe tbody tr th:only-of-type {\n        vertical-align: middle;\n    }\n\n    .dataframe tbody tr th {\n        vertical-align: top;\n    }\n\n    .dataframe thead th {\n        text-align: right;\n    }\n</style>\n<table border=\"1\" class=\"dataframe\">\n  <thead>\n    <tr style=\"text-align: right;\">\n      <th></th>\n      <th>Ativo</th>\n    </tr>\n  </thead>\n  <tbody>\n    <tr>\n      <th>0</th>\n      <td>BBAS3</td>\n    </tr>\n    <tr>\n      <th>1</th>\n      <td>BBSE3</td>\n    </tr>\n    <tr>\n      <th>2</th>\n      <td>BBSE3</td>\n    </tr>\n    <tr>\n      <th>3</th>\n      <td>CMIG4</td>\n    </tr>\n    <tr>\n      <th>4</th>\n      <td>COCE5</td>\n    </tr>\n    <tr>\n      <th>5</th>\n      <td>COGN3</td>\n    </tr>\n    <tr>\n      <th>6</th>\n      <td>CSAN3</td>\n    </tr>\n    <tr>\n      <th>7</th>\n      <td>DIRR3</td>\n    </tr>\n    <tr>\n      <th>8</th>\n      <td>ELET3</td>\n    </tr>\n    <tr>\n      <th>9</th>\n      <td>GGBR4</td>\n    </tr>\n    <tr>\n      <th>10</th>\n      <td>GGBR4</td>\n    </tr>\n    <tr>\n      <th>11</th>\n      <td>IRBR3</td>\n    </tr>\n    <tr>\n      <th>12</th>\n      <td>ITSA4</td>\n    </tr>\n    <tr>\n      <th>13</th>\n      <td>ITSA4</td>\n    </tr>\n    <tr>\n      <th>14</th>\n      <td>JPSA3</td>\n    </tr>\n    <tr>\n      <th>15</th>\n      <td>MTRE3</td>\n    </tr>\n    <tr>\n      <th>16</th>\n      <td>OIBR3</td>\n    </tr>\n    <tr>\n      <th>17</th>\n      <td>RRRP3</td>\n    </tr>\n    <tr>\n      <th>18</th>\n      <td>SAPR11</td>\n    </tr>\n    <tr>\n      <th>19</th>\n      <td>SAPR4</td>\n    </tr>\n    <tr>\n      <th>20</th>\n      <td>VALE3</td>\n    </tr>\n  </tbody>\n</table>\n</div>"
     },
     "metadata": {},
     "execution_count": 43
    }
   ],
   "source": [
    "ativosDoExcel"
   ]
  },
  {
   "cell_type": "code",
   "execution_count": 48,
   "metadata": {},
   "outputs": [],
   "source": [
    "opcao = 'VALEF877'"
   ]
  },
  {
   "cell_type": "code",
   "execution_count": 49,
   "metadata": {},
   "outputs": [
    {
     "output_type": "stream",
     "name": "stdout",
     "text": [
      "5.51\n"
     ]
    }
   ],
   "source": [
    "PegaInfoAtivo(opcao)"
   ]
  },
  {
   "cell_type": "code",
   "execution_count": null,
   "metadata": {},
   "outputs": [],
   "source": []
  }
 ]
}