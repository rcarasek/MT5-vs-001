{
 "metadata": {
  "language_info": {
   "codemirror_mode": {
    "name": "ipython",
    "version": 3
   },
   "file_extension": ".py",
   "mimetype": "text/x-python",
   "name": "python",
   "nbconvert_exporter": "python",
   "pygments_lexer": "ipython3",
   "version": "3.8.8"
  },
  "orig_nbformat": 2,
  "kernelspec": {
   "name": "python388jvsc74a57bd08fac594bfae6525c0c41b4041d2d72effa188cc8ead05f81b1fab2bb098927fb",
   "display_name": "Python 3.8.8 64-bit ('base': conda)"
  },
  "metadata": {
   "interpreter": {
    "hash": "6a3e34e222189c0756ab50c7e38e19053e0db080afbca923812458338f6ccb54"
   }
  }
 },
 "nbformat": 4,
 "nbformat_minor": 2,
 "cells": [
  {
   "cell_type": "code",
   "execution_count": 1,
   "metadata": {},
   "outputs": [
    {
     "output_type": "stream",
     "name": "stderr",
     "text": [
      "ERROR: Could not find a version that satisfies the requirement upgrade\n",
      "ERROR: No matching distribution found for upgrade\n",
      "Collecting pandas-datareader\n",
      "  Using cached pandas_datareader-0.9.0-py3-none-any.whl (107 kB)\n",
      "Requirement already satisfied: lxml in c:\\users\\user\\anaconda3\\lib\\site-packages (from pandas-datareader) (4.6.3)\n",
      "Requirement already satisfied: requests>=2.19.0 in c:\\users\\user\\anaconda3\\lib\\site-packages (from pandas-datareader) (2.25.1)\n",
      "Requirement already satisfied: pandas>=0.23 in c:\\users\\user\\anaconda3\\lib\\site-packages (from pandas-datareader) (1.2.4)\n",
      "Requirement already satisfied: python-dateutil>=2.7.3 in c:\\users\\user\\anaconda3\\lib\\site-packages (from pandas>=0.23->pandas-datareader) (2.8.1)\n",
      "Requirement already satisfied: numpy>=1.16.5 in c:\\users\\user\\anaconda3\\lib\\site-packages (from pandas>=0.23->pandas-datareader) (1.20.1)\n",
      "Requirement already satisfied: pytz>=2017.3 in c:\\users\\user\\anaconda3\\lib\\site-packages (from pandas>=0.23->pandas-datareader) (2021.1)\n",
      "Requirement already satisfied: six>=1.5 in c:\\users\\user\\anaconda3\\lib\\site-packages (from python-dateutil>=2.7.3->pandas>=0.23->pandas-datareader) (1.15.0)\n",
      "Requirement already satisfied: idna<3,>=2.5 in c:\\users\\user\\anaconda3\\lib\\site-packages (from requests>=2.19.0->pandas-datareader) (2.10)\n",
      "Requirement already satisfied: urllib3<1.27,>=1.21.1 in c:\\users\\user\\anaconda3\\lib\\site-packages (from requests>=2.19.0->pandas-datareader) (1.26.4)\n",
      "Requirement already satisfied: certifi>=2017.4.17 in c:\\users\\user\\anaconda3\\lib\\site-packages (from requests>=2.19.0->pandas-datareader) (2020.12.5)\n",
      "Requirement already satisfied: chardet<5,>=3.0.2 in c:\\users\\user\\anaconda3\\lib\\site-packages (from requests>=2.19.0->pandas-datareader) (4.0.0)\n",
      "Installing collected packages: pandas-datareader\n",
      "Successfully installed pandas-datareader-0.9.0\n"
     ]
    }
   ],
   "source": [
    "!pip install upgrade\n",
    "!pip install pandas-datareader"
   ]
  },
  {
   "cell_type": "code",
   "execution_count": 2,
   "metadata": {},
   "outputs": [],
   "source": [
    "import MetaTrader5 as mt5\n",
    "from datetime import datetime\n",
    "import time\n",
    "import pandas as pd\n",
    "from pandas_datareader import data as pdr\n",
    "import numpy as np\n",
    "import matplotlib.pyplot as plt\n",
    "%matplotlib inline"
   ]
  },
  {
   "cell_type": "code",
   "execution_count": 3,
   "metadata": {},
   "outputs": [
    {
     "output_type": "stream",
     "name": "stdout",
     "text": [
      "ok\n"
     ]
    }
   ],
   "source": [
    "# estabelecemos a conexão ao MetaTrader 5\n",
    "# conecte-se ao MetaTrader 5\n",
    "if not mt5.initialize():\n",
    "    print(\"initialize() Falha ao Iniciar seu metra Trade 5\")\n",
    "    mt5.shutdown()\n",
    "else:\n",
    "    print('ok')"
   ]
  },
  {
   "cell_type": "code",
   "execution_count": 5,
   "metadata": {},
   "outputs": [],
   "source": [
    "### Obtendo valores de ativos\n",
    "#tenho que fazer uma estrutura de repecticao  para ficar gemrado os pontos de entrar e saida\n",
    "def get_ohlc(ativo, timeframe, n=5):\n",
    "    ativo = mt5.copy_rates_from_pos(ativo,timeframe, 0, n)\n",
    "    ativo = pd.DataFrame(ativo)\n",
    "    ativo['time'] = pd.to_datetime(ativo['time'], unit='s')\n",
    "    ativo['Pivot'] = (ativo['high'] + ativo['low'] + ativo['close'])/3\n",
    "    ativo['R1'] = 2*ativo['Pivot'] - ativo['low']\n",
    "    ativo['S1'] = 2*ativo['Pivot'] - ativo['high']\n",
    "    ativo['R2'] = ativo['Pivot'] + (ativo['high'] - ativo['low'])\n",
    "    ativo['S2'] = ativo['Pivot'] - (ativo['high'] - ativo['low'])\n",
    "    ativo['R3'] = ativo['Pivot'] + 2*(ativo['high'] - ativo['low'])\n",
    "    ativo['S3'] = ativo['Pivot'] - 2*(ativo['high'] - ativo['low'])\n",
    "\n",
    "    \n",
    "    ativo.set_index('time', inplace = True)\n",
    "    return ativo"
   ]
  },
  {
   "cell_type": "code",
   "execution_count": 10,
   "metadata": {},
   "outputs": [],
   "source": [
    "symbol = 'ITUB4'\n",
    "ativo = (get_ohlc(symbol, mt5.TIMEFRAME_M5))"
   ]
  },
  {
   "cell_type": "code",
   "execution_count": 11,
   "metadata": {},
   "outputs": [
    {
     "output_type": "execute_result",
     "data": {
      "text/plain": [
       "                      open   high    low  close  tick_volume  spread  \\\n",
       "time                                                                   \n",
       "2021-06-02 16:20:00  31.68  31.70  31.64  31.67          754       1   \n",
       "2021-06-02 16:25:00  31.67  31.71  31.67  31.69          661       1   \n",
       "2021-06-02 16:30:00  31.69  31.72  31.59  31.60          829       1   \n",
       "2021-06-02 16:35:00  31.59  31.65  31.57  31.63          904       1   \n",
       "2021-06-02 16:40:00  31.63  31.65  31.61  31.63          225       1   \n",
       "\n",
       "                     real_volume      Pivot         R1         S1         R2  \\\n",
       "time                                                                           \n",
       "2021-06-02 16:20:00       503400  31.670000  31.700000  31.640000  31.730000   \n",
       "2021-06-02 16:25:00       276500  31.690000  31.710000  31.670000  31.730000   \n",
       "2021-06-02 16:30:00       742500  31.636667  31.683333  31.553333  31.766667   \n",
       "2021-06-02 16:35:00       648600  31.616667  31.663333  31.583333  31.696667   \n",
       "2021-06-02 16:40:00       105600  31.630000  31.650000  31.610000  31.670000   \n",
       "\n",
       "                            S2         R3         S3  \n",
       "time                                                  \n",
       "2021-06-02 16:20:00  31.610000  31.790000  31.550000  \n",
       "2021-06-02 16:25:00  31.650000  31.770000  31.610000  \n",
       "2021-06-02 16:30:00  31.506667  31.896667  31.376667  \n",
       "2021-06-02 16:35:00  31.536667  31.776667  31.456667  \n",
       "2021-06-02 16:40:00  31.590000  31.710000  31.550000  "
      ],
      "text/html": "<div>\n<style scoped>\n    .dataframe tbody tr th:only-of-type {\n        vertical-align: middle;\n    }\n\n    .dataframe tbody tr th {\n        vertical-align: top;\n    }\n\n    .dataframe thead th {\n        text-align: right;\n    }\n</style>\n<table border=\"1\" class=\"dataframe\">\n  <thead>\n    <tr style=\"text-align: right;\">\n      <th></th>\n      <th>open</th>\n      <th>high</th>\n      <th>low</th>\n      <th>close</th>\n      <th>tick_volume</th>\n      <th>spread</th>\n      <th>real_volume</th>\n      <th>Pivot</th>\n      <th>R1</th>\n      <th>S1</th>\n      <th>R2</th>\n      <th>S2</th>\n      <th>R3</th>\n      <th>S3</th>\n    </tr>\n    <tr>\n      <th>time</th>\n      <th></th>\n      <th></th>\n      <th></th>\n      <th></th>\n      <th></th>\n      <th></th>\n      <th></th>\n      <th></th>\n      <th></th>\n      <th></th>\n      <th></th>\n      <th></th>\n      <th></th>\n      <th></th>\n    </tr>\n  </thead>\n  <tbody>\n    <tr>\n      <th>2021-06-02 16:20:00</th>\n      <td>31.68</td>\n      <td>31.70</td>\n      <td>31.64</td>\n      <td>31.67</td>\n      <td>754</td>\n      <td>1</td>\n      <td>503400</td>\n      <td>31.670000</td>\n      <td>31.700000</td>\n      <td>31.640000</td>\n      <td>31.730000</td>\n      <td>31.610000</td>\n      <td>31.790000</td>\n      <td>31.550000</td>\n    </tr>\n    <tr>\n      <th>2021-06-02 16:25:00</th>\n      <td>31.67</td>\n      <td>31.71</td>\n      <td>31.67</td>\n      <td>31.69</td>\n      <td>661</td>\n      <td>1</td>\n      <td>276500</td>\n      <td>31.690000</td>\n      <td>31.710000</td>\n      <td>31.670000</td>\n      <td>31.730000</td>\n      <td>31.650000</td>\n      <td>31.770000</td>\n      <td>31.610000</td>\n    </tr>\n    <tr>\n      <th>2021-06-02 16:30:00</th>\n      <td>31.69</td>\n      <td>31.72</td>\n      <td>31.59</td>\n      <td>31.60</td>\n      <td>829</td>\n      <td>1</td>\n      <td>742500</td>\n      <td>31.636667</td>\n      <td>31.683333</td>\n      <td>31.553333</td>\n      <td>31.766667</td>\n      <td>31.506667</td>\n      <td>31.896667</td>\n      <td>31.376667</td>\n    </tr>\n    <tr>\n      <th>2021-06-02 16:35:00</th>\n      <td>31.59</td>\n      <td>31.65</td>\n      <td>31.57</td>\n      <td>31.63</td>\n      <td>904</td>\n      <td>1</td>\n      <td>648600</td>\n      <td>31.616667</td>\n      <td>31.663333</td>\n      <td>31.583333</td>\n      <td>31.696667</td>\n      <td>31.536667</td>\n      <td>31.776667</td>\n      <td>31.456667</td>\n    </tr>\n    <tr>\n      <th>2021-06-02 16:40:00</th>\n      <td>31.63</td>\n      <td>31.65</td>\n      <td>31.61</td>\n      <td>31.63</td>\n      <td>225</td>\n      <td>1</td>\n      <td>105600</td>\n      <td>31.630000</td>\n      <td>31.650000</td>\n      <td>31.610000</td>\n      <td>31.670000</td>\n      <td>31.590000</td>\n      <td>31.710000</td>\n      <td>31.550000</td>\n    </tr>\n  </tbody>\n</table>\n</div>"
     },
     "metadata": {},
     "execution_count": 11
    }
   ],
   "source": [
    "ativo"
   ]
  },
  {
   "cell_type": "code",
   "execution_count": 16,
   "metadata": {},
   "outputs": [
    {
     "output_type": "stream",
     "name": "stdout",
     "text": [
      "ok ITUB4\n"
     ]
    }
   ],
   "source": [
    "#testando se o ativo é valido \n",
    "symbol_info = mt5.symbol_info(symbol)\n",
    "if symbol_info is None:\n",
    "    print(symbol, \"Não encontrato\")\n",
    "    mt5.shutdown()\n",
    "    quit()\n",
    "else:\n",
    "    print('ok', symbol)"
   ]
  },
  {
   "cell_type": "code",
   "execution_count": 19,
   "metadata": {},
   "outputs": [
    {
     "output_type": "stream",
     "name": "stdout",
     "text": [
      "ok!\n"
     ]
    }
   ],
   "source": [
    "#adicionado symbol se nao existir\n",
    "if not symbol_info.visible:\n",
    "    print('Symbol não visivel, tentando adicionar')\n",
    "    if not mt5.symbol_select(symbol,True):\n",
    "        print('symbol_select({{}})failed, exit', symbol)\n",
    "        mt5.shutdown()\n",
    "        quit()\n",
    "else:\n",
    "    print('ok!')"
   ]
  },
  {
   "cell_type": "code",
   "execution_count": null,
   "metadata": {},
   "outputs": [],
   "source": []
  }
 ]
}