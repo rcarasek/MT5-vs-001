{
 "metadata": {
  "language_info": {
   "codemirror_mode": {
    "name": "ipython",
    "version": 3
   },
   "file_extension": ".py",
   "mimetype": "text/x-python",
   "name": "python",
   "nbconvert_exporter": "python",
   "pygments_lexer": "ipython3",
   "version": "3.9.5"
  },
  "orig_nbformat": 2,
  "kernelspec": {
   "name": "python395jvsc74a57bd063fd5069d213b44bf678585dea6b12cceca9941eaf7f819626cde1f2670de90d",
   "display_name": "Python 3.9.5 64-bit"
  },
  "metadata": {
   "interpreter": {
    "hash": "63fd5069d213b44bf678585dea6b12cceca9941eaf7f819626cde1f2670de90d"
   }
  }
 },
 "nbformat": 4,
 "nbformat_minor": 2,
 "cells": [
  {
   "cell_type": "code",
   "execution_count": 11,
   "metadata": {},
   "outputs": [
    {
     "output_type": "stream",
     "name": "stdout",
     "text": [
      "Requirement already satisfied: MetaTrader5 in c:\\python39\\lib\\site-packages (5.0.34)WARNING: You are using pip version 21.1.1; however, version 21.1.2 is available.\n",
      "You should consider upgrading via the 'c:\\python39\\python.exe -m pip install --upgrade pip' command.\n",
      "\n",
      "Requirement already satisfied: numpy>=1.7 in c:\\python39\\lib\\site-packages (from MetaTrader5) (1.20.3)\n",
      "Requirement already satisfied: pandas in c:\\python39\\lib\\site-packages (1.2.4)\n",
      "Requirement already satisfied: numpy>=1.16.5 in c:\\python39\\lib\\site-packages (from pandas) (1.20.3)\n",
      "Requirement already satisfied: python-dateutil>=2.7.3 in c:\\users\\user\\appdata\\roaming\\python\\python39\\site-packages (from pandas) (2.8.1)\n",
      "Requirement already satisfied: pytz>=2017.3 in c:\\python39\\lib\\site-packages (from pandas) (2021.1)\n",
      "Requirement already satisfied: six>=1.5 in c:\\users\\user\\appdata\\roaming\\python\\python39\\site-packages (from python-dateutil>=2.7.3->pandas) (1.15.0)\n",
      "WARNING: You are using pip version 21.1.1; however, version 21.1.2 is available.\n",
      "You should consider upgrading via the 'c:\\python39\\python.exe -m pip install --upgrade pip' command.\n"
     ]
    }
   ],
   "source": [
    "!pip install MetaTrader5\n",
    "!pip install pandas\n",
    "\n",
    "import MetaTrader5 as mt5\n",
    "import pandas as pd\n",
    "from datetime import datetime\n"
   ]
  },
  {
   "cell_type": "code",
   "execution_count": 21,
   "metadata": {},
   "outputs": [
    {
     "output_type": "execute_result",
     "data": {
      "text/plain": [
       "True"
      ]
     },
     "metadata": {},
     "execution_count": 21
    }
   ],
   "source": [
    "mt5.initialize()\n",
    "d = mt5.terminal_info()\n",
    "d = d._asdict()\n",
    "\n",
    "# for k in d.keys():\n",
    "#     print(k, ' ----> ', d[k])\n",
    "\n",
    "ativo = 'BBSE3'\n",
    "dataIni = datetime(2021,5,30)\n",
    "flag = mt5.COPY_TICKS_ALL\n",
    "count = 10\n",
    "dados = mt5.copy_ticks_from(ativo, dataIni, count, flag)\n",
    "\n",
    "df = pd.DataFrame(dados)\n",
    "\n",
    "mt5.shutdown()"
   ]
  },
  {
   "cell_type": "code",
   "execution_count": 24,
   "metadata": {},
   "outputs": [
    {
     "output_type": "execute_result",
     "data": {
      "text/plain": [
       "array([(1622444402,  0.  ,  0.  , 23.45,  200, 1622444402742,  6,  200.),\n",
       "       (1622444420, 23.35, 23.53, 23.45,  200, 1622444420000,  6,  200.),\n",
       "       (1622453400, 23.35, 23.53, 23.45,  200, 1622453400593,  6,  200.),\n",
       "       (1622454266, 23.35, 23.53, 23.45,  200, 1622454266318,  6,  200.),\n",
       "       (1622454300, 23.35, 23.53, 23.45,  200, 1622454300161,  2,  200.),\n",
       "       (1622454300, 26.  , 23.32, 23.45,  200, 1622454300566,  6,  200.),\n",
       "       (1622455808, 26.  , 23.32, 23.43, 4400, 1622455808097, 56, 4400.),\n",
       "       (1622455808, 26.  , 23.32, 23.43, 4900, 1622455808097, 56, 4900.),\n",
       "       (1622455808, 26.  , 23.32, 23.43, 5200, 1622455808097, 56, 5200.),\n",
       "       (1622455808, 26.  , 23.32, 23.43, 3900, 1622455808098, 56, 3900.)],\n",
       "      dtype=[('time', '<i8'), ('bid', '<f8'), ('ask', '<f8'), ('last', '<f8'), ('volume', '<u8'), ('time_msc', '<i8'), ('flags', '<u4'), ('volume_real', '<f8')])"
      ]
     },
     "metadata": {},
     "execution_count": 24
    }
   ],
   "source": [
    "dados"
   ]
  },
  {
   "cell_type": "code",
   "execution_count": 25,
   "metadata": {},
   "outputs": [
    {
     "output_type": "execute_result",
     "data": {
      "text/plain": [
       "         time    bid    ask   last  volume       time_msc  flags  volume_real\n",
       "0  1622444402   0.00   0.00  23.45     200  1622444402742      6        200.0\n",
       "1  1622444420  23.35  23.53  23.45     200  1622444420000      6        200.0\n",
       "2  1622453400  23.35  23.53  23.45     200  1622453400593      6        200.0\n",
       "3  1622454266  23.35  23.53  23.45     200  1622454266318      6        200.0\n",
       "4  1622454300  23.35  23.53  23.45     200  1622454300161      2        200.0\n",
       "5  1622454300  26.00  23.32  23.45     200  1622454300566      6        200.0\n",
       "6  1622455808  26.00  23.32  23.43    4400  1622455808097     56       4400.0\n",
       "7  1622455808  26.00  23.32  23.43    4900  1622455808097     56       4900.0\n",
       "8  1622455808  26.00  23.32  23.43    5200  1622455808097     56       5200.0\n",
       "9  1622455808  26.00  23.32  23.43    3900  1622455808098     56       3900.0"
      ],
      "text/html": "<div>\n<style scoped>\n    .dataframe tbody tr th:only-of-type {\n        vertical-align: middle;\n    }\n\n    .dataframe tbody tr th {\n        vertical-align: top;\n    }\n\n    .dataframe thead th {\n        text-align: right;\n    }\n</style>\n<table border=\"1\" class=\"dataframe\">\n  <thead>\n    <tr style=\"text-align: right;\">\n      <th></th>\n      <th>time</th>\n      <th>bid</th>\n      <th>ask</th>\n      <th>last</th>\n      <th>volume</th>\n      <th>time_msc</th>\n      <th>flags</th>\n      <th>volume_real</th>\n    </tr>\n  </thead>\n  <tbody>\n    <tr>\n      <th>0</th>\n      <td>1622444402</td>\n      <td>0.00</td>\n      <td>0.00</td>\n      <td>23.45</td>\n      <td>200</td>\n      <td>1622444402742</td>\n      <td>6</td>\n      <td>200.0</td>\n    </tr>\n    <tr>\n      <th>1</th>\n      <td>1622444420</td>\n      <td>23.35</td>\n      <td>23.53</td>\n      <td>23.45</td>\n      <td>200</td>\n      <td>1622444420000</td>\n      <td>6</td>\n      <td>200.0</td>\n    </tr>\n    <tr>\n      <th>2</th>\n      <td>1622453400</td>\n      <td>23.35</td>\n      <td>23.53</td>\n      <td>23.45</td>\n      <td>200</td>\n      <td>1622453400593</td>\n      <td>6</td>\n      <td>200.0</td>\n    </tr>\n    <tr>\n      <th>3</th>\n      <td>1622454266</td>\n      <td>23.35</td>\n      <td>23.53</td>\n      <td>23.45</td>\n      <td>200</td>\n      <td>1622454266318</td>\n      <td>6</td>\n      <td>200.0</td>\n    </tr>\n    <tr>\n      <th>4</th>\n      <td>1622454300</td>\n      <td>23.35</td>\n      <td>23.53</td>\n      <td>23.45</td>\n      <td>200</td>\n      <td>1622454300161</td>\n      <td>2</td>\n      <td>200.0</td>\n    </tr>\n    <tr>\n      <th>5</th>\n      <td>1622454300</td>\n      <td>26.00</td>\n      <td>23.32</td>\n      <td>23.45</td>\n      <td>200</td>\n      <td>1622454300566</td>\n      <td>6</td>\n      <td>200.0</td>\n    </tr>\n    <tr>\n      <th>6</th>\n      <td>1622455808</td>\n      <td>26.00</td>\n      <td>23.32</td>\n      <td>23.43</td>\n      <td>4400</td>\n      <td>1622455808097</td>\n      <td>56</td>\n      <td>4400.0</td>\n    </tr>\n    <tr>\n      <th>7</th>\n      <td>1622455808</td>\n      <td>26.00</td>\n      <td>23.32</td>\n      <td>23.43</td>\n      <td>4900</td>\n      <td>1622455808097</td>\n      <td>56</td>\n      <td>4900.0</td>\n    </tr>\n    <tr>\n      <th>8</th>\n      <td>1622455808</td>\n      <td>26.00</td>\n      <td>23.32</td>\n      <td>23.43</td>\n      <td>5200</td>\n      <td>1622455808097</td>\n      <td>56</td>\n      <td>5200.0</td>\n    </tr>\n    <tr>\n      <th>9</th>\n      <td>1622455808</td>\n      <td>26.00</td>\n      <td>23.32</td>\n      <td>23.43</td>\n      <td>3900</td>\n      <td>1622455808098</td>\n      <td>56</td>\n      <td>3900.0</td>\n    </tr>\n  </tbody>\n</table>\n</div>"
     },
     "metadata": {},
     "execution_count": 25
    }
   ],
   "source": [
    "df"
   ]
  },
  {
   "cell_type": "code",
   "execution_count": null,
   "metadata": {},
   "outputs": [],
   "source": []
  }
 ]
}