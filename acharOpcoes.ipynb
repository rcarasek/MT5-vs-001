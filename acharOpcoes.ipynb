{
 "metadata": {
  "language_info": {
   "codemirror_mode": {
    "name": "ipython",
    "version": 3
   },
   "file_extension": ".py",
   "mimetype": "text/x-python",
   "name": "python",
   "nbconvert_exporter": "python",
   "pygments_lexer": "ipython3",
   "version": "3.8.8"
  },
  "orig_nbformat": 4,
  "kernelspec": {
   "name": "python3",
   "display_name": "Python 3.8.8 64-bit ('base': conda)"
  },
  "interpreter": {
   "hash": "8fac594bfae6525c0c41b4041d2d72effa188cc8ead05f81b1fab2bb098927fb"
  }
 },
 "nbformat": 4,
 "nbformat_minor": 2,
 "cells": [
  {
   "cell_type": "code",
   "execution_count": 78,
   "metadata": {},
   "outputs": [
    {
     "output_type": "execute_result",
     "data": {
      "text/plain": [
       "True"
      ]
     },
     "metadata": {},
     "execution_count": 78
    }
   ],
   "source": [
    "import MetaTrader5 as mt5\n",
    "import pandas as pd \n",
    "mt5.initialize()"
   ]
  },
  {
   "cell_type": "code",
   "execution_count": 85,
   "metadata": {},
   "outputs": [],
   "source": [
    "df = pd.DataFrame(mt5.symbols_get(group='BBSE*'))"
   ]
  },
  {
   "cell_type": "code",
   "execution_count": 86,
   "metadata": {},
   "outputs": [
    {
     "output_type": "execute_result",
     "data": {
      "text/plain": [
       "0        0.00\n",
       "1        0.00\n",
       "2       30.25\n",
       "3       31.25\n",
       "4       21.65\n",
       "        ...  \n",
       "1565    36.57\n",
       "1566    30.57\n",
       "1567    37.57\n",
       "1568    38.57\n",
       "1569    39.57\n",
       "Name: 43, Length: 1570, dtype: float64"
      ]
     },
     "metadata": {},
     "execution_count": 86
    }
   ],
   "source": [
    "df[43]"
   ]
  },
  {
   "cell_type": "code",
   "execution_count": 87,
   "metadata": {},
   "outputs": [
    {
     "output_type": "execute_result",
     "data": {
      "text/plain": [
       "1570"
      ]
     },
     "metadata": {},
     "execution_count": 87
    }
   ],
   "source": [
    "n = len(df)\n",
    "n"
   ]
  },
  {
   "cell_type": "code",
   "execution_count": 88,
   "metadata": {},
   "outputs": [
    {
     "output_type": "execute_result",
     "data": {
      "text/plain": [
       "0         BBSE3\n",
       "1        BBSE3F\n",
       "2        BBSEA1\n",
       "3        BBSEA2\n",
       "4       BBSEA23\n",
       "         ...   \n",
       "1565     BBSEX6\n",
       "1566    BBSEX60\n",
       "1567     BBSEX7\n",
       "1568     BBSEX8\n",
       "1569     BBSEX9\n",
       "Name: 93, Length: 1570, dtype: object"
      ]
     },
     "metadata": {},
     "execution_count": 88
    }
   ],
   "source": [
    "df[93]"
   ]
  },
  {
   "cell_type": "code",
   "execution_count": 95,
   "metadata": {},
   "outputs": [
    {
     "output_type": "execute_result",
     "data": {
      "text/plain": [
       "(1570, 95)"
      ]
     },
     "metadata": {},
     "execution_count": 95
    }
   ],
   "source": [
    "df.shape"
   ]
  },
  {
   "cell_type": "code",
   "execution_count": 92,
   "metadata": {},
   "outputs": [
    {
     "output_type": "execute_result",
     "data": {
      "text/plain": [
       "         0   1      2      3      4   5   6    7       8    9           10  11  12    13  14  15  16  17          18  19  20  21  22  23     24  25  26   27  28  29  30     31     32    33    34     35     36    37     38     39     40        41     42     43    44    45    46    47    48   49   50   51   52     53          54     55   56   57   58   59   60         61   62   63   64   65     66    67     68   69   70   71   72   73   74   75   76   77   78   79   80   81   82     83 84   85   86   87 88                      89 90 91            92       93 94                                                 95\n",
       "0     False   1   True   True  22914   0   0  400  144100  100  1624567047   2  12  True  32  32   4   0           0   0   0   3   0   3  False  11   3  127   0   0   0  24.38  24.84  24.1  24.5  24.86  24.13  24.4  24.86  24.09  400.0  144100.0  100.0   0.00  0.01  0.01  0.01  0.01  0.01  1.0  0.0  0.0  0.0  100.0  20000000.0  100.0  0.0  0.0  0.0  0.0  0.0  5502100.0  0.0  0.0  0.0  0.0  24.73  24.4  24.46  0.0  0.0  0.0  0.0  0.0  0.0  0.0  0.0  0.0  0.0  0.0  0.0  0.0  0.0            BRL  BRL  BRL     BBSEGURIDADEON      NM        BRBBSEACNOR5    BBSE3                                 BOVESPA\\A VISTA\\BBSE3\n",
       "1     False   1  False  False      0   0   0    0       0    0           0   2   0  True  32  32   4   0           0   0   0   3   0   3  False  11   3  127   0   0   0   0.00   0.00   0.0   0.0   0.00   0.00   0.0   0.00   0.00    0.0       0.0    0.0   0.00  0.01  0.01  0.01  0.01  0.01  1.0  0.0  0.0  0.0    1.0        99.0    1.0  0.0  0.0  0.0  0.0  0.0        0.0  0.0  0.0  0.0  0.0   0.00   0.0   0.00  0.0  0.0  0.0  0.0  0.0  0.0  0.0  0.0  0.0  0.0  0.0  0.0  0.0  0.0  BBSE3     BRL  BRL  BRL     BBSEGURIDADEON      NM        BRBBSEACNOR5   BBSE3F                            BOVESPA\\FRACIONARIO\\BBSE3F\n",
       "2     False   1  False  False      0   0   0    0       0    0           0   2   0  True  32  35   0   0  1579553999   0   0   3   0   3  False  11   3  127   0   1   0   0.00   0.00   0.0   0.0   0.00   0.00   0.0   0.00   0.00    0.0       0.0    0.0  30.25  0.01  0.01  0.01  0.01  0.01  1.0  0.0  0.0  0.0  100.0  20000000.0  100.0  0.0  0.0  0.0  0.0  0.0        0.0  0.0  0.0  0.0  0.0   0.00   0.0   0.00  0.0  0.0  0.0  0.0  0.0  0.0  0.0  0.0  0.0  0.0  0.0  0.0  0.0  0.0  BBSE3     BRL  BRL  BRL     BBSE    /ER ON   30,25        BRBBSE3A04M1   BBSEA1     BMF\\SERIES CONTINUAS\\Deprecated\\BOVESPA\\OPCOES...\n",
       "3     False   1  False  False      0   0   0    0       0    0           0   2   0  True  32  35   0   0  1579553999   0   0   3   0   3  False  11   3  127   0   1   0   0.00   0.00   0.0   0.0   0.00   0.00   0.0   0.00   0.00    0.0       0.0    0.0  31.25  0.01  0.01  0.01  0.01  0.01  1.0  0.0  0.0  0.0  100.0  20000000.0  100.0  0.0  0.0  0.0  0.0  0.0        0.0  0.0  0.0  0.0  0.0   0.00   0.0   0.00  0.0  0.0  0.0  0.0  0.0  0.0  0.0  0.0  0.0  0.0  0.0  0.0  0.0  0.0  BBSE3     BRL  BRL  BRL     BBSE    /ER ON   31,25        BRBBSE3A0506   BBSEA2     BMF\\SERIES CONTINUAS\\Deprecated\\BOVESPA\\OPCOES...\n",
       "4     False   1  False  False      0   0   0    0       0    0           0   2   0  True  32  35   0   0  1548104399   0   0   3   0   3  False  11   3  127   0   1   0   0.00   0.00   0.0   0.0   0.00   0.00   0.0   0.00   0.00    0.0       0.0    0.0  21.65  0.01  0.01  0.01  0.01  0.01  1.0  0.0  0.0  0.0  100.0  20000000.0  100.0  0.0  0.0  0.0  0.0  0.0        0.0  0.0  0.0  0.0  0.0   0.00   0.0   0.00  0.0  0.0  0.0  0.0  0.0  0.0  0.0  0.0  0.0  0.0  0.0  0.0  0.0  0.0  BBSE3     BRL  BRL  BRL     BBSE        ON   21,65        BRBBSE3A03Y8  BBSEA23     BMF\\SERIES CONTINUAS\\Deprecated\\BOVESPA\\OPCOES...\n",
       "...     ...  ..    ...    ...    ...  ..  ..  ...     ...  ...         ...  ..  ..   ...  ..  ..  ..  ..         ...  ..  ..  ..  ..  ..    ...  ..  ..  ...  ..  ..  ..    ...    ...   ...   ...    ...    ...   ...    ...    ...    ...       ...    ...    ...   ...   ...   ...   ...   ...  ...  ...  ...  ...    ...         ...    ...  ...  ...  ...  ...  ...        ...  ...  ...  ...  ...    ...   ...    ...  ...  ...  ...  ...  ...  ...  ...  ...  ...  ...  ...  ...  ...  ...    ... ..  ...  ...  ... ..                     ... .. ..           ...      ... ..                                                ...\n",
       "1565  False   1  False  False      0   0   0    0       0    0           0   2   0  True  32  35   0   0  1576529999   0   0   3   0   3  False  11   3  127   0   0   1   0.00   0.00   0.0   0.0   0.00   0.00   0.0   0.00   0.00    0.0       0.0    0.0  36.57  0.01  0.01  0.01  0.01  0.01  1.0  0.0  0.0  0.0  100.0  20000000.0  100.0  0.0  0.0  0.0  0.0  0.0        0.0  0.0  0.0  0.0  0.0   0.00   0.0   0.00  0.0  0.0  0.0  0.0  0.0  0.0  0.0  0.0  0.0  0.0  0.0  0.0  0.0  0.0  BBSE3     BRL  BRL  BRL     BBSEE       ON   36,57        BRBBSE3X06P1   BBSEX6     BMF\\SERIES CONTINUAS\\Deprecated\\BOVESPA\\OPCOES...\n",
       "1566  False   1  False  False      0   0   0    0       0    0           0   2   0  True  32  35   0   0  1576529999   0   0   3   0   3  False  11   3  127   0   0   1   0.00   0.00   0.0   0.0   0.00   0.00   0.0   0.00   0.00    0.0       0.0    0.0  30.57  0.01  0.01  0.01  0.01  0.01  1.0  0.0  0.0  0.0  100.0  20000000.0  100.0  0.0  0.0  0.0  0.0  0.0        0.0  0.0  0.0  0.0  0.0   0.00   0.0   0.00  0.0  0.0  0.0  0.0  0.0  0.0  0.0  0.0  0.0  0.0  0.0  0.0  0.0  0.0  BBSE3     BRL  BRL  BRL     BBSEE       ON   30,57        BRBBSE3X06V9  BBSEX60     BMF\\SERIES CONTINUAS\\Deprecated\\BOVESPA\\OPCOES...\n",
       "1567  False   1  False  False      0   0   0    0       0    0           0   2   0  True  32  35   0   0  1576529999   0   0   3   0   3  False  11   3  127   0   0   1   0.00   0.00   0.0   0.0   0.00   0.00   0.0   0.00   0.00    0.0       0.0    0.0  37.57  0.01  0.01  0.01  0.01  0.01  1.0  0.0  0.0  0.0  100.0  20000000.0  100.0  0.0  0.0  0.0  0.0  0.0        0.0  0.0  0.0  0.0  0.0   0.00   0.0   0.00  0.0  0.0  0.0  0.0  0.0  0.0  0.0  0.0  0.0  0.0  0.0  0.0  0.0  0.0  BBSE3     BRL  BRL  BRL     BBSEE       ON   37,57        BRBBSE3X06W7   BBSEX7     BMF\\SERIES CONTINUAS\\Deprecated\\BOVESPA\\OPCOES...\n",
       "1568  False   1  False  False      0   0   0    0       0    0           0   2   0  True  32  35   0   0  1576529999   0   0   3   0   3  False  11   3  127   0   0   1   0.00   0.00   0.0   0.0   0.00   0.00   0.0   0.00   0.00    0.0       0.0    0.0  38.57  0.01  0.01  0.01  0.01  0.01  1.0  0.0  0.0  0.0  100.0  20000000.0  100.0  0.0  0.0  0.0  0.0  0.0        0.0  0.0  0.0  0.0  0.0   0.00   0.0   0.00  0.0  0.0  0.0  0.0  0.0  0.0  0.0  0.0  0.0  0.0  0.0  0.0  0.0  0.0  BBSE3     BRL  BRL  BRL     BBSEE       ON   38,57        BRBBSE3X0731   BBSEX8     BMF\\SERIES CONTINUAS\\Deprecated\\BOVESPA\\OPCOES...\n",
       "1569  False   1  False  False      0   0   0    0       0    0           0   2   0  True  32  35   0   0  1576529999   0   0   3   0   3  False  11   3  127   0   0   1   0.00   0.00   0.0   0.0   0.00   0.00   0.0   0.00   0.00    0.0       0.0    0.0  39.57  0.01  0.01  0.01  0.01  0.01  1.0  0.0  0.0  0.0  100.0  20000000.0  100.0  0.0  0.0  0.0  0.0  0.0        0.0  0.0  0.0  0.0  0.0   0.00   0.0   0.00  0.0  0.0  0.0  0.0  0.0  0.0  0.0  0.0  0.0  0.0  0.0  0.0  0.0  0.0  BBSE3     BRL  BRL  BRL     BBSEE       ON   39,57        BRBBSE3X0764   BBSEX9     BMF\\SERIES CONTINUAS\\Deprecated\\BOVESPA\\OPCOES...\n",
       "\n",
       "[1570 rows x 96 columns]"
      ],
      "text/html": "<div>\n<style scoped>\n    .dataframe tbody tr th:only-of-type {\n        vertical-align: middle;\n    }\n\n    .dataframe tbody tr th {\n        vertical-align: top;\n    }\n\n    .dataframe thead th {\n        text-align: right;\n    }\n</style>\n<table border=\"1\" class=\"dataframe\">\n  <thead>\n    <tr style=\"text-align: right;\">\n      <th></th>\n      <th>0</th>\n      <th>1</th>\n      <th>2</th>\n      <th>3</th>\n      <th>4</th>\n      <th>5</th>\n      <th>6</th>\n      <th>7</th>\n      <th>8</th>\n      <th>9</th>\n      <th>10</th>\n      <th>11</th>\n      <th>12</th>\n      <th>13</th>\n      <th>14</th>\n      <th>15</th>\n      <th>16</th>\n      <th>17</th>\n      <th>18</th>\n      <th>19</th>\n      <th>20</th>\n      <th>21</th>\n      <th>22</th>\n      <th>23</th>\n      <th>24</th>\n      <th>25</th>\n      <th>26</th>\n      <th>27</th>\n      <th>28</th>\n      <th>29</th>\n      <th>30</th>\n      <th>31</th>\n      <th>32</th>\n      <th>33</th>\n      <th>34</th>\n      <th>35</th>\n      <th>36</th>\n      <th>37</th>\n      <th>38</th>\n      <th>39</th>\n      <th>40</th>\n      <th>41</th>\n      <th>42</th>\n      <th>43</th>\n      <th>44</th>\n      <th>45</th>\n      <th>46</th>\n      <th>47</th>\n      <th>48</th>\n      <th>49</th>\n      <th>50</th>\n      <th>51</th>\n      <th>52</th>\n      <th>53</th>\n      <th>54</th>\n      <th>55</th>\n      <th>56</th>\n      <th>57</th>\n      <th>58</th>\n      <th>59</th>\n      <th>60</th>\n      <th>61</th>\n      <th>62</th>\n      <th>63</th>\n      <th>64</th>\n      <th>65</th>\n      <th>66</th>\n      <th>67</th>\n      <th>68</th>\n      <th>69</th>\n      <th>70</th>\n      <th>71</th>\n      <th>72</th>\n      <th>73</th>\n      <th>74</th>\n      <th>75</th>\n      <th>76</th>\n      <th>77</th>\n      <th>78</th>\n      <th>79</th>\n      <th>80</th>\n      <th>81</th>\n      <th>82</th>\n      <th>83</th>\n      <th>84</th>\n      <th>85</th>\n      <th>86</th>\n      <th>87</th>\n      <th>88</th>\n      <th>89</th>\n      <th>90</th>\n      <th>91</th>\n      <th>92</th>\n      <th>93</th>\n      <th>94</th>\n      <th>95</th>\n    </tr>\n  </thead>\n  <tbody>\n    <tr>\n      <th>0</th>\n      <td>False</td>\n      <td>1</td>\n      <td>True</td>\n      <td>True</td>\n      <td>22914</td>\n      <td>0</td>\n      <td>0</td>\n      <td>400</td>\n      <td>144100</td>\n      <td>100</td>\n      <td>1624567047</td>\n      <td>2</td>\n      <td>12</td>\n      <td>True</td>\n      <td>32</td>\n      <td>32</td>\n      <td>4</td>\n      <td>0</td>\n      <td>0</td>\n      <td>0</td>\n      <td>0</td>\n      <td>3</td>\n      <td>0</td>\n      <td>3</td>\n      <td>False</td>\n      <td>11</td>\n      <td>3</td>\n      <td>127</td>\n      <td>0</td>\n      <td>0</td>\n      <td>0</td>\n      <td>24.38</td>\n      <td>24.84</td>\n      <td>24.1</td>\n      <td>24.5</td>\n      <td>24.86</td>\n      <td>24.13</td>\n      <td>24.4</td>\n      <td>24.86</td>\n      <td>24.09</td>\n      <td>400.0</td>\n      <td>144100.0</td>\n      <td>100.0</td>\n      <td>0.00</td>\n      <td>0.01</td>\n      <td>0.01</td>\n      <td>0.01</td>\n      <td>0.01</td>\n      <td>0.01</td>\n      <td>1.0</td>\n      <td>0.0</td>\n      <td>0.0</td>\n      <td>0.0</td>\n      <td>100.0</td>\n      <td>20000000.0</td>\n      <td>100.0</td>\n      <td>0.0</td>\n      <td>0.0</td>\n      <td>0.0</td>\n      <td>0.0</td>\n      <td>0.0</td>\n      <td>5502100.0</td>\n      <td>0.0</td>\n      <td>0.0</td>\n      <td>0.0</td>\n      <td>0.0</td>\n      <td>24.73</td>\n      <td>24.4</td>\n      <td>24.46</td>\n      <td>0.0</td>\n      <td>0.0</td>\n      <td>0.0</td>\n      <td>0.0</td>\n      <td>0.0</td>\n      <td>0.0</td>\n      <td>0.0</td>\n      <td>0.0</td>\n      <td>0.0</td>\n      <td>0.0</td>\n      <td>0.0</td>\n      <td>0.0</td>\n      <td>0.0</td>\n      <td>0.0</td>\n      <td></td>\n      <td></td>\n      <td>BRL</td>\n      <td>BRL</td>\n      <td>BRL</td>\n      <td></td>\n      <td>BBSEGURIDADEON      NM</td>\n      <td></td>\n      <td></td>\n      <td>BRBBSEACNOR5</td>\n      <td>BBSE3</td>\n      <td></td>\n      <td>BOVESPA\\A VISTA\\BBSE3</td>\n    </tr>\n    <tr>\n      <th>1</th>\n      <td>False</td>\n      <td>1</td>\n      <td>False</td>\n      <td>False</td>\n      <td>0</td>\n      <td>0</td>\n      <td>0</td>\n      <td>0</td>\n      <td>0</td>\n      <td>0</td>\n      <td>0</td>\n      <td>2</td>\n      <td>0</td>\n      <td>True</td>\n      <td>32</td>\n      <td>32</td>\n      <td>4</td>\n      <td>0</td>\n      <td>0</td>\n      <td>0</td>\n      <td>0</td>\n      <td>3</td>\n      <td>0</td>\n      <td>3</td>\n      <td>False</td>\n      <td>11</td>\n      <td>3</td>\n      <td>127</td>\n      <td>0</td>\n      <td>0</td>\n      <td>0</td>\n      <td>0.00</td>\n      <td>0.00</td>\n      <td>0.0</td>\n      <td>0.0</td>\n      <td>0.00</td>\n      <td>0.00</td>\n      <td>0.0</td>\n      <td>0.00</td>\n      <td>0.00</td>\n      <td>0.0</td>\n      <td>0.0</td>\n      <td>0.0</td>\n      <td>0.00</td>\n      <td>0.01</td>\n      <td>0.01</td>\n      <td>0.01</td>\n      <td>0.01</td>\n      <td>0.01</td>\n      <td>1.0</td>\n      <td>0.0</td>\n      <td>0.0</td>\n      <td>0.0</td>\n      <td>1.0</td>\n      <td>99.0</td>\n      <td>1.0</td>\n      <td>0.0</td>\n      <td>0.0</td>\n      <td>0.0</td>\n      <td>0.0</td>\n      <td>0.0</td>\n      <td>0.0</td>\n      <td>0.0</td>\n      <td>0.0</td>\n      <td>0.0</td>\n      <td>0.0</td>\n      <td>0.00</td>\n      <td>0.0</td>\n      <td>0.00</td>\n      <td>0.0</td>\n      <td>0.0</td>\n      <td>0.0</td>\n      <td>0.0</td>\n      <td>0.0</td>\n      <td>0.0</td>\n      <td>0.0</td>\n      <td>0.0</td>\n      <td>0.0</td>\n      <td>0.0</td>\n      <td>0.0</td>\n      <td>0.0</td>\n      <td>0.0</td>\n      <td>0.0</td>\n      <td>BBSE3</td>\n      <td></td>\n      <td>BRL</td>\n      <td>BRL</td>\n      <td>BRL</td>\n      <td></td>\n      <td>BBSEGURIDADEON      NM</td>\n      <td></td>\n      <td></td>\n      <td>BRBBSEACNOR5</td>\n      <td>BBSE3F</td>\n      <td></td>\n      <td>BOVESPA\\FRACIONARIO\\BBSE3F</td>\n    </tr>\n    <tr>\n      <th>2</th>\n      <td>False</td>\n      <td>1</td>\n      <td>False</td>\n      <td>False</td>\n      <td>0</td>\n      <td>0</td>\n      <td>0</td>\n      <td>0</td>\n      <td>0</td>\n      <td>0</td>\n      <td>0</td>\n      <td>2</td>\n      <td>0</td>\n      <td>True</td>\n      <td>32</td>\n      <td>35</td>\n      <td>0</td>\n      <td>0</td>\n      <td>1579553999</td>\n      <td>0</td>\n      <td>0</td>\n      <td>3</td>\n      <td>0</td>\n      <td>3</td>\n      <td>False</td>\n      <td>11</td>\n      <td>3</td>\n      <td>127</td>\n      <td>0</td>\n      <td>1</td>\n      <td>0</td>\n      <td>0.00</td>\n      <td>0.00</td>\n      <td>0.0</td>\n      <td>0.0</td>\n      <td>0.00</td>\n      <td>0.00</td>\n      <td>0.0</td>\n      <td>0.00</td>\n      <td>0.00</td>\n      <td>0.0</td>\n      <td>0.0</td>\n      <td>0.0</td>\n      <td>30.25</td>\n      <td>0.01</td>\n      <td>0.01</td>\n      <td>0.01</td>\n      <td>0.01</td>\n      <td>0.01</td>\n      <td>1.0</td>\n      <td>0.0</td>\n      <td>0.0</td>\n      <td>0.0</td>\n      <td>100.0</td>\n      <td>20000000.0</td>\n      <td>100.0</td>\n      <td>0.0</td>\n      <td>0.0</td>\n      <td>0.0</td>\n      <td>0.0</td>\n      <td>0.0</td>\n      <td>0.0</td>\n      <td>0.0</td>\n      <td>0.0</td>\n      <td>0.0</td>\n      <td>0.0</td>\n      <td>0.00</td>\n      <td>0.0</td>\n      <td>0.00</td>\n      <td>0.0</td>\n      <td>0.0</td>\n      <td>0.0</td>\n      <td>0.0</td>\n      <td>0.0</td>\n      <td>0.0</td>\n      <td>0.0</td>\n      <td>0.0</td>\n      <td>0.0</td>\n      <td>0.0</td>\n      <td>0.0</td>\n      <td>0.0</td>\n      <td>0.0</td>\n      <td>0.0</td>\n      <td>BBSE3</td>\n      <td></td>\n      <td>BRL</td>\n      <td>BRL</td>\n      <td>BRL</td>\n      <td></td>\n      <td>BBSE    /ER ON   30,25</td>\n      <td></td>\n      <td></td>\n      <td>BRBBSE3A04M1</td>\n      <td>BBSEA1</td>\n      <td></td>\n      <td>BMF\\SERIES CONTINUAS\\Deprecated\\BOVESPA\\OPCOES...</td>\n    </tr>\n    <tr>\n      <th>3</th>\n      <td>False</td>\n      <td>1</td>\n      <td>False</td>\n      <td>False</td>\n      <td>0</td>\n      <td>0</td>\n      <td>0</td>\n      <td>0</td>\n      <td>0</td>\n      <td>0</td>\n      <td>0</td>\n      <td>2</td>\n      <td>0</td>\n      <td>True</td>\n      <td>32</td>\n      <td>35</td>\n      <td>0</td>\n      <td>0</td>\n      <td>1579553999</td>\n      <td>0</td>\n      <td>0</td>\n      <td>3</td>\n      <td>0</td>\n      <td>3</td>\n      <td>False</td>\n      <td>11</td>\n      <td>3</td>\n      <td>127</td>\n      <td>0</td>\n      <td>1</td>\n      <td>0</td>\n      <td>0.00</td>\n      <td>0.00</td>\n      <td>0.0</td>\n      <td>0.0</td>\n      <td>0.00</td>\n      <td>0.00</td>\n      <td>0.0</td>\n      <td>0.00</td>\n      <td>0.00</td>\n      <td>0.0</td>\n      <td>0.0</td>\n      <td>0.0</td>\n      <td>31.25</td>\n      <td>0.01</td>\n      <td>0.01</td>\n      <td>0.01</td>\n      <td>0.01</td>\n      <td>0.01</td>\n      <td>1.0</td>\n      <td>0.0</td>\n      <td>0.0</td>\n      <td>0.0</td>\n      <td>100.0</td>\n      <td>20000000.0</td>\n      <td>100.0</td>\n      <td>0.0</td>\n      <td>0.0</td>\n      <td>0.0</td>\n      <td>0.0</td>\n      <td>0.0</td>\n      <td>0.0</td>\n      <td>0.0</td>\n      <td>0.0</td>\n      <td>0.0</td>\n      <td>0.0</td>\n      <td>0.00</td>\n      <td>0.0</td>\n      <td>0.00</td>\n      <td>0.0</td>\n      <td>0.0</td>\n      <td>0.0</td>\n      <td>0.0</td>\n      <td>0.0</td>\n      <td>0.0</td>\n      <td>0.0</td>\n      <td>0.0</td>\n      <td>0.0</td>\n      <td>0.0</td>\n      <td>0.0</td>\n      <td>0.0</td>\n      <td>0.0</td>\n      <td>0.0</td>\n      <td>BBSE3</td>\n      <td></td>\n      <td>BRL</td>\n      <td>BRL</td>\n      <td>BRL</td>\n      <td></td>\n      <td>BBSE    /ER ON   31,25</td>\n      <td></td>\n      <td></td>\n      <td>BRBBSE3A0506</td>\n      <td>BBSEA2</td>\n      <td></td>\n      <td>BMF\\SERIES CONTINUAS\\Deprecated\\BOVESPA\\OPCOES...</td>\n    </tr>\n    <tr>\n      <th>4</th>\n      <td>False</td>\n      <td>1</td>\n      <td>False</td>\n      <td>False</td>\n      <td>0</td>\n      <td>0</td>\n      <td>0</td>\n      <td>0</td>\n      <td>0</td>\n      <td>0</td>\n      <td>0</td>\n      <td>2</td>\n      <td>0</td>\n      <td>True</td>\n      <td>32</td>\n      <td>35</td>\n      <td>0</td>\n      <td>0</td>\n      <td>1548104399</td>\n      <td>0</td>\n      <td>0</td>\n      <td>3</td>\n      <td>0</td>\n      <td>3</td>\n      <td>False</td>\n      <td>11</td>\n      <td>3</td>\n      <td>127</td>\n      <td>0</td>\n      <td>1</td>\n      <td>0</td>\n      <td>0.00</td>\n      <td>0.00</td>\n      <td>0.0</td>\n      <td>0.0</td>\n      <td>0.00</td>\n      <td>0.00</td>\n      <td>0.0</td>\n      <td>0.00</td>\n      <td>0.00</td>\n      <td>0.0</td>\n      <td>0.0</td>\n      <td>0.0</td>\n      <td>21.65</td>\n      <td>0.01</td>\n      <td>0.01</td>\n      <td>0.01</td>\n      <td>0.01</td>\n      <td>0.01</td>\n      <td>1.0</td>\n      <td>0.0</td>\n      <td>0.0</td>\n      <td>0.0</td>\n      <td>100.0</td>\n      <td>20000000.0</td>\n      <td>100.0</td>\n      <td>0.0</td>\n      <td>0.0</td>\n      <td>0.0</td>\n      <td>0.0</td>\n      <td>0.0</td>\n      <td>0.0</td>\n      <td>0.0</td>\n      <td>0.0</td>\n      <td>0.0</td>\n      <td>0.0</td>\n      <td>0.00</td>\n      <td>0.0</td>\n      <td>0.00</td>\n      <td>0.0</td>\n      <td>0.0</td>\n      <td>0.0</td>\n      <td>0.0</td>\n      <td>0.0</td>\n      <td>0.0</td>\n      <td>0.0</td>\n      <td>0.0</td>\n      <td>0.0</td>\n      <td>0.0</td>\n      <td>0.0</td>\n      <td>0.0</td>\n      <td>0.0</td>\n      <td>0.0</td>\n      <td>BBSE3</td>\n      <td></td>\n      <td>BRL</td>\n      <td>BRL</td>\n      <td>BRL</td>\n      <td></td>\n      <td>BBSE        ON   21,65</td>\n      <td></td>\n      <td></td>\n      <td>BRBBSE3A03Y8</td>\n      <td>BBSEA23</td>\n      <td></td>\n      <td>BMF\\SERIES CONTINUAS\\Deprecated\\BOVESPA\\OPCOES...</td>\n    </tr>\n    <tr>\n      <th>...</th>\n      <td>...</td>\n      <td>...</td>\n      <td>...</td>\n      <td>...</td>\n      <td>...</td>\n      <td>...</td>\n      <td>...</td>\n      <td>...</td>\n      <td>...</td>\n      <td>...</td>\n      <td>...</td>\n      <td>...</td>\n      <td>...</td>\n      <td>...</td>\n      <td>...</td>\n      <td>...</td>\n      <td>...</td>\n      <td>...</td>\n      <td>...</td>\n      <td>...</td>\n      <td>...</td>\n      <td>...</td>\n      <td>...</td>\n      <td>...</td>\n      <td>...</td>\n      <td>...</td>\n      <td>...</td>\n      <td>...</td>\n      <td>...</td>\n      <td>...</td>\n      <td>...</td>\n      <td>...</td>\n      <td>...</td>\n      <td>...</td>\n      <td>...</td>\n      <td>...</td>\n      <td>...</td>\n      <td>...</td>\n      <td>...</td>\n      <td>...</td>\n      <td>...</td>\n      <td>...</td>\n      <td>...</td>\n      <td>...</td>\n      <td>...</td>\n      <td>...</td>\n      <td>...</td>\n      <td>...</td>\n      <td>...</td>\n      <td>...</td>\n      <td>...</td>\n      <td>...</td>\n      <td>...</td>\n      <td>...</td>\n      <td>...</td>\n      <td>...</td>\n      <td>...</td>\n      <td>...</td>\n      <td>...</td>\n      <td>...</td>\n      <td>...</td>\n      <td>...</td>\n      <td>...</td>\n      <td>...</td>\n      <td>...</td>\n      <td>...</td>\n      <td>...</td>\n      <td>...</td>\n      <td>...</td>\n      <td>...</td>\n      <td>...</td>\n      <td>...</td>\n      <td>...</td>\n      <td>...</td>\n      <td>...</td>\n      <td>...</td>\n      <td>...</td>\n      <td>...</td>\n      <td>...</td>\n      <td>...</td>\n      <td>...</td>\n      <td>...</td>\n      <td>...</td>\n      <td>...</td>\n      <td>...</td>\n      <td>...</td>\n      <td>...</td>\n      <td>...</td>\n      <td>...</td>\n      <td>...</td>\n      <td>...</td>\n      <td>...</td>\n      <td>...</td>\n      <td>...</td>\n      <td>...</td>\n      <td>...</td>\n    </tr>\n    <tr>\n      <th>1565</th>\n      <td>False</td>\n      <td>1</td>\n      <td>False</td>\n      <td>False</td>\n      <td>0</td>\n      <td>0</td>\n      <td>0</td>\n      <td>0</td>\n      <td>0</td>\n      <td>0</td>\n      <td>0</td>\n      <td>2</td>\n      <td>0</td>\n      <td>True</td>\n      <td>32</td>\n      <td>35</td>\n      <td>0</td>\n      <td>0</td>\n      <td>1576529999</td>\n      <td>0</td>\n      <td>0</td>\n      <td>3</td>\n      <td>0</td>\n      <td>3</td>\n      <td>False</td>\n      <td>11</td>\n      <td>3</td>\n      <td>127</td>\n      <td>0</td>\n      <td>0</td>\n      <td>1</td>\n      <td>0.00</td>\n      <td>0.00</td>\n      <td>0.0</td>\n      <td>0.0</td>\n      <td>0.00</td>\n      <td>0.00</td>\n      <td>0.0</td>\n      <td>0.00</td>\n      <td>0.00</td>\n      <td>0.0</td>\n      <td>0.0</td>\n      <td>0.0</td>\n      <td>36.57</td>\n      <td>0.01</td>\n      <td>0.01</td>\n      <td>0.01</td>\n      <td>0.01</td>\n      <td>0.01</td>\n      <td>1.0</td>\n      <td>0.0</td>\n      <td>0.0</td>\n      <td>0.0</td>\n      <td>100.0</td>\n      <td>20000000.0</td>\n      <td>100.0</td>\n      <td>0.0</td>\n      <td>0.0</td>\n      <td>0.0</td>\n      <td>0.0</td>\n      <td>0.0</td>\n      <td>0.0</td>\n      <td>0.0</td>\n      <td>0.0</td>\n      <td>0.0</td>\n      <td>0.0</td>\n      <td>0.00</td>\n      <td>0.0</td>\n      <td>0.00</td>\n      <td>0.0</td>\n      <td>0.0</td>\n      <td>0.0</td>\n      <td>0.0</td>\n      <td>0.0</td>\n      <td>0.0</td>\n      <td>0.0</td>\n      <td>0.0</td>\n      <td>0.0</td>\n      <td>0.0</td>\n      <td>0.0</td>\n      <td>0.0</td>\n      <td>0.0</td>\n      <td>0.0</td>\n      <td>BBSE3</td>\n      <td></td>\n      <td>BRL</td>\n      <td>BRL</td>\n      <td>BRL</td>\n      <td></td>\n      <td>BBSEE       ON   36,57</td>\n      <td></td>\n      <td></td>\n      <td>BRBBSE3X06P1</td>\n      <td>BBSEX6</td>\n      <td></td>\n      <td>BMF\\SERIES CONTINUAS\\Deprecated\\BOVESPA\\OPCOES...</td>\n    </tr>\n    <tr>\n      <th>1566</th>\n      <td>False</td>\n      <td>1</td>\n      <td>False</td>\n      <td>False</td>\n      <td>0</td>\n      <td>0</td>\n      <td>0</td>\n      <td>0</td>\n      <td>0</td>\n      <td>0</td>\n      <td>0</td>\n      <td>2</td>\n      <td>0</td>\n      <td>True</td>\n      <td>32</td>\n      <td>35</td>\n      <td>0</td>\n      <td>0</td>\n      <td>1576529999</td>\n      <td>0</td>\n      <td>0</td>\n      <td>3</td>\n      <td>0</td>\n      <td>3</td>\n      <td>False</td>\n      <td>11</td>\n      <td>3</td>\n      <td>127</td>\n      <td>0</td>\n      <td>0</td>\n      <td>1</td>\n      <td>0.00</td>\n      <td>0.00</td>\n      <td>0.0</td>\n      <td>0.0</td>\n      <td>0.00</td>\n      <td>0.00</td>\n      <td>0.0</td>\n      <td>0.00</td>\n      <td>0.00</td>\n      <td>0.0</td>\n      <td>0.0</td>\n      <td>0.0</td>\n      <td>30.57</td>\n      <td>0.01</td>\n      <td>0.01</td>\n      <td>0.01</td>\n      <td>0.01</td>\n      <td>0.01</td>\n      <td>1.0</td>\n      <td>0.0</td>\n      <td>0.0</td>\n      <td>0.0</td>\n      <td>100.0</td>\n      <td>20000000.0</td>\n      <td>100.0</td>\n      <td>0.0</td>\n      <td>0.0</td>\n      <td>0.0</td>\n      <td>0.0</td>\n      <td>0.0</td>\n      <td>0.0</td>\n      <td>0.0</td>\n      <td>0.0</td>\n      <td>0.0</td>\n      <td>0.0</td>\n      <td>0.00</td>\n      <td>0.0</td>\n      <td>0.00</td>\n      <td>0.0</td>\n      <td>0.0</td>\n      <td>0.0</td>\n      <td>0.0</td>\n      <td>0.0</td>\n      <td>0.0</td>\n      <td>0.0</td>\n      <td>0.0</td>\n      <td>0.0</td>\n      <td>0.0</td>\n      <td>0.0</td>\n      <td>0.0</td>\n      <td>0.0</td>\n      <td>0.0</td>\n      <td>BBSE3</td>\n      <td></td>\n      <td>BRL</td>\n      <td>BRL</td>\n      <td>BRL</td>\n      <td></td>\n      <td>BBSEE       ON   30,57</td>\n      <td></td>\n      <td></td>\n      <td>BRBBSE3X06V9</td>\n      <td>BBSEX60</td>\n      <td></td>\n      <td>BMF\\SERIES CONTINUAS\\Deprecated\\BOVESPA\\OPCOES...</td>\n    </tr>\n    <tr>\n      <th>1567</th>\n      <td>False</td>\n      <td>1</td>\n      <td>False</td>\n      <td>False</td>\n      <td>0</td>\n      <td>0</td>\n      <td>0</td>\n      <td>0</td>\n      <td>0</td>\n      <td>0</td>\n      <td>0</td>\n      <td>2</td>\n      <td>0</td>\n      <td>True</td>\n      <td>32</td>\n      <td>35</td>\n      <td>0</td>\n      <td>0</td>\n      <td>1576529999</td>\n      <td>0</td>\n      <td>0</td>\n      <td>3</td>\n      <td>0</td>\n      <td>3</td>\n      <td>False</td>\n      <td>11</td>\n      <td>3</td>\n      <td>127</td>\n      <td>0</td>\n      <td>0</td>\n      <td>1</td>\n      <td>0.00</td>\n      <td>0.00</td>\n      <td>0.0</td>\n      <td>0.0</td>\n      <td>0.00</td>\n      <td>0.00</td>\n      <td>0.0</td>\n      <td>0.00</td>\n      <td>0.00</td>\n      <td>0.0</td>\n      <td>0.0</td>\n      <td>0.0</td>\n      <td>37.57</td>\n      <td>0.01</td>\n      <td>0.01</td>\n      <td>0.01</td>\n      <td>0.01</td>\n      <td>0.01</td>\n      <td>1.0</td>\n      <td>0.0</td>\n      <td>0.0</td>\n      <td>0.0</td>\n      <td>100.0</td>\n      <td>20000000.0</td>\n      <td>100.0</td>\n      <td>0.0</td>\n      <td>0.0</td>\n      <td>0.0</td>\n      <td>0.0</td>\n      <td>0.0</td>\n      <td>0.0</td>\n      <td>0.0</td>\n      <td>0.0</td>\n      <td>0.0</td>\n      <td>0.0</td>\n      <td>0.00</td>\n      <td>0.0</td>\n      <td>0.00</td>\n      <td>0.0</td>\n      <td>0.0</td>\n      <td>0.0</td>\n      <td>0.0</td>\n      <td>0.0</td>\n      <td>0.0</td>\n      <td>0.0</td>\n      <td>0.0</td>\n      <td>0.0</td>\n      <td>0.0</td>\n      <td>0.0</td>\n      <td>0.0</td>\n      <td>0.0</td>\n      <td>0.0</td>\n      <td>BBSE3</td>\n      <td></td>\n      <td>BRL</td>\n      <td>BRL</td>\n      <td>BRL</td>\n      <td></td>\n      <td>BBSEE       ON   37,57</td>\n      <td></td>\n      <td></td>\n      <td>BRBBSE3X06W7</td>\n      <td>BBSEX7</td>\n      <td></td>\n      <td>BMF\\SERIES CONTINUAS\\Deprecated\\BOVESPA\\OPCOES...</td>\n    </tr>\n    <tr>\n      <th>1568</th>\n      <td>False</td>\n      <td>1</td>\n      <td>False</td>\n      <td>False</td>\n      <td>0</td>\n      <td>0</td>\n      <td>0</td>\n      <td>0</td>\n      <td>0</td>\n      <td>0</td>\n      <td>0</td>\n      <td>2</td>\n      <td>0</td>\n      <td>True</td>\n      <td>32</td>\n      <td>35</td>\n      <td>0</td>\n      <td>0</td>\n      <td>1576529999</td>\n      <td>0</td>\n      <td>0</td>\n      <td>3</td>\n      <td>0</td>\n      <td>3</td>\n      <td>False</td>\n      <td>11</td>\n      <td>3</td>\n      <td>127</td>\n      <td>0</td>\n      <td>0</td>\n      <td>1</td>\n      <td>0.00</td>\n      <td>0.00</td>\n      <td>0.0</td>\n      <td>0.0</td>\n      <td>0.00</td>\n      <td>0.00</td>\n      <td>0.0</td>\n      <td>0.00</td>\n      <td>0.00</td>\n      <td>0.0</td>\n      <td>0.0</td>\n      <td>0.0</td>\n      <td>38.57</td>\n      <td>0.01</td>\n      <td>0.01</td>\n      <td>0.01</td>\n      <td>0.01</td>\n      <td>0.01</td>\n      <td>1.0</td>\n      <td>0.0</td>\n      <td>0.0</td>\n      <td>0.0</td>\n      <td>100.0</td>\n      <td>20000000.0</td>\n      <td>100.0</td>\n      <td>0.0</td>\n      <td>0.0</td>\n      <td>0.0</td>\n      <td>0.0</td>\n      <td>0.0</td>\n      <td>0.0</td>\n      <td>0.0</td>\n      <td>0.0</td>\n      <td>0.0</td>\n      <td>0.0</td>\n      <td>0.00</td>\n      <td>0.0</td>\n      <td>0.00</td>\n      <td>0.0</td>\n      <td>0.0</td>\n      <td>0.0</td>\n      <td>0.0</td>\n      <td>0.0</td>\n      <td>0.0</td>\n      <td>0.0</td>\n      <td>0.0</td>\n      <td>0.0</td>\n      <td>0.0</td>\n      <td>0.0</td>\n      <td>0.0</td>\n      <td>0.0</td>\n      <td>0.0</td>\n      <td>BBSE3</td>\n      <td></td>\n      <td>BRL</td>\n      <td>BRL</td>\n      <td>BRL</td>\n      <td></td>\n      <td>BBSEE       ON   38,57</td>\n      <td></td>\n      <td></td>\n      <td>BRBBSE3X0731</td>\n      <td>BBSEX8</td>\n      <td></td>\n      <td>BMF\\SERIES CONTINUAS\\Deprecated\\BOVESPA\\OPCOES...</td>\n    </tr>\n    <tr>\n      <th>1569</th>\n      <td>False</td>\n      <td>1</td>\n      <td>False</td>\n      <td>False</td>\n      <td>0</td>\n      <td>0</td>\n      <td>0</td>\n      <td>0</td>\n      <td>0</td>\n      <td>0</td>\n      <td>0</td>\n      <td>2</td>\n      <td>0</td>\n      <td>True</td>\n      <td>32</td>\n      <td>35</td>\n      <td>0</td>\n      <td>0</td>\n      <td>1576529999</td>\n      <td>0</td>\n      <td>0</td>\n      <td>3</td>\n      <td>0</td>\n      <td>3</td>\n      <td>False</td>\n      <td>11</td>\n      <td>3</td>\n      <td>127</td>\n      <td>0</td>\n      <td>0</td>\n      <td>1</td>\n      <td>0.00</td>\n      <td>0.00</td>\n      <td>0.0</td>\n      <td>0.0</td>\n      <td>0.00</td>\n      <td>0.00</td>\n      <td>0.0</td>\n      <td>0.00</td>\n      <td>0.00</td>\n      <td>0.0</td>\n      <td>0.0</td>\n      <td>0.0</td>\n      <td>39.57</td>\n      <td>0.01</td>\n      <td>0.01</td>\n      <td>0.01</td>\n      <td>0.01</td>\n      <td>0.01</td>\n      <td>1.0</td>\n      <td>0.0</td>\n      <td>0.0</td>\n      <td>0.0</td>\n      <td>100.0</td>\n      <td>20000000.0</td>\n      <td>100.0</td>\n      <td>0.0</td>\n      <td>0.0</td>\n      <td>0.0</td>\n      <td>0.0</td>\n      <td>0.0</td>\n      <td>0.0</td>\n      <td>0.0</td>\n      <td>0.0</td>\n      <td>0.0</td>\n      <td>0.0</td>\n      <td>0.00</td>\n      <td>0.0</td>\n      <td>0.00</td>\n      <td>0.0</td>\n      <td>0.0</td>\n      <td>0.0</td>\n      <td>0.0</td>\n      <td>0.0</td>\n      <td>0.0</td>\n      <td>0.0</td>\n      <td>0.0</td>\n      <td>0.0</td>\n      <td>0.0</td>\n      <td>0.0</td>\n      <td>0.0</td>\n      <td>0.0</td>\n      <td>0.0</td>\n      <td>BBSE3</td>\n      <td></td>\n      <td>BRL</td>\n      <td>BRL</td>\n      <td>BRL</td>\n      <td></td>\n      <td>BBSEE       ON   39,57</td>\n      <td></td>\n      <td></td>\n      <td>BRBBSE3X0764</td>\n      <td>BBSEX9</td>\n      <td></td>\n      <td>BMF\\SERIES CONTINUAS\\Deprecated\\BOVESPA\\OPCOES...</td>\n    </tr>\n  </tbody>\n</table>\n<p>1570 rows × 96 columns</p>\n</div>"
     },
     "metadata": {},
     "execution_count": 92
    }
   ],
   "source": [
    "df"
   ]
  },
  {
   "cell_type": "code",
   "execution_count": 96,
   "metadata": {},
   "outputs": [],
   "source": [
    "df1 = df.loc[0:2]"
   ]
  },
  {
   "cell_type": "code",
   "execution_count": 97,
   "metadata": {},
   "outputs": [
    {
     "output_type": "execute_result",
     "data": {
      "text/plain": [
       "      0   1      2      3      4   5   6       8    9           10  11  12    13  14  15  16  17          18  19  20  21  22  23     24  25  26   27  28  29  30     31     32    33    34     35     36    37     38     39     40        41     42     43    44    45    46    47    48   49   50   51   52     53          54     55   56   57   58   59   60         61   62   63   64   65     66    67     68   69   70   71   72   73   74   75   76   77   78   79   80   81   82     83 84   85   86   87 88                      89 90 91            92      93 94                                                 95\n",
       "0  False   1   True   True  22914   0   0  144100  100  1624567047   2  12  True  32  32   4   0           0   0   0   3   0   3  False  11   3  127   0   0   0  24.38  24.84  24.1  24.5  24.86  24.13  24.4  24.86  24.09  400.0  144100.0  100.0   0.00  0.01  0.01  0.01  0.01  0.01  1.0  0.0  0.0  0.0  100.0  20000000.0  100.0  0.0  0.0  0.0  0.0  0.0  5502100.0  0.0  0.0  0.0  0.0  24.73  24.4  24.46  0.0  0.0  0.0  0.0  0.0  0.0  0.0  0.0  0.0  0.0  0.0  0.0  0.0  0.0            BRL  BRL  BRL     BBSEGURIDADEON      NM        BRBBSEACNOR5   BBSE3                                 BOVESPA\\A VISTA\\BBSE3\n",
       "1  False   1  False  False      0   0   0       0    0           0   2   0  True  32  32   4   0           0   0   0   3   0   3  False  11   3  127   0   0   0   0.00   0.00   0.0   0.0   0.00   0.00   0.0   0.00   0.00    0.0       0.0    0.0   0.00  0.01  0.01  0.01  0.01  0.01  1.0  0.0  0.0  0.0    1.0        99.0    1.0  0.0  0.0  0.0  0.0  0.0        0.0  0.0  0.0  0.0  0.0   0.00   0.0   0.00  0.0  0.0  0.0  0.0  0.0  0.0  0.0  0.0  0.0  0.0  0.0  0.0  0.0  0.0  BBSE3     BRL  BRL  BRL     BBSEGURIDADEON      NM        BRBBSEACNOR5  BBSE3F                            BOVESPA\\FRACIONARIO\\BBSE3F\n",
       "2  False   1  False  False      0   0   0       0    0           0   2   0  True  32  35   0   0  1579553999   0   0   3   0   3  False  11   3  127   0   1   0   0.00   0.00   0.0   0.0   0.00   0.00   0.0   0.00   0.00    0.0       0.0    0.0  30.25  0.01  0.01  0.01  0.01  0.01  1.0  0.0  0.0  0.0  100.0  20000000.0  100.0  0.0  0.0  0.0  0.0  0.0        0.0  0.0  0.0  0.0  0.0   0.00   0.0   0.00  0.0  0.0  0.0  0.0  0.0  0.0  0.0  0.0  0.0  0.0  0.0  0.0  0.0  0.0  BBSE3     BRL  BRL  BRL     BBSE    /ER ON   30,25        BRBBSE3A04M1  BBSEA1     BMF\\SERIES CONTINUAS\\Deprecated\\BOVESPA\\OPCOES..."
      ],
      "text/html": "<div>\n<style scoped>\n    .dataframe tbody tr th:only-of-type {\n        vertical-align: middle;\n    }\n\n    .dataframe tbody tr th {\n        vertical-align: top;\n    }\n\n    .dataframe thead th {\n        text-align: right;\n    }\n</style>\n<table border=\"1\" class=\"dataframe\">\n  <thead>\n    <tr style=\"text-align: right;\">\n      <th></th>\n      <th>0</th>\n      <th>1</th>\n      <th>2</th>\n      <th>3</th>\n      <th>4</th>\n      <th>5</th>\n      <th>6</th>\n      <th>8</th>\n      <th>9</th>\n      <th>10</th>\n      <th>11</th>\n      <th>12</th>\n      <th>13</th>\n      <th>14</th>\n      <th>15</th>\n      <th>16</th>\n      <th>17</th>\n      <th>18</th>\n      <th>19</th>\n      <th>20</th>\n      <th>21</th>\n      <th>22</th>\n      <th>23</th>\n      <th>24</th>\n      <th>25</th>\n      <th>26</th>\n      <th>27</th>\n      <th>28</th>\n      <th>29</th>\n      <th>30</th>\n      <th>31</th>\n      <th>32</th>\n      <th>33</th>\n      <th>34</th>\n      <th>35</th>\n      <th>36</th>\n      <th>37</th>\n      <th>38</th>\n      <th>39</th>\n      <th>40</th>\n      <th>41</th>\n      <th>42</th>\n      <th>43</th>\n      <th>44</th>\n      <th>45</th>\n      <th>46</th>\n      <th>47</th>\n      <th>48</th>\n      <th>49</th>\n      <th>50</th>\n      <th>51</th>\n      <th>52</th>\n      <th>53</th>\n      <th>54</th>\n      <th>55</th>\n      <th>56</th>\n      <th>57</th>\n      <th>58</th>\n      <th>59</th>\n      <th>60</th>\n      <th>61</th>\n      <th>62</th>\n      <th>63</th>\n      <th>64</th>\n      <th>65</th>\n      <th>66</th>\n      <th>67</th>\n      <th>68</th>\n      <th>69</th>\n      <th>70</th>\n      <th>71</th>\n      <th>72</th>\n      <th>73</th>\n      <th>74</th>\n      <th>75</th>\n      <th>76</th>\n      <th>77</th>\n      <th>78</th>\n      <th>79</th>\n      <th>80</th>\n      <th>81</th>\n      <th>82</th>\n      <th>83</th>\n      <th>84</th>\n      <th>85</th>\n      <th>86</th>\n      <th>87</th>\n      <th>88</th>\n      <th>89</th>\n      <th>90</th>\n      <th>91</th>\n      <th>92</th>\n      <th>93</th>\n      <th>94</th>\n      <th>95</th>\n    </tr>\n  </thead>\n  <tbody>\n    <tr>\n      <th>0</th>\n      <td>False</td>\n      <td>1</td>\n      <td>True</td>\n      <td>True</td>\n      <td>22914</td>\n      <td>0</td>\n      <td>0</td>\n      <td>144100</td>\n      <td>100</td>\n      <td>1624567047</td>\n      <td>2</td>\n      <td>12</td>\n      <td>True</td>\n      <td>32</td>\n      <td>32</td>\n      <td>4</td>\n      <td>0</td>\n      <td>0</td>\n      <td>0</td>\n      <td>0</td>\n      <td>3</td>\n      <td>0</td>\n      <td>3</td>\n      <td>False</td>\n      <td>11</td>\n      <td>3</td>\n      <td>127</td>\n      <td>0</td>\n      <td>0</td>\n      <td>0</td>\n      <td>24.38</td>\n      <td>24.84</td>\n      <td>24.1</td>\n      <td>24.5</td>\n      <td>24.86</td>\n      <td>24.13</td>\n      <td>24.4</td>\n      <td>24.86</td>\n      <td>24.09</td>\n      <td>400.0</td>\n      <td>144100.0</td>\n      <td>100.0</td>\n      <td>0.00</td>\n      <td>0.01</td>\n      <td>0.01</td>\n      <td>0.01</td>\n      <td>0.01</td>\n      <td>0.01</td>\n      <td>1.0</td>\n      <td>0.0</td>\n      <td>0.0</td>\n      <td>0.0</td>\n      <td>100.0</td>\n      <td>20000000.0</td>\n      <td>100.0</td>\n      <td>0.0</td>\n      <td>0.0</td>\n      <td>0.0</td>\n      <td>0.0</td>\n      <td>0.0</td>\n      <td>5502100.0</td>\n      <td>0.0</td>\n      <td>0.0</td>\n      <td>0.0</td>\n      <td>0.0</td>\n      <td>24.73</td>\n      <td>24.4</td>\n      <td>24.46</td>\n      <td>0.0</td>\n      <td>0.0</td>\n      <td>0.0</td>\n      <td>0.0</td>\n      <td>0.0</td>\n      <td>0.0</td>\n      <td>0.0</td>\n      <td>0.0</td>\n      <td>0.0</td>\n      <td>0.0</td>\n      <td>0.0</td>\n      <td>0.0</td>\n      <td>0.0</td>\n      <td>0.0</td>\n      <td></td>\n      <td></td>\n      <td>BRL</td>\n      <td>BRL</td>\n      <td>BRL</td>\n      <td></td>\n      <td>BBSEGURIDADEON      NM</td>\n      <td></td>\n      <td></td>\n      <td>BRBBSEACNOR5</td>\n      <td>BBSE3</td>\n      <td></td>\n      <td>BOVESPA\\A VISTA\\BBSE3</td>\n    </tr>\n    <tr>\n      <th>1</th>\n      <td>False</td>\n      <td>1</td>\n      <td>False</td>\n      <td>False</td>\n      <td>0</td>\n      <td>0</td>\n      <td>0</td>\n      <td>0</td>\n      <td>0</td>\n      <td>0</td>\n      <td>2</td>\n      <td>0</td>\n      <td>True</td>\n      <td>32</td>\n      <td>32</td>\n      <td>4</td>\n      <td>0</td>\n      <td>0</td>\n      <td>0</td>\n      <td>0</td>\n      <td>3</td>\n      <td>0</td>\n      <td>3</td>\n      <td>False</td>\n      <td>11</td>\n      <td>3</td>\n      <td>127</td>\n      <td>0</td>\n      <td>0</td>\n      <td>0</td>\n      <td>0.00</td>\n      <td>0.00</td>\n      <td>0.0</td>\n      <td>0.0</td>\n      <td>0.00</td>\n      <td>0.00</td>\n      <td>0.0</td>\n      <td>0.00</td>\n      <td>0.00</td>\n      <td>0.0</td>\n      <td>0.0</td>\n      <td>0.0</td>\n      <td>0.00</td>\n      <td>0.01</td>\n      <td>0.01</td>\n      <td>0.01</td>\n      <td>0.01</td>\n      <td>0.01</td>\n      <td>1.0</td>\n      <td>0.0</td>\n      <td>0.0</td>\n      <td>0.0</td>\n      <td>1.0</td>\n      <td>99.0</td>\n      <td>1.0</td>\n      <td>0.0</td>\n      <td>0.0</td>\n      <td>0.0</td>\n      <td>0.0</td>\n      <td>0.0</td>\n      <td>0.0</td>\n      <td>0.0</td>\n      <td>0.0</td>\n      <td>0.0</td>\n      <td>0.0</td>\n      <td>0.00</td>\n      <td>0.0</td>\n      <td>0.00</td>\n      <td>0.0</td>\n      <td>0.0</td>\n      <td>0.0</td>\n      <td>0.0</td>\n      <td>0.0</td>\n      <td>0.0</td>\n      <td>0.0</td>\n      <td>0.0</td>\n      <td>0.0</td>\n      <td>0.0</td>\n      <td>0.0</td>\n      <td>0.0</td>\n      <td>0.0</td>\n      <td>0.0</td>\n      <td>BBSE3</td>\n      <td></td>\n      <td>BRL</td>\n      <td>BRL</td>\n      <td>BRL</td>\n      <td></td>\n      <td>BBSEGURIDADEON      NM</td>\n      <td></td>\n      <td></td>\n      <td>BRBBSEACNOR5</td>\n      <td>BBSE3F</td>\n      <td></td>\n      <td>BOVESPA\\FRACIONARIO\\BBSE3F</td>\n    </tr>\n    <tr>\n      <th>2</th>\n      <td>False</td>\n      <td>1</td>\n      <td>False</td>\n      <td>False</td>\n      <td>0</td>\n      <td>0</td>\n      <td>0</td>\n      <td>0</td>\n      <td>0</td>\n      <td>0</td>\n      <td>2</td>\n      <td>0</td>\n      <td>True</td>\n      <td>32</td>\n      <td>35</td>\n      <td>0</td>\n      <td>0</td>\n      <td>1579553999</td>\n      <td>0</td>\n      <td>0</td>\n      <td>3</td>\n      <td>0</td>\n      <td>3</td>\n      <td>False</td>\n      <td>11</td>\n      <td>3</td>\n      <td>127</td>\n      <td>0</td>\n      <td>1</td>\n      <td>0</td>\n      <td>0.00</td>\n      <td>0.00</td>\n      <td>0.0</td>\n      <td>0.0</td>\n      <td>0.00</td>\n      <td>0.00</td>\n      <td>0.0</td>\n      <td>0.00</td>\n      <td>0.00</td>\n      <td>0.0</td>\n      <td>0.0</td>\n      <td>0.0</td>\n      <td>30.25</td>\n      <td>0.01</td>\n      <td>0.01</td>\n      <td>0.01</td>\n      <td>0.01</td>\n      <td>0.01</td>\n      <td>1.0</td>\n      <td>0.0</td>\n      <td>0.0</td>\n      <td>0.0</td>\n      <td>100.0</td>\n      <td>20000000.0</td>\n      <td>100.0</td>\n      <td>0.0</td>\n      <td>0.0</td>\n      <td>0.0</td>\n      <td>0.0</td>\n      <td>0.0</td>\n      <td>0.0</td>\n      <td>0.0</td>\n      <td>0.0</td>\n      <td>0.0</td>\n      <td>0.0</td>\n      <td>0.00</td>\n      <td>0.0</td>\n      <td>0.00</td>\n      <td>0.0</td>\n      <td>0.0</td>\n      <td>0.0</td>\n      <td>0.0</td>\n      <td>0.0</td>\n      <td>0.0</td>\n      <td>0.0</td>\n      <td>0.0</td>\n      <td>0.0</td>\n      <td>0.0</td>\n      <td>0.0</td>\n      <td>0.0</td>\n      <td>0.0</td>\n      <td>0.0</td>\n      <td>BBSE3</td>\n      <td></td>\n      <td>BRL</td>\n      <td>BRL</td>\n      <td>BRL</td>\n      <td></td>\n      <td>BBSE    /ER ON   30,25</td>\n      <td></td>\n      <td></td>\n      <td>BRBBSE3A04M1</td>\n      <td>BBSEA1</td>\n      <td></td>\n      <td>BMF\\SERIES CONTINUAS\\Deprecated\\BOVESPA\\OPCOES...</td>\n    </tr>\n  </tbody>\n</table>\n</div>"
     },
     "metadata": {},
     "execution_count": 97
    }
   ],
   "source": [
    "df1"
   ]
  },
  {
   "cell_type": "code",
   "execution_count": 102,
   "metadata": {},
   "outputs": [],
   "source": [
    "df2 = df.loc[df[18]>0]"
   ]
  },
  {
   "cell_type": "code",
   "execution_count": 103,
   "metadata": {},
   "outputs": [
    {
     "output_type": "execute_result",
     "data": {
      "text/plain": [
       "         0   1      2      3   4   5   6   8   9   10  11  12    13  14  15  16  17          18  19  20  21  22  23     24  25  26   27  28  29  30   31   32   33   34   35   36   37   38   39   40   41   42     43    44    45    46    47    48   49   50   51   52     53          54     55   56   57   58   59   60   61   62   63   64   65   66   67   68   69   70   71   72   73   74   75   76   77   78   79   80   81   82     83 84   85   86   87 88                      89 90 91            92       93 94                                                 95\n",
       "2     False   1  False  False   0   0   0   0   0   0   2   0  True  32  35   0   0  1579553999   0   0   3   0   3  False  11   3  127   0   1   0  0.0  0.0  0.0  0.0  0.0  0.0  0.0  0.0  0.0  0.0  0.0  0.0  30.25  0.01  0.01  0.01  0.01  0.01  1.0  0.0  0.0  0.0  100.0  20000000.0  100.0  0.0  0.0  0.0  0.0  0.0  0.0  0.0  0.0  0.0  0.0  0.0  0.0  0.0  0.0  0.0  0.0  0.0  0.0  0.0  0.0  0.0  0.0  0.0  0.0  0.0  0.0  0.0  BBSE3     BRL  BRL  BRL     BBSE    /ER ON   30,25        BRBBSE3A04M1   BBSEA1     BMF\\SERIES CONTINUAS\\Deprecated\\BOVESPA\\OPCOES...\n",
       "3     False   1  False  False   0   0   0   0   0   0   2   0  True  32  35   0   0  1579553999   0   0   3   0   3  False  11   3  127   0   1   0  0.0  0.0  0.0  0.0  0.0  0.0  0.0  0.0  0.0  0.0  0.0  0.0  31.25  0.01  0.01  0.01  0.01  0.01  1.0  0.0  0.0  0.0  100.0  20000000.0  100.0  0.0  0.0  0.0  0.0  0.0  0.0  0.0  0.0  0.0  0.0  0.0  0.0  0.0  0.0  0.0  0.0  0.0  0.0  0.0  0.0  0.0  0.0  0.0  0.0  0.0  0.0  0.0  BBSE3     BRL  BRL  BRL     BBSE    /ER ON   31,25        BRBBSE3A0506   BBSEA2     BMF\\SERIES CONTINUAS\\Deprecated\\BOVESPA\\OPCOES...\n",
       "4     False   1  False  False   0   0   0   0   0   0   2   0  True  32  35   0   0  1548104399   0   0   3   0   3  False  11   3  127   0   1   0  0.0  0.0  0.0  0.0  0.0  0.0  0.0  0.0  0.0  0.0  0.0  0.0  21.65  0.01  0.01  0.01  0.01  0.01  1.0  0.0  0.0  0.0  100.0  20000000.0  100.0  0.0  0.0  0.0  0.0  0.0  0.0  0.0  0.0  0.0  0.0  0.0  0.0  0.0  0.0  0.0  0.0  0.0  0.0  0.0  0.0  0.0  0.0  0.0  0.0  0.0  0.0  0.0  BBSE3     BRL  BRL  BRL     BBSE        ON   21,65        BRBBSE3A03Y8  BBSEA23     BMF\\SERIES CONTINUAS\\Deprecated\\BOVESPA\\OPCOES...\n",
       "5     False   1  False  False   0   0   0   0   0   0   2   0  True  32  35   0   0  1548104399   0   0   3   0   3  False  11   3  127   0   1   0  0.0  0.0  0.0  0.0  0.0  0.0  0.0  0.0  0.0  0.0  0.0  0.0  22.65  0.01  0.01  0.01  0.01  0.01  1.0  0.0  0.0  0.0  100.0  20000000.0  100.0  0.0  0.0  0.0  0.0  0.0  0.0  0.0  0.0  0.0  0.0  0.0  0.0  0.0  0.0  0.0  0.0  0.0  0.0  0.0  0.0  0.0  0.0  0.0  0.0  0.0  0.0  0.0  BBSE3     BRL  BRL  BRL     BBSE        ON   22,65        BRBBSE3A0407  BBSEA24     BMF\\SERIES CONTINUAS\\Deprecated\\BOVESPA\\OPCOES...\n",
       "6     False   1  False  False   0   0   0   0   0   0   2   0  True  32  35   0   0  1548104399   0   0   3   0   3  False  11   3  127   0   1   0  0.0  0.0  0.0  0.0  0.0  0.0  0.0  0.0  0.0  0.0  0.0  0.0  23.65  0.01  0.01  0.01  0.01  0.01  1.0  0.0  0.0  0.0  100.0  20000000.0  100.0  0.0  0.0  0.0  0.0  0.0  0.0  0.0  0.0  0.0  0.0  0.0  0.0  0.0  0.0  0.0  0.0  0.0  0.0  0.0  0.0  0.0  0.0  0.0  0.0  0.0  0.0  0.0  BBSE3     BRL  BRL  BRL     BBSE        ON   23,65        BRBBSE3A0423  BBSEA25     BMF\\SERIES CONTINUAS\\Deprecated\\BOVESPA\\OPCOES...\n",
       "...     ...  ..    ...    ...  ..  ..  ..  ..  ..  ..  ..  ..   ...  ..  ..  ..  ..         ...  ..  ..  ..  ..  ..    ...  ..  ..  ...  ..  ..  ..  ...  ...  ...  ...  ...  ...  ...  ...  ...  ...  ...  ...    ...   ...   ...   ...   ...   ...  ...  ...  ...  ...    ...         ...    ...  ...  ...  ...  ...  ...  ...  ...  ...  ...  ...  ...  ...  ...  ...  ...  ...  ...  ...  ...  ...  ...  ...  ...  ...  ...  ...  ...    ... ..  ...  ...  ... ..                     ... .. ..           ...      ... ..                                                ...\n",
       "1565  False   1  False  False   0   0   0   0   0   0   2   0  True  32  35   0   0  1576529999   0   0   3   0   3  False  11   3  127   0   0   1  0.0  0.0  0.0  0.0  0.0  0.0  0.0  0.0  0.0  0.0  0.0  0.0  36.57  0.01  0.01  0.01  0.01  0.01  1.0  0.0  0.0  0.0  100.0  20000000.0  100.0  0.0  0.0  0.0  0.0  0.0  0.0  0.0  0.0  0.0  0.0  0.0  0.0  0.0  0.0  0.0  0.0  0.0  0.0  0.0  0.0  0.0  0.0  0.0  0.0  0.0  0.0  0.0  BBSE3     BRL  BRL  BRL     BBSEE       ON   36,57        BRBBSE3X06P1   BBSEX6     BMF\\SERIES CONTINUAS\\Deprecated\\BOVESPA\\OPCOES...\n",
       "1566  False   1  False  False   0   0   0   0   0   0   2   0  True  32  35   0   0  1576529999   0   0   3   0   3  False  11   3  127   0   0   1  0.0  0.0  0.0  0.0  0.0  0.0  0.0  0.0  0.0  0.0  0.0  0.0  30.57  0.01  0.01  0.01  0.01  0.01  1.0  0.0  0.0  0.0  100.0  20000000.0  100.0  0.0  0.0  0.0  0.0  0.0  0.0  0.0  0.0  0.0  0.0  0.0  0.0  0.0  0.0  0.0  0.0  0.0  0.0  0.0  0.0  0.0  0.0  0.0  0.0  0.0  0.0  0.0  BBSE3     BRL  BRL  BRL     BBSEE       ON   30,57        BRBBSE3X06V9  BBSEX60     BMF\\SERIES CONTINUAS\\Deprecated\\BOVESPA\\OPCOES...\n",
       "1567  False   1  False  False   0   0   0   0   0   0   2   0  True  32  35   0   0  1576529999   0   0   3   0   3  False  11   3  127   0   0   1  0.0  0.0  0.0  0.0  0.0  0.0  0.0  0.0  0.0  0.0  0.0  0.0  37.57  0.01  0.01  0.01  0.01  0.01  1.0  0.0  0.0  0.0  100.0  20000000.0  100.0  0.0  0.0  0.0  0.0  0.0  0.0  0.0  0.0  0.0  0.0  0.0  0.0  0.0  0.0  0.0  0.0  0.0  0.0  0.0  0.0  0.0  0.0  0.0  0.0  0.0  0.0  0.0  BBSE3     BRL  BRL  BRL     BBSEE       ON   37,57        BRBBSE3X06W7   BBSEX7     BMF\\SERIES CONTINUAS\\Deprecated\\BOVESPA\\OPCOES...\n",
       "1568  False   1  False  False   0   0   0   0   0   0   2   0  True  32  35   0   0  1576529999   0   0   3   0   3  False  11   3  127   0   0   1  0.0  0.0  0.0  0.0  0.0  0.0  0.0  0.0  0.0  0.0  0.0  0.0  38.57  0.01  0.01  0.01  0.01  0.01  1.0  0.0  0.0  0.0  100.0  20000000.0  100.0  0.0  0.0  0.0  0.0  0.0  0.0  0.0  0.0  0.0  0.0  0.0  0.0  0.0  0.0  0.0  0.0  0.0  0.0  0.0  0.0  0.0  0.0  0.0  0.0  0.0  0.0  0.0  BBSE3     BRL  BRL  BRL     BBSEE       ON   38,57        BRBBSE3X0731   BBSEX8     BMF\\SERIES CONTINUAS\\Deprecated\\BOVESPA\\OPCOES...\n",
       "1569  False   1  False  False   0   0   0   0   0   0   2   0  True  32  35   0   0  1576529999   0   0   3   0   3  False  11   3  127   0   0   1  0.0  0.0  0.0  0.0  0.0  0.0  0.0  0.0  0.0  0.0  0.0  0.0  39.57  0.01  0.01  0.01  0.01  0.01  1.0  0.0  0.0  0.0  100.0  20000000.0  100.0  0.0  0.0  0.0  0.0  0.0  0.0  0.0  0.0  0.0  0.0  0.0  0.0  0.0  0.0  0.0  0.0  0.0  0.0  0.0  0.0  0.0  0.0  0.0  0.0  0.0  0.0  0.0  BBSE3     BRL  BRL  BRL     BBSEE       ON   39,57        BRBBSE3X0764   BBSEX9     BMF\\SERIES CONTINUAS\\Deprecated\\BOVESPA\\OPCOES...\n",
       "\n",
       "[1568 rows x 95 columns]"
      ],
      "text/html": "<div>\n<style scoped>\n    .dataframe tbody tr th:only-of-type {\n        vertical-align: middle;\n    }\n\n    .dataframe tbody tr th {\n        vertical-align: top;\n    }\n\n    .dataframe thead th {\n        text-align: right;\n    }\n</style>\n<table border=\"1\" class=\"dataframe\">\n  <thead>\n    <tr style=\"text-align: right;\">\n      <th></th>\n      <th>0</th>\n      <th>1</th>\n      <th>2</th>\n      <th>3</th>\n      <th>4</th>\n      <th>5</th>\n      <th>6</th>\n      <th>8</th>\n      <th>9</th>\n      <th>10</th>\n      <th>11</th>\n      <th>12</th>\n      <th>13</th>\n      <th>14</th>\n      <th>15</th>\n      <th>16</th>\n      <th>17</th>\n      <th>18</th>\n      <th>19</th>\n      <th>20</th>\n      <th>21</th>\n      <th>22</th>\n      <th>23</th>\n      <th>24</th>\n      <th>25</th>\n      <th>26</th>\n      <th>27</th>\n      <th>28</th>\n      <th>29</th>\n      <th>30</th>\n      <th>31</th>\n      <th>32</th>\n      <th>33</th>\n      <th>34</th>\n      <th>35</th>\n      <th>36</th>\n      <th>37</th>\n      <th>38</th>\n      <th>39</th>\n      <th>40</th>\n      <th>41</th>\n      <th>42</th>\n      <th>43</th>\n      <th>44</th>\n      <th>45</th>\n      <th>46</th>\n      <th>47</th>\n      <th>48</th>\n      <th>49</th>\n      <th>50</th>\n      <th>51</th>\n      <th>52</th>\n      <th>53</th>\n      <th>54</th>\n      <th>55</th>\n      <th>56</th>\n      <th>57</th>\n      <th>58</th>\n      <th>59</th>\n      <th>60</th>\n      <th>61</th>\n      <th>62</th>\n      <th>63</th>\n      <th>64</th>\n      <th>65</th>\n      <th>66</th>\n      <th>67</th>\n      <th>68</th>\n      <th>69</th>\n      <th>70</th>\n      <th>71</th>\n      <th>72</th>\n      <th>73</th>\n      <th>74</th>\n      <th>75</th>\n      <th>76</th>\n      <th>77</th>\n      <th>78</th>\n      <th>79</th>\n      <th>80</th>\n      <th>81</th>\n      <th>82</th>\n      <th>83</th>\n      <th>84</th>\n      <th>85</th>\n      <th>86</th>\n      <th>87</th>\n      <th>88</th>\n      <th>89</th>\n      <th>90</th>\n      <th>91</th>\n      <th>92</th>\n      <th>93</th>\n      <th>94</th>\n      <th>95</th>\n    </tr>\n  </thead>\n  <tbody>\n    <tr>\n      <th>2</th>\n      <td>False</td>\n      <td>1</td>\n      <td>False</td>\n      <td>False</td>\n      <td>0</td>\n      <td>0</td>\n      <td>0</td>\n      <td>0</td>\n      <td>0</td>\n      <td>0</td>\n      <td>2</td>\n      <td>0</td>\n      <td>True</td>\n      <td>32</td>\n      <td>35</td>\n      <td>0</td>\n      <td>0</td>\n      <td>1579553999</td>\n      <td>0</td>\n      <td>0</td>\n      <td>3</td>\n      <td>0</td>\n      <td>3</td>\n      <td>False</td>\n      <td>11</td>\n      <td>3</td>\n      <td>127</td>\n      <td>0</td>\n      <td>1</td>\n      <td>0</td>\n      <td>0.0</td>\n      <td>0.0</td>\n      <td>0.0</td>\n      <td>0.0</td>\n      <td>0.0</td>\n      <td>0.0</td>\n      <td>0.0</td>\n      <td>0.0</td>\n      <td>0.0</td>\n      <td>0.0</td>\n      <td>0.0</td>\n      <td>0.0</td>\n      <td>30.25</td>\n      <td>0.01</td>\n      <td>0.01</td>\n      <td>0.01</td>\n      <td>0.01</td>\n      <td>0.01</td>\n      <td>1.0</td>\n      <td>0.0</td>\n      <td>0.0</td>\n      <td>0.0</td>\n      <td>100.0</td>\n      <td>20000000.0</td>\n      <td>100.0</td>\n      <td>0.0</td>\n      <td>0.0</td>\n      <td>0.0</td>\n      <td>0.0</td>\n      <td>0.0</td>\n      <td>0.0</td>\n      <td>0.0</td>\n      <td>0.0</td>\n      <td>0.0</td>\n      <td>0.0</td>\n      <td>0.0</td>\n      <td>0.0</td>\n      <td>0.0</td>\n      <td>0.0</td>\n      <td>0.0</td>\n      <td>0.0</td>\n      <td>0.0</td>\n      <td>0.0</td>\n      <td>0.0</td>\n      <td>0.0</td>\n      <td>0.0</td>\n      <td>0.0</td>\n      <td>0.0</td>\n      <td>0.0</td>\n      <td>0.0</td>\n      <td>0.0</td>\n      <td>0.0</td>\n      <td>BBSE3</td>\n      <td></td>\n      <td>BRL</td>\n      <td>BRL</td>\n      <td>BRL</td>\n      <td></td>\n      <td>BBSE    /ER ON   30,25</td>\n      <td></td>\n      <td></td>\n      <td>BRBBSE3A04M1</td>\n      <td>BBSEA1</td>\n      <td></td>\n      <td>BMF\\SERIES CONTINUAS\\Deprecated\\BOVESPA\\OPCOES...</td>\n    </tr>\n    <tr>\n      <th>3</th>\n      <td>False</td>\n      <td>1</td>\n      <td>False</td>\n      <td>False</td>\n      <td>0</td>\n      <td>0</td>\n      <td>0</td>\n      <td>0</td>\n      <td>0</td>\n      <td>0</td>\n      <td>2</td>\n      <td>0</td>\n      <td>True</td>\n      <td>32</td>\n      <td>35</td>\n      <td>0</td>\n      <td>0</td>\n      <td>1579553999</td>\n      <td>0</td>\n      <td>0</td>\n      <td>3</td>\n      <td>0</td>\n      <td>3</td>\n      <td>False</td>\n      <td>11</td>\n      <td>3</td>\n      <td>127</td>\n      <td>0</td>\n      <td>1</td>\n      <td>0</td>\n      <td>0.0</td>\n      <td>0.0</td>\n      <td>0.0</td>\n      <td>0.0</td>\n      <td>0.0</td>\n      <td>0.0</td>\n      <td>0.0</td>\n      <td>0.0</td>\n      <td>0.0</td>\n      <td>0.0</td>\n      <td>0.0</td>\n      <td>0.0</td>\n      <td>31.25</td>\n      <td>0.01</td>\n      <td>0.01</td>\n      <td>0.01</td>\n      <td>0.01</td>\n      <td>0.01</td>\n      <td>1.0</td>\n      <td>0.0</td>\n      <td>0.0</td>\n      <td>0.0</td>\n      <td>100.0</td>\n      <td>20000000.0</td>\n      <td>100.0</td>\n      <td>0.0</td>\n      <td>0.0</td>\n      <td>0.0</td>\n      <td>0.0</td>\n      <td>0.0</td>\n      <td>0.0</td>\n      <td>0.0</td>\n      <td>0.0</td>\n      <td>0.0</td>\n      <td>0.0</td>\n      <td>0.0</td>\n      <td>0.0</td>\n      <td>0.0</td>\n      <td>0.0</td>\n      <td>0.0</td>\n      <td>0.0</td>\n      <td>0.0</td>\n      <td>0.0</td>\n      <td>0.0</td>\n      <td>0.0</td>\n      <td>0.0</td>\n      <td>0.0</td>\n      <td>0.0</td>\n      <td>0.0</td>\n      <td>0.0</td>\n      <td>0.0</td>\n      <td>0.0</td>\n      <td>BBSE3</td>\n      <td></td>\n      <td>BRL</td>\n      <td>BRL</td>\n      <td>BRL</td>\n      <td></td>\n      <td>BBSE    /ER ON   31,25</td>\n      <td></td>\n      <td></td>\n      <td>BRBBSE3A0506</td>\n      <td>BBSEA2</td>\n      <td></td>\n      <td>BMF\\SERIES CONTINUAS\\Deprecated\\BOVESPA\\OPCOES...</td>\n    </tr>\n    <tr>\n      <th>4</th>\n      <td>False</td>\n      <td>1</td>\n      <td>False</td>\n      <td>False</td>\n      <td>0</td>\n      <td>0</td>\n      <td>0</td>\n      <td>0</td>\n      <td>0</td>\n      <td>0</td>\n      <td>2</td>\n      <td>0</td>\n      <td>True</td>\n      <td>32</td>\n      <td>35</td>\n      <td>0</td>\n      <td>0</td>\n      <td>1548104399</td>\n      <td>0</td>\n      <td>0</td>\n      <td>3</td>\n      <td>0</td>\n      <td>3</td>\n      <td>False</td>\n      <td>11</td>\n      <td>3</td>\n      <td>127</td>\n      <td>0</td>\n      <td>1</td>\n      <td>0</td>\n      <td>0.0</td>\n      <td>0.0</td>\n      <td>0.0</td>\n      <td>0.0</td>\n      <td>0.0</td>\n      <td>0.0</td>\n      <td>0.0</td>\n      <td>0.0</td>\n      <td>0.0</td>\n      <td>0.0</td>\n      <td>0.0</td>\n      <td>0.0</td>\n      <td>21.65</td>\n      <td>0.01</td>\n      <td>0.01</td>\n      <td>0.01</td>\n      <td>0.01</td>\n      <td>0.01</td>\n      <td>1.0</td>\n      <td>0.0</td>\n      <td>0.0</td>\n      <td>0.0</td>\n      <td>100.0</td>\n      <td>20000000.0</td>\n      <td>100.0</td>\n      <td>0.0</td>\n      <td>0.0</td>\n      <td>0.0</td>\n      <td>0.0</td>\n      <td>0.0</td>\n      <td>0.0</td>\n      <td>0.0</td>\n      <td>0.0</td>\n      <td>0.0</td>\n      <td>0.0</td>\n      <td>0.0</td>\n      <td>0.0</td>\n      <td>0.0</td>\n      <td>0.0</td>\n      <td>0.0</td>\n      <td>0.0</td>\n      <td>0.0</td>\n      <td>0.0</td>\n      <td>0.0</td>\n      <td>0.0</td>\n      <td>0.0</td>\n      <td>0.0</td>\n      <td>0.0</td>\n      <td>0.0</td>\n      <td>0.0</td>\n      <td>0.0</td>\n      <td>0.0</td>\n      <td>BBSE3</td>\n      <td></td>\n      <td>BRL</td>\n      <td>BRL</td>\n      <td>BRL</td>\n      <td></td>\n      <td>BBSE        ON   21,65</td>\n      <td></td>\n      <td></td>\n      <td>BRBBSE3A03Y8</td>\n      <td>BBSEA23</td>\n      <td></td>\n      <td>BMF\\SERIES CONTINUAS\\Deprecated\\BOVESPA\\OPCOES...</td>\n    </tr>\n    <tr>\n      <th>5</th>\n      <td>False</td>\n      <td>1</td>\n      <td>False</td>\n      <td>False</td>\n      <td>0</td>\n      <td>0</td>\n      <td>0</td>\n      <td>0</td>\n      <td>0</td>\n      <td>0</td>\n      <td>2</td>\n      <td>0</td>\n      <td>True</td>\n      <td>32</td>\n      <td>35</td>\n      <td>0</td>\n      <td>0</td>\n      <td>1548104399</td>\n      <td>0</td>\n      <td>0</td>\n      <td>3</td>\n      <td>0</td>\n      <td>3</td>\n      <td>False</td>\n      <td>11</td>\n      <td>3</td>\n      <td>127</td>\n      <td>0</td>\n      <td>1</td>\n      <td>0</td>\n      <td>0.0</td>\n      <td>0.0</td>\n      <td>0.0</td>\n      <td>0.0</td>\n      <td>0.0</td>\n      <td>0.0</td>\n      <td>0.0</td>\n      <td>0.0</td>\n      <td>0.0</td>\n      <td>0.0</td>\n      <td>0.0</td>\n      <td>0.0</td>\n      <td>22.65</td>\n      <td>0.01</td>\n      <td>0.01</td>\n      <td>0.01</td>\n      <td>0.01</td>\n      <td>0.01</td>\n      <td>1.0</td>\n      <td>0.0</td>\n      <td>0.0</td>\n      <td>0.0</td>\n      <td>100.0</td>\n      <td>20000000.0</td>\n      <td>100.0</td>\n      <td>0.0</td>\n      <td>0.0</td>\n      <td>0.0</td>\n      <td>0.0</td>\n      <td>0.0</td>\n      <td>0.0</td>\n      <td>0.0</td>\n      <td>0.0</td>\n      <td>0.0</td>\n      <td>0.0</td>\n      <td>0.0</td>\n      <td>0.0</td>\n      <td>0.0</td>\n      <td>0.0</td>\n      <td>0.0</td>\n      <td>0.0</td>\n      <td>0.0</td>\n      <td>0.0</td>\n      <td>0.0</td>\n      <td>0.0</td>\n      <td>0.0</td>\n      <td>0.0</td>\n      <td>0.0</td>\n      <td>0.0</td>\n      <td>0.0</td>\n      <td>0.0</td>\n      <td>0.0</td>\n      <td>BBSE3</td>\n      <td></td>\n      <td>BRL</td>\n      <td>BRL</td>\n      <td>BRL</td>\n      <td></td>\n      <td>BBSE        ON   22,65</td>\n      <td></td>\n      <td></td>\n      <td>BRBBSE3A0407</td>\n      <td>BBSEA24</td>\n      <td></td>\n      <td>BMF\\SERIES CONTINUAS\\Deprecated\\BOVESPA\\OPCOES...</td>\n    </tr>\n    <tr>\n      <th>6</th>\n      <td>False</td>\n      <td>1</td>\n      <td>False</td>\n      <td>False</td>\n      <td>0</td>\n      <td>0</td>\n      <td>0</td>\n      <td>0</td>\n      <td>0</td>\n      <td>0</td>\n      <td>2</td>\n      <td>0</td>\n      <td>True</td>\n      <td>32</td>\n      <td>35</td>\n      <td>0</td>\n      <td>0</td>\n      <td>1548104399</td>\n      <td>0</td>\n      <td>0</td>\n      <td>3</td>\n      <td>0</td>\n      <td>3</td>\n      <td>False</td>\n      <td>11</td>\n      <td>3</td>\n      <td>127</td>\n      <td>0</td>\n      <td>1</td>\n      <td>0</td>\n      <td>0.0</td>\n      <td>0.0</td>\n      <td>0.0</td>\n      <td>0.0</td>\n      <td>0.0</td>\n      <td>0.0</td>\n      <td>0.0</td>\n      <td>0.0</td>\n      <td>0.0</td>\n      <td>0.0</td>\n      <td>0.0</td>\n      <td>0.0</td>\n      <td>23.65</td>\n      <td>0.01</td>\n      <td>0.01</td>\n      <td>0.01</td>\n      <td>0.01</td>\n      <td>0.01</td>\n      <td>1.0</td>\n      <td>0.0</td>\n      <td>0.0</td>\n      <td>0.0</td>\n      <td>100.0</td>\n      <td>20000000.0</td>\n      <td>100.0</td>\n      <td>0.0</td>\n      <td>0.0</td>\n      <td>0.0</td>\n      <td>0.0</td>\n      <td>0.0</td>\n      <td>0.0</td>\n      <td>0.0</td>\n      <td>0.0</td>\n      <td>0.0</td>\n      <td>0.0</td>\n      <td>0.0</td>\n      <td>0.0</td>\n      <td>0.0</td>\n      <td>0.0</td>\n      <td>0.0</td>\n      <td>0.0</td>\n      <td>0.0</td>\n      <td>0.0</td>\n      <td>0.0</td>\n      <td>0.0</td>\n      <td>0.0</td>\n      <td>0.0</td>\n      <td>0.0</td>\n      <td>0.0</td>\n      <td>0.0</td>\n      <td>0.0</td>\n      <td>0.0</td>\n      <td>BBSE3</td>\n      <td></td>\n      <td>BRL</td>\n      <td>BRL</td>\n      <td>BRL</td>\n      <td></td>\n      <td>BBSE        ON   23,65</td>\n      <td></td>\n      <td></td>\n      <td>BRBBSE3A0423</td>\n      <td>BBSEA25</td>\n      <td></td>\n      <td>BMF\\SERIES CONTINUAS\\Deprecated\\BOVESPA\\OPCOES...</td>\n    </tr>\n    <tr>\n      <th>...</th>\n      <td>...</td>\n      <td>...</td>\n      <td>...</td>\n      <td>...</td>\n      <td>...</td>\n      <td>...</td>\n      <td>...</td>\n      <td>...</td>\n      <td>...</td>\n      <td>...</td>\n      <td>...</td>\n      <td>...</td>\n      <td>...</td>\n      <td>...</td>\n      <td>...</td>\n      <td>...</td>\n      <td>...</td>\n      <td>...</td>\n      <td>...</td>\n      <td>...</td>\n      <td>...</td>\n      <td>...</td>\n      <td>...</td>\n      <td>...</td>\n      <td>...</td>\n      <td>...</td>\n      <td>...</td>\n      <td>...</td>\n      <td>...</td>\n      <td>...</td>\n      <td>...</td>\n      <td>...</td>\n      <td>...</td>\n      <td>...</td>\n      <td>...</td>\n      <td>...</td>\n      <td>...</td>\n      <td>...</td>\n      <td>...</td>\n      <td>...</td>\n      <td>...</td>\n      <td>...</td>\n      <td>...</td>\n      <td>...</td>\n      <td>...</td>\n      <td>...</td>\n      <td>...</td>\n      <td>...</td>\n      <td>...</td>\n      <td>...</td>\n      <td>...</td>\n      <td>...</td>\n      <td>...</td>\n      <td>...</td>\n      <td>...</td>\n      <td>...</td>\n      <td>...</td>\n      <td>...</td>\n      <td>...</td>\n      <td>...</td>\n      <td>...</td>\n      <td>...</td>\n      <td>...</td>\n      <td>...</td>\n      <td>...</td>\n      <td>...</td>\n      <td>...</td>\n      <td>...</td>\n      <td>...</td>\n      <td>...</td>\n      <td>...</td>\n      <td>...</td>\n      <td>...</td>\n      <td>...</td>\n      <td>...</td>\n      <td>...</td>\n      <td>...</td>\n      <td>...</td>\n      <td>...</td>\n      <td>...</td>\n      <td>...</td>\n      <td>...</td>\n      <td>...</td>\n      <td>...</td>\n      <td>...</td>\n      <td>...</td>\n      <td>...</td>\n      <td>...</td>\n      <td>...</td>\n      <td>...</td>\n      <td>...</td>\n      <td>...</td>\n      <td>...</td>\n      <td>...</td>\n      <td>...</td>\n    </tr>\n    <tr>\n      <th>1565</th>\n      <td>False</td>\n      <td>1</td>\n      <td>False</td>\n      <td>False</td>\n      <td>0</td>\n      <td>0</td>\n      <td>0</td>\n      <td>0</td>\n      <td>0</td>\n      <td>0</td>\n      <td>2</td>\n      <td>0</td>\n      <td>True</td>\n      <td>32</td>\n      <td>35</td>\n      <td>0</td>\n      <td>0</td>\n      <td>1576529999</td>\n      <td>0</td>\n      <td>0</td>\n      <td>3</td>\n      <td>0</td>\n      <td>3</td>\n      <td>False</td>\n      <td>11</td>\n      <td>3</td>\n      <td>127</td>\n      <td>0</td>\n      <td>0</td>\n      <td>1</td>\n      <td>0.0</td>\n      <td>0.0</td>\n      <td>0.0</td>\n      <td>0.0</td>\n      <td>0.0</td>\n      <td>0.0</td>\n      <td>0.0</td>\n      <td>0.0</td>\n      <td>0.0</td>\n      <td>0.0</td>\n      <td>0.0</td>\n      <td>0.0</td>\n      <td>36.57</td>\n      <td>0.01</td>\n      <td>0.01</td>\n      <td>0.01</td>\n      <td>0.01</td>\n      <td>0.01</td>\n      <td>1.0</td>\n      <td>0.0</td>\n      <td>0.0</td>\n      <td>0.0</td>\n      <td>100.0</td>\n      <td>20000000.0</td>\n      <td>100.0</td>\n      <td>0.0</td>\n      <td>0.0</td>\n      <td>0.0</td>\n      <td>0.0</td>\n      <td>0.0</td>\n      <td>0.0</td>\n      <td>0.0</td>\n      <td>0.0</td>\n      <td>0.0</td>\n      <td>0.0</td>\n      <td>0.0</td>\n      <td>0.0</td>\n      <td>0.0</td>\n      <td>0.0</td>\n      <td>0.0</td>\n      <td>0.0</td>\n      <td>0.0</td>\n      <td>0.0</td>\n      <td>0.0</td>\n      <td>0.0</td>\n      <td>0.0</td>\n      <td>0.0</td>\n      <td>0.0</td>\n      <td>0.0</td>\n      <td>0.0</td>\n      <td>0.0</td>\n      <td>0.0</td>\n      <td>BBSE3</td>\n      <td></td>\n      <td>BRL</td>\n      <td>BRL</td>\n      <td>BRL</td>\n      <td></td>\n      <td>BBSEE       ON   36,57</td>\n      <td></td>\n      <td></td>\n      <td>BRBBSE3X06P1</td>\n      <td>BBSEX6</td>\n      <td></td>\n      <td>BMF\\SERIES CONTINUAS\\Deprecated\\BOVESPA\\OPCOES...</td>\n    </tr>\n    <tr>\n      <th>1566</th>\n      <td>False</td>\n      <td>1</td>\n      <td>False</td>\n      <td>False</td>\n      <td>0</td>\n      <td>0</td>\n      <td>0</td>\n      <td>0</td>\n      <td>0</td>\n      <td>0</td>\n      <td>2</td>\n      <td>0</td>\n      <td>True</td>\n      <td>32</td>\n      <td>35</td>\n      <td>0</td>\n      <td>0</td>\n      <td>1576529999</td>\n      <td>0</td>\n      <td>0</td>\n      <td>3</td>\n      <td>0</td>\n      <td>3</td>\n      <td>False</td>\n      <td>11</td>\n      <td>3</td>\n      <td>127</td>\n      <td>0</td>\n      <td>0</td>\n      <td>1</td>\n      <td>0.0</td>\n      <td>0.0</td>\n      <td>0.0</td>\n      <td>0.0</td>\n      <td>0.0</td>\n      <td>0.0</td>\n      <td>0.0</td>\n      <td>0.0</td>\n      <td>0.0</td>\n      <td>0.0</td>\n      <td>0.0</td>\n      <td>0.0</td>\n      <td>30.57</td>\n      <td>0.01</td>\n      <td>0.01</td>\n      <td>0.01</td>\n      <td>0.01</td>\n      <td>0.01</td>\n      <td>1.0</td>\n      <td>0.0</td>\n      <td>0.0</td>\n      <td>0.0</td>\n      <td>100.0</td>\n      <td>20000000.0</td>\n      <td>100.0</td>\n      <td>0.0</td>\n      <td>0.0</td>\n      <td>0.0</td>\n      <td>0.0</td>\n      <td>0.0</td>\n      <td>0.0</td>\n      <td>0.0</td>\n      <td>0.0</td>\n      <td>0.0</td>\n      <td>0.0</td>\n      <td>0.0</td>\n      <td>0.0</td>\n      <td>0.0</td>\n      <td>0.0</td>\n      <td>0.0</td>\n      <td>0.0</td>\n      <td>0.0</td>\n      <td>0.0</td>\n      <td>0.0</td>\n      <td>0.0</td>\n      <td>0.0</td>\n      <td>0.0</td>\n      <td>0.0</td>\n      <td>0.0</td>\n      <td>0.0</td>\n      <td>0.0</td>\n      <td>0.0</td>\n      <td>BBSE3</td>\n      <td></td>\n      <td>BRL</td>\n      <td>BRL</td>\n      <td>BRL</td>\n      <td></td>\n      <td>BBSEE       ON   30,57</td>\n      <td></td>\n      <td></td>\n      <td>BRBBSE3X06V9</td>\n      <td>BBSEX60</td>\n      <td></td>\n      <td>BMF\\SERIES CONTINUAS\\Deprecated\\BOVESPA\\OPCOES...</td>\n    </tr>\n    <tr>\n      <th>1567</th>\n      <td>False</td>\n      <td>1</td>\n      <td>False</td>\n      <td>False</td>\n      <td>0</td>\n      <td>0</td>\n      <td>0</td>\n      <td>0</td>\n      <td>0</td>\n      <td>0</td>\n      <td>2</td>\n      <td>0</td>\n      <td>True</td>\n      <td>32</td>\n      <td>35</td>\n      <td>0</td>\n      <td>0</td>\n      <td>1576529999</td>\n      <td>0</td>\n      <td>0</td>\n      <td>3</td>\n      <td>0</td>\n      <td>3</td>\n      <td>False</td>\n      <td>11</td>\n      <td>3</td>\n      <td>127</td>\n      <td>0</td>\n      <td>0</td>\n      <td>1</td>\n      <td>0.0</td>\n      <td>0.0</td>\n      <td>0.0</td>\n      <td>0.0</td>\n      <td>0.0</td>\n      <td>0.0</td>\n      <td>0.0</td>\n      <td>0.0</td>\n      <td>0.0</td>\n      <td>0.0</td>\n      <td>0.0</td>\n      <td>0.0</td>\n      <td>37.57</td>\n      <td>0.01</td>\n      <td>0.01</td>\n      <td>0.01</td>\n      <td>0.01</td>\n      <td>0.01</td>\n      <td>1.0</td>\n      <td>0.0</td>\n      <td>0.0</td>\n      <td>0.0</td>\n      <td>100.0</td>\n      <td>20000000.0</td>\n      <td>100.0</td>\n      <td>0.0</td>\n      <td>0.0</td>\n      <td>0.0</td>\n      <td>0.0</td>\n      <td>0.0</td>\n      <td>0.0</td>\n      <td>0.0</td>\n      <td>0.0</td>\n      <td>0.0</td>\n      <td>0.0</td>\n      <td>0.0</td>\n      <td>0.0</td>\n      <td>0.0</td>\n      <td>0.0</td>\n      <td>0.0</td>\n      <td>0.0</td>\n      <td>0.0</td>\n      <td>0.0</td>\n      <td>0.0</td>\n      <td>0.0</td>\n      <td>0.0</td>\n      <td>0.0</td>\n      <td>0.0</td>\n      <td>0.0</td>\n      <td>0.0</td>\n      <td>0.0</td>\n      <td>0.0</td>\n      <td>BBSE3</td>\n      <td></td>\n      <td>BRL</td>\n      <td>BRL</td>\n      <td>BRL</td>\n      <td></td>\n      <td>BBSEE       ON   37,57</td>\n      <td></td>\n      <td></td>\n      <td>BRBBSE3X06W7</td>\n      <td>BBSEX7</td>\n      <td></td>\n      <td>BMF\\SERIES CONTINUAS\\Deprecated\\BOVESPA\\OPCOES...</td>\n    </tr>\n    <tr>\n      <th>1568</th>\n      <td>False</td>\n      <td>1</td>\n      <td>False</td>\n      <td>False</td>\n      <td>0</td>\n      <td>0</td>\n      <td>0</td>\n      <td>0</td>\n      <td>0</td>\n      <td>0</td>\n      <td>2</td>\n      <td>0</td>\n      <td>True</td>\n      <td>32</td>\n      <td>35</td>\n      <td>0</td>\n      <td>0</td>\n      <td>1576529999</td>\n      <td>0</td>\n      <td>0</td>\n      <td>3</td>\n      <td>0</td>\n      <td>3</td>\n      <td>False</td>\n      <td>11</td>\n      <td>3</td>\n      <td>127</td>\n      <td>0</td>\n      <td>0</td>\n      <td>1</td>\n      <td>0.0</td>\n      <td>0.0</td>\n      <td>0.0</td>\n      <td>0.0</td>\n      <td>0.0</td>\n      <td>0.0</td>\n      <td>0.0</td>\n      <td>0.0</td>\n      <td>0.0</td>\n      <td>0.0</td>\n      <td>0.0</td>\n      <td>0.0</td>\n      <td>38.57</td>\n      <td>0.01</td>\n      <td>0.01</td>\n      <td>0.01</td>\n      <td>0.01</td>\n      <td>0.01</td>\n      <td>1.0</td>\n      <td>0.0</td>\n      <td>0.0</td>\n      <td>0.0</td>\n      <td>100.0</td>\n      <td>20000000.0</td>\n      <td>100.0</td>\n      <td>0.0</td>\n      <td>0.0</td>\n      <td>0.0</td>\n      <td>0.0</td>\n      <td>0.0</td>\n      <td>0.0</td>\n      <td>0.0</td>\n      <td>0.0</td>\n      <td>0.0</td>\n      <td>0.0</td>\n      <td>0.0</td>\n      <td>0.0</td>\n      <td>0.0</td>\n      <td>0.0</td>\n      <td>0.0</td>\n      <td>0.0</td>\n      <td>0.0</td>\n      <td>0.0</td>\n      <td>0.0</td>\n      <td>0.0</td>\n      <td>0.0</td>\n      <td>0.0</td>\n      <td>0.0</td>\n      <td>0.0</td>\n      <td>0.0</td>\n      <td>0.0</td>\n      <td>0.0</td>\n      <td>BBSE3</td>\n      <td></td>\n      <td>BRL</td>\n      <td>BRL</td>\n      <td>BRL</td>\n      <td></td>\n      <td>BBSEE       ON   38,57</td>\n      <td></td>\n      <td></td>\n      <td>BRBBSE3X0731</td>\n      <td>BBSEX8</td>\n      <td></td>\n      <td>BMF\\SERIES CONTINUAS\\Deprecated\\BOVESPA\\OPCOES...</td>\n    </tr>\n    <tr>\n      <th>1569</th>\n      <td>False</td>\n      <td>1</td>\n      <td>False</td>\n      <td>False</td>\n      <td>0</td>\n      <td>0</td>\n      <td>0</td>\n      <td>0</td>\n      <td>0</td>\n      <td>0</td>\n      <td>2</td>\n      <td>0</td>\n      <td>True</td>\n      <td>32</td>\n      <td>35</td>\n      <td>0</td>\n      <td>0</td>\n      <td>1576529999</td>\n      <td>0</td>\n      <td>0</td>\n      <td>3</td>\n      <td>0</td>\n      <td>3</td>\n      <td>False</td>\n      <td>11</td>\n      <td>3</td>\n      <td>127</td>\n      <td>0</td>\n      <td>0</td>\n      <td>1</td>\n      <td>0.0</td>\n      <td>0.0</td>\n      <td>0.0</td>\n      <td>0.0</td>\n      <td>0.0</td>\n      <td>0.0</td>\n      <td>0.0</td>\n      <td>0.0</td>\n      <td>0.0</td>\n      <td>0.0</td>\n      <td>0.0</td>\n      <td>0.0</td>\n      <td>39.57</td>\n      <td>0.01</td>\n      <td>0.01</td>\n      <td>0.01</td>\n      <td>0.01</td>\n      <td>0.01</td>\n      <td>1.0</td>\n      <td>0.0</td>\n      <td>0.0</td>\n      <td>0.0</td>\n      <td>100.0</td>\n      <td>20000000.0</td>\n      <td>100.0</td>\n      <td>0.0</td>\n      <td>0.0</td>\n      <td>0.0</td>\n      <td>0.0</td>\n      <td>0.0</td>\n      <td>0.0</td>\n      <td>0.0</td>\n      <td>0.0</td>\n      <td>0.0</td>\n      <td>0.0</td>\n      <td>0.0</td>\n      <td>0.0</td>\n      <td>0.0</td>\n      <td>0.0</td>\n      <td>0.0</td>\n      <td>0.0</td>\n      <td>0.0</td>\n      <td>0.0</td>\n      <td>0.0</td>\n      <td>0.0</td>\n      <td>0.0</td>\n      <td>0.0</td>\n      <td>0.0</td>\n      <td>0.0</td>\n      <td>0.0</td>\n      <td>0.0</td>\n      <td>0.0</td>\n      <td>BBSE3</td>\n      <td></td>\n      <td>BRL</td>\n      <td>BRL</td>\n      <td>BRL</td>\n      <td></td>\n      <td>BBSEE       ON   39,57</td>\n      <td></td>\n      <td></td>\n      <td>BRBBSE3X0764</td>\n      <td>BBSEX9</td>\n      <td></td>\n      <td>BMF\\SERIES CONTINUAS\\Deprecated\\BOVESPA\\OPCOES...</td>\n    </tr>\n  </tbody>\n</table>\n<p>1568 rows × 95 columns</p>\n</div>"
     },
     "metadata": {},
     "execution_count": 103
    }
   ],
   "source": [
    "df2"
   ]
  },
  {
   "cell_type": "code",
   "execution_count": 104,
   "metadata": {},
   "outputs": [
    {
     "output_type": "execute_result",
     "data": {
      "text/plain": [
       "(1568, 95)"
      ]
     },
     "metadata": {},
     "execution_count": 104
    }
   ],
   "source": [
    "df2.shape"
   ]
  },
  {
   "cell_type": "code",
   "execution_count": null,
   "metadata": {},
   "outputs": [],
   "source": []
  },
  {
   "cell_type": "code",
   "execution_count": null,
   "metadata": {},
   "outputs": [],
   "source": []
  },
  {
   "cell_type": "code",
   "execution_count": null,
   "metadata": {},
   "outputs": [],
   "source": []
  },
  {
   "cell_type": "code",
   "execution_count": 57,
   "metadata": {},
   "outputs": [],
   "source": [
    "# df_as_dict = pd.DataFrame(mt5.symbols_get(group='BBSES*'))._asdict  \n",
    "symbol_info_dict = mt5.symbol_info(\"BBSE3\")._asdict()"
   ]
  },
  {
   "cell_type": "code",
   "execution_count": 83,
   "metadata": {},
   "outputs": [
    {
     "output_type": "execute_result",
     "data": {
      "text/plain": [
       "1624563901"
      ]
     },
     "metadata": {},
     "execution_count": 83
    }
   ],
   "source": [
    "symbol_info_dict['time']"
   ]
  },
  {
   "cell_type": "code",
   "execution_count": 68,
   "metadata": {},
   "outputs": [
    {
     "output_type": "stream",
     "name": "stdout",
     "text": [
      "custom=False\nchart_mode=1\nselect=True\nvisible=True\nsession_deals=22914\nsession_buy_orders=0\nsession_sell_orders=0\nvolume=400\nvolumehigh=144100\nvolumelow=100\ntime=1624563901\ndigits=2\nspread=12\nspread_float=True\nticks_bookdepth=32\ntrade_calc_mode=32\ntrade_mode=4\nstart_time=0\nexpiration_time=0\ntrade_stops_level=0\ntrade_freeze_level=0\ntrade_exemode=3\nswap_mode=0\nswap_rollover3days=3\nmargin_hedged_use_leg=False\nexpiration_mode=11\nfilling_mode=3\norder_mode=127\norder_gtc_mode=0\noption_mode=0\noption_right=0\nbid=24.38\nbidhigh=24.84\nbidlow=24.1\nask=24.5\naskhigh=24.86\nasklow=24.13\nlast=24.4\nlasthigh=24.86\nlastlow=24.09\nvolume_real=400.0\nvolumehigh_real=144100.0\nvolumelow_real=100.0\noption_strike=0.0\npoint=0.01\ntrade_tick_value=0.01\ntrade_tick_value_profit=0.01\ntrade_tick_value_loss=0.01\ntrade_tick_size=0.01\ntrade_contract_size=1.0\ntrade_accrued_interest=0.0\ntrade_face_value=0.0\ntrade_liquidity_rate=0.0\nvolume_min=100.0\nvolume_max=20000000.0\nvolume_step=100.0\nvolume_limit=0.0\nswap_long=0.0\nswap_short=0.0\nmargin_initial=0.0\nmargin_maintenance=0.0\nsession_volume=5502100.0\nsession_turnover=0.0\nsession_interest=0.0\nsession_buy_orders_volume=0.0\nsession_sell_orders_volume=0.0\nsession_open=24.73\nsession_close=24.7\nsession_aw=24.46\nsession_price_settlement=0.0\nsession_price_limit_min=0.0\nsession_price_limit_max=0.0\nmargin_hedged=0.0\nprice_change=-1.2146\nprice_volatility=0.0\nprice_theoretical=0.0\nprice_greeks_delta=0.0\nprice_greeks_theta=0.0\nprice_greeks_gamma=0.0\nprice_greeks_vega=0.0\nprice_greeks_rho=0.0\nprice_greeks_omega=0.0\nprice_sensitivity=0.0\nbasis=\ncategory=\ncurrency_base=BRL\ncurrency_profit=BRL\ncurrency_margin=BRL\nbank=\ndescription=BBSEGURIDADEON      NM\nexchange=\nformula=\nisin=BRBBSEACNOR5\nname=BBSE3\npage=\npath=BOVESPA\\A VISTA\\BBSE3\n"
     ]
    }
   ],
   "source": [
    "for propriedades in symbol_info_dict:\n",
    "        print(\"{}={}\".format(propriedades, symbol_info_dict[propriedades]))"
   ]
  },
  {
   "cell_type": "code",
   "execution_count": 69,
   "metadata": {},
   "outputs": [
    {
     "output_type": "stream",
     "name": "stdout",
     "text": [
      "symbol_info_dict() as dataframe:\n         property                  value\n0          custom                  False\n1      chart_mode                      1\n2          select                   True\n3         visible                   True\n4   session_deals                  22914\n..            ...                    ...\n91        formula                       \n92           isin           BRBBSEACNOR5\n93           name                  BBSE3\n94           page                       \n95           path  BOVESPA\\A VISTA\\BBSE3\n\n[96 rows x 2 columns]\n"
     ]
    }
   ],
   "source": [
    "# convertemos o dicionário num DataFrame e imprimimos\n",
    "df=pd.DataFrame(list(symbol_info_dict.items()),columns=['property','value'])\n",
    "print(\"symbol_info_dict() as dataframe:\")\n",
    "print(df)"
   ]
  },
  {
   "cell_type": "code",
   "execution_count": 81,
   "metadata": {},
   "outputs": [
    {
     "output_type": "stream",
     "name": "stdout",
     "text": [
      "Exibimos os dados obtidos como estão\n(1622541900, 23.45, 23.68, 23.45, 23.56, 403, 1, 183900)\n(1622542200, 23.56, 23.6, 23.48, 23.5, 358, 1, 75000)\n(1622542500, 23.5, 23.57, 23.49, 23.52, 225, 1, 52100)\n(1622542800, 23.52, 23.54, 23.46, 23.5, 253, 1, 104600)\n(1622543100, 23.5, 23.56, 23.49, 23.56, 262, 1, 57400)\n(1622543400, 23.56, 23.63, 23.54, 23.6, 503, 1, 118400)\n(1622543700, 23.61, 23.7, 23.6, 23.65, 538, 1, 226500)\n(1622544000, 23.66, 23.68, 23.63, 23.64, 415, 1, 78000)\n(1622544300, 23.63, 23.65, 23.61, 23.64, 322, 1, 47900)\n(1622544600, 23.64, 23.66, 23.64, 23.65, 171, 1, 52200)\n\nExibimos o dataframe com dados\n                  time   open   high    low  close  tick_volume  spread  real_volume\n0  2021-06-01 10:05:00  23.45  23.68  23.45  23.56          403       1       183900\n1  2021-06-01 10:10:00  23.56  23.60  23.48  23.50          358       1        75000\n2  2021-06-01 10:15:00  23.50  23.57  23.49  23.52          225       1        52100\n3  2021-06-01 10:20:00  23.52  23.54  23.46  23.50          253       1       104600\n4  2021-06-01 10:25:00  23.50  23.56  23.49  23.56          262       1        57400\n..                 ...    ...    ...    ...    ...          ...     ...          ...\n95 2021-06-02 11:10:00  24.36  24.39  24.35  24.36          303       1        96500\n96 2021-06-02 11:15:00  24.37  24.46  24.36  24.43          422       1        94800\n97 2021-06-02 11:20:00  24.44  24.44  24.39  24.43          225       1        56300\n98 2021-06-02 11:25:00  24.43  24.48  24.42  24.48          378       1       140700\n99 2021-06-02 11:30:00  24.48  24.49  24.45  24.45          309       1        84500\n\n[100 rows x 8 columns]\n"
     ]
    }
   ],
   "source": [
    "from datetime import datetime\n",
    "pd.set_option('display.max_columns', 500) # número de colunas exibidas\n",
    "pd.set_option('display.width', 1500)      # max. largura para exibição da tabela\n",
    "# importamos o módulo pytz para trabalhar com o fuso horário\n",
    "import pytz\n",
    " \n",
    "# definimos o fuso horário como UTC\n",
    "timezone = pytz.timezone(\"Etc/UTC\")\n",
    "# criamos o objeto datatime no fuso horário UTC para que não seja aplicado o deslocamento do fuso horário local\n",
    "utc_from = datetime(2021, 6, 1, tzinfo=timezone)\n",
    "utc_to = datetime(2021, 6, 5, hour = 13, tzinfo=timezone)\n",
    "# obtemos as barras com USDJPY M5 no intervalo 2020.01.10 00:00 - 2020.01.11 13:00 no fuso horário UTC\n",
    "rates = mt5.copy_rates_range(\"BBSE3\", mt5.TIMEFRAME_M5, utc_from, utc_to)\n",
    "\n",
    "# exibimos numa nova linha cada elemento dos dados obtidos \n",
    "print(\"Exibimos os dados obtidos como estão\")\n",
    "counter=0\n",
    "for rate in rates:\n",
    "    counter+=1\n",
    "    if counter<=10:\n",
    "        print(rate)\n",
    " \n",
    "# criamos a partir dos dados obtidos DataFrame\n",
    "rates_frame = pd.DataFrame(rates)\n",
    "# convertemos o tempo em segundos no formato datetime\n",
    "rates_frame['time']=pd.to_datetime(rates_frame['time'], unit='s')\n",
    " \n",
    "# exibimos dados\n",
    "print(\"\\nExibimos o dataframe com dados\")\n",
    "print(rates_frame.head(100))\n"
   ]
  },
  {
   "cell_type": "code",
   "execution_count": null,
   "metadata": {},
   "outputs": [],
   "source": []
  }
 ]
}