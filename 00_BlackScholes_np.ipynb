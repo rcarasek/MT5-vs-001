{
 "cells": [
  {
   "cell_type": "code",
   "execution_count": 47,
   "metadata": {},
   "outputs": [],
   "source": [
    "import numpy as np "
   ]
  },
  {
   "cell_type": "code",
   "execution_count": 48,
   "metadata": {},
   "outputs": [
    {
     "name": "stdout",
     "output_type": "stream",
     "text": [
      "Requirement already satisfied: scipy in c:\\python39\\lib\\site-packages (1.7.0)\n",
      "Requirement already satisfied: numpy<1.23.0,>=1.16.5 in c:\\python39\\lib\\site-packages (from scipy) (1.20.3)\n",
      "Note: you may need to restart the kernel to use updated packages.\n"
     ]
    }
   ],
   "source": [
    "pip install scipy"
   ]
  },
  {
   "cell_type": "code",
   "execution_count": 49,
   "metadata": {},
   "outputs": [],
   "source": [
    "from scipy.stats import norm "
   ]
  },
  {
   "cell_type": "code",
   "execution_count": 60,
   "metadata": {},
   "outputs": [],
   "source": [
    "def BlackScholes(r,S,K,T,sigma, tipoOpcao):\r\n",
    "    # calcular o preco teórico pelo BS\r\n",
    "    \r\n",
    "    d1 = (np.log(S/K) + (r + sigma**2/2)*T) / (sigma * np.sqrt(T))\r\n",
    "    d2 = d1 - sigma * np.sqrt(T)\r\n",
    "    print(d1, d2)\r\n",
    "    if tipoOpcao.upper() == \"C\":\r\n",
    "        preco = S * norm.cdf(d1,0,1) - K * np.exp(-r*T) * norm.cdf(d2,0,1)\r\n",
    "    else:\r\n",
    "        preco = K * np.exp(-r*T) * norm.cdf(-d2,0,1) - S * norm.cdf(-d1,0,1) \r\n",
    "    return preco\r\n"
   ]
  },
  {
   "cell_type": "markdown",
   "metadata": {},
   "source": [
    "interest rate\tr\r\n",
    "Underlying price S\r\n",
    "strike price\tK\r\n",
    "time to expiry\tT\r\n",
    "Volatility (%)\tσ (sigma)"
   ]
  },
  {
   "cell_type": "code",
   "execution_count": 61,
   "metadata": {},
   "outputs": [],
   "source": [
    "r = 0.01  \r\n",
    "S = 30\r\n",
    "K = 40\r\n",
    "T = 240/365\r\n",
    "sigma = 0.30"
   ]
  },
  {
   "cell_type": "code",
   "execution_count": 62,
   "metadata": {},
   "outputs": [
    {
     "name": "stdout",
     "output_type": "stream",
     "text": [
      "-1.0339227475796222 -1.2771882038034372\n",
      "preço da opção:  10.25\n"
     ]
    }
   ],
   "source": [
    "PrecoCall = round(BlackScholes(r,S,K,T,sigma,'P'), 2)\r\n",
    "print('preço da opção: ' , PrecoCall)"
   ]
  },
  {
   "cell_type": "code",
   "execution_count": null,
   "metadata": {},
   "outputs": [],
   "source": []
  },
  {
   "cell_type": "code",
   "execution_count": null,
   "metadata": {},
   "outputs": [],
   "source": []
  }
 ],
 "metadata": {
  "interpreter": {
   "hash": "63fd5069d213b44bf678585dea6b12cceca9941eaf7f819626cde1f2670de90d"
  },
  "kernelspec": {
   "display_name": "Python 3.9.5 64-bit",
   "name": "python3"
  },
  "language_info": {
   "codemirror_mode": {
    "name": "ipython",
    "version": 3
   },
   "file_extension": ".py",
   "mimetype": "text/x-python",
   "name": "python",
   "nbconvert_exporter": "python",
   "pygments_lexer": "ipython3",
   "version": "3.9.5"
  },
  "orig_nbformat": 4
 },
 "nbformat": 4,
 "nbformat_minor": 2
}