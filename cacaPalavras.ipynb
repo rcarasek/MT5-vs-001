{
 "metadata": {
  "language_info": {
   "codemirror_mode": {
    "name": "ipython",
    "version": 3
   },
   "file_extension": ".py",
   "mimetype": "text/x-python",
   "name": "python",
   "nbconvert_exporter": "python",
   "pygments_lexer": "ipython3",
   "version": "3.8.8"
  },
  "orig_nbformat": 4,
  "kernelspec": {
   "name": "python3",
   "display_name": "Python 3.8.8 64-bit ('base': conda)"
  },
  "interpreter": {
   "hash": "8fac594bfae6525c0c41b4041d2d72effa188cc8ead05f81b1fab2bb098927fb"
  }
 },
 "nbformat": 4,
 "nbformat_minor": 2,
 "cells": [
  {
   "cell_type": "code",
   "execution_count": 2,
   "metadata": {},
   "outputs": [],
   "source": [
    "import random\n",
    "import string\n",
    "import pandas as pd\n"
   ]
  },
  {
   "cell_type": "code",
   "execution_count": 3,
   "metadata": {},
   "outputs": [
    {
     "output_type": "stream",
     "name": "stdout",
     "text": [
      "0.5841867457112865\n"
     ]
    }
   ],
   "source": [
    "random.seed()\n",
    "print(random.random())"
   ]
  },
  {
   "cell_type": "code",
   "execution_count": 4,
   "metadata": {},
   "outputs": [],
   "source": [
    "#mylist = [\"apple\", \"banana\", \"cherry\"]\n",
    "#print(random.choices(mylist, weights = [20, 1, 1], k = 4))"
   ]
  },
  {
   "cell_type": "code",
   "execution_count": 5,
   "metadata": {},
   "outputs": [],
   "source": [
    "# gerar lista com letras de A a Z \n",
    "letrasAZ = list(string.ascii_uppercase)"
   ]
  },
  {
   "cell_type": "code",
   "execution_count": 6,
   "metadata": {},
   "outputs": [
    {
     "output_type": "execute_result",
     "data": {
      "text/plain": [
       "  0  1  2  3  4  5  6  7  8  9   ... 30 31 32 33 34 35 36 37 38 39\n",
       "0                                ...                              \n",
       "1                                ...                              \n",
       "2                                ...                              \n",
       "\n",
       "[3 rows x 40 columns]"
      ],
      "text/html": "<div>\n<style scoped>\n    .dataframe tbody tr th:only-of-type {\n        vertical-align: middle;\n    }\n\n    .dataframe tbody tr th {\n        vertical-align: top;\n    }\n\n    .dataframe thead th {\n        text-align: right;\n    }\n</style>\n<table border=\"1\" class=\"dataframe\">\n  <thead>\n    <tr style=\"text-align: right;\">\n      <th></th>\n      <th>0</th>\n      <th>1</th>\n      <th>2</th>\n      <th>3</th>\n      <th>4</th>\n      <th>5</th>\n      <th>6</th>\n      <th>7</th>\n      <th>8</th>\n      <th>9</th>\n      <th>...</th>\n      <th>30</th>\n      <th>31</th>\n      <th>32</th>\n      <th>33</th>\n      <th>34</th>\n      <th>35</th>\n      <th>36</th>\n      <th>37</th>\n      <th>38</th>\n      <th>39</th>\n    </tr>\n  </thead>\n  <tbody>\n    <tr>\n      <th>0</th>\n      <td></td>\n      <td></td>\n      <td></td>\n      <td></td>\n      <td></td>\n      <td></td>\n      <td></td>\n      <td></td>\n      <td></td>\n      <td></td>\n      <td>...</td>\n      <td></td>\n      <td></td>\n      <td></td>\n      <td></td>\n      <td></td>\n      <td></td>\n      <td></td>\n      <td></td>\n      <td></td>\n      <td></td>\n    </tr>\n    <tr>\n      <th>1</th>\n      <td></td>\n      <td></td>\n      <td></td>\n      <td></td>\n      <td></td>\n      <td></td>\n      <td></td>\n      <td></td>\n      <td></td>\n      <td></td>\n      <td>...</td>\n      <td></td>\n      <td></td>\n      <td></td>\n      <td></td>\n      <td></td>\n      <td></td>\n      <td></td>\n      <td></td>\n      <td></td>\n      <td></td>\n    </tr>\n    <tr>\n      <th>2</th>\n      <td></td>\n      <td></td>\n      <td></td>\n      <td></td>\n      <td></td>\n      <td></td>\n      <td></td>\n      <td></td>\n      <td></td>\n      <td></td>\n      <td>...</td>\n      <td></td>\n      <td></td>\n      <td></td>\n      <td></td>\n      <td></td>\n      <td></td>\n      <td></td>\n      <td></td>\n      <td></td>\n      <td></td>\n    </tr>\n  </tbody>\n</table>\n<p>3 rows × 40 columns</p>\n</div>"
     },
     "metadata": {},
     "execution_count": 6
    }
   ],
   "source": [
    "# gerar uma matriz/tabela\n",
    "rows,cols = (20,40)\n",
    "matriz = [[\"\" for i in range(cols)] for j in range(rows)]\n",
    "df_matriz = pd.DataFrame(matriz)\n",
    "df_matriz.head(3)"
   ]
  },
  {
   "cell_type": "code",
   "execution_count": 7,
   "metadata": {},
   "outputs": [
    {
     "output_type": "execute_result",
     "data": {
      "text/plain": [
       "    0    1    2    3    4    5    6    7    8    9   ...   30   31   32   33  \\\n",
       "0  [N]  [G]  [G]  [N]  [D]  [K]  [Z]  [G]  [D]  [Q]  ...  [V]  [I]  [F]  [U]   \n",
       "1  [N]  [B]  [A]  [M]  [K]  [B]  [N]  [L]  [F]  [T]  ...  [Q]  [X]  [H]  [X]   \n",
       "2  [B]  [Z]  [Q]  [K]  [C]  [Q]  [I]  [C]  [B]  [D]  ...  [S]  [B]  [S]  [C]   \n",
       "\n",
       "    34   35   36   37   38   39  \n",
       "0  [L]  [P]  [C]  [F]  [S]  [J]  \n",
       "1  [B]  [W]  [J]  [M]  [M]  [M]  \n",
       "2  [N]  [R]  [G]  [M]  [M]  [O]  \n",
       "\n",
       "[3 rows x 40 columns]"
      ],
      "text/html": "<div>\n<style scoped>\n    .dataframe tbody tr th:only-of-type {\n        vertical-align: middle;\n    }\n\n    .dataframe tbody tr th {\n        vertical-align: top;\n    }\n\n    .dataframe thead th {\n        text-align: right;\n    }\n</style>\n<table border=\"1\" class=\"dataframe\">\n  <thead>\n    <tr style=\"text-align: right;\">\n      <th></th>\n      <th>0</th>\n      <th>1</th>\n      <th>2</th>\n      <th>3</th>\n      <th>4</th>\n      <th>5</th>\n      <th>6</th>\n      <th>7</th>\n      <th>8</th>\n      <th>9</th>\n      <th>...</th>\n      <th>30</th>\n      <th>31</th>\n      <th>32</th>\n      <th>33</th>\n      <th>34</th>\n      <th>35</th>\n      <th>36</th>\n      <th>37</th>\n      <th>38</th>\n      <th>39</th>\n    </tr>\n  </thead>\n  <tbody>\n    <tr>\n      <th>0</th>\n      <td>[N]</td>\n      <td>[G]</td>\n      <td>[G]</td>\n      <td>[N]</td>\n      <td>[D]</td>\n      <td>[K]</td>\n      <td>[Z]</td>\n      <td>[G]</td>\n      <td>[D]</td>\n      <td>[Q]</td>\n      <td>...</td>\n      <td>[V]</td>\n      <td>[I]</td>\n      <td>[F]</td>\n      <td>[U]</td>\n      <td>[L]</td>\n      <td>[P]</td>\n      <td>[C]</td>\n      <td>[F]</td>\n      <td>[S]</td>\n      <td>[J]</td>\n    </tr>\n    <tr>\n      <th>1</th>\n      <td>[N]</td>\n      <td>[B]</td>\n      <td>[A]</td>\n      <td>[M]</td>\n      <td>[K]</td>\n      <td>[B]</td>\n      <td>[N]</td>\n      <td>[L]</td>\n      <td>[F]</td>\n      <td>[T]</td>\n      <td>...</td>\n      <td>[Q]</td>\n      <td>[X]</td>\n      <td>[H]</td>\n      <td>[X]</td>\n      <td>[B]</td>\n      <td>[W]</td>\n      <td>[J]</td>\n      <td>[M]</td>\n      <td>[M]</td>\n      <td>[M]</td>\n    </tr>\n    <tr>\n      <th>2</th>\n      <td>[B]</td>\n      <td>[Z]</td>\n      <td>[Q]</td>\n      <td>[K]</td>\n      <td>[C]</td>\n      <td>[Q]</td>\n      <td>[I]</td>\n      <td>[C]</td>\n      <td>[B]</td>\n      <td>[D]</td>\n      <td>...</td>\n      <td>[S]</td>\n      <td>[B]</td>\n      <td>[S]</td>\n      <td>[C]</td>\n      <td>[N]</td>\n      <td>[R]</td>\n      <td>[G]</td>\n      <td>[M]</td>\n      <td>[M]</td>\n      <td>[O]</td>\n    </tr>\n  </tbody>\n</table>\n<p>3 rows × 40 columns</p>\n</div>"
     },
     "metadata": {},
     "execution_count": 7
    }
   ],
   "source": [
    "for i in range(rows):\n",
    "    for j in range(cols):\n",
    "        letra = random.choices(letrasAZ)\n",
    "        #print(letra)\n",
    "        matriz[i][j] = letra\n",
    "df_matriz = pd.DataFrame(matriz)\n",
    "df_matriz.head(3)"
   ]
  },
  {
   "cell_type": "code",
   "execution_count": 8,
   "metadata": {},
   "outputs": [],
   "source": [
    "df_matriz.to_excel('caca_palavras.xlsx')"
   ]
  },
  {
   "cell_type": "code",
   "execution_count": null,
   "metadata": {},
   "outputs": [],
   "source": []
  }
 ]
}