{
 "metadata": {
  "language_info": {
   "codemirror_mode": {
    "name": "ipython",
    "version": 3
   },
   "file_extension": ".py",
   "mimetype": "text/x-python",
   "name": "python",
   "nbconvert_exporter": "python",
   "pygments_lexer": "ipython3",
   "version": "3.9.5"
  },
  "orig_nbformat": 2,
  "kernelspec": {
   "name": "python3",
   "display_name": "Python 3.9.5 64-bit"
  },
  "metadata": {
   "interpreter": {
    "hash": "63fd5069d213b44bf678585dea6b12cceca9941eaf7f819626cde1f2670de90d"
   }
  },
  "interpreter": {
   "hash": "63fd5069d213b44bf678585dea6b12cceca9941eaf7f819626cde1f2670de90d"
  }
 },
 "nbformat": 4,
 "nbformat_minor": 2,
 "cells": [
  {
   "cell_type": "code",
   "execution_count": 1,
   "metadata": {},
   "outputs": [
    {
     "output_type": "execute_result",
     "data": {
      "text/plain": [
       "True"
      ]
     },
     "metadata": {},
     "execution_count": 1
    }
   ],
   "source": [
    "import MetaTrader5 as mt5\n",
    "import pandas as pd \n",
    "mt5.initialize()"
   ]
  },
  {
   "cell_type": "code",
   "execution_count": 2,
   "metadata": {},
   "outputs": [],
   "source": [
    "formato_numerico = \"{0:10.2f}\"\n",
    "ativo = list(())\n",
    "AtivoSymbolInfo = list(())\n",
    "matriz = list(())\n",
    "global matriz"
   ]
  },
  {
   "cell_type": "code",
   "execution_count": 3,
   "metadata": {},
   "outputs": [],
   "source": [
    "def imprimirInfoAtivo(t, y, n):\n",
    "    print(t, y, formato_numerico.format(n))"
   ]
  },
  {
   "cell_type": "code",
   "execution_count": 5,
   "metadata": {},
   "outputs": [
    {
     "output_type": "stream",
     "name": "stdout",
     "text": [
      "         0       1       2           3  4  5  6  7  8\n0    BBAS3   33.31 -1.7983  1624632491  0  0  0  0  0\n1    BBSE3   23.95 -1.8443  1624632485  0  0  0  0  0\n2    CMIG4   12.65 -0.7843  1624632494  0  0  0  0  0\n3    COCE5   58.85 -1.9167  1624632485  0  0  0  0  0\n4    COGN3    4.61 -2.9474  1624632488  0  0  0  0  0\n5    CSAN3   24.82 -1.4688  1624632485  0  0  0  0  0\n6    DIRR3   14.66 -2.3968  1624632482  0  0  0  0  0\n7    ELET3   44.41 -3.2251  1624632490  0  0  0  0  0\n8    GGBR4   31.08  1.0075  1624632490  0  0  0  0  0\n9    IRBR3    5.99 -0.4983  1624632490  0  0  0  0  0\n10   ITSA4   11.51 -2.1259  1624632494  0  0  0  0  0\n11   MOSI3   19.50 -0.5102  1624632482  0  0  0  0  0\n12   MTRE3   11.73 -2.5748  1624632484  0  0  0  0  0\n13   OIBR3    1.53 -2.5478  1624632493  0  0  0  0  0\n14   RRRP3   46.00 -1.3087  1624632491  0  0  0  0  0\n15  SAPR11   21.09  0.0949  1624632482  0  0  0  0  0\n16   SAPR4    4.24 -0.9346  1624632494  0  0  0  0  0\n17   VALE3  113.51  2.2336  1624632489  0  0  0  0  0\n18   B3SA3   16.68 -1.8246  1624632494  0  0  0  0  0\n"
     ]
    }
   ],
   "source": [
    "lista = ['BBAS3', 'BBSE3', 'CMIG4', 'COCE5', 'COGN3', 'CSAN3', 'DIRR3', 'ELET3', 'GGBR4', 'IRBR3', 'ITSA4', 'MOSI3', 'MTRE3', 'OIBR3','RRRP3', 'SAPR11', 'SAPR4', 'VALE3', 'B3SA3']\n",
    "n = len(lista)\n",
    "rows,cols = (n,9)\n",
    "MatrizAtivos = [[0 for i in range(cols)] for j in range(rows)]\n",
    "cols = 0\n",
    "for i in range(n):\n",
    "    info = mt5.symbol_info(lista[i])\n",
    "    MatrizAtivos[i][cols]  = info.name \n",
    "    cols += 1\n",
    "    MatrizAtivos[i][cols]  = info.last\n",
    "    cols += 1\n",
    "    MatrizAtivos[i][cols]  = info.price_change\n",
    "    cols += 1\n",
    "    MatrizAtivos[i][cols]  = info.time\n",
    "    cols = 0\n",
    "df = pd.DataFrame(MatrizAtivos)\n",
    "print(df)\n",
    "df.to_excel('ativo.xlsx', sheet_name='acoes')"
   ]
  },
  {
   "cell_type": "code",
   "execution_count": null,
   "metadata": {},
   "outputs": [],
   "source": []
  }
 ]
}