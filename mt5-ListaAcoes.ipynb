{
 "cells": [
  {
   "cell_type": "code",
   "execution_count": 1,
   "metadata": {},
   "outputs": [
    {
     "data": {
      "text/plain": [
       "True"
      ]
     },
     "execution_count": 1,
     "metadata": {},
     "output_type": "execute_result"
    }
   ],
   "source": [
    "import MetaTrader5 as mt5\n",
    "import pandas as pd \n",
    "mt5.initialize()"
   ]
  },
  {
   "cell_type": "code",
   "execution_count": 2,
   "metadata": {},
   "outputs": [],
   "source": [
    "formato_numerico = \"{0:10.2f}\"\n",
    "ativo = list(())\n",
    "AtivoSymbolInfo = list(())\n",
    "matriz = list(())\n",
    "global matriz"
   ]
  },
  {
   "cell_type": "code",
   "execution_count": 3,
   "metadata": {},
   "outputs": [],
   "source": [
    "def imprimirInfoAtivo(t, y, n):\n",
    "    print(t, y, formato_numerico.format(n))"
   ]
  },
  {
   "cell_type": "code",
   "execution_count": 5,
   "metadata": {},
   "outputs": [
    {
     "name": "stdout",
     "output_type": "stream",
     "text": [
      "         0       1       2           3  4  5  6  7  8\n",
      "0    BBAS3   31.41 -1.6594  1625593478  0  0  0  0  0\n",
      "1    BBSE3   22.64 -1.1785  1625593474  0  0  0  0  0\n",
      "2    CMIG4   11.92 -1.4061  1625593491  0  0  0  0  0\n",
      "3    COCE5   60.48 -1.1442  1625593491  0  0  0  0  0\n",
      "4    COGN3    4.16 -3.2558  1625593493  0  0  0  0  0\n",
      "5    CSAN3   24.29 -2.0169  1625593479  0  0  0  0  0\n",
      "6    DIRR3   13.19 -3.4407  1625593440  0  0  0  0  0\n",
      "7    ELET3   42.47 -1.0715  1625593386  0  0  0  0  0\n",
      "8    GGBR4   29.52 -0.5391  1625593465  0  0  0  0  0\n",
      "9    IRBR3    5.62 -1.7483  1625593490  0  0  0  0  0\n",
      "10   ITSA4   11.05 -0.2708  1625593492  0  0  0  0  0\n",
      "11   MOSI3   18.50 -2.5290  1625593452  0  0  0  0  0\n",
      "12   MTRE3   11.48 -1.2898  1625593408  0  0  0  0  0\n",
      "13   OIBR3    1.58 -0.6289  1625593481  0  0  0  0  0\n",
      "14   RRRP3   46.10 -1.6219  1625593473  0  0  0  0  0\n",
      "15  SAPR11   19.87 -1.3406  1625593441  0  0  0  0  0\n",
      "16   SAPR4    4.02 -0.9852  1625593492  0  0  0  0  0\n",
      "17   VALE3  113.77  0.5302  1625593489  0  0  0  0  0\n",
      "18   B3SA3   15.90 -1.3035  1625593485  0  0  0  0  0\n"
     ]
    }
   ],
   "source": [
    "lista = ['BBAS3', 'BBSE3', 'CMIG4', 'COCE5', 'COGN3', 'CSAN3', 'DIRR3', 'ELET3', 'GGBR4', 'IRBR3', 'ITSA4', 'MOSI3', 'MTRE3', 'OIBR3','RRRP3', 'SAPR11', 'SAPR4', 'VALE3', 'B3SA3']\r\n",
    "n = len(lista)\r\n",
    "rows,cols = (n,9)\r\n",
    "MatrizAtivos = [[0 for i in range(cols)] for j in range(rows)]\r\n",
    "\r\n",
    "for i in range(n):\r\n",
    "    cols = 0\r\n",
    "    info = mt5.symbol_info(lista[i])\r\n",
    "    MatrizAtivos[i][cols]  = info.name \r\n",
    "    cols += 1\r\n",
    "    MatrizAtivos[i][cols]  = info.last\r\n",
    "    cols += 1\r\n",
    "    MatrizAtivos[i][cols]  = info.price_change\r\n",
    "    cols += 1\r\n",
    "    MatrizAtivos[i][cols]  = info.time\r\n",
    "df = pd.DataFrame(MatrizAtivos)\r\n",
    "print(df)\r\n",
    "df.to_excel('ativo.xlsx', sheet_name='acoes')"
   ]
  },
  {
   "cell_type": "code",
   "execution_count": null,
   "metadata": {},
   "outputs": [],
   "source": []
  }
 ],
 "metadata": {
  "interpreter": {
   "hash": "63fd5069d213b44bf678585dea6b12cceca9941eaf7f819626cde1f2670de90d"
  },
  "kernelspec": {
   "display_name": "Python 3.9.5 64-bit",
   "name": "python3"
  },
  "language_info": {
   "codemirror_mode": {
    "name": "ipython",
    "version": 3
   },
   "file_extension": ".py",
   "mimetype": "text/x-python",
   "name": "python",
   "nbconvert_exporter": "python",
   "pygments_lexer": "ipython3",
   "version": "3.9.5"
  },
  "metadata": {
   "interpreter": {
    "hash": "63fd5069d213b44bf678585dea6b12cceca9941eaf7f819626cde1f2670de90d"
   }
  },
  "orig_nbformat": 2
 },
 "nbformat": 4,
 "nbformat_minor": 2
}