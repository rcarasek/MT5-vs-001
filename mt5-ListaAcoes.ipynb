{
 "metadata": {
  "language_info": {
   "codemirror_mode": {
    "name": "ipython",
    "version": 3
   },
   "file_extension": ".py",
   "mimetype": "text/x-python",
   "name": "python",
   "nbconvert_exporter": "python",
   "pygments_lexer": "ipython3",
   "version": "3.9.5"
  },
  "orig_nbformat": 2,
  "kernelspec": {
   "name": "python3",
   "display_name": "Python 3.9.5 64-bit"
  },
  "metadata": {
   "interpreter": {
    "hash": "63fd5069d213b44bf678585dea6b12cceca9941eaf7f819626cde1f2670de90d"
   }
  },
  "interpreter": {
   "hash": "63fd5069d213b44bf678585dea6b12cceca9941eaf7f819626cde1f2670de90d"
  }
 },
 "nbformat": 4,
 "nbformat_minor": 2,
 "cells": [
  {
   "cell_type": "code",
   "execution_count": 1,
   "metadata": {},
   "outputs": [
    {
     "output_type": "execute_result",
     "data": {
      "text/plain": [
       "True"
      ]
     },
     "metadata": {},
     "execution_count": 1
    }
   ],
   "source": [
    "import MetaTrader5 as mt5\n",
    "import pandas as pd \n",
    "mt5.initialize()"
   ]
  },
  {
   "cell_type": "code",
   "execution_count": 2,
   "metadata": {},
   "outputs": [],
   "source": [
    "formato_numerico = \"{0:10.2f}\"\n",
    "ativo = list(())\n",
    "AtivoSymbolInfo = list(())\n",
    "matriz = list(())\n",
    "global matriz"
   ]
  },
  {
   "cell_type": "code",
   "execution_count": 3,
   "metadata": {},
   "outputs": [],
   "source": [
    "def imprimirInfoAtivo(t, y, n):\n",
    "    print(t, y, formato_numerico.format(n))"
   ]
  },
  {
   "cell_type": "code",
   "execution_count": 8,
   "metadata": {},
   "outputs": [
    {
     "output_type": "stream",
     "name": "stdout",
     "text": [
      "         0       1       2  3  4  5  6  7  8\n0    BBAS3   34.59 -0.8883  0  0  0  0  0  0\n1    BBSE3   25.24  0.3978  0  0  0  0  0  0\n2    CMIG4   13.09 -1.5049  0  0  0  0  0  0\n3    COCE5   59.17  2.0172  0  0  0  0  0  0\n4    COGN3    4.59 -1.5021  0  0  0  0  0  0\n5    CSAN3   24.70 -1.0813  0  0  0  0  0  0\n6    DIRR3   14.66  2.3743  0  0  0  0  0  0\n7    ELET3   45.99  5.4575  0  0  0  0  0  0\n8    GGBR4   29.46  1.5862  0  0  0  0  0  0\n9    IRBR3    6.10 -1.1345  0  0  0  0  0  0\n10   ITSA4   11.63 -1.6074  0  0  0  0  0  0\n11   MTRE3   12.10  0.7494  0  0  0  0  0  0\n12   OIBR3    1.54 -0.6452  0  0  0  0  0  0\n13   RRRP3   45.50  2.9412  0  0  0  0  0  0\n14  SAPR11   20.89  0.5778  0  0  0  0  0  0\n15   SAPR4    4.23  0.7143  0  0  0  0  0  0\n16   VALE3  108.79  2.7290  0  0  0  0  0  0\n17   B3SA3   17.32  0.8736  0  0  0  0  0  0\n"
     ]
    }
   ],
   "source": [
    "lista = ['BBAS3', 'BBSE3', 'CMIG4', 'COCE5', 'COGN3', 'CSAN3', 'DIRR3', 'ELET3', 'GGBR4', 'IRBR3', 'ITSA4', 'MTRE3', 'OIBR3','RRRP3', 'SAPR11', 'SAPR4', 'VALE3', 'B3SA3']\n",
    "n = len(lista)\n",
    "rows,cols = (n,9)\n",
    "MatrizAtivos = [[0 for i in range(cols)] for j in range(rows)]\n",
    "cols = 0\n",
    "for i in range(n):\n",
    "    info = mt5.symbol_info(lista[i])\n",
    "    MatrizAtivos[i][cols]  = info.name \n",
    "    cols += 1\n",
    "    MatrizAtivos[i][cols]  = info.last\n",
    "    cols += 1\n",
    "    MatrizAtivos[i][cols]  = info.price_change\n",
    "    cols = 0\n",
    "df = pd.DataFrame(MatrizAtivos)\n",
    "print(df)\n",
    "df.to_excel('ativo.xlsx', sheet_name='acoes')"
   ]
  },
  {
   "cell_type": "code",
   "execution_count": null,
   "metadata": {},
   "outputs": [],
   "source": []
  }
 ]
}