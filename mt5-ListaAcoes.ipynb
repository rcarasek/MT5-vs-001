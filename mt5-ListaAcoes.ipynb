{
 "cells": [
  {
   "cell_type": "code",
   "execution_count": 1,
   "metadata": {},
   "outputs": [
    {
     "data": {
      "text/plain": [
       "True"
      ]
     },
     "execution_count": 1,
     "metadata": {},
     "output_type": "execute_result"
    }
   ],
   "source": [
    "import MetaTrader5 as mt5\n",
    "import pandas as pd \n",
    "mt5.initialize()"
   ]
  },
  {
   "cell_type": "code",
   "execution_count": 2,
   "metadata": {},
   "outputs": [],
   "source": [
    "formato_numerico = \"{0:10.2f}\"\n",
    "ativo = list(())\n",
    "AtivoSymbolInfo = list(())\n",
    "matriz = list(())\n",
    "global matriz"
   ]
  },
  {
   "cell_type": "code",
   "execution_count": 3,
   "metadata": {},
   "outputs": [],
   "source": [
    "def imprimirInfoAtivo(t, y, n):\n",
    "    print(t, y, formato_numerico.format(n))"
   ]
  },
  {
   "cell_type": "code",
   "execution_count": 7,
   "metadata": {},
   "outputs": [
    {
     "name": "stdout",
     "output_type": "stream",
     "text": [
      "         0       1       2           3  4  5  6  7  8\n",
      "0    BBAS3   31.47 -1.2861  1625740196  0  0  0  0  0\n",
      "1    BBSE3   22.74 -0.4814  1625740197  0  0  0  0  0\n",
      "2    CMIG4   11.88 -1.6556  1625740197  0  0  0  0  0\n",
      "3    COCE5   58.68 -1.3450  1625740140  0  0  0  0  0\n",
      "4    COGN3    4.13 -0.9592  1625740197  0  0  0  0  0\n",
      "5    CSAN3   24.50 -0.8900  1625740194  0  0  0  0  0\n",
      "6    DIRR3   12.83 -3.0234  1625740196  0  0  0  0  0\n",
      "7    ELET3   42.52 -1.1393  1625740199  0  0  0  0  0\n",
      "8    GGBR4   29.36 -2.1333  1625740197  0  0  0  0  0\n",
      "9    IRBR3    5.58 -1.2389  1625740195  0  0  0  0  0\n",
      "10   ITSA4   11.07 -1.4248  1625740199  0  0  0  0  0\n",
      "11   MOSI3   17.75 -1.5530  1625740199  0  0  0  0  0\n",
      "12   MTRE3   11.45 -2.4702  1625740188  0  0  0  0  0\n",
      "13   OIBR3    1.54 -1.9108  1625740195  0  0  0  0  0\n",
      "14   RRRP3   45.66 -2.8717  1625740195  0  0  0  0  0\n",
      "15  SAPR11   19.85 -1.2438  1625740196  0  0  0  0  0\n",
      "16   SAPR4    4.02 -0.7407  1625740197  0  0  0  0  0\n",
      "17   VALE3  112.37 -1.5162  1625740187  0  0  0  0  0\n",
      "18   B3SA3   16.23 -0.2459  1625740194  0  0  0  0  0\n"
     ]
    }
   ],
   "source": [
    "lista = ['BBAS3', 'BBSE3', 'CMIG4', 'COCE5', 'COGN3', 'CSAN3', 'DIRR3', 'ELET3', 'GGBR4', 'IRBR3', 'ITSA4', 'MOSI3', 'MTRE3', 'OIBR3','RRRP3', 'SAPR11', 'SAPR4', 'VALE3', 'B3SA3']\r\n",
    "n = len(lista)\r\n",
    "rows,cols = (n,9)\r\n",
    "MatrizAtivos = [[0 for i in range(cols)] for j in range(rows)]\r\n",
    "\r\n",
    "for i in range(n):\r\n",
    "    cols = 0\r\n",
    "    info = mt5.symbol_info(lista[i])\r\n",
    "    MatrizAtivos[i][cols]  = info.name \r\n",
    "    cols += 1\r\n",
    "    MatrizAtivos[i][cols]  = info.last\r\n",
    "    cols += 1\r\n",
    "    MatrizAtivos[i][cols]  = info.price_change\r\n",
    "    cols += 1\r\n",
    "    MatrizAtivos[i][cols]  = info.time\r\n",
    "df = pd.DataFrame(MatrizAtivos)\r\n",
    "print(df)\r\n",
    "df.to_excel('ativo.xlsx', sheet_name='acoes')"
   ]
  },
  {
   "cell_type": "code",
   "execution_count": null,
   "metadata": {},
   "outputs": [],
   "source": []
  }
 ],
 "metadata": {
  "interpreter": {
   "hash": "63fd5069d213b44bf678585dea6b12cceca9941eaf7f819626cde1f2670de90d"
  },
  "kernelspec": {
   "display_name": "Python 3.9.5 64-bit",
   "name": "python3"
  },
  "language_info": {
   "codemirror_mode": {
    "name": "ipython",
    "version": 3
   },
   "file_extension": ".py",
   "mimetype": "text/x-python",
   "name": "python",
   "nbconvert_exporter": "python",
   "pygments_lexer": "ipython3",
   "version": "3.9.5"
  },
  "metadata": {
   "interpreter": {
    "hash": "63fd5069d213b44bf678585dea6b12cceca9941eaf7f819626cde1f2670de90d"
   }
  },
  "orig_nbformat": 2
 },
 "nbformat": 4,
 "nbformat_minor": 2
}