{
 "cells": [
  {
   "cell_type": "code",
   "execution_count": 5,
   "metadata": {},
   "outputs": [
    {
     "data": {
      "text/plain": [
       "True"
      ]
     },
     "execution_count": 5,
     "metadata": {},
     "output_type": "execute_result"
    }
   ],
   "source": [
    "import MetaTrader5 as mt5\r\n",
    "import pandas as pd \r\n",
    "mt5.initialize()"
   ]
  },
  {
   "cell_type": "code",
   "execution_count": 6,
   "metadata": {},
   "outputs": [],
   "source": [
    "def RolarTravaAltaPut(ativosLista, comprei, vendi ):\r\n",
    "    # [travaFeitaC (comprada) , travaFeitaV (vendida), travaNovaC, travaNovaV]\r\n",
    "    travaFeitaC = mt5.symbol_info(ativosLista[0])\r\n",
    "    travaFeitaV = mt5.symbol_info(ativosLista[1])\r\n",
    "    travaNovaC  = mt5.symbol_info(ativosLista[2])\r\n",
    "    travaNovaV  = mt5.symbol_info(ativosLista[3])\r\n",
    "    ativoBase = travaFeitaC.basis\r\n",
    "    ativoBaseInfo = mt5.symbol_info(ativoBase)\r\n",
    "\r\n",
    "    lin,col = (3,10)\r\n",
    "    matriz = [[0 for i in range(col)] for j in range(lin)]\r\n",
    "    ###########################################\r\n",
    "    # coluna 0 - ativos\r\n",
    "    matriz[0][0] = travaFeitaC.name \r\n",
    "    matriz[1][0] = travaFeitaV.name\r\n",
    "    matriz[2][0] = 'Ʃ'\r\n",
    "\r\n",
    "    # coluna 1 - strike feitos\r\n",
    "    matriz[0][1] = travaFeitaC.option_strike\r\n",
    "    matriz[1][1] = travaFeitaV.option_strike\r\n",
    "    matriz[2][1] = matriz[1][1] - matriz[0][1]\r\n",
    "\r\n",
    "    # coluna 2 - valores da trava feita\r\n",
    "    matriz[0][2] = round(comprei,2)\r\n",
    "    matriz[1][2] = round(vendi,2)\r\n",
    "    matriz[2][2] = round(matriz[1][2] + matriz[0][2], 2)\r\n",
    "\r\n",
    "    # coluna 3 - valores para desmontar a trava feita\r\n",
    "    matriz[0][3] = round(travaFeitaC.bid,2)\r\n",
    "    matriz[1][3] = round(-travaFeitaV.ask,2)\r\n",
    "    matriz[2][3] = round(matriz[1][3] + matriz[0][3], 2)\r\n",
    "\r\n",
    "    # coluna 4 - ativos novos\r\n",
    "    matriz[0][4] = travaNovaC.name \r\n",
    "    matriz[1][4] = travaNovaV.name\r\n",
    "    matriz[2][4] = 'Ʃ'\r\n",
    "\r\n",
    "    \r\n",
    "    # coluna 5 - strikes novos\r\n",
    "    matriz[0][5] = round(travaNovaC.option_strike,2)\r\n",
    "    matriz[1][5] = round(travaNovaV.option_strike,2)\r\n",
    "    matriz[2][5] = round(matriz[1][1] - matriz[0][1], 2)\r\n",
    "\r\n",
    "    # coluna 6 - valores para montar nova trava\r\n",
    "    matriz[0][6] = -travaNovaC.ask\r\n",
    "    matriz[1][6] = travaNovaV.bid\r\n",
    "    if matriz[1][6] == 0:\r\n",
    "        fff = input('Entre o valor do Bid ' + travaNovaV.name + ': ')\r\n",
    "        matriz[1][6] = float(fff)\r\n",
    "    matriz[2][6] = matriz[1][6] + matriz[0][6]\r\n",
    "\r\n",
    "    # coluna 7 - ..\r\n",
    "    matriz[0][7] = '/'\r\n",
    "    matriz[1][7] = '/'\r\n",
    "    matriz[2][7] = 'resultado final:'\r\n",
    "\r\n",
    "    matriz[2][8] = (matriz[2][2] + matriz[2][3] + matriz[2][6])  \r\n",
    "\r\n",
    "    # coluna 8 - Basis\r\n",
    "    matriz[0][9] = ativoBase\r\n",
    "    matriz[1][9] = ativoBaseInfo.last\r\n",
    "    matriz[2][9] = ativoBaseInfo.price_change\r\n",
    "\r\n",
    "   \r\n",
    "\r\n",
    "    df = pd.DataFrame(matriz, columns = ['Ativo', 'Strike', '$ Montei', '$ Desmontar' ,'Ativo Novo','Strike Novo', '$ montar novo' , '...','..' ,  'Basis'])\r\n",
    "    print(df)\r\n",
    "    nome_arq = 'RolarTravaAltaPut_' + ativoBase  + '.xlsx'\r\n",
    "    df.to_excel(nome_arq)\r\n"
   ]
  },
  {
   "cell_type": "code",
   "execution_count": 47,
   "metadata": {},
   "outputs": [
    {
     "name": "stdout",
     "output_type": "stream",
     "text": [
      "      Ativo  Strike  $ Montei  $ Desmontar Ativo Novo  Strike Novo  \\\n",
      "0  BBSES220    22.0     -0.15         0.08   BBSET220         22.0   \n",
      "1  BBSES235    23.5      0.40        -0.00   BBSET235         23.5   \n",
      "2         Ʃ     1.5      0.25         0.08          Ʃ          1.5   \n",
      "\n",
      "   $ montar novo               ...    ..   Basis  \n",
      "0          -0.40                 /  0.00   BBSE3  \n",
      "1           0.95                 /  0.00   22.62  \n",
      "2           0.55  resultado final:  0.88 -1.0066  \n"
     ]
    }
   ],
   "source": [
    "RolarTravaAltaPut(['BBSES220', 'BBSES235', 'BBSET220', 'BBSET235'], -0.15, 0.4)"
   ]
  },
  {
   "cell_type": "code",
   "execution_count": 48,
   "metadata": {},
   "outputs": [
    {
     "name": "stdout",
     "output_type": "stream",
     "text": [
      "      Ativo  Strike  $ Montei  $ Desmontar Ativo Novo  Strike Novo  \\\n",
      "0  B3SAS805   14.66     -0.10         0.02   B3SAT148        14.59   \n",
      "1   B3SAS17   16.66      0.66        -0.64   B3SAT170        16.51   \n",
      "2         Ʃ    2.00      0.56        -0.62          Ʃ         2.00   \n",
      "\n",
      "   $ montar novo               ...    ..   Basis  \n",
      "0          -0.19                 /  0.00   B3SA3  \n",
      "1           0.82                 /  0.00    16.1  \n",
      "2           0.63  resultado final:  0.57 -1.0449  \n"
     ]
    }
   ],
   "source": [
    "RolarTravaAltaPut(['B3SAS805', 'B3SAS17',  'B3SAT148', 'B3SAT170'], -0.1, 0.66)"
   ]
  },
  {
   "cell_type": "code",
   "execution_count": null,
   "metadata": {},
   "outputs": [],
   "source": []
  },
  {
   "cell_type": "code",
   "execution_count": null,
   "metadata": {},
   "outputs": [],
   "source": []
  }
 ],
 "metadata": {
  "interpreter": {
   "hash": "8fac594bfae6525c0c41b4041d2d72effa188cc8ead05f81b1fab2bb098927fb"
  },
  "kernelspec": {
   "display_name": "Python 3.8.8 64-bit ('base': conda)",
   "name": "python3"
  },
  "language_info": {
   "codemirror_mode": {
    "name": "ipython",
    "version": 3
   },
   "file_extension": ".py",
   "mimetype": "text/x-python",
   "name": "python",
   "nbconvert_exporter": "python",
   "pygments_lexer": "ipython3",
   "version": "3.8.8"
  },
  "orig_nbformat": 4
 },
 "nbformat": 4,
 "nbformat_minor": 2
}