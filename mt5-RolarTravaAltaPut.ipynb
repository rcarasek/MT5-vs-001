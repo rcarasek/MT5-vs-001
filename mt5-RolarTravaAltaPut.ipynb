{
 "cells": [
  {
   "cell_type": "code",
   "execution_count": 1,
   "source": [
    "import MetaTrader5 as mt5\r\n",
    "import pandas as pd \r\n",
    "mt5.initialize()"
   ],
   "outputs": [
    {
     "output_type": "execute_result",
     "data": {
      "text/plain": [
       "True"
      ]
     },
     "metadata": {},
     "execution_count": 1
    }
   ],
   "metadata": {}
  },
  {
   "cell_type": "code",
   "execution_count": 2,
   "source": [
    "def RolarTravaAltaPut(ativosLista, comprei, vendi ):\r\n",
    "    # [travaFeitaC (comprada) , travaFeitaV (vendida), travaNovaC, travaNovaV]\r\n",
    "    travaFeitaC = mt5.symbol_info(ativosLista[0])\r\n",
    "    travaFeitaV = mt5.symbol_info(ativosLista[1])\r\n",
    "    travaNovaC  = mt5.symbol_info(ativosLista[2])\r\n",
    "    travaNovaV  = mt5.symbol_info(ativosLista[3])\r\n",
    "    ativoBase = travaFeitaC.basis\r\n",
    "    ativoBaseInfo = mt5.symbol_info(ativoBase)\r\n",
    "\r\n",
    "    lin,col = (3,10)\r\n",
    "    matriz = [[0 for i in range(col)] for j in range(lin)]\r\n",
    "    ###########################################\r\n",
    "    # coluna 0 - ativos\r\n",
    "    matriz[0][0] = travaFeitaC.name \r\n",
    "    matriz[1][0] = travaFeitaV.name\r\n",
    "    matriz[2][0] = 'Ʃ'\r\n",
    "\r\n",
    "    # coluna 1 - strike feitos\r\n",
    "    matriz[0][1] = travaFeitaC.option_strike\r\n",
    "    matriz[1][1] = travaFeitaV.option_strike\r\n",
    "    matriz[2][1] = matriz[1][1] - matriz[0][1]\r\n",
    "\r\n",
    "    # coluna 2 - valores da trava feita\r\n",
    "    matriz[0][2] = round(comprei,2)\r\n",
    "    matriz[1][2] = round(vendi,2)\r\n",
    "    matriz[2][2] = round(matriz[1][2] + matriz[0][2], 2)\r\n",
    "\r\n",
    "    # coluna 3 - valores para desmontar a trava feita\r\n",
    "    matriz[0][3] = round(travaFeitaC.bid,2)\r\n",
    "    matriz[1][3] = round(-travaFeitaV.ask,2)\r\n",
    "    matriz[2][3] = round(matriz[1][3] + matriz[0][3], 2)\r\n",
    "\r\n",
    "    # coluna 4 - ativos novos\r\n",
    "    matriz[0][4] = travaNovaC.name \r\n",
    "    matriz[1][4] = travaNovaV.name\r\n",
    "    matriz[2][4] = 'Ʃ'\r\n",
    "\r\n",
    "    \r\n",
    "    # coluna 5 - strikes novos\r\n",
    "    matriz[0][5] = round(travaNovaC.option_strike,2)\r\n",
    "    matriz[1][5] = round(travaNovaV.option_strike,2)\r\n",
    "    matriz[2][5] = round(matriz[1][5] - matriz[0][5], 2)\r\n",
    "\r\n",
    "    # coluna 6 - valores para montar nova trava\r\n",
    "    matriz[0][6] = -travaNovaC.ask\r\n",
    "    matriz[1][6] = travaNovaV.bid\r\n",
    "    if matriz[1][6] == 0:\r\n",
    "        fff = input('Entre o valor do Bid ' + travaNovaV.name + ': ')\r\n",
    "        matriz[1][6] = float(fff)\r\n",
    "    matriz[2][6] = matriz[1][6] + matriz[0][6]\r\n",
    "\r\n",
    "    # coluna 7 - ..\r\n",
    "    matriz[0][7] = '/'\r\n",
    "    matriz[1][7] = '/'\r\n",
    "    matriz[2][7] = 'resultado final:'\r\n",
    "\r\n",
    "    matriz[2][8] = (matriz[2][2] + matriz[2][3] + matriz[2][6])  \r\n",
    "\r\n",
    "    # coluna 8 - Basis\r\n",
    "    matriz[0][9] = ativoBase\r\n",
    "    matriz[1][9] = ativoBaseInfo.last\r\n",
    "    matriz[2][9] = ativoBaseInfo.price_change\r\n",
    "\r\n",
    "   \r\n",
    "\r\n",
    "    df = pd.DataFrame(matriz, columns = ['Ativo', 'Strike', '$ Montei', '$ Desmontar' ,'Ativo Novo','Strike Novo', '$ montar novo' , '...','..' ,  'Basis'])\r\n",
    "    print(df)\r\n",
    "    nome_arq = 'RolarTravaAltaPut_' + ativoBase  + '.xlsx'\r\n",
    "    df.to_excel(nome_arq)\r\n"
   ],
   "outputs": [],
   "metadata": {}
  },
  {
   "cell_type": "code",
   "execution_count": 14,
   "source": [
    "RolarTravaAltaPut(['BBSET220', 'BBSET230',  'BBSEU200', 'BBSEU220'], -0.3   , 0.60)"
   ],
   "outputs": [
    {
     "output_type": "stream",
     "name": "stdout",
     "text": [
      "      Ativo  Strike  $ Montei  $ Desmontar Ativo Novo  Strike Novo  \\\n",
      "0  BBSET220    22.0      -0.3         0.59   BBSEU210         21.0   \n",
      "1  BBSET230    23.0       0.6        -1.41   BBSEU230         23.0   \n",
      "2         Ʃ     1.0       0.3        -0.82          Ʃ          2.0   \n",
      "\n",
      "   $ montar novo               ...    ..   Basis  \n",
      "0          -0.32                 /  0.00   BBSE3  \n",
      "1           1.41                 /  0.00   21.55  \n",
      "2           1.09  resultado final:  0.57 -0.3699  \n"
     ]
    }
   ],
   "metadata": {}
  },
  {
   "cell_type": "code",
   "execution_count": null,
   "source": [],
   "outputs": [],
   "metadata": {}
  },
  {
   "cell_type": "code",
   "execution_count": null,
   "source": [],
   "outputs": [],
   "metadata": {}
  }
 ],
 "metadata": {
  "interpreter": {
   "hash": "63fd5069d213b44bf678585dea6b12cceca9941eaf7f819626cde1f2670de90d"
  },
  "kernelspec": {
   "name": "python3",
   "display_name": "Python 3.9.5 64-bit"
  },
  "language_info": {
   "codemirror_mode": {
    "name": "ipython",
    "version": 3
   },
   "file_extension": ".py",
   "mimetype": "text/x-python",
   "name": "python",
   "nbconvert_exporter": "python",
   "pygments_lexer": "ipython3",
   "version": "3.9.5"
  },
  "orig_nbformat": 4
 },
 "nbformat": 4,
 "nbformat_minor": 2
}